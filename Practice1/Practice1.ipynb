{
  "nbformat": 4,
  "nbformat_minor": 0,
  "metadata": {
    "colab": {
      "name": "Untitled9.ipynb",
      "provenance": []
    },
    "kernelspec": {
      "name": "python3",
      "display_name": "Python 3"
    }
  },
  "cells": [
    {
      "cell_type": "markdown",
      "metadata": {
        "id": "-2LgxhP3WcM1"
      },
      "source": [
        "# <font color = \"blue\"> Homework </font>"
      ]
    },
    {
      "cell_type": "markdown",
      "metadata": {
        "id": "r7Anf0r1Udzt"
      },
      "source": [
        "## <font color =\"green\"> If Statement </font>\n",
        "1. Ask for two numbers. If\n",
        "the first one is larger\n",
        "than the second, display\n",
        "the second number first\n",
        "and then the first\n",
        "number, otherwise show\n",
        "the first number first and\n",
        "then the second.\n",
        "2. Ask the user to enter a\n",
        "number that is under. If they enter a\n",
        "number that is 20 or\n",
        "more, display the\n",
        "message “Too high”,\n",
        "otherwise display\n",
        "“Thank you”.\n",
        "3. Ask the user to enter a\n",
        "number between 10 and 20\n",
        "(inclusive). If they enter a\n",
        "number within this range,\n",
        "display the message “Thank\n",
        "you”, otherwise display the\n",
        "message “Incorrect\n",
        "answer”.\n",
        "4. Ask the user to enter their favourite colour. If they enter “red”, “RED” or “Red” display the message “I like red too”, otherwise display the message “I don’t like [colour], I prefer red”.\n",
        "5. Ask the user if it is raining and convert their answer to lower case\n",
        "so it doesn’t matter what case they type it in. If they answer “yes”,\n",
        "ask if it is windy. If they answer “yes” to this second question,\n",
        "display the answer “It is too windy for an umbrella”, otherwise\n",
        "display the message “Take an umbrella”. If they did not answer yes\n",
        "to the first question, display the answer “Enjoy your day”.\n",
        "6. Ask the user’s age. If they are 18 or over, display the\n",
        "message “You can vote”, if they are aged 17, display the\n",
        "message “You can learn to drive”, if they are 16, display\n",
        "the message “You can buy a lottery ticket”, if they are\n",
        "under 16, display the message “You can go Trick-or-Treating”.\n",
        "7. Ask the user to enter a number. If it is under 10,\n",
        "display the message “Too low”, if their number is\n",
        "between 10 and 20, display “Correct”, otherwise\n",
        "display “Too high”.\n",
        "8. Ask the user to enter 1, 2 or 3. If they enter a 1, display\n",
        "the message “Thank you”, if they enter a 2, display\n",
        "“Well done”, if they enter a 3, display “Correct”. If\n",
        "they enter anything else, display “Error message”."
      ]
    },
    {
      "cell_type": "markdown",
      "metadata": {
        "id": "r8VEjvAU0-Qz"
      },
      "source": [
        "## <font color =\"blue\"> Solutions to If Statement exercises</font>"
      ]
    },
    {
      "cell_type": "code",
      "metadata": {
        "id": "1DKQYWsOwHgv"
      },
      "source": [
        "\n",
        "# 1 exercise\n",
        "num1 = int(input(\"Enter first number: \"))\n",
        "num2 = int(input(\"Enter second number: \"))\n",
        "if num1 > num2:\n",
        "  print(num1, num2)\n",
        "else:\n",
        "  print(num1, num2)"
      ],
      "execution_count": null,
      "outputs": []
    },
    {
      "cell_type": "code",
      "metadata": {
        "id": "2ldPCHylyGSa"
      },
      "source": [
        "# 2 exercise\n",
        "num = int((input(\"Enter a value less than 20: \"))\n",
        "if num >= 20:\n",
        "  print(\"Too high\")\n",
        "else:\n",
        "  print(\"Thank you\")"
      ],
      "execution_count": null,
      "outputs": []
    },
    {
      "cell_type": "code",
      "metadata": {
        "id": "5xzuZavEyXVi"
      },
      "source": [
        "# 3 exercise\n",
        "num = int(input(\"Enter a vlaue between 10 and 20: \"))\n",
        "if num >= 10 and num <=20:\n",
        "  print(\"Thank you\")\n",
        "else:\n",
        "  print(\"Incorrect answer\")"
      ],
      "execution_count": null,
      "outputs": []
    },
    {
      "cell_type": "code",
      "metadata": {
        "id": "DT8HrjhPymHr"
      },
      "source": [
        "# 4 exercise\n",
        "color = input(\"Type in your favourite color: \")\n",
        "if color == \"red\" or color == \"RED\" or color == \"Red\":\n",
        "  print(\"I like red too.\")\n",
        "else:\n",
        "  print(\"I don't like that color, I prefer red\")"
      ],
      "execution_count": null,
      "outputs": []
    },
    {
      "cell_type": "code",
      "metadata": {
        "id": "q7e738I5y-0M",
        "outputId": "219e3d4c-c41d-4edf-d1f5-5ab188afaa72",
        "colab": {
          "base_uri": "https://localhost:8080/",
          "height": 68
        }
      },
      "source": [
        "# 5 exercise\n",
        "raining = input(\"Is it raining?\")\n",
        "raining = raining.lower()\n",
        "if raining == \"yes\":\n",
        "  windy = input(\"Is it windy?\")\n",
        "  windy = windy.lower()\n",
        "  if windy == \"yes\":\n",
        "    print(\"It is too windy for an umbrella\")\n",
        "  else:\n",
        "    print(\"Take an umbrella\")\n",
        "else:\n",
        "  print(\"Enjoy your day\")"
      ],
      "execution_count": 1,
      "outputs": [
        {
          "output_type": "stream",
          "text": [
            "Is it raining?yes\n",
            "Is it windy?yes\n",
            "It is too windy for an umbrella\n"
          ],
          "name": "stdout"
        }
      ]
    },
    {
      "cell_type": "code",
      "metadata": {
        "id": "g3Ikkd6kzikb",
        "outputId": "2dd48a49-95e5-4b18-8970-a6d6bbb14ed0",
        "colab": {
          "base_uri": "https://localhost:8080/",
          "height": 51
        }
      },
      "source": [
        "# 6 exercise \n",
        "age = int(input(\"What is your age? \"))\n",
        "if age >= 18:\n",
        "  print(\"You can vote\")\n",
        "elif age == 17:\n",
        "  print(\"You can learn to drie\")\n",
        "elif age == 16:\n",
        "  print(\"You can buy a lottery ticket\")\n",
        "else:\n",
        "  print(\"You can go Trick-or-Treating\")"
      ],
      "execution_count": 2,
      "outputs": [
        {
          "output_type": "stream",
          "text": [
            "What is your age? 15\n",
            "You can go Trick-or-Treating\n"
          ],
          "name": "stdout"
        }
      ]
    },
    {
      "cell_type": "code",
      "metadata": {
        "id": "66BAQ6t00AaE"
      },
      "source": [
        "# 7 exercise\n",
        "num = int(input(\"Enter a number: \"))\n",
        "if num < 10:\n",
        "  print(\"Too low\")\n",
        "elif num >=10 and num <= 20:\n",
        "  print(\"Correct\")\n",
        "else:\n",
        "  print(\"Too high\")"
      ],
      "execution_count": null,
      "outputs": []
    },
    {
      "cell_type": "code",
      "metadata": {
        "id": "cs_yMKlN0Vv9"
      },
      "source": [
        "# 8 exercise\n",
        "num = input(\"Enter 1, 2 or 3: \")\n",
        "if num == \"1\":\n",
        "  print(\"Thank you\")\n",
        "elif num ==\"2\":\n",
        "  print(\"Well done\")\n",
        "elif num == \"3\":\n",
        "  print(\"Correct\")\n",
        "else:\n",
        "  print(\"Error message\")"
      ],
      "execution_count": null,
      "outputs": []
    },
    {
      "cell_type": "markdown",
      "metadata": {
        "id": "rmbSVhWLUS8O"
      },
      "source": [
        "## <font color='green'> Strings</font>\n",
        "1. Ask the user to enter\n",
        "their first name and\n",
        "then display the\n",
        "length of their name\n",
        "2. Ask the user to enter their first name and then ask them to\n",
        "enter their surname. Join them together with a space between\n",
        "and display the name and the length of whole name.\n",
        "3. Ask the user to enter their first name and surname in lower\n",
        "case. Change the case to title case and join them together.\n",
        "Display the finished result.\n",
        "4. Ask the user to type in their University name and\n",
        "display the length of the string.\n",
        "Ask for a starting number and an\n",
        "ending number and then display\n",
        "just that section of the text\n",
        "(remember Python starts\n",
        "counting from 0 and not 1).\n",
        "5. Ask the user to type in any word and display it in\n",
        "upper case.\n",
        "6. Ask the user to enter their first name. If the length\n",
        "of their first name is under five characters, ask\n",
        "them to enter their surname and join them\n",
        "together (without a space) and display the name\n",
        "in upper case. If the length of the first name is five\n",
        "or more characters, display their first name in\n",
        "lower case.\n",
        "7. Pig Latin takes the first consonant of a word,\n",
        "moves it to the end of the word and adds on an\n",
        "“ay”. If a word begins with a vowel you just add\n",
        "“way” to the end. For example, pig becomes igpay,\n",
        "banana becomes ananabay, and aadvark becomes\n",
        "aadvarkway. Create a program that will ask the\n",
        "user to enter a word and change it into Pig Latin.\n",
        "Make sure the new word is displayed in lower case. <br> \n",
        "___\n",
        "[Useful link to functions that are working with string data](https://www.w3schools.com/python/python_ref_string.asp)"
      ]
    },
    {
      "cell_type": "markdown",
      "metadata": {
        "id": "z47nXMN51GIr"
      },
      "source": [
        "## <font color =\"blue\"> Solutions for String exercises</font>"
      ]
    },
    {
      "cell_type": "code",
      "metadata": {
        "id": "BURGnLKK00Ik"
      },
      "source": [
        "# 1 exercise\n",
        "name = input(\"Enter your first name: \")\n",
        "length = len(name)\n",
        "print(length)"
      ],
      "execution_count": null,
      "outputs": []
    },
    {
      "cell_type": "code",
      "metadata": {
        "id": "l-ICTXux1WZA"
      },
      "source": [
        "# 2 exercise\n",
        "firstname = input(\"Enter your first name: \")\n",
        "surname = input(\"Enter your surname: \")\n",
        "name = firstname + \" \" + surname\n",
        "lenght = len(name)\n",
        "print(name)\n",
        "print(length)"
      ],
      "execution_count": null,
      "outputs": []
    },
    {
      "cell_type": "code",
      "metadata": {
        "id": "zDubBDge1nvD"
      },
      "source": [
        "# 3 exercise\n",
        "firstname = input(\"Enter your firstname in lowercase: \")\n",
        "surname = input(\"Enter your surname in lowercase: \")\n",
        "firstname = firstname.title()\n",
        "surname = surname.title()\n",
        "name= firstname + \" \" +surname\n",
        "print(name)"
      ],
      "execution_count": null,
      "outputs": []
    },
    {
      "cell_type": "code",
      "metadata": {
        "id": "9I-oCoB02Oid",
        "outputId": "143ee470-5f1b-46d9-e43a-8ef9cdb99e8e",
        "colab": {
          "base_uri": "https://localhost:8080/",
          "height": 102
        }
      },
      "source": [
        "# 4 exercise \n",
        "name = input(\"Enter University name: \")\n",
        "length = len(name)\n",
        "print(\"This has \", length, \"letters in it\")\n",
        "start = int(input(\"Enter a starting number \"))\n",
        "end = int(input(\"Enter an end number \"))\n",
        "part = name[start:end]\n",
        "print(part)"
      ],
      "execution_count": 6,
      "outputs": [
        {
          "output_type": "stream",
          "text": [
            "Enter University name: American University of Central Asia\n",
            "This has  35 letters in it\n",
            "Enter a starting number 5\n",
            "Enter an end number 20\n",
            "can University \n"
          ],
          "name": "stdout"
        }
      ]
    },
    {
      "cell_type": "code",
      "metadata": {
        "id": "VImib1XN3MbS"
      },
      "source": [
        "# 5 exercise\n",
        "word = input(\"Enter a word: \")\n",
        "word = word.upper()\n",
        "print(word)"
      ],
      "execution_count": null,
      "outputs": []
    },
    {
      "cell_type": "code",
      "metadata": {
        "id": "ttgIUetS31jl"
      },
      "source": [
        "# 6 exercise\n",
        "name = input(\"Enter your first name: \")\n",
        "if len(name) < 5:\n",
        "  surname = input(\"Enter your surname: \")\n",
        "  name = name + surname\n",
        "  print(name.upper())\n",
        "else:\n",
        "  print(name.lower())"
      ],
      "execution_count": null,
      "outputs": []
    },
    {
      "cell_type": "code",
      "metadata": {
        "id": "Zs3E70qs4KQ-",
        "outputId": "ec182a8a-ab83-49fe-d6b0-6f348f09fcb6",
        "colab": {
          "base_uri": "https://localhost:8080/",
          "height": 51
        }
      },
      "source": [
        "# 7 exercise\n",
        "word = input(\"Please enter a word: \")\n",
        "first = word[0]\n",
        "length = len(word)\n",
        "rest = word[1:length]\n",
        "if first != \"a\" and first != \"e\" and first != \"i\" and first != \"0\" and first != \"u\":\n",
        "  newword = rest + first +\"ay\"\n",
        "else:\n",
        "  newword = wrod +\"way\"\n",
        "print(newword.lower())"
      ],
      "execution_count": 8,
      "outputs": [
        {
          "output_type": "stream",
          "text": [
            "Please enter a word: heyhey\n",
            "eyheyhay\n"
          ],
          "name": "stdout"
        }
      ]
    },
    {
      "cell_type": "markdown",
      "metadata": {
        "id": "JLtFitiQaPRh"
      },
      "source": [
        "## <font color = \"green\"> Maths</font>\n",
        "You can use math module to solve this exercise. [Link to math module documentation](https://docs.python.org/3/library/math.html).\n",
        "\n",
        "1. Ask the user to enter a\n",
        "number with lots of\n",
        "decimal places. Multiply\n",
        "this number by two and\n",
        "display the answer.\n",
        "\n",
        "2. Update program 1 so that it will display the answer to\n",
        "two decimal places\n",
        "\n",
        "3. Ask the user to enter an integer that is over 500. Work\n",
        "out the square root of that number and display it to two\n",
        "decimal places.\n",
        "\n",
        "4. Ask the user to enter two numbers.\n",
        "Use whole number division to divide\n",
        "the first number by the second and\n",
        "also work out the remainder and\n",
        "display the answer in a user-friendly\n",
        "way (e.g. if they enter 7 and 2 display\n",
        "“7 divided by 2 is 3 with 1\n",
        "remaining”)."
      ]
    },
    {
      "cell_type": "code",
      "metadata": {
        "id": "aFf6wpNZbceL"
      },
      "source": [
        "import math\n",
        "# This must appear at the start of your program otherwise the math functions will not work."
      ],
      "execution_count": null,
      "outputs": []
    },
    {
      "cell_type": "markdown",
      "metadata": {
        "id": "9cQsUKEN4y9Q"
      },
      "source": [
        "## <font color =\"blue\"> Solutions to Maths exercises </font>"
      ]
    },
    {
      "cell_type": "code",
      "metadata": {
        "id": "NHrIzAYs5CIo",
        "outputId": "826e4333-3054-42e1-ec48-c8e864cd0fb1",
        "colab": {
          "base_uri": "https://localhost:8080/",
          "height": 51
        }
      },
      "source": [
        "import math \n",
        "\n",
        "# 1 exercise \n",
        "num = float(input(\"Enter a number with lots of decimal places: \"))\n",
        "print(num*2)"
      ],
      "execution_count": 9,
      "outputs": [
        {
          "output_type": "stream",
          "text": [
            "Enter a number with lots of decimal places: 8.8888\n",
            "17.7776\n"
          ],
          "name": "stdout"
        }
      ]
    },
    {
      "cell_type": "code",
      "metadata": {
        "id": "3W48IPUc5OVC"
      },
      "source": [
        "# 2 exercise\n",
        "num = float(input(\"Enter a number with lots of decimal places: \"))\n",
        "answer = num*2\n",
        "print(answer)\n",
        "print(round(answer, 2))"
      ],
      "execution_count": null,
      "outputs": []
    },
    {
      "cell_type": "code",
      "metadata": {
        "id": "6Z1pNJWa5dPZ",
        "outputId": "762728c1-c3c8-43dd-bd6d-bd908f1236ce",
        "colab": {
          "base_uri": "https://localhost:8080/",
          "height": 51
        }
      },
      "source": [
        "# 3 exercise\n",
        "num = int(input(\"Enter a number over 500: \"))\n",
        "answer = math.sqrt(num)\n",
        "print(round(answer, 2))"
      ],
      "execution_count": 10,
      "outputs": [
        {
          "output_type": "stream",
          "text": [
            "Enter a number over 500: 600\n",
            "24.49\n"
          ],
          "name": "stdout"
        }
      ]
    },
    {
      "cell_type": "code",
      "metadata": {
        "id": "AJHf9pAo5ru4",
        "outputId": "52cd4c3a-7ee0-483e-8870-7b189959950e",
        "colab": {
          "base_uri": "https://localhost:8080/",
          "height": 68
        }
      },
      "source": [
        "# 4 exercise \n",
        "num1 = int(input(\"Enter a number: \"))\n",
        "num2 = int(input(\"Enter another number: \"))\n",
        "ans1 = num1 // num2\n",
        "ans2 = num1%num2\n",
        "print(num1, \"divided by\", num2, \"is\", ans1, \"with\", ans2, \"remaining.\")"
      ],
      "execution_count": 12,
      "outputs": [
        {
          "output_type": "stream",
          "text": [
            "Enter a number: 13 \n",
            "Enter another number: 3\n",
            "13 divided by 3 is 4 with 1 remaining.\n"
          ],
          "name": "stdout"
        }
      ]
    }
  ]
}