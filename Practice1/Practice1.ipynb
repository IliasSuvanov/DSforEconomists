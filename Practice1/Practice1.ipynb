{
  "nbformat": 4,
  "nbformat_minor": 0,
  "metadata": {
    "colab": {
      "name": "Untitled9.ipynb",
      "provenance": []
    },
    "kernelspec": {
      "name": "python3",
      "display_name": "Python 3"
    }
  },
  "cells": [
    {
      "cell_type": "markdown",
      "metadata": {
        "id": "-2LgxhP3WcM1"
      },
      "source": [
        "# <font color = \"blue\"> Homework </font>"
      ]
    },
    {
      "cell_type": "markdown",
      "metadata": {
        "id": "r7Anf0r1Udzt"
      },
      "source": [
        "## <font color =\"green\"> If Statement </font>\n",
        "1. Ask for two numbers. If\n",
        "the first one is larger\n",
        "than the second, display\n",
        "the second number first\n",
        "and then the first\n",
        "number, otherwise show\n",
        "the first number first and\n",
        "then the second.\n",
        "2. Ask the user to enter a\n",
        "number that is under. If they enter a\n",
        "number that is 20 or\n",
        "more, display the\n",
        "message “Too high”,\n",
        "otherwise display\n",
        "“Thank you”.\n",
        "3. Ask the user to enter a\n",
        "number between 10 and 20\n",
        "(inclusive). If they enter a\n",
        "number within this range,\n",
        "display the message “Thank\n",
        "you”, otherwise display the\n",
        "message “Incorrect\n",
        "answer”.\n",
        "4. Ask the user to enter their favourite colour. If they enter “red”, “RED” or “Red” display the message “I like red too”, otherwise display the message “I don’t like [colour], I prefer red”.\n",
        "5. Ask the user if it is raining and convert their answer to lower case\n",
        "so it doesn’t matter what case they type it in. If they answer “yes”,\n",
        "ask if it is windy. If they answer “yes” to this second question,\n",
        "display the answer “It is too windy for an umbrella”, otherwise\n",
        "display the message “Take an umbrella”. If they did not answer yes\n",
        "to the first question, display the answer “Enjoy your day”.\n",
        "6. Ask the user’s age. If they are 18 or over, display the\n",
        "message “You can vote”, if they are aged 17, display the\n",
        "message “You can learn to drive”, if they are 16, display\n",
        "the message “You can buy a lottery ticket”, if they are\n",
        "under 16, display the message “You can go Trick-or-Treating”.\n",
        "7. Ask the user to enter a number. If it is under 10,\n",
        "display the message “Too low”, if their number is\n",
        "between 10 and 20, display “Correct”, otherwise\n",
        "display “Too high”.\n",
        "8. Ask the user to enter 1, 2 or 3. If they enter a 1, display\n",
        "the message “Thank you”, if they enter a 2, display\n",
        "“Well done”, if they enter a 3, display “Correct”. If\n",
        "they enter anything else, display “Error message”."
      ]
    },
    {
      "cell_type": "markdown",
      "metadata": {
        "id": "rmbSVhWLUS8O"
      },
      "source": [
        "## <font color='green'> Strings</font>\n",
        "1. Ask the user to enter\n",
        "their first name and\n",
        "then display the\n",
        "length of their name\n",
        "2. Ask the user to enter their first name and then ask them to\n",
        "enter their surname. Join them together with a space between\n",
        "and display the name and the length of whole name.\n",
        "3. Ask the user to enter their first name and surname in lower\n",
        "case. Change the case to title case and join them together.\n",
        "Display the finished result.\n",
        "4. Ask the user to type in their University name and\n",
        "display the length of the string.\n",
        "Ask for a starting number and an\n",
        "ending number and then display\n",
        "just that section of the text\n",
        "(remember Python starts\n",
        "counting from 0 and not 1).\n",
        "5. Ask the user to type in any word and display it in\n",
        "upper case.\n",
        "6. Ask the user to enter their first name. If the length\n",
        "of their first name is under five characters, ask\n",
        "them to enter their surname and join them\n",
        "together (without a space) and display the name\n",
        "in upper case. If the length of the first name is five\n",
        "or more characters, display their first name in\n",
        "lower case.\n",
        "7. Pig Latin takes the first consonant of a word,\n",
        "moves it to the end of the word and adds on an\n",
        "“ay”. If a word begins with a vowel you just add\n",
        "“way” to the end. For example, pig becomes igpay,\n",
        "banana becomes ananabay, and aadvark becomes\n",
        "aadvarkway. Create a program that will ask the\n",
        "user to enter a word and change it into Pig Latin.\n",
        "Make sure the new word is displayed in lower case. <br> \n",
        "___\n",
        "[Useful link to functions that are working with string data](https://www.w3schools.com/python/python_ref_string.asp)"
      ]
    },
    {
      "cell_type": "markdown",
      "metadata": {
        "id": "JLtFitiQaPRh"
      },
      "source": [
        "## <font color = \"green\"> Maths</font>\n",
        "You can use math module to solve this exercise. [Link to math module documentation](https://docs.python.org/3/library/math.html).\n",
        "\n",
        "1. Ask the user to enter a\n",
        "number with lots of\n",
        "decimal places. Multiply\n",
        "this number by two and\n",
        "display the answer.\n",
        "\n",
        "2. Update program 1 so that it will display the answer to\n",
        "two decimal places\n",
        "\n",
        "3. Ask the user to enter an integer that is over 500. Work\n",
        "out the square root of that number and display it to two\n",
        "decimal places.\n",
        "\n",
        "4. Ask the user to enter two numbers.\n",
        "Use whole number division to divide\n",
        "the first number by the second and\n",
        "also work out the remainder and\n",
        "display the answer in a user-friendly\n",
        "way (e.g. if they enter 7 and 2 display\n",
        "“7 divided by 2 is 3 with 1\n",
        "remaining”)."
      ]
    },
    {
      "cell_type": "code",
      "metadata": {
        "id": "aFf6wpNZbceL"
      },
      "source": [
        "import math\n",
        "# This must appear at the start of your program otherwise the math functions will not work."
      ],
      "execution_count": null,
      "outputs": []
    }
  ]
}