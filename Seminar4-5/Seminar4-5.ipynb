{
  "nbformat": 4,
  "nbformat_minor": 0,
  "metadata": {
    "colab": {
      "name": "Copy of Untitled5.ipynb",
      "provenance": [],
      "collapsed_sections": []
    },
    "kernelspec": {
      "name": "python3",
      "display_name": "Python 3"
    }
  },
  "cells": [
    {
      "cell_type": "markdown",
      "metadata": {
        "id": "uk7cQO_KS9ad",
        "colab_type": "text"
      },
      "source": [
        "#*Plan* \n",
        "- ## NumPy\n",
        "- ## Pandas"
      ]
    },
    {
      "cell_type": "markdown",
      "metadata": {
        "id": "6oEDvW4OBfE-",
        "colab_type": "text"
      },
      "source": [
        "## <font color =\"blue\"> Materials for this lecture you can find in the book Wes McKinney - Python for Data Analyis </font>\n",
        "## <font color =\"blue\">Python Data Science Handbook Jake Vanderplas</font>"
      ]
    },
    {
      "cell_type": "code",
      "metadata": {
        "id": "Pkra-IPdIpNe",
        "colab_type": "code",
        "colab": {}
      },
      "source": [
        "from IPython.display import Image\n",
        "from IPython.core.display import HTML "
      ],
      "execution_count": 46,
      "outputs": []
    },
    {
      "cell_type": "code",
      "metadata": {
        "id": "-1pXk4OxIpxx",
        "colab_type": "code",
        "colab": {
          "base_uri": "https://localhost:8080/",
          "height": 327
        },
        "outputId": "b9f07814-cd10-4774-c2a3-19d07f66e225"
      },
      "source": [
        "Image(url= \"https://miro.medium.com/max/765/1*qePzd2m_uIPvsozXYh89CQ.png\")"
      ],
      "execution_count": null,
      "outputs": [
        {
          "output_type": "execute_result",
          "data": {
            "text/html": [
              "<img src=\"https://miro.medium.com/max/765/1*qePzd2m_uIPvsozXYh89CQ.png\"/>"
            ],
            "text/plain": [
              "<IPython.core.display.Image object>"
            ]
          },
          "metadata": {
            "tags": []
          },
          "execution_count": 77
        }
      ]
    },
    {
      "cell_type": "markdown",
      "metadata": {
        "id": "quVVerlniG7u",
        "colab_type": "text"
      },
      "source": [
        "\n",
        "Numpy, short for Numerical Python, is one of the most important foundational packages for numerical computing in Python.<br>\n",
        "One of the reasons NumPy is so important for numerical computations in Python is because it is designed for efficiency on large arrays of data. There are a number of reasons for this, most important NumPy operations perform complex computations on entire arrays without the need for Python loops. <br>\n",
        "\n",
        "NumPy most important object is n-dimensional array or ndarray.\n",
        "\n",
        "Numpy is \n",
        "\n",
        "1.   Convinient\n",
        "2.   Fast\n",
        "3.   Memory efficient\n",
        "\n"
      ]
    },
    {
      "cell_type": "markdown",
      "metadata": {
        "id": "lp4mWpmlpoc5",
        "colab_type": "text"
      },
      "source": [
        "Numpy is convinient"
      ]
    },
    {
      "cell_type": "code",
      "metadata": {
        "id": "qHMhmp4JS_q1",
        "colab_type": "code",
        "colab": {}
      },
      "source": [
        "import numpy as np"
      ],
      "execution_count": null,
      "outputs": []
    },
    {
      "cell_type": "code",
      "metadata": {
        "id": "xnqYuFqqoxam",
        "colab_type": "code",
        "colab": {
          "base_uri": "https://localhost:8080/",
          "height": 34
        },
        "outputId": "17c253ef-e47d-4828-d33a-9fefde2b0f5e"
      },
      "source": [
        "l1 = [100,200,300,400,500]\n",
        "l2 = [100,100,100,100,100]\n",
        "l3 = []\n",
        "for priv, soc in zip(l1,l2):\n",
        "  l3.append(priv+soc)\n",
        "print(l3)"
      ],
      "execution_count": null,
      "outputs": [
        {
          "output_type": "stream",
          "text": [
            "[200, 300, 400, 500, 600]\n"
          ],
          "name": "stdout"
        }
      ]
    },
    {
      "cell_type": "code",
      "metadata": {
        "id": "fJF3NHAKoXei",
        "colab_type": "code",
        "colab": {}
      },
      "source": [
        "a1 = np.array([100,200,300,400,500])\n",
        "a2 = np.array([100,100,100,100,100])"
      ],
      "execution_count": null,
      "outputs": []
    },
    {
      "cell_type": "code",
      "metadata": {
        "id": "FdYWc7QJoYCy",
        "colab_type": "code",
        "colab": {
          "base_uri": "https://localhost:8080/",
          "height": 34
        },
        "outputId": "a2db664d-bc93-4b96-ad90-aea210dc546d"
      },
      "source": [
        "a3 = a1+a2\n",
        "a3"
      ],
      "execution_count": null,
      "outputs": [
        {
          "output_type": "execute_result",
          "data": {
            "text/plain": [
              "array([200, 300, 400, 500, 600])"
            ]
          },
          "metadata": {
            "tags": []
          },
          "execution_count": 70
        }
      ]
    },
    {
      "cell_type": "code",
      "metadata": {
        "id": "HypIRZaUpees",
        "colab_type": "code",
        "colab": {
          "base_uri": "https://localhost:8080/",
          "height": 34
        },
        "outputId": "d4b5a689-5e29-4b3c-dad2-ccf271fb3bf5"
      },
      "source": [
        "a1/a2"
      ],
      "execution_count": null,
      "outputs": [
        {
          "output_type": "execute_result",
          "data": {
            "text/plain": [
              "array([1., 2., 3., 4., 5.])"
            ]
          },
          "metadata": {
            "tags": []
          },
          "execution_count": 15
        }
      ]
    },
    {
      "cell_type": "code",
      "metadata": {
        "id": "iOI00t7mpeod",
        "colab_type": "code",
        "colab": {
          "base_uri": "https://localhost:8080/",
          "height": 34
        },
        "outputId": "2a26d944-b270-4b10-f430-98b5cc144e01"
      },
      "source": [
        "a1*a2"
      ],
      "execution_count": null,
      "outputs": [
        {
          "output_type": "execute_result",
          "data": {
            "text/plain": [
              "array([10000, 20000, 30000, 40000, 50000])"
            ]
          },
          "metadata": {
            "tags": []
          },
          "execution_count": 71
        }
      ]
    },
    {
      "cell_type": "code",
      "metadata": {
        "id": "bLaqL2dmpeqz",
        "colab_type": "code",
        "colab": {
          "base_uri": "https://localhost:8080/",
          "height": 34
        },
        "outputId": "b602014d-6558-495a-bc17-6807f697c314"
      },
      "source": [
        "a1-a2"
      ],
      "execution_count": null,
      "outputs": [
        {
          "output_type": "execute_result",
          "data": {
            "text/plain": [
              "array([  0, 100, 200, 300, 400])"
            ]
          },
          "metadata": {
            "tags": []
          },
          "execution_count": 72
        }
      ]
    },
    {
      "cell_type": "markdown",
      "metadata": {
        "id": "wYta2rTwplBE",
        "colab_type": "text"
      },
      "source": [
        "Numpy is Fast <br>\n",
        "To give you an idea of perfomance difference, consider a NumPy array of one million integers, and the equivalent Python list.\n"
      ]
    },
    {
      "cell_type": "code",
      "metadata": {
        "id": "j_VdvBDbkzlc",
        "colab_type": "code",
        "colab": {}
      },
      "source": [
        "my_arr = np.arange(100000000)"
      ],
      "execution_count": null,
      "outputs": []
    },
    {
      "cell_type": "code",
      "metadata": {
        "id": "kmoVTlDWk4jm",
        "colab_type": "code",
        "colab": {}
      },
      "source": [
        "my_list = list(range(100000000))"
      ],
      "execution_count": null,
      "outputs": []
    },
    {
      "cell_type": "code",
      "metadata": {
        "id": "XJC7V5Kqk8V4",
        "colab_type": "code",
        "colab": {
          "base_uri": "https://localhost:8080/",
          "height": 51
        },
        "outputId": "372cf5fb-727d-4fb6-e2f3-55ef9b09bbdf"
      },
      "source": [
        "%time my_arr2 = my_arr*2"
      ],
      "execution_count": null,
      "outputs": [
        {
          "output_type": "stream",
          "text": [
            "CPU times: user 141 ms, sys: 347 ms, total: 487 ms\n",
            "Wall time: 494 ms\n"
          ],
          "name": "stdout"
        }
      ]
    },
    {
      "cell_type": "code",
      "metadata": {
        "id": "xg43Y1DflLTS",
        "colab_type": "code",
        "colab": {
          "base_uri": "https://localhost:8080/",
          "height": 51
        },
        "outputId": "b847a074-3005-45b7-e2b9-2e35b05aff28"
      },
      "source": [
        "%time my_arr2 = []\n",
        "for item in my_list:\n",
        "  my_arr2.append(item*2)\n"
      ],
      "execution_count": null,
      "outputs": [
        {
          "output_type": "stream",
          "text": [
            "CPU times: user 835 ms, sys: 130 ms, total: 966 ms\n",
            "Wall time: 968 ms\n"
          ],
          "name": "stdout"
        }
      ]
    },
    {
      "cell_type": "code",
      "metadata": {
        "id": "QAaQgibklZdG",
        "colab_type": "code",
        "colab": {}
      },
      "source": [
        ""
      ],
      "execution_count": null,
      "outputs": []
    },
    {
      "cell_type": "markdown",
      "metadata": {
        "id": "MeqsYMLpzfVY",
        "colab_type": "text"
      },
      "source": [
        "Memory efficient"
      ]
    },
    {
      "cell_type": "code",
      "metadata": {
        "id": "W3lFtnMvzhkI",
        "colab_type": "code",
        "colab": {}
      },
      "source": [
        "import sys"
      ],
      "execution_count": null,
      "outputs": []
    },
    {
      "cell_type": "code",
      "metadata": {
        "id": "R97nYi3pzlhK",
        "colab_type": "code",
        "colab": {
          "base_uri": "https://localhost:8080/",
          "height": 51
        },
        "outputId": "2d9080d7-5ca5-4c55-db27-1464b695b87e"
      },
      "source": [
        "ls = range(100)\n",
        "arr = np.arange(100)\n",
        "print(sys.getsizeof(1)*len(ls))\n",
        "print(arr.size*arr.itemsize)"
      ],
      "execution_count": null,
      "outputs": [
        {
          "output_type": "stream",
          "text": [
            "2800\n",
            "800\n"
          ],
          "name": "stdout"
        }
      ]
    },
    {
      "cell_type": "markdown",
      "metadata": {
        "id": "qdLamYrTBLaf",
        "colab_type": "text"
      },
      "source": [
        "A ndarray is a generic multidimensional container for homogenous data; that is all of the elements must be the same type. Every array has a shape, a tuple indicating the size of the each dimension, and a dtype, an object describing the data type of the array:"
      ]
    },
    {
      "cell_type": "code",
      "metadata": {
        "id": "aXCDsczs2PGK",
        "colab_type": "code",
        "colab": {}
      },
      "source": [
        "data = np.random.randn(2,3)"
      ],
      "execution_count": null,
      "outputs": []
    },
    {
      "cell_type": "code",
      "metadata": {
        "id": "JqVqp3C1zwqZ",
        "colab_type": "code",
        "colab": {
          "base_uri": "https://localhost:8080/",
          "height": 51
        },
        "outputId": "54490545-11a8-491a-ffa6-a0370479b858"
      },
      "source": [
        "data"
      ],
      "execution_count": null,
      "outputs": [
        {
          "output_type": "execute_result",
          "data": {
            "text/plain": [
              "array([[-1.61546722, -1.02653239,  0.6399928 ],\n",
              "       [-0.56456418,  0.11410426, -1.2384171 ]])"
            ]
          },
          "metadata": {
            "tags": []
          },
          "execution_count": 22
        }
      ]
    },
    {
      "cell_type": "code",
      "metadata": {
        "id": "1r2xLsO52Tys",
        "colab_type": "code",
        "colab": {
          "base_uri": "https://localhost:8080/",
          "height": 51
        },
        "outputId": "70b91e6d-a01e-4449-b8b3-181b5aaf8598"
      },
      "source": [
        "data*10"
      ],
      "execution_count": null,
      "outputs": [
        {
          "output_type": "execute_result",
          "data": {
            "text/plain": [
              "array([[-16.15467225, -10.26532392,   6.39992805],\n",
              "       [ -5.64564183,   1.14104259, -12.38417095]])"
            ]
          },
          "metadata": {
            "tags": []
          },
          "execution_count": 23
        }
      ]
    },
    {
      "cell_type": "code",
      "metadata": {
        "id": "PDYIgZ9x2YDh",
        "colab_type": "code",
        "colab": {
          "base_uri": "https://localhost:8080/",
          "height": 34
        },
        "outputId": "abcc4bf3-416d-4488-f9dc-2f53a2569282"
      },
      "source": [
        "data.shape"
      ],
      "execution_count": null,
      "outputs": [
        {
          "output_type": "execute_result",
          "data": {
            "text/plain": [
              "(2, 3)"
            ]
          },
          "metadata": {
            "tags": []
          },
          "execution_count": 25
        }
      ]
    },
    {
      "cell_type": "code",
      "metadata": {
        "id": "wgqe4XRn2Y-v",
        "colab_type": "code",
        "colab": {
          "base_uri": "https://localhost:8080/",
          "height": 34
        },
        "outputId": "c626917b-e7ff-4cea-ae40-a9696a8f251f"
      },
      "source": [
        "data.dtype"
      ],
      "execution_count": null,
      "outputs": [
        {
          "output_type": "execute_result",
          "data": {
            "text/plain": [
              "dtype('float64')"
            ]
          },
          "metadata": {
            "tags": []
          },
          "execution_count": 26
        }
      ]
    },
    {
      "cell_type": "code",
      "metadata": {
        "id": "zcEMN7Es20dk",
        "colab_type": "code",
        "colab": {}
      },
      "source": [
        "data1 = [6, 7.5, 8 ,0 ,1 ]"
      ],
      "execution_count": null,
      "outputs": []
    },
    {
      "cell_type": "code",
      "metadata": {
        "id": "KuF6_48L3Cr2",
        "colab_type": "code",
        "colab": {}
      },
      "source": [
        "arr1 = np.array(data1)"
      ],
      "execution_count": null,
      "outputs": []
    },
    {
      "cell_type": "code",
      "metadata": {
        "id": "K73q_7wI3FlD",
        "colab_type": "code",
        "colab": {
          "base_uri": "https://localhost:8080/",
          "height": 34
        },
        "outputId": "7fe45d5d-a8ee-4663-d524-7825307d1385"
      },
      "source": [
        "arr1"
      ],
      "execution_count": null,
      "outputs": [
        {
          "output_type": "execute_result",
          "data": {
            "text/plain": [
              "array([6. , 7.5, 8. , 0. , 1. ])"
            ]
          },
          "metadata": {
            "tags": []
          },
          "execution_count": 29
        }
      ]
    },
    {
      "cell_type": "code",
      "metadata": {
        "id": "0qzv5-Gf3Ggv",
        "colab_type": "code",
        "colab": {}
      },
      "source": [
        "data2 = [[1,2,3,4], [2,3,4,4]]\n",
        "arr2 = np.array(data2)"
      ],
      "execution_count": null,
      "outputs": []
    },
    {
      "cell_type": "code",
      "metadata": {
        "id": "vwXthc1x3QPO",
        "colab_type": "code",
        "colab": {
          "base_uri": "https://localhost:8080/",
          "height": 51
        },
        "outputId": "4fe9cf06-e298-4f66-bcf5-4e00de75d5df"
      },
      "source": [
        "arr2"
      ],
      "execution_count": null,
      "outputs": [
        {
          "output_type": "execute_result",
          "data": {
            "text/plain": [
              "array([[1, 2, 3, 4],\n",
              "       [2, 3, 4, 4]])"
            ]
          },
          "metadata": {
            "tags": []
          },
          "execution_count": 31
        }
      ]
    },
    {
      "cell_type": "code",
      "metadata": {
        "id": "GMYIln2M3Q93",
        "colab_type": "code",
        "colab": {
          "base_uri": "https://localhost:8080/",
          "height": 34
        },
        "outputId": "b8f5c4a6-e188-4bbb-a40a-8f0cdef32aac"
      },
      "source": [
        "arr2.shape"
      ],
      "execution_count": null,
      "outputs": [
        {
          "output_type": "execute_result",
          "data": {
            "text/plain": [
              "(2, 4)"
            ]
          },
          "metadata": {
            "tags": []
          },
          "execution_count": 32
        }
      ]
    },
    {
      "cell_type": "code",
      "metadata": {
        "id": "GeT1-yEo3ST2",
        "colab_type": "code",
        "colab": {
          "base_uri": "https://localhost:8080/",
          "height": 34
        },
        "outputId": "d942607d-057e-416f-bf94-5a63f84c8329"
      },
      "source": [
        "np.zeros(10)"
      ],
      "execution_count": null,
      "outputs": [
        {
          "output_type": "execute_result",
          "data": {
            "text/plain": [
              "array([0., 0., 0., 0., 0., 0., 0., 0., 0., 0.])"
            ]
          },
          "metadata": {
            "tags": []
          },
          "execution_count": 33
        }
      ]
    },
    {
      "cell_type": "code",
      "metadata": {
        "id": "qhiPqTOW3hKP",
        "colab_type": "code",
        "colab": {
          "base_uri": "https://localhost:8080/",
          "height": 34
        },
        "outputId": "120b5c6a-6dee-4b86-d817-f85aa7f097db"
      },
      "source": [
        "np.ones(10)"
      ],
      "execution_count": null,
      "outputs": [
        {
          "output_type": "execute_result",
          "data": {
            "text/plain": [
              "array([1., 1., 1., 1., 1., 1., 1., 1., 1., 1.])"
            ]
          },
          "metadata": {
            "tags": []
          },
          "execution_count": 34
        }
      ]
    },
    {
      "cell_type": "code",
      "metadata": {
        "id": "mABev_EB3jBP",
        "colab_type": "code",
        "colab": {
          "base_uri": "https://localhost:8080/",
          "height": 68
        },
        "outputId": "b18480b0-8dc9-4965-9ee8-4a70437e9000"
      },
      "source": [
        "np.zeros((3,5))"
      ],
      "execution_count": null,
      "outputs": [
        {
          "output_type": "execute_result",
          "data": {
            "text/plain": [
              "array([[0., 0., 0., 0., 0.],\n",
              "       [0., 0., 0., 0., 0.],\n",
              "       [0., 0., 0., 0., 0.]])"
            ]
          },
          "metadata": {
            "tags": []
          },
          "execution_count": 35
        }
      ]
    },
    {
      "cell_type": "code",
      "metadata": {
        "id": "_-275m3735Wf",
        "colab_type": "code",
        "colab": {}
      },
      "source": [
        ""
      ],
      "execution_count": null,
      "outputs": []
    },
    {
      "cell_type": "markdown",
      "metadata": {
        "id": "rCEM5YJw35vx",
        "colab_type": "text"
      },
      "source": [
        "## Basic Indexing and Slicing\n",
        "NumPy arrat indexing is arich topic, as there are many ways you may want to select a subset of your data or individual elements. On-dimensional arrays are simple; they act similarly to Python lists"
      ]
    },
    {
      "cell_type": "code",
      "metadata": {
        "id": "ujyymaU64M8x",
        "colab_type": "code",
        "colab": {
          "base_uri": "https://localhost:8080/",
          "height": 34
        },
        "outputId": "20068dcf-aad8-4c83-bd26-962746efab1a"
      },
      "source": [
        "a = np.arange(10)\n",
        "a[0]"
      ],
      "execution_count": null,
      "outputs": [
        {
          "output_type": "execute_result",
          "data": {
            "text/plain": [
              "0"
            ]
          },
          "metadata": {
            "tags": []
          },
          "execution_count": 37
        }
      ]
    },
    {
      "cell_type": "code",
      "metadata": {
        "id": "-z3DFRk44Qza",
        "colab_type": "code",
        "colab": {
          "base_uri": "https://localhost:8080/",
          "height": 34
        },
        "outputId": "306366d2-3a96-4016-907a-998ccf1ce411"
      },
      "source": [
        "a[3:9]"
      ],
      "execution_count": null,
      "outputs": [
        {
          "output_type": "execute_result",
          "data": {
            "text/plain": [
              "array([3, 4, 5, 6, 7, 8])"
            ]
          },
          "metadata": {
            "tags": []
          },
          "execution_count": 39
        }
      ]
    },
    {
      "cell_type": "code",
      "metadata": {
        "id": "jlBuVG8J4TNu",
        "colab_type": "code",
        "colab": {
          "base_uri": "https://localhost:8080/",
          "height": 34
        },
        "outputId": "3c53fef5-29ea-4435-848c-199747132f7f"
      },
      "source": [
        "a[3:9] = 999\n",
        "a"
      ],
      "execution_count": null,
      "outputs": [
        {
          "output_type": "execute_result",
          "data": {
            "text/plain": [
              "array([  0,   1,   2, 999, 999, 999, 999, 999, 999,   9])"
            ]
          },
          "metadata": {
            "tags": []
          },
          "execution_count": 40
        }
      ]
    },
    {
      "cell_type": "markdown",
      "metadata": {
        "id": "0ollD7964sdC",
        "colab_type": "text"
      },
      "source": [
        "Higher dimensional case"
      ]
    },
    {
      "cell_type": "code",
      "metadata": {
        "id": "OvkzPObc4ehS",
        "colab_type": "code",
        "colab": {
          "base_uri": "https://localhost:8080/",
          "height": 34
        },
        "outputId": "71a62049-a542-45a4-b822-72adc3a69a3a"
      },
      "source": [
        "arr2d = np.array([[1,2,3],[4,5,6],[7,8,9]])\n",
        "arr2d[1]"
      ],
      "execution_count": null,
      "outputs": [
        {
          "output_type": "execute_result",
          "data": {
            "text/plain": [
              "array([4, 5, 6])"
            ]
          },
          "metadata": {
            "tags": []
          },
          "execution_count": 42
        }
      ]
    },
    {
      "cell_type": "code",
      "metadata": {
        "id": "vEMCMQOs44db",
        "colab_type": "code",
        "colab": {
          "base_uri": "https://localhost:8080/",
          "height": 34
        },
        "outputId": "f60811b2-03c6-48f5-92f3-716240e55a84"
      },
      "source": [
        "arr2d[1][1]"
      ],
      "execution_count": null,
      "outputs": [
        {
          "output_type": "execute_result",
          "data": {
            "text/plain": [
              "5"
            ]
          },
          "metadata": {
            "tags": []
          },
          "execution_count": 44
        }
      ]
    },
    {
      "cell_type": "code",
      "metadata": {
        "id": "f-IhwNWk5Zz2",
        "colab_type": "code",
        "colab": {
          "base_uri": "https://localhost:8080/",
          "height": 68
        },
        "outputId": "0f59cfdf-215d-405b-a48a-dba1a2f72d73"
      },
      "source": [
        "arr2d"
      ],
      "execution_count": null,
      "outputs": [
        {
          "output_type": "execute_result",
          "data": {
            "text/plain": [
              "array([[1, 2, 3],\n",
              "       [4, 5, 6],\n",
              "       [7, 8, 9]])"
            ]
          },
          "metadata": {
            "tags": []
          },
          "execution_count": 45
        }
      ]
    },
    {
      "cell_type": "code",
      "metadata": {
        "id": "1Sc2kJw35ait",
        "colab_type": "code",
        "colab": {
          "base_uri": "https://localhost:8080/",
          "height": 51
        },
        "outputId": "b9c8718b-561d-4476-c2d1-7d543ad62e7b"
      },
      "source": [
        "arr2d[:2]"
      ],
      "execution_count": null,
      "outputs": [
        {
          "output_type": "execute_result",
          "data": {
            "text/plain": [
              "array([[1, 2, 3],\n",
              "       [4, 5, 6]])"
            ]
          },
          "metadata": {
            "tags": []
          },
          "execution_count": 46
        }
      ]
    },
    {
      "cell_type": "code",
      "metadata": {
        "id": "yshcpPI55c3k",
        "colab_type": "code",
        "colab": {}
      },
      "source": [
        "data = np.random.randn(7,4)"
      ],
      "execution_count": null,
      "outputs": []
    },
    {
      "cell_type": "code",
      "metadata": {
        "id": "9U0r2pCl6VlT",
        "colab_type": "code",
        "colab": {
          "base_uri": "https://localhost:8080/",
          "height": 136
        },
        "outputId": "23512db1-6428-4c99-9a53-881c4a325255"
      },
      "source": [
        "data"
      ],
      "execution_count": null,
      "outputs": [
        {
          "output_type": "execute_result",
          "data": {
            "text/plain": [
              "array([[ 0.09489228,  0.25227448,  0.9420906 , -0.11185268],\n",
              "       [ 1.75817408,  0.24827457, -1.0893095 ,  0.11184248],\n",
              "       [-1.48730443,  0.06103998,  1.36347826, -0.36845844],\n",
              "       [-0.58380157, -2.68177921, -0.32324019,  0.88857594],\n",
              "       [ 0.12173626,  0.3285586 , -0.86666293,  0.38948386],\n",
              "       [ 1.75059663, -1.98075485,  0.39540382, -0.12031955],\n",
              "       [ 1.08685414,  0.41581627,  0.31100378, -0.92119794]])"
            ]
          },
          "metadata": {
            "tags": []
          },
          "execution_count": 48
        }
      ]
    },
    {
      "cell_type": "code",
      "metadata": {
        "id": "f9J2In8D6W13",
        "colab_type": "code",
        "colab": {}
      },
      "source": [
        "data[data < 0] = 0"
      ],
      "execution_count": null,
      "outputs": []
    },
    {
      "cell_type": "code",
      "metadata": {
        "id": "HV7dbZ0f6Zrf",
        "colab_type": "code",
        "colab": {
          "base_uri": "https://localhost:8080/",
          "height": 136
        },
        "outputId": "633c4a25-558e-43e0-f369-0479c62ffe29"
      },
      "source": [
        "data"
      ],
      "execution_count": null,
      "outputs": [
        {
          "output_type": "execute_result",
          "data": {
            "text/plain": [
              "array([[0.09489228, 0.25227448, 0.9420906 , 0.        ],\n",
              "       [1.75817408, 0.24827457, 0.        , 0.11184248],\n",
              "       [0.        , 0.06103998, 1.36347826, 0.        ],\n",
              "       [0.        , 0.        , 0.        , 0.88857594],\n",
              "       [0.12173626, 0.3285586 , 0.        , 0.38948386],\n",
              "       [1.75059663, 0.        , 0.39540382, 0.        ],\n",
              "       [1.08685414, 0.41581627, 0.31100378, 0.        ]])"
            ]
          },
          "metadata": {
            "tags": []
          },
          "execution_count": 51
        }
      ]
    },
    {
      "cell_type": "markdown",
      "metadata": {
        "id": "uHkmBppf76j3",
        "colab_type": "text"
      },
      "source": [
        "### Statistical function"
      ]
    },
    {
      "cell_type": "code",
      "metadata": {
        "id": "9PRCwOTh75yC",
        "colab_type": "code",
        "colab": {}
      },
      "source": [
        "arr = np.random.randn(5,4)"
      ],
      "execution_count": null,
      "outputs": []
    },
    {
      "cell_type": "code",
      "metadata": {
        "id": "VXT0B_AY8DlO",
        "colab_type": "code",
        "colab": {
          "base_uri": "https://localhost:8080/",
          "height": 102
        },
        "outputId": "8f9acdc9-f7e1-47a6-d5b2-c394b0a28645"
      },
      "source": [
        "arr"
      ],
      "execution_count": null,
      "outputs": [
        {
          "output_type": "execute_result",
          "data": {
            "text/plain": [
              "array([[-0.27435423,  0.07262001,  0.85731941,  0.36064605],\n",
              "       [ 1.17338914, -0.3785971 , -0.0276085 , -0.51663422],\n",
              "       [-0.79517686,  0.36080684,  0.09959116, -0.08265027],\n",
              "       [ 0.62033476,  2.14710506,  0.14869197, -0.98228391],\n",
              "       [-1.06439914,  0.18658554, -0.8141048 ,  1.32160877]])"
            ]
          },
          "metadata": {
            "tags": []
          },
          "execution_count": 56
        }
      ]
    },
    {
      "cell_type": "code",
      "metadata": {
        "id": "jD5WWPWG8Hr8",
        "colab_type": "code",
        "colab": {
          "base_uri": "https://localhost:8080/",
          "height": 34
        },
        "outputId": "4afac0a0-fcea-41f8-ce2e-a8404cb5f5bb"
      },
      "source": [
        "arr.mean()"
      ],
      "execution_count": null,
      "outputs": [
        {
          "output_type": "execute_result",
          "data": {
            "text/plain": [
              "0.12064448444455902"
            ]
          },
          "metadata": {
            "tags": []
          },
          "execution_count": 57
        }
      ]
    },
    {
      "cell_type": "code",
      "metadata": {
        "id": "vQbbBNT78J8c",
        "colab_type": "code",
        "colab": {
          "base_uri": "https://localhost:8080/",
          "height": 34
        },
        "outputId": "ae271277-4e10-4a4e-9670-1b2cc57b2b47"
      },
      "source": [
        "np.mean(arr)"
      ],
      "execution_count": null,
      "outputs": [
        {
          "output_type": "execute_result",
          "data": {
            "text/plain": [
              "0.12064448444455902"
            ]
          },
          "metadata": {
            "tags": []
          },
          "execution_count": 58
        }
      ]
    },
    {
      "cell_type": "code",
      "metadata": {
        "id": "wmjjmKCv8LQt",
        "colab_type": "code",
        "colab": {
          "base_uri": "https://localhost:8080/",
          "height": 34
        },
        "outputId": "fd64a5ae-ee14-4937-de37-687e8e695ee0"
      },
      "source": [
        "# across columns\n",
        "arr.mean(axis=1)"
      ],
      "execution_count": null,
      "outputs": [
        {
          "output_type": "execute_result",
          "data": {
            "text/plain": [
              "array([ 0.25405781,  0.06263733, -0.10435728,  0.48346197, -0.09257741])"
            ]
          },
          "metadata": {
            "tags": []
          },
          "execution_count": 59
        }
      ]
    },
    {
      "cell_type": "code",
      "metadata": {
        "id": "dJBOXgmN8Q0B",
        "colab_type": "code",
        "colab": {
          "base_uri": "https://localhost:8080/",
          "height": 34
        },
        "outputId": "084a7f84-2328-4dfa-ac70-255c69208c4a"
      },
      "source": [
        "#across rows\n",
        "arr.mean(axis = 0)"
      ],
      "execution_count": null,
      "outputs": [
        {
          "output_type": "execute_result",
          "data": {
            "text/plain": [
              "array([-0.06804127,  0.47770407,  0.05277785,  0.02013728])"
            ]
          },
          "metadata": {
            "tags": []
          },
          "execution_count": 60
        }
      ]
    },
    {
      "cell_type": "code",
      "metadata": {
        "id": "uUabE00E8TqM",
        "colab_type": "code",
        "colab": {
          "base_uri": "https://localhost:8080/",
          "height": 34
        },
        "outputId": "9163860d-4c9e-42c5-ecf7-1db6a498b37a"
      },
      "source": [
        "arr.sum()"
      ],
      "execution_count": null,
      "outputs": [
        {
          "output_type": "execute_result",
          "data": {
            "text/plain": [
              "2.4128896888911804"
            ]
          },
          "metadata": {
            "tags": []
          },
          "execution_count": 61
        }
      ]
    },
    {
      "cell_type": "code",
      "metadata": {
        "id": "0GstFqPQ8XfS",
        "colab_type": "code",
        "colab": {
          "base_uri": "https://localhost:8080/",
          "height": 136
        },
        "outputId": "e0c5eda1-ff1b-4504-bad9-4227ef5aa159"
      },
      "source": [
        "data"
      ],
      "execution_count": null,
      "outputs": [
        {
          "output_type": "execute_result",
          "data": {
            "text/plain": [
              "array([[0.09489228, 0.25227448, 0.9420906 , 0.        ],\n",
              "       [1.75817408, 0.24827457, 0.        , 0.11184248],\n",
              "       [0.        , 0.06103998, 1.36347826, 0.        ],\n",
              "       [0.        , 0.        , 0.        , 0.88857594],\n",
              "       [0.12173626, 0.3285586 , 0.        , 0.38948386],\n",
              "       [1.75059663, 0.        , 0.39540382, 0.        ],\n",
              "       [1.08685414, 0.41581627, 0.31100378, 0.        ]])"
            ]
          },
          "metadata": {
            "tags": []
          },
          "execution_count": 62
        }
      ]
    },
    {
      "cell_type": "code",
      "metadata": {
        "id": "JW4HKOU19s55",
        "colab_type": "code",
        "colab": {
          "base_uri": "https://localhost:8080/",
          "height": 136
        },
        "outputId": "5a61259b-9bf7-4197-9eaf-797e40f08e9b"
      },
      "source": [
        "data.sort()\n",
        "data"
      ],
      "execution_count": null,
      "outputs": [
        {
          "output_type": "execute_result",
          "data": {
            "text/plain": [
              "array([[0.        , 0.09489228, 0.25227448, 0.9420906 ],\n",
              "       [0.        , 0.11184248, 0.24827457, 1.75817408],\n",
              "       [0.        , 0.        , 0.06103998, 1.36347826],\n",
              "       [0.        , 0.        , 0.        , 0.88857594],\n",
              "       [0.        , 0.12173626, 0.3285586 , 0.38948386],\n",
              "       [0.        , 0.        , 0.39540382, 1.75059663],\n",
              "       [0.        , 0.31100378, 0.41581627, 1.08685414]])"
            ]
          },
          "metadata": {
            "tags": []
          },
          "execution_count": 64
        }
      ]
    },
    {
      "cell_type": "code",
      "metadata": {
        "id": "SRaj8Rhz9uU-",
        "colab_type": "code",
        "colab": {
          "base_uri": "https://localhost:8080/",
          "height": 136
        },
        "outputId": "359151fd-449e-45af-b106-68f536dbb313"
      },
      "source": [
        "data.sort(axis = 0)\n",
        "data"
      ],
      "execution_count": null,
      "outputs": [
        {
          "output_type": "execute_result",
          "data": {
            "text/plain": [
              "array([[0.        , 0.        , 0.        , 0.38948386],\n",
              "       [0.        , 0.        , 0.06103998, 0.88857594],\n",
              "       [0.        , 0.        , 0.24827457, 0.9420906 ],\n",
              "       [0.        , 0.09489228, 0.25227448, 1.08685414],\n",
              "       [0.        , 0.11184248, 0.3285586 , 1.36347826],\n",
              "       [0.        , 0.12173626, 0.39540382, 1.75059663],\n",
              "       [0.        , 0.31100378, 0.41581627, 1.75817408]])"
            ]
          },
          "metadata": {
            "tags": []
          },
          "execution_count": 66
        }
      ]
    },
    {
      "cell_type": "code",
      "metadata": {
        "id": "AL9cNvk-JFrP",
        "colab_type": "code",
        "colab": {
          "base_uri": "https://localhost:8080/",
          "height": 481
        },
        "outputId": "f2f19297-3407-4b96-a582-00af11159f40"
      },
      "source": [
        "Image(url = \"https://miro.medium.com/max/819/1*Dss7A8Z-M4x8LD9ccgw7pQ.png\")"
      ],
      "execution_count": null,
      "outputs": [
        {
          "output_type": "execute_result",
          "data": {
            "text/html": [
              "<img src=\"https://miro.medium.com/max/819/1*Dss7A8Z-M4x8LD9ccgw7pQ.png\"/>"
            ],
            "text/plain": [
              "<IPython.core.display.Image object>"
            ]
          },
          "metadata": {
            "tags": []
          },
          "execution_count": 79
        }
      ]
    },
    {
      "cell_type": "markdown",
      "metadata": {
        "id": "aNbqA4ZcH-6b",
        "colab_type": "text"
      },
      "source": [
        "# Pandas \n",
        "Pandas contains data structures and data manipulation tools designed to make data cleaning\n",
        "and analysis fast and easy in Python. <br> \n",
        "Pandas is often used in tandem with numerical\n",
        "computing tools like NumPy and SciPy, analytical libraries like statsmodels and\n",
        "scikit-learn, and data visualization libraries like matplotlib. <br> Pandas adopts significant\n",
        "parts of NumPy’s idiomatic style of array-based computing, especially array-based\n",
        "functions and a preference for data processing without for loops"
      ]
    },
    {
      "cell_type": "markdown",
      "metadata": {
        "id": "EtajbXnJLxrY",
        "colab_type": "text"
      },
      "source": [
        "### Series and DataFrames"
      ]
    },
    {
      "cell_type": "code",
      "metadata": {
        "id": "NJ7SEaL4L8rB",
        "colab_type": "code",
        "colab": {}
      },
      "source": [
        "import pandas as pd"
      ],
      "execution_count": null,
      "outputs": []
    },
    {
      "cell_type": "code",
      "metadata": {
        "id": "_upxuqSZL0fo",
        "colab_type": "code",
        "colab": {
          "base_uri": "https://localhost:8080/",
          "height": 102
        },
        "outputId": "91a7170f-ecf8-4072-e747-a52d09937e9f"
      },
      "source": [
        "obj = pd.Series([4, 7,-5, 3])\n",
        "obj"
      ],
      "execution_count": null,
      "outputs": [
        {
          "output_type": "execute_result",
          "data": {
            "text/plain": [
              "0    4\n",
              "1    7\n",
              "2   -5\n",
              "3    3\n",
              "dtype: int64"
            ]
          },
          "metadata": {
            "tags": []
          },
          "execution_count": 82
        }
      ]
    },
    {
      "cell_type": "code",
      "metadata": {
        "id": "Rvd_hnyrL7Gt",
        "colab_type": "code",
        "colab": {
          "base_uri": "https://localhost:8080/",
          "height": 841
        },
        "outputId": "da5d62da-0a6e-44fa-bd56-277c379ae551"
      },
      "source": [
        "Image(url = \"https://embed-fastly.wistia.com/deliveries/dac3116985e248b4ececd79427d2c332a3a6dd16.webp?image_crop_resized=1280x800\")"
      ],
      "execution_count": null,
      "outputs": [
        {
          "output_type": "execute_result",
          "data": {
            "text/html": [
              "<img src=\"https://embed-fastly.wistia.com/deliveries/dac3116985e248b4ececd79427d2c332a3a6dd16.webp?image_crop_resized=1280x800\"/>"
            ],
            "text/plain": [
              "<IPython.core.display.Image object>"
            ]
          },
          "metadata": {
            "tags": []
          },
          "execution_count": 85
        }
      ]
    },
    {
      "cell_type": "code",
      "metadata": {
        "id": "GhcAWF65O5oZ",
        "colab_type": "code",
        "colab": {}
      },
      "source": [
        "obj2 = pd.Series([4, 7, -5, 3], index=['d', 'b', 'a', 'c'])"
      ],
      "execution_count": null,
      "outputs": []
    },
    {
      "cell_type": "code",
      "metadata": {
        "id": "teXFduV9PPdY",
        "colab_type": "code",
        "colab": {
          "base_uri": "https://localhost:8080/",
          "height": 34
        },
        "outputId": "006b2f8f-356b-4b9f-8423-bf83e70415c8"
      },
      "source": [
        "obj2.index"
      ],
      "execution_count": null,
      "outputs": [
        {
          "output_type": "execute_result",
          "data": {
            "text/plain": [
              "Index(['d', 'b', 'a', 'c'], dtype='object')"
            ]
          },
          "metadata": {
            "tags": []
          },
          "execution_count": 5
        }
      ]
    },
    {
      "cell_type": "code",
      "metadata": {
        "id": "JzBOFax9PRMW",
        "colab_type": "code",
        "colab": {
          "base_uri": "https://localhost:8080/",
          "height": 34
        },
        "outputId": "d7feda03-a5b6-4623-f8e7-ea08349c87cc"
      },
      "source": [
        "obj2['a']"
      ],
      "execution_count": null,
      "outputs": [
        {
          "output_type": "execute_result",
          "data": {
            "text/plain": [
              "-5"
            ]
          },
          "metadata": {
            "tags": []
          },
          "execution_count": 7
        }
      ]
    },
    {
      "cell_type": "code",
      "metadata": {
        "id": "DpDfjtfbPXAs",
        "colab_type": "code",
        "colab": {
          "base_uri": "https://localhost:8080/",
          "height": 85
        },
        "outputId": "79587c04-b869-4b39-e1dd-4c18826bcfc0"
      },
      "source": [
        "obj2[obj2 > 0]"
      ],
      "execution_count": null,
      "outputs": [
        {
          "output_type": "execute_result",
          "data": {
            "text/plain": [
              "d    4\n",
              "b    7\n",
              "c    3\n",
              "dtype: int64"
            ]
          },
          "metadata": {
            "tags": []
          },
          "execution_count": 8
        }
      ]
    },
    {
      "cell_type": "code",
      "metadata": {
        "id": "_p40mJaLPjMb",
        "colab_type": "code",
        "colab": {
          "base_uri": "https://localhost:8080/",
          "height": 102
        },
        "outputId": "adf368b5-7f90-4a6c-bfff-0b1472c49dba"
      },
      "source": [
        "obj2*2"
      ],
      "execution_count": null,
      "outputs": [
        {
          "output_type": "execute_result",
          "data": {
            "text/plain": [
              "d     8\n",
              "b    14\n",
              "a   -10\n",
              "c     6\n",
              "dtype: int64"
            ]
          },
          "metadata": {
            "tags": []
          },
          "execution_count": 9
        }
      ]
    },
    {
      "cell_type": "markdown",
      "metadata": {
        "id": "OgsDGld0PtkF",
        "colab_type": "text"
      },
      "source": [
        "In a way, you can think of Series as Python dictionary."
      ]
    },
    {
      "cell_type": "code",
      "metadata": {
        "id": "OPF_Kb7pPkeZ",
        "colab_type": "code",
        "colab": {}
      },
      "source": [
        "sdata = {'Ohio': 35000, 'Texas': 71000, 'Oregon': 16000, 'Utah': 5000}\n",
        "obj3 = pd.Series(sdata)"
      ],
      "execution_count": null,
      "outputs": []
    },
    {
      "cell_type": "code",
      "metadata": {
        "id": "KmYT4YhhP-eQ",
        "colab_type": "code",
        "colab": {
          "base_uri": "https://localhost:8080/",
          "height": 102
        },
        "outputId": "7a948cb3-e4a8-4774-93df-37c671e3bdde"
      },
      "source": [
        "obj3"
      ],
      "execution_count": null,
      "outputs": [
        {
          "output_type": "execute_result",
          "data": {
            "text/plain": [
              "Ohio      35000\n",
              "Texas     71000\n",
              "Oregon    16000\n",
              "Utah       5000\n",
              "dtype: int64"
            ]
          },
          "metadata": {
            "tags": []
          },
          "execution_count": 11
        }
      ]
    },
    {
      "cell_type": "code",
      "metadata": {
        "id": "sOb1hyaHQDBI",
        "colab_type": "code",
        "colab": {}
      },
      "source": [
        "states = ['California', 'Ohio', 'Oregon', 'Texas']\n",
        "obj4 = pd.Series(sdata, index=states)"
      ],
      "execution_count": null,
      "outputs": []
    },
    {
      "cell_type": "code",
      "metadata": {
        "id": "Po0m4hwnQbrS",
        "colab_type": "code",
        "colab": {
          "base_uri": "https://localhost:8080/",
          "height": 102
        },
        "outputId": "869085e5-aef3-4b4f-a2a9-fa0338051530"
      },
      "source": [
        "obj4"
      ],
      "execution_count": null,
      "outputs": [
        {
          "output_type": "execute_result",
          "data": {
            "text/plain": [
              "California        NaN\n",
              "Ohio          35000.0\n",
              "Oregon        16000.0\n",
              "Texas         71000.0\n",
              "dtype: float64"
            ]
          },
          "metadata": {
            "tags": []
          },
          "execution_count": 14
        }
      ]
    },
    {
      "cell_type": "code",
      "metadata": {
        "id": "WkEvTTMGQcvt",
        "colab_type": "code",
        "colab": {
          "base_uri": "https://localhost:8080/",
          "height": 102
        },
        "outputId": "cd3f5105-3856-4fe4-fb24-68a166c0eaf0"
      },
      "source": [
        "obj4.isnull()"
      ],
      "execution_count": null,
      "outputs": [
        {
          "output_type": "execute_result",
          "data": {
            "text/plain": [
              "California     True\n",
              "Ohio          False\n",
              "Oregon        False\n",
              "Texas         False\n",
              "dtype: bool"
            ]
          },
          "metadata": {
            "tags": []
          },
          "execution_count": 16
        }
      ]
    },
    {
      "cell_type": "code",
      "metadata": {
        "id": "FIUlBC6wRRF_",
        "colab_type": "code",
        "colab": {
          "base_uri": "https://localhost:8080/",
          "height": 102
        },
        "outputId": "396ed72b-2efc-491e-e0bc-f4bfbe04ea0f"
      },
      "source": [
        "obj3"
      ],
      "execution_count": null,
      "outputs": [
        {
          "output_type": "execute_result",
          "data": {
            "text/plain": [
              "Ohio      35000\n",
              "Texas     71000\n",
              "Oregon    16000\n",
              "Utah       5000\n",
              "dtype: int64"
            ]
          },
          "metadata": {
            "tags": []
          },
          "execution_count": 17
        }
      ]
    },
    {
      "cell_type": "code",
      "metadata": {
        "id": "hL7JJATHRSfV",
        "colab_type": "code",
        "colab": {
          "base_uri": "https://localhost:8080/",
          "height": 102
        },
        "outputId": "42fca8b4-3fa5-436c-cd0f-637689d7fc6d"
      },
      "source": [
        "obj4"
      ],
      "execution_count": null,
      "outputs": [
        {
          "output_type": "execute_result",
          "data": {
            "text/plain": [
              "California        NaN\n",
              "Ohio          35000.0\n",
              "Oregon        16000.0\n",
              "Texas         71000.0\n",
              "dtype: float64"
            ]
          },
          "metadata": {
            "tags": []
          },
          "execution_count": 18
        }
      ]
    },
    {
      "cell_type": "code",
      "metadata": {
        "id": "yCOOAfmmRTK_",
        "colab_type": "code",
        "colab": {
          "base_uri": "https://localhost:8080/",
          "height": 119
        },
        "outputId": "2f0dff53-aba4-47ca-c6eb-661ace1fe68d"
      },
      "source": [
        "obj3 + obj4"
      ],
      "execution_count": null,
      "outputs": [
        {
          "output_type": "execute_result",
          "data": {
            "text/plain": [
              "California         NaN\n",
              "Ohio           70000.0\n",
              "Oregon         32000.0\n",
              "Texas         142000.0\n",
              "Utah               NaN\n",
              "dtype: float64"
            ]
          },
          "metadata": {
            "tags": []
          },
          "execution_count": 19
        }
      ]
    },
    {
      "cell_type": "markdown",
      "metadata": {
        "id": "mYadlS4xRskk",
        "colab_type": "text"
      },
      "source": [
        "## DataFrame\n",
        "A DataFrame represents a rectangular table of data and contains an ordered collec‐\n",
        "tion of columns, each of which can be a different value type (numeric, string,\n",
        "boolean, etc.). The DataFrame has both a row and column index; it can be thought of\n",
        "as a dict of Series all sharing the same index"
      ]
    },
    {
      "cell_type": "code",
      "metadata": {
        "id": "gARylwEmRWeH",
        "colab_type": "code",
        "colab": {}
      },
      "source": [
        "data = {'state': ['Ohio', 'Ohio', 'Ohio', 'Nevada', 'Nevada', 'Nevada'],\n",
        "'year': [2000, 2001, 2002, 2001, 2002, 2003],\n",
        "'pop': [1.5, 1.7, 3.6, 2.4, 2.9, 3.2]}\n",
        "frame = pd.DataFrame(data)"
      ],
      "execution_count": null,
      "outputs": []
    },
    {
      "cell_type": "code",
      "metadata": {
        "id": "ZXaf39nrSDy8",
        "colab_type": "code",
        "colab": {
          "base_uri": "https://localhost:8080/",
          "height": 235
        },
        "outputId": "18fa3fa4-cb08-4a98-b2ff-97f3b38b31c2"
      },
      "source": [
        "frame"
      ],
      "execution_count": null,
      "outputs": [
        {
          "output_type": "execute_result",
          "data": {
            "text/html": [
              "<div>\n",
              "<style scoped>\n",
              "    .dataframe tbody tr th:only-of-type {\n",
              "        vertical-align: middle;\n",
              "    }\n",
              "\n",
              "    .dataframe tbody tr th {\n",
              "        vertical-align: top;\n",
              "    }\n",
              "\n",
              "    .dataframe thead th {\n",
              "        text-align: right;\n",
              "    }\n",
              "</style>\n",
              "<table border=\"1\" class=\"dataframe\">\n",
              "  <thead>\n",
              "    <tr style=\"text-align: right;\">\n",
              "      <th></th>\n",
              "      <th>state</th>\n",
              "      <th>year</th>\n",
              "      <th>pop</th>\n",
              "    </tr>\n",
              "  </thead>\n",
              "  <tbody>\n",
              "    <tr>\n",
              "      <th>0</th>\n",
              "      <td>Ohio</td>\n",
              "      <td>2000</td>\n",
              "      <td>1.5</td>\n",
              "    </tr>\n",
              "    <tr>\n",
              "      <th>1</th>\n",
              "      <td>Ohio</td>\n",
              "      <td>2001</td>\n",
              "      <td>1.7</td>\n",
              "    </tr>\n",
              "    <tr>\n",
              "      <th>2</th>\n",
              "      <td>Ohio</td>\n",
              "      <td>2002</td>\n",
              "      <td>3.6</td>\n",
              "    </tr>\n",
              "    <tr>\n",
              "      <th>3</th>\n",
              "      <td>Nevada</td>\n",
              "      <td>2001</td>\n",
              "      <td>2.4</td>\n",
              "    </tr>\n",
              "    <tr>\n",
              "      <th>4</th>\n",
              "      <td>Nevada</td>\n",
              "      <td>2002</td>\n",
              "      <td>2.9</td>\n",
              "    </tr>\n",
              "    <tr>\n",
              "      <th>5</th>\n",
              "      <td>Nevada</td>\n",
              "      <td>2003</td>\n",
              "      <td>3.2</td>\n",
              "    </tr>\n",
              "  </tbody>\n",
              "</table>\n",
              "</div>"
            ],
            "text/plain": [
              "    state  year  pop\n",
              "0    Ohio  2000  1.5\n",
              "1    Ohio  2001  1.7\n",
              "2    Ohio  2002  3.6\n",
              "3  Nevada  2001  2.4\n",
              "4  Nevada  2002  2.9\n",
              "5  Nevada  2003  3.2"
            ]
          },
          "metadata": {
            "tags": []
          },
          "execution_count": 21
        }
      ]
    },
    {
      "cell_type": "code",
      "metadata": {
        "id": "r53Ea4lPSFRH",
        "colab_type": "code",
        "colab": {
          "base_uri": "https://localhost:8080/",
          "height": 235
        },
        "outputId": "bedbcc40-37a4-4300-fd1a-d1b07bf2610e"
      },
      "source": [
        "pd.DataFrame(data, columns=['year', 'state', 'pop'])"
      ],
      "execution_count": null,
      "outputs": [
        {
          "output_type": "execute_result",
          "data": {
            "text/html": [
              "<div>\n",
              "<style scoped>\n",
              "    .dataframe tbody tr th:only-of-type {\n",
              "        vertical-align: middle;\n",
              "    }\n",
              "\n",
              "    .dataframe tbody tr th {\n",
              "        vertical-align: top;\n",
              "    }\n",
              "\n",
              "    .dataframe thead th {\n",
              "        text-align: right;\n",
              "    }\n",
              "</style>\n",
              "<table border=\"1\" class=\"dataframe\">\n",
              "  <thead>\n",
              "    <tr style=\"text-align: right;\">\n",
              "      <th></th>\n",
              "      <th>year</th>\n",
              "      <th>state</th>\n",
              "      <th>pop</th>\n",
              "    </tr>\n",
              "  </thead>\n",
              "  <tbody>\n",
              "    <tr>\n",
              "      <th>0</th>\n",
              "      <td>2000</td>\n",
              "      <td>Ohio</td>\n",
              "      <td>1.5</td>\n",
              "    </tr>\n",
              "    <tr>\n",
              "      <th>1</th>\n",
              "      <td>2001</td>\n",
              "      <td>Ohio</td>\n",
              "      <td>1.7</td>\n",
              "    </tr>\n",
              "    <tr>\n",
              "      <th>2</th>\n",
              "      <td>2002</td>\n",
              "      <td>Ohio</td>\n",
              "      <td>3.6</td>\n",
              "    </tr>\n",
              "    <tr>\n",
              "      <th>3</th>\n",
              "      <td>2001</td>\n",
              "      <td>Nevada</td>\n",
              "      <td>2.4</td>\n",
              "    </tr>\n",
              "    <tr>\n",
              "      <th>4</th>\n",
              "      <td>2002</td>\n",
              "      <td>Nevada</td>\n",
              "      <td>2.9</td>\n",
              "    </tr>\n",
              "    <tr>\n",
              "      <th>5</th>\n",
              "      <td>2003</td>\n",
              "      <td>Nevada</td>\n",
              "      <td>3.2</td>\n",
              "    </tr>\n",
              "  </tbody>\n",
              "</table>\n",
              "</div>"
            ],
            "text/plain": [
              "   year   state  pop\n",
              "0  2000    Ohio  1.5\n",
              "1  2001    Ohio  1.7\n",
              "2  2002    Ohio  3.6\n",
              "3  2001  Nevada  2.4\n",
              "4  2002  Nevada  2.9\n",
              "5  2003  Nevada  3.2"
            ]
          },
          "metadata": {
            "tags": []
          },
          "execution_count": 22
        }
      ]
    },
    {
      "cell_type": "code",
      "metadata": {
        "id": "ZoRK07l4SjDb",
        "colab_type": "code",
        "colab": {}
      },
      "source": [
        "frame2 = pd.DataFrame(data, columns=['year', 'state', 'pop', 'debt'],\n",
        "index=['one', 'two', 'three', 'four', 'five', 'six'])"
      ],
      "execution_count": null,
      "outputs": []
    },
    {
      "cell_type": "code",
      "metadata": {
        "id": "f4-8Tk_jSoIa",
        "colab_type": "code",
        "colab": {
          "base_uri": "https://localhost:8080/",
          "height": 235
        },
        "outputId": "6e82c666-8769-434a-a617-8bbdc8d14ad3"
      },
      "source": [
        "frame2"
      ],
      "execution_count": null,
      "outputs": [
        {
          "output_type": "execute_result",
          "data": {
            "text/html": [
              "<div>\n",
              "<style scoped>\n",
              "    .dataframe tbody tr th:only-of-type {\n",
              "        vertical-align: middle;\n",
              "    }\n",
              "\n",
              "    .dataframe tbody tr th {\n",
              "        vertical-align: top;\n",
              "    }\n",
              "\n",
              "    .dataframe thead th {\n",
              "        text-align: right;\n",
              "    }\n",
              "</style>\n",
              "<table border=\"1\" class=\"dataframe\">\n",
              "  <thead>\n",
              "    <tr style=\"text-align: right;\">\n",
              "      <th></th>\n",
              "      <th>year</th>\n",
              "      <th>state</th>\n",
              "      <th>pop</th>\n",
              "      <th>debt</th>\n",
              "    </tr>\n",
              "  </thead>\n",
              "  <tbody>\n",
              "    <tr>\n",
              "      <th>one</th>\n",
              "      <td>2000</td>\n",
              "      <td>Ohio</td>\n",
              "      <td>1.5</td>\n",
              "      <td>NaN</td>\n",
              "    </tr>\n",
              "    <tr>\n",
              "      <th>two</th>\n",
              "      <td>2001</td>\n",
              "      <td>Ohio</td>\n",
              "      <td>1.7</td>\n",
              "      <td>NaN</td>\n",
              "    </tr>\n",
              "    <tr>\n",
              "      <th>three</th>\n",
              "      <td>2002</td>\n",
              "      <td>Ohio</td>\n",
              "      <td>3.6</td>\n",
              "      <td>NaN</td>\n",
              "    </tr>\n",
              "    <tr>\n",
              "      <th>four</th>\n",
              "      <td>2001</td>\n",
              "      <td>Nevada</td>\n",
              "      <td>2.4</td>\n",
              "      <td>NaN</td>\n",
              "    </tr>\n",
              "    <tr>\n",
              "      <th>five</th>\n",
              "      <td>2002</td>\n",
              "      <td>Nevada</td>\n",
              "      <td>2.9</td>\n",
              "      <td>NaN</td>\n",
              "    </tr>\n",
              "    <tr>\n",
              "      <th>six</th>\n",
              "      <td>2003</td>\n",
              "      <td>Nevada</td>\n",
              "      <td>3.2</td>\n",
              "      <td>NaN</td>\n",
              "    </tr>\n",
              "  </tbody>\n",
              "</table>\n",
              "</div>"
            ],
            "text/plain": [
              "       year   state  pop debt\n",
              "one    2000    Ohio  1.5  NaN\n",
              "two    2001    Ohio  1.7  NaN\n",
              "three  2002    Ohio  3.6  NaN\n",
              "four   2001  Nevada  2.4  NaN\n",
              "five   2002  Nevada  2.9  NaN\n",
              "six    2003  Nevada  3.2  NaN"
            ]
          },
          "metadata": {
            "tags": []
          },
          "execution_count": 24
        }
      ]
    },
    {
      "cell_type": "code",
      "metadata": {
        "id": "3_mfy1aRSySb",
        "colab_type": "code",
        "colab": {
          "base_uri": "https://localhost:8080/",
          "height": 136
        },
        "outputId": "251dc656-71c3-4206-e683-f944a419b1ae"
      },
      "source": [
        "frame2.state"
      ],
      "execution_count": null,
      "outputs": [
        {
          "output_type": "execute_result",
          "data": {
            "text/plain": [
              "one        Ohio\n",
              "two        Ohio\n",
              "three      Ohio\n",
              "four     Nevada\n",
              "five     Nevada\n",
              "six      Nevada\n",
              "Name: state, dtype: object"
            ]
          },
          "metadata": {
            "tags": []
          },
          "execution_count": 28
        }
      ]
    },
    {
      "cell_type": "code",
      "metadata": {
        "id": "UOf3FbnwTpCz",
        "colab_type": "code",
        "colab": {
          "base_uri": "https://localhost:8080/",
          "height": 136
        },
        "outputId": "daa49af8-685e-4d2d-f824-55bd028fd74e"
      },
      "source": [
        "frame2['state']"
      ],
      "execution_count": null,
      "outputs": [
        {
          "output_type": "execute_result",
          "data": {
            "text/plain": [
              "one        Ohio\n",
              "two        Ohio\n",
              "three      Ohio\n",
              "four     Nevada\n",
              "five     Nevada\n",
              "six      Nevada\n",
              "Name: state, dtype: object"
            ]
          },
          "metadata": {
            "tags": []
          },
          "execution_count": 29
        }
      ]
    },
    {
      "cell_type": "code",
      "metadata": {
        "id": "fy5ai1chTr3N",
        "colab_type": "code",
        "colab": {
          "base_uri": "https://localhost:8080/",
          "height": 102
        },
        "outputId": "1aaa3ae5-8043-4927-c313-4859ae9541d4"
      },
      "source": [
        "frame2.loc['three']"
      ],
      "execution_count": null,
      "outputs": [
        {
          "output_type": "execute_result",
          "data": {
            "text/plain": [
              "year     2002\n",
              "state    Ohio\n",
              "pop       3.6\n",
              "debt      NaN\n",
              "Name: three, dtype: object"
            ]
          },
          "metadata": {
            "tags": []
          },
          "execution_count": 31
        }
      ]
    },
    {
      "cell_type": "code",
      "metadata": {
        "id": "ck2IvE7XTr0C",
        "colab_type": "code",
        "colab": {
          "base_uri": "https://localhost:8080/",
          "height": 235
        },
        "outputId": "a260042e-ae29-4b6f-a15c-ab866e65f4dc"
      },
      "source": [
        "frame2['debt'] = 16.5\n",
        "frame2"
      ],
      "execution_count": null,
      "outputs": [
        {
          "output_type": "execute_result",
          "data": {
            "text/html": [
              "<div>\n",
              "<style scoped>\n",
              "    .dataframe tbody tr th:only-of-type {\n",
              "        vertical-align: middle;\n",
              "    }\n",
              "\n",
              "    .dataframe tbody tr th {\n",
              "        vertical-align: top;\n",
              "    }\n",
              "\n",
              "    .dataframe thead th {\n",
              "        text-align: right;\n",
              "    }\n",
              "</style>\n",
              "<table border=\"1\" class=\"dataframe\">\n",
              "  <thead>\n",
              "    <tr style=\"text-align: right;\">\n",
              "      <th></th>\n",
              "      <th>year</th>\n",
              "      <th>state</th>\n",
              "      <th>pop</th>\n",
              "      <th>debt</th>\n",
              "    </tr>\n",
              "  </thead>\n",
              "  <tbody>\n",
              "    <tr>\n",
              "      <th>one</th>\n",
              "      <td>2000</td>\n",
              "      <td>Ohio</td>\n",
              "      <td>1.5</td>\n",
              "      <td>16.5</td>\n",
              "    </tr>\n",
              "    <tr>\n",
              "      <th>two</th>\n",
              "      <td>2001</td>\n",
              "      <td>Ohio</td>\n",
              "      <td>1.7</td>\n",
              "      <td>16.5</td>\n",
              "    </tr>\n",
              "    <tr>\n",
              "      <th>three</th>\n",
              "      <td>2002</td>\n",
              "      <td>Ohio</td>\n",
              "      <td>3.6</td>\n",
              "      <td>16.5</td>\n",
              "    </tr>\n",
              "    <tr>\n",
              "      <th>four</th>\n",
              "      <td>2001</td>\n",
              "      <td>Nevada</td>\n",
              "      <td>2.4</td>\n",
              "      <td>16.5</td>\n",
              "    </tr>\n",
              "    <tr>\n",
              "      <th>five</th>\n",
              "      <td>2002</td>\n",
              "      <td>Nevada</td>\n",
              "      <td>2.9</td>\n",
              "      <td>16.5</td>\n",
              "    </tr>\n",
              "    <tr>\n",
              "      <th>six</th>\n",
              "      <td>2003</td>\n",
              "      <td>Nevada</td>\n",
              "      <td>3.2</td>\n",
              "      <td>16.5</td>\n",
              "    </tr>\n",
              "  </tbody>\n",
              "</table>\n",
              "</div>"
            ],
            "text/plain": [
              "       year   state  pop  debt\n",
              "one    2000    Ohio  1.5  16.5\n",
              "two    2001    Ohio  1.7  16.5\n",
              "three  2002    Ohio  3.6  16.5\n",
              "four   2001  Nevada  2.4  16.5\n",
              "five   2002  Nevada  2.9  16.5\n",
              "six    2003  Nevada  3.2  16.5"
            ]
          },
          "metadata": {
            "tags": []
          },
          "execution_count": 33
        }
      ]
    },
    {
      "cell_type": "code",
      "metadata": {
        "id": "QGmPOToRUHDt",
        "colab_type": "code",
        "colab": {}
      },
      "source": [
        "data = pd.DataFrame(np.arange(16).reshape((4, 4)),\n",
        "index=['Ohio', 'Colorado', 'Utah', 'New York'],\n",
        "columns=['one', 'two', 'three', 'four'])"
      ],
      "execution_count": null,
      "outputs": []
    },
    {
      "cell_type": "code",
      "metadata": {
        "id": "tgdWWofZUHBR",
        "colab_type": "code",
        "colab": {
          "base_uri": "https://localhost:8080/",
          "height": 173
        },
        "outputId": "0a4ef46e-1a91-4b2b-e53a-852253dbe33e"
      },
      "source": [
        "data"
      ],
      "execution_count": null,
      "outputs": [
        {
          "output_type": "execute_result",
          "data": {
            "text/html": [
              "<div>\n",
              "<style scoped>\n",
              "    .dataframe tbody tr th:only-of-type {\n",
              "        vertical-align: middle;\n",
              "    }\n",
              "\n",
              "    .dataframe tbody tr th {\n",
              "        vertical-align: top;\n",
              "    }\n",
              "\n",
              "    .dataframe thead th {\n",
              "        text-align: right;\n",
              "    }\n",
              "</style>\n",
              "<table border=\"1\" class=\"dataframe\">\n",
              "  <thead>\n",
              "    <tr style=\"text-align: right;\">\n",
              "      <th></th>\n",
              "      <th>one</th>\n",
              "      <th>two</th>\n",
              "      <th>three</th>\n",
              "      <th>four</th>\n",
              "    </tr>\n",
              "  </thead>\n",
              "  <tbody>\n",
              "    <tr>\n",
              "      <th>Ohio</th>\n",
              "      <td>0</td>\n",
              "      <td>1</td>\n",
              "      <td>2</td>\n",
              "      <td>3</td>\n",
              "    </tr>\n",
              "    <tr>\n",
              "      <th>Colorado</th>\n",
              "      <td>4</td>\n",
              "      <td>5</td>\n",
              "      <td>6</td>\n",
              "      <td>7</td>\n",
              "    </tr>\n",
              "    <tr>\n",
              "      <th>Utah</th>\n",
              "      <td>8</td>\n",
              "      <td>9</td>\n",
              "      <td>10</td>\n",
              "      <td>11</td>\n",
              "    </tr>\n",
              "    <tr>\n",
              "      <th>New York</th>\n",
              "      <td>12</td>\n",
              "      <td>13</td>\n",
              "      <td>14</td>\n",
              "      <td>15</td>\n",
              "    </tr>\n",
              "  </tbody>\n",
              "</table>\n",
              "</div>"
            ],
            "text/plain": [
              "          one  two  three  four\n",
              "Ohio        0    1      2     3\n",
              "Colorado    4    5      6     7\n",
              "Utah        8    9     10    11\n",
              "New York   12   13     14    15"
            ]
          },
          "metadata": {
            "tags": []
          },
          "execution_count": 37
        }
      ]
    },
    {
      "cell_type": "code",
      "metadata": {
        "id": "iJFM2pLrUG9u",
        "colab_type": "code",
        "colab": {
          "base_uri": "https://localhost:8080/",
          "height": 173
        },
        "outputId": "6aa91b8b-f179-4ef9-b7ba-ee179e23d9e3"
      },
      "source": [
        "data.drop(['one', 'two'], axis = 'columns')"
      ],
      "execution_count": null,
      "outputs": [
        {
          "output_type": "execute_result",
          "data": {
            "text/html": [
              "<div>\n",
              "<style scoped>\n",
              "    .dataframe tbody tr th:only-of-type {\n",
              "        vertical-align: middle;\n",
              "    }\n",
              "\n",
              "    .dataframe tbody tr th {\n",
              "        vertical-align: top;\n",
              "    }\n",
              "\n",
              "    .dataframe thead th {\n",
              "        text-align: right;\n",
              "    }\n",
              "</style>\n",
              "<table border=\"1\" class=\"dataframe\">\n",
              "  <thead>\n",
              "    <tr style=\"text-align: right;\">\n",
              "      <th></th>\n",
              "      <th>three</th>\n",
              "      <th>four</th>\n",
              "    </tr>\n",
              "  </thead>\n",
              "  <tbody>\n",
              "    <tr>\n",
              "      <th>Ohio</th>\n",
              "      <td>2</td>\n",
              "      <td>3</td>\n",
              "    </tr>\n",
              "    <tr>\n",
              "      <th>Colorado</th>\n",
              "      <td>6</td>\n",
              "      <td>7</td>\n",
              "    </tr>\n",
              "    <tr>\n",
              "      <th>Utah</th>\n",
              "      <td>10</td>\n",
              "      <td>11</td>\n",
              "    </tr>\n",
              "    <tr>\n",
              "      <th>New York</th>\n",
              "      <td>14</td>\n",
              "      <td>15</td>\n",
              "    </tr>\n",
              "  </tbody>\n",
              "</table>\n",
              "</div>"
            ],
            "text/plain": [
              "          three  four\n",
              "Ohio          2     3\n",
              "Colorado      6     7\n",
              "Utah         10    11\n",
              "New York     14    15"
            ]
          },
          "metadata": {
            "tags": []
          },
          "execution_count": 38
        }
      ]
    },
    {
      "cell_type": "code",
      "metadata": {
        "id": "2vi_ImxMUG6o",
        "colab_type": "code",
        "colab": {
          "base_uri": "https://localhost:8080/",
          "height": 111
        },
        "outputId": "9dd37f81-792a-4f3f-e8d7-b11e2c228c18"
      },
      "source": [
        "data.drop(['Ohio','Colorado'], axis = 'rows')"
      ],
      "execution_count": null,
      "outputs": [
        {
          "output_type": "execute_result",
          "data": {
            "text/html": [
              "<div>\n",
              "<style scoped>\n",
              "    .dataframe tbody tr th:only-of-type {\n",
              "        vertical-align: middle;\n",
              "    }\n",
              "\n",
              "    .dataframe tbody tr th {\n",
              "        vertical-align: top;\n",
              "    }\n",
              "\n",
              "    .dataframe thead th {\n",
              "        text-align: right;\n",
              "    }\n",
              "</style>\n",
              "<table border=\"1\" class=\"dataframe\">\n",
              "  <thead>\n",
              "    <tr style=\"text-align: right;\">\n",
              "      <th></th>\n",
              "      <th>one</th>\n",
              "      <th>two</th>\n",
              "      <th>three</th>\n",
              "      <th>four</th>\n",
              "    </tr>\n",
              "  </thead>\n",
              "  <tbody>\n",
              "    <tr>\n",
              "      <th>Utah</th>\n",
              "      <td>8</td>\n",
              "      <td>9</td>\n",
              "      <td>10</td>\n",
              "      <td>11</td>\n",
              "    </tr>\n",
              "    <tr>\n",
              "      <th>New York</th>\n",
              "      <td>12</td>\n",
              "      <td>13</td>\n",
              "      <td>14</td>\n",
              "      <td>15</td>\n",
              "    </tr>\n",
              "  </tbody>\n",
              "</table>\n",
              "</div>"
            ],
            "text/plain": [
              "          one  two  three  four\n",
              "Utah        8    9     10    11\n",
              "New York   12   13     14    15"
            ]
          },
          "metadata": {
            "tags": []
          },
          "execution_count": 39
        }
      ]
    },
    {
      "cell_type": "markdown",
      "metadata": {
        "id": "JJJRTyB6k-VO",
        "colab_type": "text"
      },
      "source": [
        "## Aggregation and Grouping\n",
        "An essential piece of analysis of large data is efficient summarization: computing\n",
        "aggregations like sum() , mean() , median() , min() , and max() , in which a single num‐\n",
        "ber gives insight into the nature of a potentially large dataset. In this section, we’ll from simple operations akin to what we’ve seen on\n",
        "NumPy arrays, to more sophisticated operations based on the concept of a groupby .\n",
        "\n",
        "### <font color ='blue'> Planets Data </font>\n",
        "Here we will use the Planets dataset, available via the Seaborn package (see “Visualization with Seaborn” on page 311). It gives information on planets that astronomers\n",
        "have discovered around other stars (known as extrasolar planets or exoplanets for\n",
        "short). It can be downloaded with a simple Seaborn command:"
      ]
    },
    {
      "cell_type": "code",
      "metadata": {
        "id": "6PpjTh5llRBu",
        "colab_type": "code",
        "colab": {
          "base_uri": "https://localhost:8080/",
          "height": 34
        },
        "outputId": "6cf805cd-9988-41f3-f7a7-cd1f5af8c720"
      },
      "source": [
        "import seaborn as sns\n",
        "planets = sns.load_dataset('planets')\n",
        "planets.shape"
      ],
      "execution_count": 38,
      "outputs": [
        {
          "output_type": "execute_result",
          "data": {
            "text/plain": [
              "(1035, 6)"
            ]
          },
          "metadata": {
            "tags": []
          },
          "execution_count": 38
        }
      ]
    },
    {
      "cell_type": "code",
      "metadata": {
        "id": "SqJsyj_SlRJc",
        "colab_type": "code",
        "colab": {
          "base_uri": "https://localhost:8080/",
          "height": 204
        },
        "outputId": "a3098fdb-f558-4903-bf88-3ae7c61383fd"
      },
      "source": [
        "planets.head()"
      ],
      "execution_count": 39,
      "outputs": [
        {
          "output_type": "execute_result",
          "data": {
            "text/html": [
              "<div>\n",
              "<style scoped>\n",
              "    .dataframe tbody tr th:only-of-type {\n",
              "        vertical-align: middle;\n",
              "    }\n",
              "\n",
              "    .dataframe tbody tr th {\n",
              "        vertical-align: top;\n",
              "    }\n",
              "\n",
              "    .dataframe thead th {\n",
              "        text-align: right;\n",
              "    }\n",
              "</style>\n",
              "<table border=\"1\" class=\"dataframe\">\n",
              "  <thead>\n",
              "    <tr style=\"text-align: right;\">\n",
              "      <th></th>\n",
              "      <th>method</th>\n",
              "      <th>number</th>\n",
              "      <th>orbital_period</th>\n",
              "      <th>mass</th>\n",
              "      <th>distance</th>\n",
              "      <th>year</th>\n",
              "    </tr>\n",
              "  </thead>\n",
              "  <tbody>\n",
              "    <tr>\n",
              "      <th>0</th>\n",
              "      <td>Radial Velocity</td>\n",
              "      <td>1</td>\n",
              "      <td>269.300</td>\n",
              "      <td>7.10</td>\n",
              "      <td>77.40</td>\n",
              "      <td>2006</td>\n",
              "    </tr>\n",
              "    <tr>\n",
              "      <th>1</th>\n",
              "      <td>Radial Velocity</td>\n",
              "      <td>1</td>\n",
              "      <td>874.774</td>\n",
              "      <td>2.21</td>\n",
              "      <td>56.95</td>\n",
              "      <td>2008</td>\n",
              "    </tr>\n",
              "    <tr>\n",
              "      <th>2</th>\n",
              "      <td>Radial Velocity</td>\n",
              "      <td>1</td>\n",
              "      <td>763.000</td>\n",
              "      <td>2.60</td>\n",
              "      <td>19.84</td>\n",
              "      <td>2011</td>\n",
              "    </tr>\n",
              "    <tr>\n",
              "      <th>3</th>\n",
              "      <td>Radial Velocity</td>\n",
              "      <td>1</td>\n",
              "      <td>326.030</td>\n",
              "      <td>19.40</td>\n",
              "      <td>110.62</td>\n",
              "      <td>2007</td>\n",
              "    </tr>\n",
              "    <tr>\n",
              "      <th>4</th>\n",
              "      <td>Radial Velocity</td>\n",
              "      <td>1</td>\n",
              "      <td>516.220</td>\n",
              "      <td>10.50</td>\n",
              "      <td>119.47</td>\n",
              "      <td>2009</td>\n",
              "    </tr>\n",
              "  </tbody>\n",
              "</table>\n",
              "</div>"
            ],
            "text/plain": [
              "            method  number  orbital_period   mass  distance  year\n",
              "0  Radial Velocity       1         269.300   7.10     77.40  2006\n",
              "1  Radial Velocity       1         874.774   2.21     56.95  2008\n",
              "2  Radial Velocity       1         763.000   2.60     19.84  2011\n",
              "3  Radial Velocity       1         326.030  19.40    110.62  2007\n",
              "4  Radial Velocity       1         516.220  10.50    119.47  2009"
            ]
          },
          "metadata": {
            "tags": []
          },
          "execution_count": 39
        }
      ]
    },
    {
      "cell_type": "code",
      "metadata": {
        "id": "h6Io9AOWlRWy",
        "colab_type": "code",
        "colab": {
          "base_uri": "https://localhost:8080/",
          "height": 34
        },
        "outputId": "4f393995-5d36-4c12-8088-8ae94d0e7225"
      },
      "source": [
        "planets['mass'].mean()"
      ],
      "execution_count": 40,
      "outputs": [
        {
          "output_type": "execute_result",
          "data": {
            "text/plain": [
              "2.6381605847953233"
            ]
          },
          "metadata": {
            "tags": []
          },
          "execution_count": 40
        }
      ]
    },
    {
      "cell_type": "code",
      "metadata": {
        "id": "33fuOdqLlYQe",
        "colab_type": "code",
        "colab": {
          "base_uri": "https://localhost:8080/",
          "height": 34
        },
        "outputId": "d5d0d446-c716-41e3-bbc6-ce31082c6e7b"
      },
      "source": [
        "planets['mass'].sum()"
      ],
      "execution_count": 41,
      "outputs": [
        {
          "output_type": "execute_result",
          "data": {
            "text/plain": [
              "1353.37638"
            ]
          },
          "metadata": {
            "tags": []
          },
          "execution_count": 41
        }
      ]
    },
    {
      "cell_type": "code",
      "metadata": {
        "id": "M8IftV3slYe7",
        "colab_type": "code",
        "colab": {
          "base_uri": "https://localhost:8080/",
          "height": 221
        },
        "outputId": "5a4fa151-8fc0-4b90-fef0-b2a8c9eaf800"
      },
      "source": [
        "planets[['orbital_period', 'distance']].sum(axis = 'columns')"
      ],
      "execution_count": 43,
      "outputs": [
        {
          "output_type": "execute_result",
          "data": {
            "text/plain": [
              "0       346.700000\n",
              "1       931.724000\n",
              "2       782.840000\n",
              "3       436.650000\n",
              "4       635.690000\n",
              "           ...    \n",
              "1030    175.941507\n",
              "1031    150.615864\n",
              "1032    177.191524\n",
              "1033    297.125083\n",
              "1034    264.187757\n",
              "Length: 1035, dtype: float64"
            ]
          },
          "metadata": {
            "tags": []
          },
          "execution_count": 43
        }
      ]
    },
    {
      "cell_type": "markdown",
      "metadata": {
        "id": "zdXxHbmimTs1",
        "colab_type": "text"
      },
      "source": [
        "There\n",
        "is a convenience method describe() that computes several common aggregates for\n",
        "each column and returns the result. Let’s use this on the Planets data, for now drop‐\n",
        "ping rows with missing values:"
      ]
    },
    {
      "cell_type": "code",
      "metadata": {
        "id": "zwrWnK6JmGFm",
        "colab_type": "code",
        "colab": {
          "base_uri": "https://localhost:8080/",
          "height": 297
        },
        "outputId": "86c7bbdd-6249-4a7d-aede-175890b3b9f7"
      },
      "source": [
        "planets.dropna().describe()"
      ],
      "execution_count": 44,
      "outputs": [
        {
          "output_type": "execute_result",
          "data": {
            "text/html": [
              "<div>\n",
              "<style scoped>\n",
              "    .dataframe tbody tr th:only-of-type {\n",
              "        vertical-align: middle;\n",
              "    }\n",
              "\n",
              "    .dataframe tbody tr th {\n",
              "        vertical-align: top;\n",
              "    }\n",
              "\n",
              "    .dataframe thead th {\n",
              "        text-align: right;\n",
              "    }\n",
              "</style>\n",
              "<table border=\"1\" class=\"dataframe\">\n",
              "  <thead>\n",
              "    <tr style=\"text-align: right;\">\n",
              "      <th></th>\n",
              "      <th>number</th>\n",
              "      <th>orbital_period</th>\n",
              "      <th>mass</th>\n",
              "      <th>distance</th>\n",
              "      <th>year</th>\n",
              "    </tr>\n",
              "  </thead>\n",
              "  <tbody>\n",
              "    <tr>\n",
              "      <th>count</th>\n",
              "      <td>498.00000</td>\n",
              "      <td>498.000000</td>\n",
              "      <td>498.000000</td>\n",
              "      <td>498.000000</td>\n",
              "      <td>498.000000</td>\n",
              "    </tr>\n",
              "    <tr>\n",
              "      <th>mean</th>\n",
              "      <td>1.73494</td>\n",
              "      <td>835.778671</td>\n",
              "      <td>2.509320</td>\n",
              "      <td>52.068213</td>\n",
              "      <td>2007.377510</td>\n",
              "    </tr>\n",
              "    <tr>\n",
              "      <th>std</th>\n",
              "      <td>1.17572</td>\n",
              "      <td>1469.128259</td>\n",
              "      <td>3.636274</td>\n",
              "      <td>46.596041</td>\n",
              "      <td>4.167284</td>\n",
              "    </tr>\n",
              "    <tr>\n",
              "      <th>min</th>\n",
              "      <td>1.00000</td>\n",
              "      <td>1.328300</td>\n",
              "      <td>0.003600</td>\n",
              "      <td>1.350000</td>\n",
              "      <td>1989.000000</td>\n",
              "    </tr>\n",
              "    <tr>\n",
              "      <th>25%</th>\n",
              "      <td>1.00000</td>\n",
              "      <td>38.272250</td>\n",
              "      <td>0.212500</td>\n",
              "      <td>24.497500</td>\n",
              "      <td>2005.000000</td>\n",
              "    </tr>\n",
              "    <tr>\n",
              "      <th>50%</th>\n",
              "      <td>1.00000</td>\n",
              "      <td>357.000000</td>\n",
              "      <td>1.245000</td>\n",
              "      <td>39.940000</td>\n",
              "      <td>2009.000000</td>\n",
              "    </tr>\n",
              "    <tr>\n",
              "      <th>75%</th>\n",
              "      <td>2.00000</td>\n",
              "      <td>999.600000</td>\n",
              "      <td>2.867500</td>\n",
              "      <td>59.332500</td>\n",
              "      <td>2011.000000</td>\n",
              "    </tr>\n",
              "    <tr>\n",
              "      <th>max</th>\n",
              "      <td>6.00000</td>\n",
              "      <td>17337.500000</td>\n",
              "      <td>25.000000</td>\n",
              "      <td>354.000000</td>\n",
              "      <td>2014.000000</td>\n",
              "    </tr>\n",
              "  </tbody>\n",
              "</table>\n",
              "</div>"
            ],
            "text/plain": [
              "          number  orbital_period        mass    distance         year\n",
              "count  498.00000      498.000000  498.000000  498.000000   498.000000\n",
              "mean     1.73494      835.778671    2.509320   52.068213  2007.377510\n",
              "std      1.17572     1469.128259    3.636274   46.596041     4.167284\n",
              "min      1.00000        1.328300    0.003600    1.350000  1989.000000\n",
              "25%      1.00000       38.272250    0.212500   24.497500  2005.000000\n",
              "50%      1.00000      357.000000    1.245000   39.940000  2009.000000\n",
              "75%      2.00000      999.600000    2.867500   59.332500  2011.000000\n",
              "max      6.00000    17337.500000   25.000000  354.000000  2014.000000"
            ]
          },
          "metadata": {
            "tags": []
          },
          "execution_count": 44
        }
      ]
    },
    {
      "cell_type": "markdown",
      "metadata": {
        "id": "7hPKpbVms2Ep",
        "colab_type": "text"
      },
      "source": [
        "## GroupBy\n",
        "\n",
        "Simple aggregations can give you a flavor of your dataset, but often we would prefer\n",
        "to aggregate conditionally on some label or index: this is implemented in the so-called groupby operation.\n",
        "The name “group by” comes from a command in the SQL\n",
        "database language, but it is perhaps more illuminative to think of it in the terms first\n",
        "coined by Hadley Wickham of Rstats fame: split, apply, combine.\n",
        "## Split, apply, combine\n",
        "A canonical example of this split-apply-combine operation, where the “apply” is a\n",
        "summation aggregation, is illustrated in Figure 3-1.\n",
        "Figure 3-1 makes clear what the GroupBy accomplishes:\n",
        "* The split step involves breaking up and grouping a DataFrame depending \n",
        "on the\n",
        "value of the specified key.\n",
        "* The apply step involves computing some function, usually an aggregate, transfor‐\n",
        "mation, or filtering, within the individual groups.\n",
        "* The combine step merges the results of these operations into an output array."
      ]
    },
    {
      "cell_type": "code",
      "metadata": {
        "id": "F-NTJuiQmacz",
        "colab_type": "code",
        "colab": {
          "base_uri": "https://localhost:8080/",
          "height": 349
        },
        "outputId": "8fc0bd77-c5a0-46fa-c2dd-7a26f414d55c"
      },
      "source": [
        "Image('https://i.stack.imgur.com/sgCn1.jpg')"
      ],
      "execution_count": 47,
      "outputs": [
        {
          "output_type": "execute_result",
          "data": {
            "image/jpeg": "[encoded data removed]",
            "text/plain": [
              "<IPython.core.display.Image object>"
            ]
          },
          "metadata": {
            "tags": []
          },
          "execution_count": 47
        }
      ]
    },
    {
      "cell_type": "code",
      "metadata": {
        "id": "lCfvq6sGumi_",
        "colab_type": "code",
        "colab": {}
      },
      "source": [
        "df = pd.DataFrame({'key': ['A', 'B', 'C', 'A', 'B', 'C'],\n",
        "'data': range(6)}, columns=['key', 'data'])"
      ],
      "execution_count": 48,
      "outputs": []
    },
    {
      "cell_type": "code",
      "metadata": {
        "id": "t-Apqlj5uo3Z",
        "colab_type": "code",
        "colab": {
          "base_uri": "https://localhost:8080/",
          "height": 235
        },
        "outputId": "654258ad-3021-413a-eabc-09bc8978c5f1"
      },
      "source": [
        "df.head(6)"
      ],
      "execution_count": 50,
      "outputs": [
        {
          "output_type": "execute_result",
          "data": {
            "text/html": [
              "<div>\n",
              "<style scoped>\n",
              "    .dataframe tbody tr th:only-of-type {\n",
              "        vertical-align: middle;\n",
              "    }\n",
              "\n",
              "    .dataframe tbody tr th {\n",
              "        vertical-align: top;\n",
              "    }\n",
              "\n",
              "    .dataframe thead th {\n",
              "        text-align: right;\n",
              "    }\n",
              "</style>\n",
              "<table border=\"1\" class=\"dataframe\">\n",
              "  <thead>\n",
              "    <tr style=\"text-align: right;\">\n",
              "      <th></th>\n",
              "      <th>key</th>\n",
              "      <th>data</th>\n",
              "    </tr>\n",
              "  </thead>\n",
              "  <tbody>\n",
              "    <tr>\n",
              "      <th>0</th>\n",
              "      <td>A</td>\n",
              "      <td>0</td>\n",
              "    </tr>\n",
              "    <tr>\n",
              "      <th>1</th>\n",
              "      <td>B</td>\n",
              "      <td>1</td>\n",
              "    </tr>\n",
              "    <tr>\n",
              "      <th>2</th>\n",
              "      <td>C</td>\n",
              "      <td>2</td>\n",
              "    </tr>\n",
              "    <tr>\n",
              "      <th>3</th>\n",
              "      <td>A</td>\n",
              "      <td>3</td>\n",
              "    </tr>\n",
              "    <tr>\n",
              "      <th>4</th>\n",
              "      <td>B</td>\n",
              "      <td>4</td>\n",
              "    </tr>\n",
              "    <tr>\n",
              "      <th>5</th>\n",
              "      <td>C</td>\n",
              "      <td>5</td>\n",
              "    </tr>\n",
              "  </tbody>\n",
              "</table>\n",
              "</div>"
            ],
            "text/plain": [
              "  key  data\n",
              "0   A     0\n",
              "1   B     1\n",
              "2   C     2\n",
              "3   A     3\n",
              "4   B     4\n",
              "5   C     5"
            ]
          },
          "metadata": {
            "tags": []
          },
          "execution_count": 50
        }
      ]
    },
    {
      "cell_type": "code",
      "metadata": {
        "id": "257v8KwsuvAY",
        "colab_type": "code",
        "colab": {
          "base_uri": "https://localhost:8080/",
          "height": 34
        },
        "outputId": "2608bfb8-e8a2-4dfe-cc4f-b9903c79d19d"
      },
      "source": [
        "df.groupby('key')"
      ],
      "execution_count": 51,
      "outputs": [
        {
          "output_type": "execute_result",
          "data": {
            "text/plain": [
              "<pandas.core.groupby.generic.DataFrameGroupBy object at 0x7f0f74b48c88>"
            ]
          },
          "metadata": {
            "tags": []
          },
          "execution_count": 51
        }
      ]
    },
    {
      "cell_type": "markdown",
      "metadata": {
        "id": "4YbxcNkdvJBY",
        "colab_type": "text"
      },
      "source": [
        "To produce a result, we can apply an aggregate to this DataFrameGroupBy object,\n",
        "which will perform the appropriate apply/combine steps to produce the desired\n",
        "result:"
      ]
    },
    {
      "cell_type": "code",
      "metadata": {
        "id": "PHs91C8kvKn3",
        "colab_type": "code",
        "colab": {
          "base_uri": "https://localhost:8080/",
          "height": 173
        },
        "outputId": "86ca67b7-287e-496d-f555-74e248957509"
      },
      "source": [
        "df.groupby('key').sum()"
      ],
      "execution_count": 52,
      "outputs": [
        {
          "output_type": "execute_result",
          "data": {
            "text/html": [
              "<div>\n",
              "<style scoped>\n",
              "    .dataframe tbody tr th:only-of-type {\n",
              "        vertical-align: middle;\n",
              "    }\n",
              "\n",
              "    .dataframe tbody tr th {\n",
              "        vertical-align: top;\n",
              "    }\n",
              "\n",
              "    .dataframe thead th {\n",
              "        text-align: right;\n",
              "    }\n",
              "</style>\n",
              "<table border=\"1\" class=\"dataframe\">\n",
              "  <thead>\n",
              "    <tr style=\"text-align: right;\">\n",
              "      <th></th>\n",
              "      <th>data</th>\n",
              "    </tr>\n",
              "    <tr>\n",
              "      <th>key</th>\n",
              "      <th></th>\n",
              "    </tr>\n",
              "  </thead>\n",
              "  <tbody>\n",
              "    <tr>\n",
              "      <th>A</th>\n",
              "      <td>3</td>\n",
              "    </tr>\n",
              "    <tr>\n",
              "      <th>B</th>\n",
              "      <td>5</td>\n",
              "    </tr>\n",
              "    <tr>\n",
              "      <th>C</th>\n",
              "      <td>7</td>\n",
              "    </tr>\n",
              "  </tbody>\n",
              "</table>\n",
              "</div>"
            ],
            "text/plain": [
              "     data\n",
              "key      \n",
              "A       3\n",
              "B       5\n",
              "C       7"
            ]
          },
          "metadata": {
            "tags": []
          },
          "execution_count": 52
        }
      ]
    },
    {
      "cell_type": "markdown",
      "metadata": {
        "id": "W-1GOVmKvc4v",
        "colab_type": "text"
      },
      "source": [
        "Column indexing. The GroupBy object supports column indexing in the same way as\n",
        "the DataFrame , and returns a modified GroupBy object. For example:"
      ]
    },
    {
      "cell_type": "code",
      "metadata": {
        "id": "wETrUaOOvKj5",
        "colab_type": "code",
        "colab": {
          "base_uri": "https://localhost:8080/",
          "height": 34
        },
        "outputId": "bf2f9d7b-11e3-4765-c1df-4c4cf2a68ca8"
      },
      "source": [
        "planets.groupby('method')"
      ],
      "execution_count": 53,
      "outputs": [
        {
          "output_type": "execute_result",
          "data": {
            "text/plain": [
              "<pandas.core.groupby.generic.DataFrameGroupBy object at 0x7f0f74b48d30>"
            ]
          },
          "metadata": {
            "tags": []
          },
          "execution_count": 53
        }
      ]
    },
    {
      "cell_type": "code",
      "metadata": {
        "id": "XBW25hK4vg1T",
        "colab_type": "code",
        "colab": {
          "base_uri": "https://localhost:8080/",
          "height": 34
        },
        "outputId": "e828b6b9-81fc-4e5f-c321-70e1e473b43d"
      },
      "source": [
        "planets.groupby('method')['orbital_period']"
      ],
      "execution_count": 54,
      "outputs": [
        {
          "output_type": "execute_result",
          "data": {
            "text/plain": [
              "<pandas.core.groupby.generic.SeriesGroupBy object at 0x7f0f74b4e9e8>"
            ]
          },
          "metadata": {
            "tags": []
          },
          "execution_count": 54
        }
      ]
    },
    {
      "cell_type": "code",
      "metadata": {
        "id": "_Js-kbIVvwkC",
        "colab_type": "code",
        "colab": {
          "base_uri": "https://localhost:8080/",
          "height": 221
        },
        "outputId": "bf9c5e57-7252-41e6-a280-fc2a1f6d4302"
      },
      "source": [
        "planets.groupby('method')['orbital_period'].median()"
      ],
      "execution_count": 55,
      "outputs": [
        {
          "output_type": "execute_result",
          "data": {
            "text/plain": [
              "method\n",
              "Astrometry                         631.180000\n",
              "Eclipse Timing Variations         4343.500000\n",
              "Imaging                          27500.000000\n",
              "Microlensing                      3300.000000\n",
              "Orbital Brightness Modulation        0.342887\n",
              "Pulsar Timing                       66.541900\n",
              "Pulsation Timing Variations       1170.000000\n",
              "Radial Velocity                    360.200000\n",
              "Transit                              5.714932\n",
              "Transit Timing Variations           57.011000\n",
              "Name: orbital_period, dtype: float64"
            ]
          },
          "metadata": {
            "tags": []
          },
          "execution_count": 55
        }
      ]
    },
    {
      "cell_type": "code",
      "metadata": {
        "id": "uh9ZF8Bkv8op",
        "colab_type": "code",
        "colab": {
          "base_uri": "https://localhost:8080/",
          "height": 204
        },
        "outputId": "ed629aa7-a2d2-40a2-f47f-2f7935ecf002"
      },
      "source": [
        "planets.head()"
      ],
      "execution_count": 56,
      "outputs": [
        {
          "output_type": "execute_result",
          "data": {
            "text/html": [
              "<div>\n",
              "<style scoped>\n",
              "    .dataframe tbody tr th:only-of-type {\n",
              "        vertical-align: middle;\n",
              "    }\n",
              "\n",
              "    .dataframe tbody tr th {\n",
              "        vertical-align: top;\n",
              "    }\n",
              "\n",
              "    .dataframe thead th {\n",
              "        text-align: right;\n",
              "    }\n",
              "</style>\n",
              "<table border=\"1\" class=\"dataframe\">\n",
              "  <thead>\n",
              "    <tr style=\"text-align: right;\">\n",
              "      <th></th>\n",
              "      <th>method</th>\n",
              "      <th>number</th>\n",
              "      <th>orbital_period</th>\n",
              "      <th>mass</th>\n",
              "      <th>distance</th>\n",
              "      <th>year</th>\n",
              "    </tr>\n",
              "  </thead>\n",
              "  <tbody>\n",
              "    <tr>\n",
              "      <th>0</th>\n",
              "      <td>Radial Velocity</td>\n",
              "      <td>1</td>\n",
              "      <td>269.300</td>\n",
              "      <td>7.10</td>\n",
              "      <td>77.40</td>\n",
              "      <td>2006</td>\n",
              "    </tr>\n",
              "    <tr>\n",
              "      <th>1</th>\n",
              "      <td>Radial Velocity</td>\n",
              "      <td>1</td>\n",
              "      <td>874.774</td>\n",
              "      <td>2.21</td>\n",
              "      <td>56.95</td>\n",
              "      <td>2008</td>\n",
              "    </tr>\n",
              "    <tr>\n",
              "      <th>2</th>\n",
              "      <td>Radial Velocity</td>\n",
              "      <td>1</td>\n",
              "      <td>763.000</td>\n",
              "      <td>2.60</td>\n",
              "      <td>19.84</td>\n",
              "      <td>2011</td>\n",
              "    </tr>\n",
              "    <tr>\n",
              "      <th>3</th>\n",
              "      <td>Radial Velocity</td>\n",
              "      <td>1</td>\n",
              "      <td>326.030</td>\n",
              "      <td>19.40</td>\n",
              "      <td>110.62</td>\n",
              "      <td>2007</td>\n",
              "    </tr>\n",
              "    <tr>\n",
              "      <th>4</th>\n",
              "      <td>Radial Velocity</td>\n",
              "      <td>1</td>\n",
              "      <td>516.220</td>\n",
              "      <td>10.50</td>\n",
              "      <td>119.47</td>\n",
              "      <td>2009</td>\n",
              "    </tr>\n",
              "  </tbody>\n",
              "</table>\n",
              "</div>"
            ],
            "text/plain": [
              "            method  number  orbital_period   mass  distance  year\n",
              "0  Radial Velocity       1         269.300   7.10     77.40  2006\n",
              "1  Radial Velocity       1         874.774   2.21     56.95  2008\n",
              "2  Radial Velocity       1         763.000   2.60     19.84  2011\n",
              "3  Radial Velocity       1         326.030  19.40    110.62  2007\n",
              "4  Radial Velocity       1         516.220  10.50    119.47  2009"
            ]
          },
          "metadata": {
            "tags": []
          },
          "execution_count": 56
        }
      ]
    },
    {
      "cell_type": "code",
      "metadata": {
        "id": "rLVv7jhrwWP6",
        "colab_type": "code",
        "colab": {
          "base_uri": "https://localhost:8080/",
          "height": 390
        },
        "outputId": "bf3a0c3d-14b6-46bb-bec6-bcd6430a9c2b"
      },
      "source": [
        "planets.groupby('method')['year'].describe()"
      ],
      "execution_count": 61,
      "outputs": [
        {
          "output_type": "execute_result",
          "data": {
            "text/html": [
              "<div>\n",
              "<style scoped>\n",
              "    .dataframe tbody tr th:only-of-type {\n",
              "        vertical-align: middle;\n",
              "    }\n",
              "\n",
              "    .dataframe tbody tr th {\n",
              "        vertical-align: top;\n",
              "    }\n",
              "\n",
              "    .dataframe thead th {\n",
              "        text-align: right;\n",
              "    }\n",
              "</style>\n",
              "<table border=\"1\" class=\"dataframe\">\n",
              "  <thead>\n",
              "    <tr style=\"text-align: right;\">\n",
              "      <th></th>\n",
              "      <th>count</th>\n",
              "      <th>mean</th>\n",
              "      <th>std</th>\n",
              "      <th>min</th>\n",
              "      <th>25%</th>\n",
              "      <th>50%</th>\n",
              "      <th>75%</th>\n",
              "      <th>max</th>\n",
              "    </tr>\n",
              "    <tr>\n",
              "      <th>method</th>\n",
              "      <th></th>\n",
              "      <th></th>\n",
              "      <th></th>\n",
              "      <th></th>\n",
              "      <th></th>\n",
              "      <th></th>\n",
              "      <th></th>\n",
              "      <th></th>\n",
              "    </tr>\n",
              "  </thead>\n",
              "  <tbody>\n",
              "    <tr>\n",
              "      <th>Astrometry</th>\n",
              "      <td>2.0</td>\n",
              "      <td>2011.500000</td>\n",
              "      <td>2.121320</td>\n",
              "      <td>2010.0</td>\n",
              "      <td>2010.75</td>\n",
              "      <td>2011.5</td>\n",
              "      <td>2012.25</td>\n",
              "      <td>2013.0</td>\n",
              "    </tr>\n",
              "    <tr>\n",
              "      <th>Eclipse Timing Variations</th>\n",
              "      <td>9.0</td>\n",
              "      <td>2010.000000</td>\n",
              "      <td>1.414214</td>\n",
              "      <td>2008.0</td>\n",
              "      <td>2009.00</td>\n",
              "      <td>2010.0</td>\n",
              "      <td>2011.00</td>\n",
              "      <td>2012.0</td>\n",
              "    </tr>\n",
              "    <tr>\n",
              "      <th>Imaging</th>\n",
              "      <td>38.0</td>\n",
              "      <td>2009.131579</td>\n",
              "      <td>2.781901</td>\n",
              "      <td>2004.0</td>\n",
              "      <td>2008.00</td>\n",
              "      <td>2009.0</td>\n",
              "      <td>2011.00</td>\n",
              "      <td>2013.0</td>\n",
              "    </tr>\n",
              "    <tr>\n",
              "      <th>Microlensing</th>\n",
              "      <td>23.0</td>\n",
              "      <td>2009.782609</td>\n",
              "      <td>2.859697</td>\n",
              "      <td>2004.0</td>\n",
              "      <td>2008.00</td>\n",
              "      <td>2010.0</td>\n",
              "      <td>2012.00</td>\n",
              "      <td>2013.0</td>\n",
              "    </tr>\n",
              "    <tr>\n",
              "      <th>Orbital Brightness Modulation</th>\n",
              "      <td>3.0</td>\n",
              "      <td>2011.666667</td>\n",
              "      <td>1.154701</td>\n",
              "      <td>2011.0</td>\n",
              "      <td>2011.00</td>\n",
              "      <td>2011.0</td>\n",
              "      <td>2012.00</td>\n",
              "      <td>2013.0</td>\n",
              "    </tr>\n",
              "    <tr>\n",
              "      <th>Pulsar Timing</th>\n",
              "      <td>5.0</td>\n",
              "      <td>1998.400000</td>\n",
              "      <td>8.384510</td>\n",
              "      <td>1992.0</td>\n",
              "      <td>1992.00</td>\n",
              "      <td>1994.0</td>\n",
              "      <td>2003.00</td>\n",
              "      <td>2011.0</td>\n",
              "    </tr>\n",
              "    <tr>\n",
              "      <th>Pulsation Timing Variations</th>\n",
              "      <td>1.0</td>\n",
              "      <td>2007.000000</td>\n",
              "      <td>NaN</td>\n",
              "      <td>2007.0</td>\n",
              "      <td>2007.00</td>\n",
              "      <td>2007.0</td>\n",
              "      <td>2007.00</td>\n",
              "      <td>2007.0</td>\n",
              "    </tr>\n",
              "    <tr>\n",
              "      <th>Radial Velocity</th>\n",
              "      <td>553.0</td>\n",
              "      <td>2007.518987</td>\n",
              "      <td>4.249052</td>\n",
              "      <td>1989.0</td>\n",
              "      <td>2005.00</td>\n",
              "      <td>2009.0</td>\n",
              "      <td>2011.00</td>\n",
              "      <td>2014.0</td>\n",
              "    </tr>\n",
              "    <tr>\n",
              "      <th>Transit</th>\n",
              "      <td>397.0</td>\n",
              "      <td>2011.236776</td>\n",
              "      <td>2.077867</td>\n",
              "      <td>2002.0</td>\n",
              "      <td>2010.00</td>\n",
              "      <td>2012.0</td>\n",
              "      <td>2013.00</td>\n",
              "      <td>2014.0</td>\n",
              "    </tr>\n",
              "    <tr>\n",
              "      <th>Transit Timing Variations</th>\n",
              "      <td>4.0</td>\n",
              "      <td>2012.500000</td>\n",
              "      <td>1.290994</td>\n",
              "      <td>2011.0</td>\n",
              "      <td>2011.75</td>\n",
              "      <td>2012.5</td>\n",
              "      <td>2013.25</td>\n",
              "      <td>2014.0</td>\n",
              "    </tr>\n",
              "  </tbody>\n",
              "</table>\n",
              "</div>"
            ],
            "text/plain": [
              "                               count         mean  ...      75%     max\n",
              "method                                             ...                 \n",
              "Astrometry                       2.0  2011.500000  ...  2012.25  2013.0\n",
              "Eclipse Timing Variations        9.0  2010.000000  ...  2011.00  2012.0\n",
              "Imaging                         38.0  2009.131579  ...  2011.00  2013.0\n",
              "Microlensing                    23.0  2009.782609  ...  2012.00  2013.0\n",
              "Orbital Brightness Modulation    3.0  2011.666667  ...  2012.00  2013.0\n",
              "Pulsar Timing                    5.0  1998.400000  ...  2003.00  2011.0\n",
              "Pulsation Timing Variations      1.0  2007.000000  ...  2007.00  2007.0\n",
              "Radial Velocity                553.0  2007.518987  ...  2011.00  2014.0\n",
              "Transit                        397.0  2011.236776  ...  2013.00  2014.0\n",
              "Transit Timing Variations        4.0  2012.500000  ...  2013.25  2014.0\n",
              "\n",
              "[10 rows x 8 columns]"
            ]
          },
          "metadata": {
            "tags": []
          },
          "execution_count": 61
        }
      ]
    },
    {
      "cell_type": "markdown",
      "metadata": {
        "id": "QkVO1PfOOZNy",
        "colab_type": "text"
      },
      "source": [
        "## Pivoting table "
      ]
    },
    {
      "cell_type": "code",
      "metadata": {
        "id": "yO4JKZRtOdra",
        "colab_type": "code",
        "colab": {}
      },
      "source": [
        "df_cons = {'names':['Ruslan', 'Ivan', 'Aibek', 'Asel', 'Wang', 'Wu'], \n",
        "            'origin':['Russia', 'Russia', 'Kyrgyzstan', 'Kyrgyzstan', 'China', 'China'],\n",
        "            'gender':['f', 'm', 'm', 'f', 'm', 'f'],\n",
        "            'protein': [120, 115, 130, 110, 120, 115],\n",
        "           'daily calories': [2400,2300, 2350 ,2000 ,2100, 2550]}"
      ],
      "execution_count": 5,
      "outputs": []
    },
    {
      "cell_type": "code",
      "metadata": {
        "id": "8IBMeGtMOk6J",
        "colab_type": "code",
        "colab": {}
      },
      "source": [
        "df_cons = pd.DataFrame(df_cons)"
      ],
      "execution_count": 6,
      "outputs": []
    },
    {
      "cell_type": "code",
      "metadata": {
        "id": "X9GmHBd3OoI7",
        "colab_type": "code",
        "colab": {
          "base_uri": "https://localhost:8080/",
          "height": 204
        },
        "outputId": "7e8fb249-c3d0-4ed4-a611-231b623de976"
      },
      "source": [
        "df_cons.head()"
      ],
      "execution_count": 7,
      "outputs": [
        {
          "output_type": "execute_result",
          "data": {
            "text/html": [
              "<div>\n",
              "<style scoped>\n",
              "    .dataframe tbody tr th:only-of-type {\n",
              "        vertical-align: middle;\n",
              "    }\n",
              "\n",
              "    .dataframe tbody tr th {\n",
              "        vertical-align: top;\n",
              "    }\n",
              "\n",
              "    .dataframe thead th {\n",
              "        text-align: right;\n",
              "    }\n",
              "</style>\n",
              "<table border=\"1\" class=\"dataframe\">\n",
              "  <thead>\n",
              "    <tr style=\"text-align: right;\">\n",
              "      <th></th>\n",
              "      <th>names</th>\n",
              "      <th>origin</th>\n",
              "      <th>sex</th>\n",
              "      <th>protein</th>\n",
              "      <th>daily calories</th>\n",
              "    </tr>\n",
              "  </thead>\n",
              "  <tbody>\n",
              "    <tr>\n",
              "      <th>0</th>\n",
              "      <td>Ruslan</td>\n",
              "      <td>Russia</td>\n",
              "      <td>f</td>\n",
              "      <td>120</td>\n",
              "      <td>2400</td>\n",
              "    </tr>\n",
              "    <tr>\n",
              "      <th>1</th>\n",
              "      <td>Ivan</td>\n",
              "      <td>Russia</td>\n",
              "      <td>m</td>\n",
              "      <td>115</td>\n",
              "      <td>2300</td>\n",
              "    </tr>\n",
              "    <tr>\n",
              "      <th>2</th>\n",
              "      <td>Aibek</td>\n",
              "      <td>Kyrgyzstan</td>\n",
              "      <td>m</td>\n",
              "      <td>130</td>\n",
              "      <td>2350</td>\n",
              "    </tr>\n",
              "    <tr>\n",
              "      <th>3</th>\n",
              "      <td>Asel</td>\n",
              "      <td>Kyrgyzstan</td>\n",
              "      <td>f</td>\n",
              "      <td>110</td>\n",
              "      <td>2000</td>\n",
              "    </tr>\n",
              "    <tr>\n",
              "      <th>4</th>\n",
              "      <td>Wang</td>\n",
              "      <td>China</td>\n",
              "      <td>m</td>\n",
              "      <td>120</td>\n",
              "      <td>2100</td>\n",
              "    </tr>\n",
              "  </tbody>\n",
              "</table>\n",
              "</div>"
            ],
            "text/plain": [
              "    names      origin sex  protein  daily calories\n",
              "0  Ruslan      Russia   f      120            2400\n",
              "1    Ivan      Russia   m      115            2300\n",
              "2   Aibek  Kyrgyzstan   m      130            2350\n",
              "3    Asel  Kyrgyzstan   f      110            2000\n",
              "4    Wang       China   m      120            2100"
            ]
          },
          "metadata": {
            "tags": []
          },
          "execution_count": 7
        }
      ]
    },
    {
      "cell_type": "code",
      "metadata": {
        "id": "MxCsD884OoR-",
        "colab_type": "code",
        "colab": {
          "base_uri": "https://localhost:8080/",
          "height": 204
        },
        "outputId": "c2f6f5e4-c1e1-499b-8ca3-646adef6b911"
      },
      "source": [
        "df_cons.pivot(index = 'origin', columns = 'sex', values = ['protein', 'daily calories'])"
      ],
      "execution_count": 12,
      "outputs": [
        {
          "output_type": "execute_result",
          "data": {
            "text/html": [
              "<div>\n",
              "<style scoped>\n",
              "    .dataframe tbody tr th:only-of-type {\n",
              "        vertical-align: middle;\n",
              "    }\n",
              "\n",
              "    .dataframe tbody tr th {\n",
              "        vertical-align: top;\n",
              "    }\n",
              "\n",
              "    .dataframe thead tr th {\n",
              "        text-align: left;\n",
              "    }\n",
              "\n",
              "    .dataframe thead tr:last-of-type th {\n",
              "        text-align: right;\n",
              "    }\n",
              "</style>\n",
              "<table border=\"1\" class=\"dataframe\">\n",
              "  <thead>\n",
              "    <tr>\n",
              "      <th></th>\n",
              "      <th colspan=\"2\" halign=\"left\">protein</th>\n",
              "      <th colspan=\"2\" halign=\"left\">daily calories</th>\n",
              "    </tr>\n",
              "    <tr>\n",
              "      <th>sex</th>\n",
              "      <th>f</th>\n",
              "      <th>m</th>\n",
              "      <th>f</th>\n",
              "      <th>m</th>\n",
              "    </tr>\n",
              "    <tr>\n",
              "      <th>origin</th>\n",
              "      <th></th>\n",
              "      <th></th>\n",
              "      <th></th>\n",
              "      <th></th>\n",
              "    </tr>\n",
              "  </thead>\n",
              "  <tbody>\n",
              "    <tr>\n",
              "      <th>China</th>\n",
              "      <td>115</td>\n",
              "      <td>120</td>\n",
              "      <td>2550</td>\n",
              "      <td>2100</td>\n",
              "    </tr>\n",
              "    <tr>\n",
              "      <th>Kyrgyzstan</th>\n",
              "      <td>110</td>\n",
              "      <td>130</td>\n",
              "      <td>2000</td>\n",
              "      <td>2350</td>\n",
              "    </tr>\n",
              "    <tr>\n",
              "      <th>Russia</th>\n",
              "      <td>120</td>\n",
              "      <td>115</td>\n",
              "      <td>2400</td>\n",
              "      <td>2300</td>\n",
              "    </tr>\n",
              "  </tbody>\n",
              "</table>\n",
              "</div>"
            ],
            "text/plain": [
              "           protein      daily calories      \n",
              "sex              f    m              f     m\n",
              "origin                                      \n",
              "China          115  120           2550  2100\n",
              "Kyrgyzstan     110  130           2000  2350\n",
              "Russia         120  115           2400  2300"
            ]
          },
          "metadata": {
            "tags": []
          },
          "execution_count": 12
        }
      ]
    },
    {
      "cell_type": "code",
      "metadata": {
        "id": "7fDTPuQhaVBJ",
        "colab_type": "code",
        "colab": {}
      },
      "source": [
        "data_url = 'http://bit.ly/2cLzoxH'\n",
        "gapminder = pd.read_csv(data_url)"
      ],
      "execution_count": 20,
      "outputs": []
    },
    {
      "cell_type": "code",
      "metadata": {
        "id": "aKO5LT9aaXXF",
        "colab_type": "code",
        "colab": {
          "base_uri": "https://localhost:8080/",
          "height": 359
        },
        "outputId": "cf64aceb-5f87-421a-f51a-d4f43103885e"
      },
      "source": [
        "gapminder.head(10)"
      ],
      "execution_count": 14,
      "outputs": [
        {
          "output_type": "execute_result",
          "data": {
            "text/html": [
              "<div>\n",
              "<style scoped>\n",
              "    .dataframe tbody tr th:only-of-type {\n",
              "        vertical-align: middle;\n",
              "    }\n",
              "\n",
              "    .dataframe tbody tr th {\n",
              "        vertical-align: top;\n",
              "    }\n",
              "\n",
              "    .dataframe thead th {\n",
              "        text-align: right;\n",
              "    }\n",
              "</style>\n",
              "<table border=\"1\" class=\"dataframe\">\n",
              "  <thead>\n",
              "    <tr style=\"text-align: right;\">\n",
              "      <th></th>\n",
              "      <th>country</th>\n",
              "      <th>year</th>\n",
              "      <th>pop</th>\n",
              "      <th>continent</th>\n",
              "      <th>lifeExp</th>\n",
              "      <th>gdpPercap</th>\n",
              "    </tr>\n",
              "  </thead>\n",
              "  <tbody>\n",
              "    <tr>\n",
              "      <th>0</th>\n",
              "      <td>Afghanistan</td>\n",
              "      <td>1952</td>\n",
              "      <td>8425333.0</td>\n",
              "      <td>Asia</td>\n",
              "      <td>28.801</td>\n",
              "      <td>779.445314</td>\n",
              "    </tr>\n",
              "    <tr>\n",
              "      <th>1</th>\n",
              "      <td>Afghanistan</td>\n",
              "      <td>1957</td>\n",
              "      <td>9240934.0</td>\n",
              "      <td>Asia</td>\n",
              "      <td>30.332</td>\n",
              "      <td>820.853030</td>\n",
              "    </tr>\n",
              "    <tr>\n",
              "      <th>2</th>\n",
              "      <td>Afghanistan</td>\n",
              "      <td>1962</td>\n",
              "      <td>10267083.0</td>\n",
              "      <td>Asia</td>\n",
              "      <td>31.997</td>\n",
              "      <td>853.100710</td>\n",
              "    </tr>\n",
              "    <tr>\n",
              "      <th>3</th>\n",
              "      <td>Afghanistan</td>\n",
              "      <td>1967</td>\n",
              "      <td>11537966.0</td>\n",
              "      <td>Asia</td>\n",
              "      <td>34.020</td>\n",
              "      <td>836.197138</td>\n",
              "    </tr>\n",
              "    <tr>\n",
              "      <th>4</th>\n",
              "      <td>Afghanistan</td>\n",
              "      <td>1972</td>\n",
              "      <td>13079460.0</td>\n",
              "      <td>Asia</td>\n",
              "      <td>36.088</td>\n",
              "      <td>739.981106</td>\n",
              "    </tr>\n",
              "    <tr>\n",
              "      <th>5</th>\n",
              "      <td>Afghanistan</td>\n",
              "      <td>1977</td>\n",
              "      <td>14880372.0</td>\n",
              "      <td>Asia</td>\n",
              "      <td>38.438</td>\n",
              "      <td>786.113360</td>\n",
              "    </tr>\n",
              "    <tr>\n",
              "      <th>6</th>\n",
              "      <td>Afghanistan</td>\n",
              "      <td>1982</td>\n",
              "      <td>12881816.0</td>\n",
              "      <td>Asia</td>\n",
              "      <td>39.854</td>\n",
              "      <td>978.011439</td>\n",
              "    </tr>\n",
              "    <tr>\n",
              "      <th>7</th>\n",
              "      <td>Afghanistan</td>\n",
              "      <td>1987</td>\n",
              "      <td>13867957.0</td>\n",
              "      <td>Asia</td>\n",
              "      <td>40.822</td>\n",
              "      <td>852.395945</td>\n",
              "    </tr>\n",
              "    <tr>\n",
              "      <th>8</th>\n",
              "      <td>Afghanistan</td>\n",
              "      <td>1992</td>\n",
              "      <td>16317921.0</td>\n",
              "      <td>Asia</td>\n",
              "      <td>41.674</td>\n",
              "      <td>649.341395</td>\n",
              "    </tr>\n",
              "    <tr>\n",
              "      <th>9</th>\n",
              "      <td>Afghanistan</td>\n",
              "      <td>1997</td>\n",
              "      <td>22227415.0</td>\n",
              "      <td>Asia</td>\n",
              "      <td>41.763</td>\n",
              "      <td>635.341351</td>\n",
              "    </tr>\n",
              "  </tbody>\n",
              "</table>\n",
              "</div>"
            ],
            "text/plain": [
              "       country  year         pop continent  lifeExp   gdpPercap\n",
              "0  Afghanistan  1952   8425333.0      Asia   28.801  779.445314\n",
              "1  Afghanistan  1957   9240934.0      Asia   30.332  820.853030\n",
              "2  Afghanistan  1962  10267083.0      Asia   31.997  853.100710\n",
              "3  Afghanistan  1967  11537966.0      Asia   34.020  836.197138\n",
              "4  Afghanistan  1972  13079460.0      Asia   36.088  739.981106\n",
              "5  Afghanistan  1977  14880372.0      Asia   38.438  786.113360\n",
              "6  Afghanistan  1982  12881816.0      Asia   39.854  978.011439\n",
              "7  Afghanistan  1987  13867957.0      Asia   40.822  852.395945\n",
              "8  Afghanistan  1992  16317921.0      Asia   41.674  649.341395\n",
              "9  Afghanistan  1997  22227415.0      Asia   41.763  635.341351"
            ]
          },
          "metadata": {
            "tags": []
          },
          "execution_count": 14
        }
      ]
    },
    {
      "cell_type": "code",
      "metadata": {
        "id": "PAq7gkQ9aaJ5",
        "colab_type": "code",
        "colab": {
          "base_uri": "https://localhost:8080/",
          "height": 180
        },
        "outputId": "3e01c025-c4c0-490e-c6c4-74388e2b9117"
      },
      "source": [
        "df = gapminder[['lifeExp','country']]\n",
        "pd.pivot_table(df, values='lifeExp', columns='country', aggfunc = 'mean')"
      ],
      "execution_count": 21,
      "outputs": [
        {
          "output_type": "execute_result",
          "data": {
            "text/html": [
              "<div>\n",
              "<style scoped>\n",
              "    .dataframe tbody tr th:only-of-type {\n",
              "        vertical-align: middle;\n",
              "    }\n",
              "\n",
              "    .dataframe tbody tr th {\n",
              "        vertical-align: top;\n",
              "    }\n",
              "\n",
              "    .dataframe thead th {\n",
              "        text-align: right;\n",
              "    }\n",
              "</style>\n",
              "<table border=\"1\" class=\"dataframe\">\n",
              "  <thead>\n",
              "    <tr style=\"text-align: right;\">\n",
              "      <th>country</th>\n",
              "      <th>Afghanistan</th>\n",
              "      <th>Albania</th>\n",
              "      <th>Algeria</th>\n",
              "      <th>Angola</th>\n",
              "      <th>Argentina</th>\n",
              "      <th>Australia</th>\n",
              "      <th>Austria</th>\n",
              "      <th>Bahrain</th>\n",
              "      <th>Bangladesh</th>\n",
              "      <th>Belgium</th>\n",
              "      <th>Benin</th>\n",
              "      <th>Bolivia</th>\n",
              "      <th>Bosnia and Herzegovina</th>\n",
              "      <th>Botswana</th>\n",
              "      <th>Brazil</th>\n",
              "      <th>Bulgaria</th>\n",
              "      <th>Burkina Faso</th>\n",
              "      <th>Burundi</th>\n",
              "      <th>Cambodia</th>\n",
              "      <th>Cameroon</th>\n",
              "      <th>Canada</th>\n",
              "      <th>Central African Republic</th>\n",
              "      <th>Chad</th>\n",
              "      <th>Chile</th>\n",
              "      <th>China</th>\n",
              "      <th>Colombia</th>\n",
              "      <th>Comoros</th>\n",
              "      <th>Congo Dem. Rep.</th>\n",
              "      <th>Congo Rep.</th>\n",
              "      <th>Costa Rica</th>\n",
              "      <th>Cote d'Ivoire</th>\n",
              "      <th>Croatia</th>\n",
              "      <th>Cuba</th>\n",
              "      <th>Czech Republic</th>\n",
              "      <th>Denmark</th>\n",
              "      <th>Djibouti</th>\n",
              "      <th>Dominican Republic</th>\n",
              "      <th>Ecuador</th>\n",
              "      <th>Egypt</th>\n",
              "      <th>El Salvador</th>\n",
              "      <th>...</th>\n",
              "      <th>Poland</th>\n",
              "      <th>Portugal</th>\n",
              "      <th>Puerto Rico</th>\n",
              "      <th>Reunion</th>\n",
              "      <th>Romania</th>\n",
              "      <th>Rwanda</th>\n",
              "      <th>Sao Tome and Principe</th>\n",
              "      <th>Saudi Arabia</th>\n",
              "      <th>Senegal</th>\n",
              "      <th>Serbia</th>\n",
              "      <th>Sierra Leone</th>\n",
              "      <th>Singapore</th>\n",
              "      <th>Slovak Republic</th>\n",
              "      <th>Slovenia</th>\n",
              "      <th>Somalia</th>\n",
              "      <th>South Africa</th>\n",
              "      <th>Spain</th>\n",
              "      <th>Sri Lanka</th>\n",
              "      <th>Sudan</th>\n",
              "      <th>Swaziland</th>\n",
              "      <th>Sweden</th>\n",
              "      <th>Switzerland</th>\n",
              "      <th>Syria</th>\n",
              "      <th>Taiwan</th>\n",
              "      <th>Tanzania</th>\n",
              "      <th>Thailand</th>\n",
              "      <th>Togo</th>\n",
              "      <th>Trinidad and Tobago</th>\n",
              "      <th>Tunisia</th>\n",
              "      <th>Turkey</th>\n",
              "      <th>Uganda</th>\n",
              "      <th>United Kingdom</th>\n",
              "      <th>United States</th>\n",
              "      <th>Uruguay</th>\n",
              "      <th>Venezuela</th>\n",
              "      <th>Vietnam</th>\n",
              "      <th>West Bank and Gaza</th>\n",
              "      <th>Yemen Rep.</th>\n",
              "      <th>Zambia</th>\n",
              "      <th>Zimbabwe</th>\n",
              "    </tr>\n",
              "  </thead>\n",
              "  <tbody>\n",
              "    <tr>\n",
              "      <th>lifeExp</th>\n",
              "      <td>37.478833</td>\n",
              "      <td>68.432917</td>\n",
              "      <td>59.030167</td>\n",
              "      <td>37.8835</td>\n",
              "      <td>69.060417</td>\n",
              "      <td>74.662917</td>\n",
              "      <td>73.10325</td>\n",
              "      <td>65.605667</td>\n",
              "      <td>49.834083</td>\n",
              "      <td>73.64175</td>\n",
              "      <td>48.779917</td>\n",
              "      <td>52.504583</td>\n",
              "      <td>67.707833</td>\n",
              "      <td>54.5975</td>\n",
              "      <td>62.2395</td>\n",
              "      <td>69.74375</td>\n",
              "      <td>44.694</td>\n",
              "      <td>44.817333</td>\n",
              "      <td>47.90275</td>\n",
              "      <td>48.1285</td>\n",
              "      <td>74.90275</td>\n",
              "      <td>43.866917</td>\n",
              "      <td>46.773583</td>\n",
              "      <td>67.430917</td>\n",
              "      <td>61.78514</td>\n",
              "      <td>63.89775</td>\n",
              "      <td>52.38175</td>\n",
              "      <td>44.54375</td>\n",
              "      <td>52.501917</td>\n",
              "      <td>70.181417</td>\n",
              "      <td>48.436167</td>\n",
              "      <td>70.055917</td>\n",
              "      <td>71.045083</td>\n",
              "      <td>71.5105</td>\n",
              "      <td>74.370167</td>\n",
              "      <td>46.38075</td>\n",
              "      <td>61.5545</td>\n",
              "      <td>62.816833</td>\n",
              "      <td>56.243</td>\n",
              "      <td>59.633333</td>\n",
              "      <td>...</td>\n",
              "      <td>70.176917</td>\n",
              "      <td>70.419833</td>\n",
              "      <td>72.739333</td>\n",
              "      <td>66.64425</td>\n",
              "      <td>68.290667</td>\n",
              "      <td>41.481583</td>\n",
              "      <td>57.896333</td>\n",
              "      <td>58.67875</td>\n",
              "      <td>50.625917</td>\n",
              "      <td>68.551</td>\n",
              "      <td>36.769167</td>\n",
              "      <td>71.22025</td>\n",
              "      <td>70.696083</td>\n",
              "      <td>71.60075</td>\n",
              "      <td>40.988667</td>\n",
              "      <td>53.993167</td>\n",
              "      <td>74.203417</td>\n",
              "      <td>66.526083</td>\n",
              "      <td>48.4005</td>\n",
              "      <td>49.002417</td>\n",
              "      <td>76.177</td>\n",
              "      <td>75.565083</td>\n",
              "      <td>61.346167</td>\n",
              "      <td>70.336667</td>\n",
              "      <td>47.912333</td>\n",
              "      <td>62.20025</td>\n",
              "      <td>51.49875</td>\n",
              "      <td>66.828</td>\n",
              "      <td>60.721</td>\n",
              "      <td>59.696417</td>\n",
              "      <td>47.618833</td>\n",
              "      <td>73.922583</td>\n",
              "      <td>73.4785</td>\n",
              "      <td>70.781583</td>\n",
              "      <td>66.580667</td>\n",
              "      <td>57.4795</td>\n",
              "      <td>60.328667</td>\n",
              "      <td>46.780417</td>\n",
              "      <td>45.996333</td>\n",
              "      <td>52.663167</td>\n",
              "    </tr>\n",
              "  </tbody>\n",
              "</table>\n",
              "<p>1 rows × 142 columns</p>\n",
              "</div>"
            ],
            "text/plain": [
              "country  Afghanistan    Albania    Algeria  ...  Yemen Rep.     Zambia   Zimbabwe\n",
              "lifeExp    37.478833  68.432917  59.030167  ...   46.780417  45.996333  52.663167\n",
              "\n",
              "[1 rows x 142 columns]"
            ]
          },
          "metadata": {
            "tags": []
          },
          "execution_count": 21
        }
      ]
    },
    {
      "cell_type": "code",
      "metadata": {
        "id": "LF9F7jUuaaiI",
        "colab_type": "code",
        "colab": {
          "base_uri": "https://localhost:8080/",
          "height": 452
        },
        "outputId": "501e57dc-c2f1-4a83-e258-f4a3daff826f"
      },
      "source": [
        "df1 = gapminder[['lifeExp', 'year', 'continent']]\n",
        "pd.pivot_table(df1, index ='year',values = 'lifeExp', columns = 'continent')"
      ],
      "execution_count": 22,
      "outputs": [
        {
          "output_type": "execute_result",
          "data": {
            "text/html": [
              "<div>\n",
              "<style scoped>\n",
              "    .dataframe tbody tr th:only-of-type {\n",
              "        vertical-align: middle;\n",
              "    }\n",
              "\n",
              "    .dataframe tbody tr th {\n",
              "        vertical-align: top;\n",
              "    }\n",
              "\n",
              "    .dataframe thead th {\n",
              "        text-align: right;\n",
              "    }\n",
              "</style>\n",
              "<table border=\"1\" class=\"dataframe\">\n",
              "  <thead>\n",
              "    <tr style=\"text-align: right;\">\n",
              "      <th>continent</th>\n",
              "      <th>Africa</th>\n",
              "      <th>Americas</th>\n",
              "      <th>Asia</th>\n",
              "      <th>Europe</th>\n",
              "      <th>Oceania</th>\n",
              "    </tr>\n",
              "    <tr>\n",
              "      <th>year</th>\n",
              "      <th></th>\n",
              "      <th></th>\n",
              "      <th></th>\n",
              "      <th></th>\n",
              "      <th></th>\n",
              "    </tr>\n",
              "  </thead>\n",
              "  <tbody>\n",
              "    <tr>\n",
              "      <th>1952</th>\n",
              "      <td>39.135500</td>\n",
              "      <td>53.27984</td>\n",
              "      <td>46.314394</td>\n",
              "      <td>64.408500</td>\n",
              "      <td>69.2550</td>\n",
              "    </tr>\n",
              "    <tr>\n",
              "      <th>1957</th>\n",
              "      <td>41.266346</td>\n",
              "      <td>55.96028</td>\n",
              "      <td>49.318544</td>\n",
              "      <td>66.703067</td>\n",
              "      <td>70.2950</td>\n",
              "    </tr>\n",
              "    <tr>\n",
              "      <th>1962</th>\n",
              "      <td>43.319442</td>\n",
              "      <td>58.39876</td>\n",
              "      <td>51.563223</td>\n",
              "      <td>68.539233</td>\n",
              "      <td>71.0850</td>\n",
              "    </tr>\n",
              "    <tr>\n",
              "      <th>1967</th>\n",
              "      <td>45.334538</td>\n",
              "      <td>60.41092</td>\n",
              "      <td>54.663640</td>\n",
              "      <td>69.737600</td>\n",
              "      <td>71.3100</td>\n",
              "    </tr>\n",
              "    <tr>\n",
              "      <th>1972</th>\n",
              "      <td>47.450942</td>\n",
              "      <td>62.39492</td>\n",
              "      <td>57.319269</td>\n",
              "      <td>70.775033</td>\n",
              "      <td>71.9100</td>\n",
              "    </tr>\n",
              "    <tr>\n",
              "      <th>1977</th>\n",
              "      <td>49.580423</td>\n",
              "      <td>64.39156</td>\n",
              "      <td>59.610556</td>\n",
              "      <td>71.937767</td>\n",
              "      <td>72.8550</td>\n",
              "    </tr>\n",
              "    <tr>\n",
              "      <th>1982</th>\n",
              "      <td>51.592865</td>\n",
              "      <td>66.22884</td>\n",
              "      <td>62.617939</td>\n",
              "      <td>72.806400</td>\n",
              "      <td>74.2900</td>\n",
              "    </tr>\n",
              "    <tr>\n",
              "      <th>1987</th>\n",
              "      <td>53.344788</td>\n",
              "      <td>68.09072</td>\n",
              "      <td>64.851182</td>\n",
              "      <td>73.642167</td>\n",
              "      <td>75.3200</td>\n",
              "    </tr>\n",
              "    <tr>\n",
              "      <th>1992</th>\n",
              "      <td>53.629577</td>\n",
              "      <td>69.56836</td>\n",
              "      <td>66.537212</td>\n",
              "      <td>74.440100</td>\n",
              "      <td>76.9450</td>\n",
              "    </tr>\n",
              "    <tr>\n",
              "      <th>1997</th>\n",
              "      <td>53.598269</td>\n",
              "      <td>71.15048</td>\n",
              "      <td>68.020515</td>\n",
              "      <td>75.505167</td>\n",
              "      <td>78.1900</td>\n",
              "    </tr>\n",
              "    <tr>\n",
              "      <th>2002</th>\n",
              "      <td>53.325231</td>\n",
              "      <td>72.42204</td>\n",
              "      <td>69.233879</td>\n",
              "      <td>76.700600</td>\n",
              "      <td>79.7400</td>\n",
              "    </tr>\n",
              "    <tr>\n",
              "      <th>2007</th>\n",
              "      <td>54.806038</td>\n",
              "      <td>73.60812</td>\n",
              "      <td>70.728485</td>\n",
              "      <td>77.648600</td>\n",
              "      <td>80.7195</td>\n",
              "    </tr>\n",
              "  </tbody>\n",
              "</table>\n",
              "</div>"
            ],
            "text/plain": [
              "continent     Africa  Americas       Asia     Europe  Oceania\n",
              "year                                                         \n",
              "1952       39.135500  53.27984  46.314394  64.408500  69.2550\n",
              "1957       41.266346  55.96028  49.318544  66.703067  70.2950\n",
              "1962       43.319442  58.39876  51.563223  68.539233  71.0850\n",
              "1967       45.334538  60.41092  54.663640  69.737600  71.3100\n",
              "1972       47.450942  62.39492  57.319269  70.775033  71.9100\n",
              "1977       49.580423  64.39156  59.610556  71.937767  72.8550\n",
              "1982       51.592865  66.22884  62.617939  72.806400  74.2900\n",
              "1987       53.344788  68.09072  64.851182  73.642167  75.3200\n",
              "1992       53.629577  69.56836  66.537212  74.440100  76.9450\n",
              "1997       53.598269  71.15048  68.020515  75.505167  78.1900\n",
              "2002       53.325231  72.42204  69.233879  76.700600  79.7400\n",
              "2007       54.806038  73.60812  70.728485  77.648600  80.7195"
            ]
          },
          "metadata": {
            "tags": []
          },
          "execution_count": 22
        }
      ]
    },
    {
      "cell_type": "code",
      "metadata": {
        "id": "qY7j0lMPcWrZ",
        "colab_type": "code",
        "colab": {
          "base_uri": "https://localhost:8080/",
          "height": 483
        },
        "outputId": "8752b73a-17bb-48c2-dab3-3ab4f2276210"
      },
      "source": [
        "df1 = gapminder[['lifeExp', 'year', 'continent']]\n",
        "pd.pivot_table(df1, index ='year',values = 'lifeExp', columns = 'continent', aggfunc =[min, max])"
      ],
      "execution_count": 25,
      "outputs": [
        {
          "output_type": "execute_result",
          "data": {
            "text/html": [
              "<div>\n",
              "<style scoped>\n",
              "    .dataframe tbody tr th:only-of-type {\n",
              "        vertical-align: middle;\n",
              "    }\n",
              "\n",
              "    .dataframe tbody tr th {\n",
              "        vertical-align: top;\n",
              "    }\n",
              "\n",
              "    .dataframe thead tr th {\n",
              "        text-align: left;\n",
              "    }\n",
              "\n",
              "    .dataframe thead tr:last-of-type th {\n",
              "        text-align: right;\n",
              "    }\n",
              "</style>\n",
              "<table border=\"1\" class=\"dataframe\">\n",
              "  <thead>\n",
              "    <tr>\n",
              "      <th></th>\n",
              "      <th colspan=\"5\" halign=\"left\">min</th>\n",
              "      <th colspan=\"5\" halign=\"left\">max</th>\n",
              "    </tr>\n",
              "    <tr>\n",
              "      <th>continent</th>\n",
              "      <th>Africa</th>\n",
              "      <th>Americas</th>\n",
              "      <th>Asia</th>\n",
              "      <th>Europe</th>\n",
              "      <th>Oceania</th>\n",
              "      <th>Africa</th>\n",
              "      <th>Americas</th>\n",
              "      <th>Asia</th>\n",
              "      <th>Europe</th>\n",
              "      <th>Oceania</th>\n",
              "    </tr>\n",
              "    <tr>\n",
              "      <th>year</th>\n",
              "      <th></th>\n",
              "      <th></th>\n",
              "      <th></th>\n",
              "      <th></th>\n",
              "      <th></th>\n",
              "      <th></th>\n",
              "      <th></th>\n",
              "      <th></th>\n",
              "      <th></th>\n",
              "      <th></th>\n",
              "    </tr>\n",
              "  </thead>\n",
              "  <tbody>\n",
              "    <tr>\n",
              "      <th>1952</th>\n",
              "      <td>30.000</td>\n",
              "      <td>37.579</td>\n",
              "      <td>28.801</td>\n",
              "      <td>43.585</td>\n",
              "      <td>69.120</td>\n",
              "      <td>52.724</td>\n",
              "      <td>68.750</td>\n",
              "      <td>65.390</td>\n",
              "      <td>72.670</td>\n",
              "      <td>69.390</td>\n",
              "    </tr>\n",
              "    <tr>\n",
              "      <th>1957</th>\n",
              "      <td>31.570</td>\n",
              "      <td>40.696</td>\n",
              "      <td>30.332</td>\n",
              "      <td>48.079</td>\n",
              "      <td>70.260</td>\n",
              "      <td>58.089</td>\n",
              "      <td>69.960</td>\n",
              "      <td>67.840</td>\n",
              "      <td>73.470</td>\n",
              "      <td>70.330</td>\n",
              "    </tr>\n",
              "    <tr>\n",
              "      <th>1962</th>\n",
              "      <td>32.767</td>\n",
              "      <td>43.428</td>\n",
              "      <td>31.997</td>\n",
              "      <td>52.098</td>\n",
              "      <td>70.930</td>\n",
              "      <td>60.246</td>\n",
              "      <td>71.300</td>\n",
              "      <td>69.390</td>\n",
              "      <td>73.680</td>\n",
              "      <td>71.240</td>\n",
              "    </tr>\n",
              "    <tr>\n",
              "      <th>1967</th>\n",
              "      <td>34.113</td>\n",
              "      <td>45.032</td>\n",
              "      <td>34.020</td>\n",
              "      <td>54.336</td>\n",
              "      <td>71.100</td>\n",
              "      <td>61.557</td>\n",
              "      <td>72.130</td>\n",
              "      <td>71.430</td>\n",
              "      <td>74.160</td>\n",
              "      <td>71.520</td>\n",
              "    </tr>\n",
              "    <tr>\n",
              "      <th>1972</th>\n",
              "      <td>35.400</td>\n",
              "      <td>46.714</td>\n",
              "      <td>36.088</td>\n",
              "      <td>57.005</td>\n",
              "      <td>71.890</td>\n",
              "      <td>64.274</td>\n",
              "      <td>72.880</td>\n",
              "      <td>73.420</td>\n",
              "      <td>74.720</td>\n",
              "      <td>71.930</td>\n",
              "    </tr>\n",
              "    <tr>\n",
              "      <th>1977</th>\n",
              "      <td>36.788</td>\n",
              "      <td>49.923</td>\n",
              "      <td>31.220</td>\n",
              "      <td>59.507</td>\n",
              "      <td>72.220</td>\n",
              "      <td>67.064</td>\n",
              "      <td>74.210</td>\n",
              "      <td>75.380</td>\n",
              "      <td>76.110</td>\n",
              "      <td>73.490</td>\n",
              "    </tr>\n",
              "    <tr>\n",
              "      <th>1982</th>\n",
              "      <td>38.445</td>\n",
              "      <td>51.461</td>\n",
              "      <td>39.854</td>\n",
              "      <td>61.036</td>\n",
              "      <td>73.840</td>\n",
              "      <td>69.885</td>\n",
              "      <td>75.760</td>\n",
              "      <td>77.110</td>\n",
              "      <td>76.990</td>\n",
              "      <td>74.740</td>\n",
              "    </tr>\n",
              "    <tr>\n",
              "      <th>1987</th>\n",
              "      <td>39.906</td>\n",
              "      <td>53.636</td>\n",
              "      <td>40.822</td>\n",
              "      <td>63.108</td>\n",
              "      <td>74.320</td>\n",
              "      <td>71.913</td>\n",
              "      <td>76.860</td>\n",
              "      <td>78.670</td>\n",
              "      <td>77.410</td>\n",
              "      <td>76.320</td>\n",
              "    </tr>\n",
              "    <tr>\n",
              "      <th>1992</th>\n",
              "      <td>23.599</td>\n",
              "      <td>55.089</td>\n",
              "      <td>41.674</td>\n",
              "      <td>66.146</td>\n",
              "      <td>76.330</td>\n",
              "      <td>73.615</td>\n",
              "      <td>77.950</td>\n",
              "      <td>79.360</td>\n",
              "      <td>78.770</td>\n",
              "      <td>77.560</td>\n",
              "    </tr>\n",
              "    <tr>\n",
              "      <th>1997</th>\n",
              "      <td>36.087</td>\n",
              "      <td>56.671</td>\n",
              "      <td>41.763</td>\n",
              "      <td>68.835</td>\n",
              "      <td>77.550</td>\n",
              "      <td>74.772</td>\n",
              "      <td>78.610</td>\n",
              "      <td>80.690</td>\n",
              "      <td>79.390</td>\n",
              "      <td>78.830</td>\n",
              "    </tr>\n",
              "    <tr>\n",
              "      <th>2002</th>\n",
              "      <td>39.193</td>\n",
              "      <td>58.137</td>\n",
              "      <td>42.129</td>\n",
              "      <td>70.845</td>\n",
              "      <td>79.110</td>\n",
              "      <td>75.744</td>\n",
              "      <td>79.770</td>\n",
              "      <td>82.000</td>\n",
              "      <td>80.620</td>\n",
              "      <td>80.370</td>\n",
              "    </tr>\n",
              "    <tr>\n",
              "      <th>2007</th>\n",
              "      <td>39.613</td>\n",
              "      <td>60.916</td>\n",
              "      <td>43.828</td>\n",
              "      <td>71.777</td>\n",
              "      <td>80.204</td>\n",
              "      <td>76.442</td>\n",
              "      <td>80.653</td>\n",
              "      <td>82.603</td>\n",
              "      <td>81.757</td>\n",
              "      <td>81.235</td>\n",
              "    </tr>\n",
              "  </tbody>\n",
              "</table>\n",
              "</div>"
            ],
            "text/plain": [
              "              min                           ...      max                        \n",
              "continent  Africa Americas    Asia  Europe  ... Americas    Asia  Europe Oceania\n",
              "year                                        ...                                 \n",
              "1952       30.000   37.579  28.801  43.585  ...   68.750  65.390  72.670  69.390\n",
              "1957       31.570   40.696  30.332  48.079  ...   69.960  67.840  73.470  70.330\n",
              "1962       32.767   43.428  31.997  52.098  ...   71.300  69.390  73.680  71.240\n",
              "1967       34.113   45.032  34.020  54.336  ...   72.130  71.430  74.160  71.520\n",
              "1972       35.400   46.714  36.088  57.005  ...   72.880  73.420  74.720  71.930\n",
              "1977       36.788   49.923  31.220  59.507  ...   74.210  75.380  76.110  73.490\n",
              "1982       38.445   51.461  39.854  61.036  ...   75.760  77.110  76.990  74.740\n",
              "1987       39.906   53.636  40.822  63.108  ...   76.860  78.670  77.410  76.320\n",
              "1992       23.599   55.089  41.674  66.146  ...   77.950  79.360  78.770  77.560\n",
              "1997       36.087   56.671  41.763  68.835  ...   78.610  80.690  79.390  78.830\n",
              "2002       39.193   58.137  42.129  70.845  ...   79.770  82.000  80.620  80.370\n",
              "2007       39.613   60.916  43.828  71.777  ...   80.653  82.603  81.757  81.235\n",
              "\n",
              "[12 rows x 10 columns]"
            ]
          },
          "metadata": {
            "tags": []
          },
          "execution_count": 25
        }
      ]
    },
    {
      "cell_type": "markdown",
      "metadata": {
        "id": "s4-pQefufVYX",
        "colab_type": "text"
      },
      "source": [
        "## <font color = \"blue\"> Titanic Data Set </font>"
      ]
    },
    {
      "cell_type": "code",
      "metadata": {
        "id": "lzJ_OQeeaa99",
        "colab_type": "code",
        "colab": {
          "base_uri": "https://localhost:8080/",
          "height": 71
        },
        "outputId": "e8191a66-d568-461c-c890-d6e5820a4bf9"
      },
      "source": [
        "import seaborn as sns\n",
        "titanic = sns.load_dataset('titanic')"
      ],
      "execution_count": 26,
      "outputs": [
        {
          "output_type": "stream",
          "text": [
            "/usr/local/lib/python3.6/dist-packages/statsmodels/tools/_testing.py:19: FutureWarning: pandas.util.testing is deprecated. Use the functions in the public API at pandas.testing instead.\n",
            "  import pandas.util.testing as tm\n"
          ],
          "name": "stderr"
        }
      ]
    },
    {
      "cell_type": "code",
      "metadata": {
        "id": "k5WyS8pcaaGm",
        "colab_type": "code",
        "colab": {
          "base_uri": "https://localhost:8080/",
          "height": 204
        },
        "outputId": "e6e303bd-2227-4cb0-8465-3e78b300db5f"
      },
      "source": [
        "titanic.head()"
      ],
      "execution_count": 27,
      "outputs": [
        {
          "output_type": "execute_result",
          "data": {
            "text/html": [
              "<div>\n",
              "<style scoped>\n",
              "    .dataframe tbody tr th:only-of-type {\n",
              "        vertical-align: middle;\n",
              "    }\n",
              "\n",
              "    .dataframe tbody tr th {\n",
              "        vertical-align: top;\n",
              "    }\n",
              "\n",
              "    .dataframe thead th {\n",
              "        text-align: right;\n",
              "    }\n",
              "</style>\n",
              "<table border=\"1\" class=\"dataframe\">\n",
              "  <thead>\n",
              "    <tr style=\"text-align: right;\">\n",
              "      <th></th>\n",
              "      <th>survived</th>\n",
              "      <th>pclass</th>\n",
              "      <th>sex</th>\n",
              "      <th>age</th>\n",
              "      <th>sibsp</th>\n",
              "      <th>parch</th>\n",
              "      <th>fare</th>\n",
              "      <th>embarked</th>\n",
              "      <th>class</th>\n",
              "      <th>who</th>\n",
              "      <th>adult_male</th>\n",
              "      <th>deck</th>\n",
              "      <th>embark_town</th>\n",
              "      <th>alive</th>\n",
              "      <th>alone</th>\n",
              "    </tr>\n",
              "  </thead>\n",
              "  <tbody>\n",
              "    <tr>\n",
              "      <th>0</th>\n",
              "      <td>0</td>\n",
              "      <td>3</td>\n",
              "      <td>male</td>\n",
              "      <td>22.0</td>\n",
              "      <td>1</td>\n",
              "      <td>0</td>\n",
              "      <td>7.2500</td>\n",
              "      <td>S</td>\n",
              "      <td>Third</td>\n",
              "      <td>man</td>\n",
              "      <td>True</td>\n",
              "      <td>NaN</td>\n",
              "      <td>Southampton</td>\n",
              "      <td>no</td>\n",
              "      <td>False</td>\n",
              "    </tr>\n",
              "    <tr>\n",
              "      <th>1</th>\n",
              "      <td>1</td>\n",
              "      <td>1</td>\n",
              "      <td>female</td>\n",
              "      <td>38.0</td>\n",
              "      <td>1</td>\n",
              "      <td>0</td>\n",
              "      <td>71.2833</td>\n",
              "      <td>C</td>\n",
              "      <td>First</td>\n",
              "      <td>woman</td>\n",
              "      <td>False</td>\n",
              "      <td>C</td>\n",
              "      <td>Cherbourg</td>\n",
              "      <td>yes</td>\n",
              "      <td>False</td>\n",
              "    </tr>\n",
              "    <tr>\n",
              "      <th>2</th>\n",
              "      <td>1</td>\n",
              "      <td>3</td>\n",
              "      <td>female</td>\n",
              "      <td>26.0</td>\n",
              "      <td>0</td>\n",
              "      <td>0</td>\n",
              "      <td>7.9250</td>\n",
              "      <td>S</td>\n",
              "      <td>Third</td>\n",
              "      <td>woman</td>\n",
              "      <td>False</td>\n",
              "      <td>NaN</td>\n",
              "      <td>Southampton</td>\n",
              "      <td>yes</td>\n",
              "      <td>True</td>\n",
              "    </tr>\n",
              "    <tr>\n",
              "      <th>3</th>\n",
              "      <td>1</td>\n",
              "      <td>1</td>\n",
              "      <td>female</td>\n",
              "      <td>35.0</td>\n",
              "      <td>1</td>\n",
              "      <td>0</td>\n",
              "      <td>53.1000</td>\n",
              "      <td>S</td>\n",
              "      <td>First</td>\n",
              "      <td>woman</td>\n",
              "      <td>False</td>\n",
              "      <td>C</td>\n",
              "      <td>Southampton</td>\n",
              "      <td>yes</td>\n",
              "      <td>False</td>\n",
              "    </tr>\n",
              "    <tr>\n",
              "      <th>4</th>\n",
              "      <td>0</td>\n",
              "      <td>3</td>\n",
              "      <td>male</td>\n",
              "      <td>35.0</td>\n",
              "      <td>0</td>\n",
              "      <td>0</td>\n",
              "      <td>8.0500</td>\n",
              "      <td>S</td>\n",
              "      <td>Third</td>\n",
              "      <td>man</td>\n",
              "      <td>True</td>\n",
              "      <td>NaN</td>\n",
              "      <td>Southampton</td>\n",
              "      <td>no</td>\n",
              "      <td>True</td>\n",
              "    </tr>\n",
              "  </tbody>\n",
              "</table>\n",
              "</div>"
            ],
            "text/plain": [
              "   survived  pclass     sex   age  ...  deck  embark_town  alive  alone\n",
              "0         0       3    male  22.0  ...   NaN  Southampton     no  False\n",
              "1         1       1  female  38.0  ...     C    Cherbourg    yes  False\n",
              "2         1       3  female  26.0  ...   NaN  Southampton    yes   True\n",
              "3         1       1  female  35.0  ...     C  Southampton    yes  False\n",
              "4         0       3    male  35.0  ...   NaN  Southampton     no   True\n",
              "\n",
              "[5 rows x 15 columns]"
            ]
          },
          "metadata": {
            "tags": []
          },
          "execution_count": 27
        }
      ]
    },
    {
      "cell_type": "code",
      "metadata": {
        "id": "J2gsaYQOgWGG",
        "colab_type": "code",
        "colab": {
          "base_uri": "https://localhost:8080/",
          "height": 142
        },
        "outputId": "64e7358c-9556-4ea5-f924-c3e0b98029ec"
      },
      "source": [
        "pd.pivot_table(titanic, 'survived', index ='sex')"
      ],
      "execution_count": 30,
      "outputs": [
        {
          "output_type": "execute_result",
          "data": {
            "text/html": [
              "<div>\n",
              "<style scoped>\n",
              "    .dataframe tbody tr th:only-of-type {\n",
              "        vertical-align: middle;\n",
              "    }\n",
              "\n",
              "    .dataframe tbody tr th {\n",
              "        vertical-align: top;\n",
              "    }\n",
              "\n",
              "    .dataframe thead th {\n",
              "        text-align: right;\n",
              "    }\n",
              "</style>\n",
              "<table border=\"1\" class=\"dataframe\">\n",
              "  <thead>\n",
              "    <tr style=\"text-align: right;\">\n",
              "      <th></th>\n",
              "      <th>survived</th>\n",
              "    </tr>\n",
              "    <tr>\n",
              "      <th>sex</th>\n",
              "      <th></th>\n",
              "    </tr>\n",
              "  </thead>\n",
              "  <tbody>\n",
              "    <tr>\n",
              "      <th>female</th>\n",
              "      <td>0.742038</td>\n",
              "    </tr>\n",
              "    <tr>\n",
              "      <th>male</th>\n",
              "      <td>0.188908</td>\n",
              "    </tr>\n",
              "  </tbody>\n",
              "</table>\n",
              "</div>"
            ],
            "text/plain": [
              "        survived\n",
              "sex             \n",
              "female  0.742038\n",
              "male    0.188908"
            ]
          },
          "metadata": {
            "tags": []
          },
          "execution_count": 30
        }
      ]
    },
    {
      "cell_type": "code",
      "metadata": {
        "id": "2mJTGsPGgWTz",
        "colab_type": "code",
        "colab": {
          "base_uri": "https://localhost:8080/",
          "height": 142
        },
        "outputId": "3222f364-4d92-46a3-84b0-01f86c025dd0"
      },
      "source": [
        "pd.pivot_table(titanic, 'survived', index = 'sex', columns = 'class' )"
      ],
      "execution_count": 31,
      "outputs": [
        {
          "output_type": "execute_result",
          "data": {
            "text/html": [
              "<div>\n",
              "<style scoped>\n",
              "    .dataframe tbody tr th:only-of-type {\n",
              "        vertical-align: middle;\n",
              "    }\n",
              "\n",
              "    .dataframe tbody tr th {\n",
              "        vertical-align: top;\n",
              "    }\n",
              "\n",
              "    .dataframe thead th {\n",
              "        text-align: right;\n",
              "    }\n",
              "</style>\n",
              "<table border=\"1\" class=\"dataframe\">\n",
              "  <thead>\n",
              "    <tr style=\"text-align: right;\">\n",
              "      <th>class</th>\n",
              "      <th>First</th>\n",
              "      <th>Second</th>\n",
              "      <th>Third</th>\n",
              "    </tr>\n",
              "    <tr>\n",
              "      <th>sex</th>\n",
              "      <th></th>\n",
              "      <th></th>\n",
              "      <th></th>\n",
              "    </tr>\n",
              "  </thead>\n",
              "  <tbody>\n",
              "    <tr>\n",
              "      <th>female</th>\n",
              "      <td>0.968085</td>\n",
              "      <td>0.921053</td>\n",
              "      <td>0.500000</td>\n",
              "    </tr>\n",
              "    <tr>\n",
              "      <th>male</th>\n",
              "      <td>0.368852</td>\n",
              "      <td>0.157407</td>\n",
              "      <td>0.135447</td>\n",
              "    </tr>\n",
              "  </tbody>\n",
              "</table>\n",
              "</div>"
            ],
            "text/plain": [
              "class      First    Second     Third\n",
              "sex                                 \n",
              "female  0.968085  0.921053  0.500000\n",
              "male    0.368852  0.157407  0.135447"
            ]
          },
          "metadata": {
            "tags": []
          },
          "execution_count": 31
        }
      ]
    },
    {
      "cell_type": "markdown",
      "metadata": {
        "id": "X_A2R9k0hsaS",
        "colab_type": "text"
      },
      "source": [
        "Multilevel pivot tables"
      ]
    },
    {
      "cell_type": "code",
      "metadata": {
        "id": "-_-2v3DEhB4o",
        "colab_type": "code",
        "colab": {
          "base_uri": "https://localhost:8080/",
          "height": 266
        },
        "outputId": "e06d7da1-b241-4bc4-e07c-54699a48607f"
      },
      "source": [
        "age = pd.cut(titanic['age'], [0, 18, 50, 80])\n",
        "titanic.pivot_table('survived', ['sex', age], 'class')"
      ],
      "execution_count": 33,
      "outputs": [
        {
          "output_type": "execute_result",
          "data": {
            "text/html": [
              "<div>\n",
              "<style scoped>\n",
              "    .dataframe tbody tr th:only-of-type {\n",
              "        vertical-align: middle;\n",
              "    }\n",
              "\n",
              "    .dataframe tbody tr th {\n",
              "        vertical-align: top;\n",
              "    }\n",
              "\n",
              "    .dataframe thead th {\n",
              "        text-align: right;\n",
              "    }\n",
              "</style>\n",
              "<table border=\"1\" class=\"dataframe\">\n",
              "  <thead>\n",
              "    <tr style=\"text-align: right;\">\n",
              "      <th></th>\n",
              "      <th>class</th>\n",
              "      <th>First</th>\n",
              "      <th>Second</th>\n",
              "      <th>Third</th>\n",
              "    </tr>\n",
              "    <tr>\n",
              "      <th>sex</th>\n",
              "      <th>age</th>\n",
              "      <th></th>\n",
              "      <th></th>\n",
              "      <th></th>\n",
              "    </tr>\n",
              "  </thead>\n",
              "  <tbody>\n",
              "    <tr>\n",
              "      <th rowspan=\"3\" valign=\"top\">female</th>\n",
              "      <th>(0, 18]</th>\n",
              "      <td>0.909091</td>\n",
              "      <td>1.000000</td>\n",
              "      <td>0.511628</td>\n",
              "    </tr>\n",
              "    <tr>\n",
              "      <th>(18, 50]</th>\n",
              "      <td>0.967213</td>\n",
              "      <td>0.912281</td>\n",
              "      <td>0.413793</td>\n",
              "    </tr>\n",
              "    <tr>\n",
              "      <th>(50, 80]</th>\n",
              "      <td>1.000000</td>\n",
              "      <td>0.666667</td>\n",
              "      <td>1.000000</td>\n",
              "    </tr>\n",
              "    <tr>\n",
              "      <th rowspan=\"3\" valign=\"top\">male</th>\n",
              "      <th>(0, 18]</th>\n",
              "      <td>0.800000</td>\n",
              "      <td>0.600000</td>\n",
              "      <td>0.215686</td>\n",
              "    </tr>\n",
              "    <tr>\n",
              "      <th>(18, 50]</th>\n",
              "      <td>0.442857</td>\n",
              "      <td>0.069444</td>\n",
              "      <td>0.139896</td>\n",
              "    </tr>\n",
              "    <tr>\n",
              "      <th>(50, 80]</th>\n",
              "      <td>0.192308</td>\n",
              "      <td>0.083333</td>\n",
              "      <td>0.000000</td>\n",
              "    </tr>\n",
              "  </tbody>\n",
              "</table>\n",
              "</div>"
            ],
            "text/plain": [
              "class               First    Second     Third\n",
              "sex    age                                   \n",
              "female (0, 18]   0.909091  1.000000  0.511628\n",
              "       (18, 50]  0.967213  0.912281  0.413793\n",
              "       (50, 80]  1.000000  0.666667  1.000000\n",
              "male   (0, 18]   0.800000  0.600000  0.215686\n",
              "       (18, 50]  0.442857  0.069444  0.139896\n",
              "       (50, 80]  0.192308  0.083333  0.000000"
            ]
          },
          "metadata": {
            "tags": []
          },
          "execution_count": 33
        }
      ]
    },
    {
      "cell_type": "code",
      "metadata": {
        "id": "TlRQJCUIhCAL",
        "colab_type": "code",
        "colab": {
          "base_uri": "https://localhost:8080/",
          "height": 173
        },
        "outputId": "91e5449e-15bf-4fdd-9a2f-d0a77eae07ce"
      },
      "source": [
        "titanic.pivot_table(index='sex', columns='class',\n",
        "aggfunc={'survived':sum, 'fare':'mean'})"
      ],
      "execution_count": 35,
      "outputs": [
        {
          "output_type": "execute_result",
          "data": {
            "text/html": [
              "<div>\n",
              "<style scoped>\n",
              "    .dataframe tbody tr th:only-of-type {\n",
              "        vertical-align: middle;\n",
              "    }\n",
              "\n",
              "    .dataframe tbody tr th {\n",
              "        vertical-align: top;\n",
              "    }\n",
              "\n",
              "    .dataframe thead tr th {\n",
              "        text-align: left;\n",
              "    }\n",
              "\n",
              "    .dataframe thead tr:last-of-type th {\n",
              "        text-align: right;\n",
              "    }\n",
              "</style>\n",
              "<table border=\"1\" class=\"dataframe\">\n",
              "  <thead>\n",
              "    <tr>\n",
              "      <th></th>\n",
              "      <th colspan=\"3\" halign=\"left\">fare</th>\n",
              "      <th colspan=\"3\" halign=\"left\">survived</th>\n",
              "    </tr>\n",
              "    <tr>\n",
              "      <th>class</th>\n",
              "      <th>First</th>\n",
              "      <th>Second</th>\n",
              "      <th>Third</th>\n",
              "      <th>First</th>\n",
              "      <th>Second</th>\n",
              "      <th>Third</th>\n",
              "    </tr>\n",
              "    <tr>\n",
              "      <th>sex</th>\n",
              "      <th></th>\n",
              "      <th></th>\n",
              "      <th></th>\n",
              "      <th></th>\n",
              "      <th></th>\n",
              "      <th></th>\n",
              "    </tr>\n",
              "  </thead>\n",
              "  <tbody>\n",
              "    <tr>\n",
              "      <th>female</th>\n",
              "      <td>106.125798</td>\n",
              "      <td>21.970121</td>\n",
              "      <td>16.118810</td>\n",
              "      <td>91</td>\n",
              "      <td>70</td>\n",
              "      <td>72</td>\n",
              "    </tr>\n",
              "    <tr>\n",
              "      <th>male</th>\n",
              "      <td>67.226127</td>\n",
              "      <td>19.741782</td>\n",
              "      <td>12.661633</td>\n",
              "      <td>45</td>\n",
              "      <td>17</td>\n",
              "      <td>47</td>\n",
              "    </tr>\n",
              "  </tbody>\n",
              "</table>\n",
              "</div>"
            ],
            "text/plain": [
              "              fare                       survived             \n",
              "class        First     Second      Third    First Second Third\n",
              "sex                                                           \n",
              "female  106.125798  21.970121  16.118810       91     70    72\n",
              "male     67.226127  19.741782  12.661633       45     17    47"
            ]
          },
          "metadata": {
            "tags": []
          },
          "execution_count": 35
        }
      ]
    },
    {
      "cell_type": "code",
      "metadata": {
        "id": "bsw2VToMjTsA",
        "colab_type": "code",
        "colab": {
          "base_uri": "https://localhost:8080/",
          "height": 173
        },
        "outputId": "65b388fb-f388-4acc-d787-461e0163056c"
      },
      "source": [
        "titanic.pivot_table('survived', index='sex', columns='class', margins=True)"
      ],
      "execution_count": 36,
      "outputs": [
        {
          "output_type": "execute_result",
          "data": {
            "text/html": [
              "<div>\n",
              "<style scoped>\n",
              "    .dataframe tbody tr th:only-of-type {\n",
              "        vertical-align: middle;\n",
              "    }\n",
              "\n",
              "    .dataframe tbody tr th {\n",
              "        vertical-align: top;\n",
              "    }\n",
              "\n",
              "    .dataframe thead th {\n",
              "        text-align: right;\n",
              "    }\n",
              "</style>\n",
              "<table border=\"1\" class=\"dataframe\">\n",
              "  <thead>\n",
              "    <tr style=\"text-align: right;\">\n",
              "      <th>class</th>\n",
              "      <th>First</th>\n",
              "      <th>Second</th>\n",
              "      <th>Third</th>\n",
              "      <th>All</th>\n",
              "    </tr>\n",
              "    <tr>\n",
              "      <th>sex</th>\n",
              "      <th></th>\n",
              "      <th></th>\n",
              "      <th></th>\n",
              "      <th></th>\n",
              "    </tr>\n",
              "  </thead>\n",
              "  <tbody>\n",
              "    <tr>\n",
              "      <th>female</th>\n",
              "      <td>0.968085</td>\n",
              "      <td>0.921053</td>\n",
              "      <td>0.500000</td>\n",
              "      <td>0.742038</td>\n",
              "    </tr>\n",
              "    <tr>\n",
              "      <th>male</th>\n",
              "      <td>0.368852</td>\n",
              "      <td>0.157407</td>\n",
              "      <td>0.135447</td>\n",
              "      <td>0.188908</td>\n",
              "    </tr>\n",
              "    <tr>\n",
              "      <th>All</th>\n",
              "      <td>0.629630</td>\n",
              "      <td>0.472826</td>\n",
              "      <td>0.242363</td>\n",
              "      <td>0.383838</td>\n",
              "    </tr>\n",
              "  </tbody>\n",
              "</table>\n",
              "</div>"
            ],
            "text/plain": [
              "class      First    Second     Third       All\n",
              "sex                                           \n",
              "female  0.968085  0.921053  0.500000  0.742038\n",
              "male    0.368852  0.157407  0.135447  0.188908\n",
              "All     0.629630  0.472826  0.242363  0.383838"
            ]
          },
          "metadata": {
            "tags": []
          },
          "execution_count": 36
        }
      ]
    },
    {
      "cell_type": "code",
      "metadata": {
        "id": "-FGkNzE9jcez",
        "colab_type": "code",
        "colab": {
          "base_uri": "https://localhost:8080/",
          "height": 173
        },
        "outputId": "d7cc227c-67f8-49f2-ccf4-0c81fffbde85"
      },
      "source": [
        "titanic.pivot_table('survived', index='sex', columns='class', margins=True, margins_name = 'Survival rate')"
      ],
      "execution_count": 37,
      "outputs": [
        {
          "output_type": "execute_result",
          "data": {
            "text/html": [
              "<div>\n",
              "<style scoped>\n",
              "    .dataframe tbody tr th:only-of-type {\n",
              "        vertical-align: middle;\n",
              "    }\n",
              "\n",
              "    .dataframe tbody tr th {\n",
              "        vertical-align: top;\n",
              "    }\n",
              "\n",
              "    .dataframe thead th {\n",
              "        text-align: right;\n",
              "    }\n",
              "</style>\n",
              "<table border=\"1\" class=\"dataframe\">\n",
              "  <thead>\n",
              "    <tr style=\"text-align: right;\">\n",
              "      <th>class</th>\n",
              "      <th>First</th>\n",
              "      <th>Second</th>\n",
              "      <th>Third</th>\n",
              "      <th>Survival rate</th>\n",
              "    </tr>\n",
              "    <tr>\n",
              "      <th>sex</th>\n",
              "      <th></th>\n",
              "      <th></th>\n",
              "      <th></th>\n",
              "      <th></th>\n",
              "    </tr>\n",
              "  </thead>\n",
              "  <tbody>\n",
              "    <tr>\n",
              "      <th>female</th>\n",
              "      <td>0.968085</td>\n",
              "      <td>0.921053</td>\n",
              "      <td>0.500000</td>\n",
              "      <td>0.742038</td>\n",
              "    </tr>\n",
              "    <tr>\n",
              "      <th>male</th>\n",
              "      <td>0.368852</td>\n",
              "      <td>0.157407</td>\n",
              "      <td>0.135447</td>\n",
              "      <td>0.188908</td>\n",
              "    </tr>\n",
              "    <tr>\n",
              "      <th>Survival rate</th>\n",
              "      <td>0.629630</td>\n",
              "      <td>0.472826</td>\n",
              "      <td>0.242363</td>\n",
              "      <td>0.383838</td>\n",
              "    </tr>\n",
              "  </tbody>\n",
              "</table>\n",
              "</div>"
            ],
            "text/plain": [
              "class             First    Second     Third  Survival rate\n",
              "sex                                                       \n",
              "female         0.968085  0.921053  0.500000       0.742038\n",
              "male           0.368852  0.157407  0.135447       0.188908\n",
              "Survival rate  0.629630  0.472826  0.242363       0.383838"
            ]
          },
          "metadata": {
            "tags": []
          },
          "execution_count": 37
        }
      ]
    },
    {
      "cell_type": "markdown",
      "metadata": {
        "id": "ikrGB1KfoAft",
        "colab_type": "text"
      },
      "source": [
        "## Examples of simple data analysis\n",
        "### <font color =\"blue\"> MovieLens 1M Dataset </font>\n",
        "\n",
        "GroupLens Research provides a number of collections of movie ratings data collected\n",
        "from users of MovieLens in the late 1990s and early 2000s. The data provide movie\n",
        "ratings, movie metadata (genres and year), and demographic data about the users\n",
        "(age, zip code, gender identification, and occupation). Such data is often of interest in\n",
        "the development of recommendation systems based on machine learning algorithms.\n",
        "While we do not explore machine learning techniques in detail in this book, I will\n",
        "show you how to slice and dice datasets like these into the exact form you need.\n",
        "The MovieLens 1M dataset contains 1 million ratings collected from 6,000 users on\n",
        "4,000 movies. It’s spread across three tables: ratings, user information, and movie\n",
        "information. After extracting the data from the ZIP file, we can load each table into a\n",
        "pandas DataFrame object using pandas.read_table :"
      ]
    },
    {
      "cell_type": "markdown",
      "metadata": {
        "id": "UCWOcNMcq1kc",
        "colab_type": "text"
      },
      "source": [
        "**Loading data**"
      ]
    },
    {
      "cell_type": "code",
      "metadata": {
        "id": "-RMPqnpwoG0C",
        "colab_type": "code",
        "colab": {
          "base_uri": "https://localhost:8080/",
          "height": 139
        },
        "outputId": "b3a8400a-367b-4358-a6fb-e866eb2ee038"
      },
      "source": [
        "import pandas as pd\n",
        "\n",
        "unames = ['user_id', 'gender', 'age', 'occupation', 'zip']\n",
        "\n",
        "users = pd.read_table('https://raw.githubusercontent.com/IliasSuvanov/DSforEconomists/master/Seminar4-5/ml-1m/users.dat', sep='::',\n",
        "header=None, names=unames)\n",
        "\n",
        "rnames = ['user_id', 'movie_id', 'rating', 'timestamp']\n",
        "\n",
        "ratings = pd.read_csv('https://raw.githubusercontent.com/IliasSuvanov/DSforEconomists/master/Seminar4-5/ml-1m/ratings.dat', sep='::',\n",
        "header=None, names=rnames)\n",
        "\n",
        "mnames = ['movie_id', 'title', 'genres']\n",
        "\n",
        "movies = pd.read_table('https://raw.githubusercontent.com/IliasSuvanov/DSforEconomists/master/Seminar4-5/ml-1m/movies.dat', sep='::',\n",
        "header=None, names=mnames, encoding = 'iso-8859-1')"
      ],
      "execution_count": null,
      "outputs": [
        {
          "output_type": "stream",
          "text": [
            "/usr/local/lib/python3.6/dist-packages/ipykernel_launcher.py:6: ParserWarning: Falling back to the 'python' engine because the 'c' engine does not support regex separators (separators > 1 char and different from '\\s+' are interpreted as regex); you can avoid this warning by specifying engine='python'.\n",
            "  \n",
            "/usr/local/lib/python3.6/dist-packages/ipykernel_launcher.py:11: ParserWarning: Falling back to the 'python' engine because the 'c' engine does not support regex separators (separators > 1 char and different from '\\s+' are interpreted as regex); you can avoid this warning by specifying engine='python'.\n",
            "  # This is added back by InteractiveShellApp.init_path()\n",
            "/usr/local/lib/python3.6/dist-packages/ipykernel_launcher.py:16: ParserWarning: Falling back to the 'python' engine because the 'c' engine does not support regex separators (separators > 1 char and different from '\\s+' are interpreted as regex); you can avoid this warning by specifying engine='python'.\n",
            "  app.launch_new_instance()\n"
          ],
          "name": "stderr"
        }
      ]
    },
    {
      "cell_type": "code",
      "metadata": {
        "id": "E3NJZN7OrC5B",
        "colab_type": "code",
        "colab": {
          "base_uri": "https://localhost:8080/",
          "height": 204
        },
        "outputId": "4d50157d-0d26-40c9-bda2-b1d698da2006"
      },
      "source": [
        "movies.head()"
      ],
      "execution_count": null,
      "outputs": [
        {
          "output_type": "execute_result",
          "data": {
            "text/html": [
              "<div>\n",
              "<style scoped>\n",
              "    .dataframe tbody tr th:only-of-type {\n",
              "        vertical-align: middle;\n",
              "    }\n",
              "\n",
              "    .dataframe tbody tr th {\n",
              "        vertical-align: top;\n",
              "    }\n",
              "\n",
              "    .dataframe thead th {\n",
              "        text-align: right;\n",
              "    }\n",
              "</style>\n",
              "<table border=\"1\" class=\"dataframe\">\n",
              "  <thead>\n",
              "    <tr style=\"text-align: right;\">\n",
              "      <th></th>\n",
              "      <th>movie_id</th>\n",
              "      <th>title</th>\n",
              "      <th>genres</th>\n",
              "    </tr>\n",
              "  </thead>\n",
              "  <tbody>\n",
              "    <tr>\n",
              "      <th>0</th>\n",
              "      <td>1</td>\n",
              "      <td>Toy Story (1995)</td>\n",
              "      <td>Animation|Children's|Comedy</td>\n",
              "    </tr>\n",
              "    <tr>\n",
              "      <th>1</th>\n",
              "      <td>2</td>\n",
              "      <td>Jumanji (1995)</td>\n",
              "      <td>Adventure|Children's|Fantasy</td>\n",
              "    </tr>\n",
              "    <tr>\n",
              "      <th>2</th>\n",
              "      <td>3</td>\n",
              "      <td>Grumpier Old Men (1995)</td>\n",
              "      <td>Comedy|Romance</td>\n",
              "    </tr>\n",
              "    <tr>\n",
              "      <th>3</th>\n",
              "      <td>4</td>\n",
              "      <td>Waiting to Exhale (1995)</td>\n",
              "      <td>Comedy|Drama</td>\n",
              "    </tr>\n",
              "    <tr>\n",
              "      <th>4</th>\n",
              "      <td>5</td>\n",
              "      <td>Father of the Bride Part II (1995)</td>\n",
              "      <td>Comedy</td>\n",
              "    </tr>\n",
              "  </tbody>\n",
              "</table>\n",
              "</div>"
            ],
            "text/plain": [
              "   movie_id                               title                        genres\n",
              "0         1                    Toy Story (1995)   Animation|Children's|Comedy\n",
              "1         2                      Jumanji (1995)  Adventure|Children's|Fantasy\n",
              "2         3             Grumpier Old Men (1995)                Comedy|Romance\n",
              "3         4            Waiting to Exhale (1995)                  Comedy|Drama\n",
              "4         5  Father of the Bride Part II (1995)                        Comedy"
            ]
          },
          "metadata": {
            "tags": []
          },
          "execution_count": 14
        }
      ]
    },
    {
      "cell_type": "code",
      "metadata": {
        "id": "kiW9oy2jrEMQ",
        "colab_type": "code",
        "colab": {
          "base_uri": "https://localhost:8080/",
          "height": 204
        },
        "outputId": "4d344ce0-e870-4ee0-a196-6d8f7822d896"
      },
      "source": [
        "ratings.head()"
      ],
      "execution_count": null,
      "outputs": [
        {
          "output_type": "execute_result",
          "data": {
            "text/html": [
              "<div>\n",
              "<style scoped>\n",
              "    .dataframe tbody tr th:only-of-type {\n",
              "        vertical-align: middle;\n",
              "    }\n",
              "\n",
              "    .dataframe tbody tr th {\n",
              "        vertical-align: top;\n",
              "    }\n",
              "\n",
              "    .dataframe thead th {\n",
              "        text-align: right;\n",
              "    }\n",
              "</style>\n",
              "<table border=\"1\" class=\"dataframe\">\n",
              "  <thead>\n",
              "    <tr style=\"text-align: right;\">\n",
              "      <th></th>\n",
              "      <th>user_id</th>\n",
              "      <th>movie_id</th>\n",
              "      <th>rating</th>\n",
              "      <th>timestamp</th>\n",
              "    </tr>\n",
              "  </thead>\n",
              "  <tbody>\n",
              "    <tr>\n",
              "      <th>0</th>\n",
              "      <td>1</td>\n",
              "      <td>1193</td>\n",
              "      <td>5</td>\n",
              "      <td>978300760</td>\n",
              "    </tr>\n",
              "    <tr>\n",
              "      <th>1</th>\n",
              "      <td>1</td>\n",
              "      <td>661</td>\n",
              "      <td>3</td>\n",
              "      <td>978302109</td>\n",
              "    </tr>\n",
              "    <tr>\n",
              "      <th>2</th>\n",
              "      <td>1</td>\n",
              "      <td>914</td>\n",
              "      <td>3</td>\n",
              "      <td>978301968</td>\n",
              "    </tr>\n",
              "    <tr>\n",
              "      <th>3</th>\n",
              "      <td>1</td>\n",
              "      <td>3408</td>\n",
              "      <td>4</td>\n",
              "      <td>978300275</td>\n",
              "    </tr>\n",
              "    <tr>\n",
              "      <th>4</th>\n",
              "      <td>1</td>\n",
              "      <td>2355</td>\n",
              "      <td>5</td>\n",
              "      <td>978824291</td>\n",
              "    </tr>\n",
              "  </tbody>\n",
              "</table>\n",
              "</div>"
            ],
            "text/plain": [
              "   user_id  movie_id  rating  timestamp\n",
              "0        1      1193       5  978300760\n",
              "1        1       661       3  978302109\n",
              "2        1       914       3  978301968\n",
              "3        1      3408       4  978300275\n",
              "4        1      2355       5  978824291"
            ]
          },
          "metadata": {
            "tags": []
          },
          "execution_count": 16
        }
      ]
    },
    {
      "cell_type": "code",
      "metadata": {
        "id": "ZLniOVMJvQq2",
        "colab_type": "code",
        "colab": {
          "base_uri": "https://localhost:8080/",
          "height": 204
        },
        "outputId": "18a8aaa0-fade-439c-861c-d65ac81f938d"
      },
      "source": [
        "users.head()"
      ],
      "execution_count": null,
      "outputs": [
        {
          "output_type": "execute_result",
          "data": {
            "text/html": [
              "<div>\n",
              "<style scoped>\n",
              "    .dataframe tbody tr th:only-of-type {\n",
              "        vertical-align: middle;\n",
              "    }\n",
              "\n",
              "    .dataframe tbody tr th {\n",
              "        vertical-align: top;\n",
              "    }\n",
              "\n",
              "    .dataframe thead th {\n",
              "        text-align: right;\n",
              "    }\n",
              "</style>\n",
              "<table border=\"1\" class=\"dataframe\">\n",
              "  <thead>\n",
              "    <tr style=\"text-align: right;\">\n",
              "      <th></th>\n",
              "      <th>user_id</th>\n",
              "      <th>gender</th>\n",
              "      <th>age</th>\n",
              "      <th>occupation</th>\n",
              "      <th>zip</th>\n",
              "    </tr>\n",
              "  </thead>\n",
              "  <tbody>\n",
              "    <tr>\n",
              "      <th>0</th>\n",
              "      <td>1</td>\n",
              "      <td>F</td>\n",
              "      <td>1</td>\n",
              "      <td>10</td>\n",
              "      <td>48067</td>\n",
              "    </tr>\n",
              "    <tr>\n",
              "      <th>1</th>\n",
              "      <td>2</td>\n",
              "      <td>M</td>\n",
              "      <td>56</td>\n",
              "      <td>16</td>\n",
              "      <td>70072</td>\n",
              "    </tr>\n",
              "    <tr>\n",
              "      <th>2</th>\n",
              "      <td>3</td>\n",
              "      <td>M</td>\n",
              "      <td>25</td>\n",
              "      <td>15</td>\n",
              "      <td>55117</td>\n",
              "    </tr>\n",
              "    <tr>\n",
              "      <th>3</th>\n",
              "      <td>4</td>\n",
              "      <td>M</td>\n",
              "      <td>45</td>\n",
              "      <td>7</td>\n",
              "      <td>02460</td>\n",
              "    </tr>\n",
              "    <tr>\n",
              "      <th>4</th>\n",
              "      <td>5</td>\n",
              "      <td>M</td>\n",
              "      <td>25</td>\n",
              "      <td>20</td>\n",
              "      <td>55455</td>\n",
              "    </tr>\n",
              "  </tbody>\n",
              "</table>\n",
              "</div>"
            ],
            "text/plain": [
              "   user_id gender  age  occupation    zip\n",
              "0        1      F    1          10  48067\n",
              "1        2      M   56          16  70072\n",
              "2        3      M   25          15  55117\n",
              "3        4      M   45           7  02460\n",
              "4        5      M   25          20  55455"
            ]
          },
          "metadata": {
            "tags": []
          },
          "execution_count": 17
        }
      ]
    },
    {
      "cell_type": "markdown",
      "metadata": {
        "id": "Fpv_81JnyOQm",
        "colab_type": "text"
      },
      "source": [
        "Merging tables"
      ]
    },
    {
      "cell_type": "code",
      "metadata": {
        "id": "qafMgML7vTT7",
        "colab_type": "code",
        "colab": {
          "base_uri": "https://localhost:8080/",
          "height": 378
        },
        "outputId": "d9b8f8d1-a518-437d-d733-87df7279fa0a"
      },
      "source": [
        "Image(url = \"https://cdn.extendoffice.com/images/stories/doc-excel/merge-tables-by-a-column/doc-merge-tables-by-a-column-1.png\")"
      ],
      "execution_count": null,
      "outputs": [
        {
          "output_type": "execute_result",
          "data": {
            "text/html": [
              "<img src=\"https://cdn.extendoffice.com/images/stories/doc-excel/merge-tables-by-a-column/doc-merge-tables-by-a-column-1.png\"/>"
            ],
            "text/plain": [
              "<IPython.core.display.Image object>"
            ]
          },
          "metadata": {
            "tags": []
          },
          "execution_count": 21
        }
      ]
    },
    {
      "cell_type": "code",
      "metadata": {
        "id": "midpsY6lyUue",
        "colab_type": "code",
        "colab": {}
      },
      "source": [
        "data = pd.merge(pd.merge(ratings, users), movies)"
      ],
      "execution_count": null,
      "outputs": []
    },
    {
      "cell_type": "code",
      "metadata": {
        "id": "cfa53G5lyj1E",
        "colab_type": "code",
        "colab": {
          "base_uri": "https://localhost:8080/",
          "height": 204
        },
        "outputId": "2c9f4fe8-04e6-48cc-d84b-689b61d5e199"
      },
      "source": [
        "data.head()"
      ],
      "execution_count": null,
      "outputs": [
        {
          "output_type": "execute_result",
          "data": {
            "text/html": [
              "<div>\n",
              "<style scoped>\n",
              "    .dataframe tbody tr th:only-of-type {\n",
              "        vertical-align: middle;\n",
              "    }\n",
              "\n",
              "    .dataframe tbody tr th {\n",
              "        vertical-align: top;\n",
              "    }\n",
              "\n",
              "    .dataframe thead th {\n",
              "        text-align: right;\n",
              "    }\n",
              "</style>\n",
              "<table border=\"1\" class=\"dataframe\">\n",
              "  <thead>\n",
              "    <tr style=\"text-align: right;\">\n",
              "      <th></th>\n",
              "      <th>user_id</th>\n",
              "      <th>movie_id</th>\n",
              "      <th>rating</th>\n",
              "      <th>timestamp</th>\n",
              "      <th>gender</th>\n",
              "      <th>age</th>\n",
              "      <th>occupation</th>\n",
              "      <th>zip</th>\n",
              "      <th>title</th>\n",
              "      <th>genres</th>\n",
              "    </tr>\n",
              "  </thead>\n",
              "  <tbody>\n",
              "    <tr>\n",
              "      <th>0</th>\n",
              "      <td>1</td>\n",
              "      <td>1193</td>\n",
              "      <td>5</td>\n",
              "      <td>978300760</td>\n",
              "      <td>F</td>\n",
              "      <td>1</td>\n",
              "      <td>10</td>\n",
              "      <td>48067</td>\n",
              "      <td>One Flew Over the Cuckoo's Nest (1975)</td>\n",
              "      <td>Drama</td>\n",
              "    </tr>\n",
              "    <tr>\n",
              "      <th>1</th>\n",
              "      <td>2</td>\n",
              "      <td>1193</td>\n",
              "      <td>5</td>\n",
              "      <td>978298413</td>\n",
              "      <td>M</td>\n",
              "      <td>56</td>\n",
              "      <td>16</td>\n",
              "      <td>70072</td>\n",
              "      <td>One Flew Over the Cuckoo's Nest (1975)</td>\n",
              "      <td>Drama</td>\n",
              "    </tr>\n",
              "    <tr>\n",
              "      <th>2</th>\n",
              "      <td>12</td>\n",
              "      <td>1193</td>\n",
              "      <td>4</td>\n",
              "      <td>978220179</td>\n",
              "      <td>M</td>\n",
              "      <td>25</td>\n",
              "      <td>12</td>\n",
              "      <td>32793</td>\n",
              "      <td>One Flew Over the Cuckoo's Nest (1975)</td>\n",
              "      <td>Drama</td>\n",
              "    </tr>\n",
              "    <tr>\n",
              "      <th>3</th>\n",
              "      <td>15</td>\n",
              "      <td>1193</td>\n",
              "      <td>4</td>\n",
              "      <td>978199279</td>\n",
              "      <td>M</td>\n",
              "      <td>25</td>\n",
              "      <td>7</td>\n",
              "      <td>22903</td>\n",
              "      <td>One Flew Over the Cuckoo's Nest (1975)</td>\n",
              "      <td>Drama</td>\n",
              "    </tr>\n",
              "    <tr>\n",
              "      <th>4</th>\n",
              "      <td>17</td>\n",
              "      <td>1193</td>\n",
              "      <td>5</td>\n",
              "      <td>978158471</td>\n",
              "      <td>M</td>\n",
              "      <td>50</td>\n",
              "      <td>1</td>\n",
              "      <td>95350</td>\n",
              "      <td>One Flew Over the Cuckoo's Nest (1975)</td>\n",
              "      <td>Drama</td>\n",
              "    </tr>\n",
              "  </tbody>\n",
              "</table>\n",
              "</div>"
            ],
            "text/plain": [
              "   user_id  movie_id  ...                                   title  genres\n",
              "0        1      1193  ...  One Flew Over the Cuckoo's Nest (1975)   Drama\n",
              "1        2      1193  ...  One Flew Over the Cuckoo's Nest (1975)   Drama\n",
              "2       12      1193  ...  One Flew Over the Cuckoo's Nest (1975)   Drama\n",
              "3       15      1193  ...  One Flew Over the Cuckoo's Nest (1975)   Drama\n",
              "4       17      1193  ...  One Flew Over the Cuckoo's Nest (1975)   Drama\n",
              "\n",
              "[5 rows x 10 columns]"
            ]
          },
          "metadata": {
            "tags": []
          },
          "execution_count": 23
        }
      ]
    },
    {
      "cell_type": "markdown",
      "metadata": {
        "id": "zIb18bPK5god",
        "colab_type": "text"
      },
      "source": [
        "To get mean movie ratings for each film grouped by gender, we can use the\n",
        "pivot_table method:"
      ]
    },
    {
      "cell_type": "code",
      "metadata": {
        "id": "GchgR2pa5fvA",
        "colab_type": "code",
        "colab": {}
      },
      "source": [
        "mean_ratings = data.pivot_table('rating', index='title',\n",
        "columns='gender', aggfunc='mean')"
      ],
      "execution_count": null,
      "outputs": []
    },
    {
      "cell_type": "code",
      "metadata": {
        "id": "SrDbP2Nw5nwF",
        "colab_type": "code",
        "colab": {
          "base_uri": "https://localhost:8080/",
          "height": 235
        },
        "outputId": "827a1510-fca5-43be-c386-7f67f3adb935"
      },
      "source": [
        "mean_ratings.head()"
      ],
      "execution_count": null,
      "outputs": [
        {
          "output_type": "execute_result",
          "data": {
            "text/html": [
              "<div>\n",
              "<style scoped>\n",
              "    .dataframe tbody tr th:only-of-type {\n",
              "        vertical-align: middle;\n",
              "    }\n",
              "\n",
              "    .dataframe tbody tr th {\n",
              "        vertical-align: top;\n",
              "    }\n",
              "\n",
              "    .dataframe thead th {\n",
              "        text-align: right;\n",
              "    }\n",
              "</style>\n",
              "<table border=\"1\" class=\"dataframe\">\n",
              "  <thead>\n",
              "    <tr style=\"text-align: right;\">\n",
              "      <th>gender</th>\n",
              "      <th>F</th>\n",
              "      <th>M</th>\n",
              "    </tr>\n",
              "    <tr>\n",
              "      <th>title</th>\n",
              "      <th></th>\n",
              "      <th></th>\n",
              "    </tr>\n",
              "  </thead>\n",
              "  <tbody>\n",
              "    <tr>\n",
              "      <th>$1,000,000 Duck (1971)</th>\n",
              "      <td>3.375000</td>\n",
              "      <td>2.761905</td>\n",
              "    </tr>\n",
              "    <tr>\n",
              "      <th>'Night Mother (1986)</th>\n",
              "      <td>3.388889</td>\n",
              "      <td>3.352941</td>\n",
              "    </tr>\n",
              "    <tr>\n",
              "      <th>'Til There Was You (1997)</th>\n",
              "      <td>2.675676</td>\n",
              "      <td>2.733333</td>\n",
              "    </tr>\n",
              "    <tr>\n",
              "      <th>'burbs, The (1989)</th>\n",
              "      <td>2.793478</td>\n",
              "      <td>2.962085</td>\n",
              "    </tr>\n",
              "    <tr>\n",
              "      <th>...And Justice for All (1979)</th>\n",
              "      <td>3.828571</td>\n",
              "      <td>3.689024</td>\n",
              "    </tr>\n",
              "  </tbody>\n",
              "</table>\n",
              "</div>"
            ],
            "text/plain": [
              "gender                                F         M\n",
              "title                                            \n",
              "$1,000,000 Duck (1971)         3.375000  2.761905\n",
              "'Night Mother (1986)           3.388889  3.352941\n",
              "'Til There Was You (1997)      2.675676  2.733333\n",
              "'burbs, The (1989)             2.793478  2.962085\n",
              "...And Justice for All (1979)  3.828571  3.689024"
            ]
          },
          "metadata": {
            "tags": []
          },
          "execution_count": 61
        }
      ]
    },
    {
      "cell_type": "code",
      "metadata": {
        "id": "V5psKwDe5nth",
        "colab_type": "code",
        "colab": {}
      },
      "source": [
        "ratings_by_title = data.groupby('title').size()"
      ],
      "execution_count": null,
      "outputs": []
    },
    {
      "cell_type": "code",
      "metadata": {
        "id": "pEDWxoga5nqN",
        "colab_type": "code",
        "colab": {
          "base_uri": "https://localhost:8080/",
          "height": 136
        },
        "outputId": "f1f079f3-5612-4fa1-83de-851f3b385155"
      },
      "source": [
        "ratings_by_title.head()"
      ],
      "execution_count": null,
      "outputs": [
        {
          "output_type": "execute_result",
          "data": {
            "text/plain": [
              "title\n",
              "$1,000,000 Duck (1971)            37\n",
              "'Night Mother (1986)              70\n",
              "'Til There Was You (1997)         52\n",
              "'burbs, The (1989)               303\n",
              "...And Justice for All (1979)    199\n",
              "dtype: int64"
            ]
          },
          "metadata": {
            "tags": []
          },
          "execution_count": 63
        }
      ]
    },
    {
      "cell_type": "code",
      "metadata": {
        "id": "203c9d6E6HrV",
        "colab_type": "code",
        "colab": {}
      },
      "source": [
        "active_titles = ratings_by_title.index[ratings_by_title >= 250]"
      ],
      "execution_count": null,
      "outputs": []
    },
    {
      "cell_type": "code",
      "metadata": {
        "id": "z7bc1ej26Hov",
        "colab_type": "code",
        "colab": {
          "base_uri": "https://localhost:8080/",
          "height": 221
        },
        "outputId": "17650cd4-3a98-4a5f-99f9-e2da2d47883e"
      },
      "source": [
        "active_titles"
      ],
      "execution_count": null,
      "outputs": [
        {
          "output_type": "execute_result",
          "data": {
            "text/plain": [
              "Index([''burbs, The (1989)', '10 Things I Hate About You (1999)',\n",
              "       '101 Dalmatians (1961)', '101 Dalmatians (1996)', '12 Angry Men (1957)',\n",
              "       '13th Warrior, The (1999)', '2 Days in the Valley (1996)',\n",
              "       '20,000 Leagues Under the Sea (1954)', '2001: A Space Odyssey (1968)',\n",
              "       '2010 (1984)',\n",
              "       ...\n",
              "       'X-Men (2000)', 'Year of Living Dangerously (1982)',\n",
              "       'Yellow Submarine (1968)', 'You've Got Mail (1998)',\n",
              "       'Young Frankenstein (1974)', 'Young Guns (1988)',\n",
              "       'Young Guns II (1990)', 'Young Sherlock Holmes (1985)',\n",
              "       'Zero Effect (1998)', 'eXistenZ (1999)'],\n",
              "      dtype='object', name='title', length=1216)"
            ]
          },
          "metadata": {
            "tags": []
          },
          "execution_count": 65
        }
      ]
    },
    {
      "cell_type": "code",
      "metadata": {
        "id": "a8_I3pm66Hl9",
        "colab_type": "code",
        "colab": {}
      },
      "source": [
        "mean_ratings = mean_ratings.loc[active_titles]"
      ],
      "execution_count": null,
      "outputs": []
    },
    {
      "cell_type": "markdown",
      "metadata": {
        "id": "ShMLRvfK6x6V",
        "colab_type": "text"
      },
      "source": [
        "To see top female movies by rating, we can sort our Series"
      ]
    },
    {
      "cell_type": "code",
      "metadata": {
        "id": "U_4F1tRf6Hiu",
        "colab_type": "code",
        "colab": {}
      },
      "source": [
        "top_female_ratings = mean_ratings.sort_values(by='F', ascending=False)"
      ],
      "execution_count": null,
      "outputs": []
    },
    {
      "cell_type": "code",
      "metadata": {
        "id": "8FeIO1Vy6wuB",
        "colab_type": "code",
        "colab": {
          "base_uri": "https://localhost:8080/",
          "height": 235
        },
        "outputId": "1f8376f0-a41f-4c76-c832-5ff83756f861"
      },
      "source": [
        "top_female_ratings.head()"
      ],
      "execution_count": null,
      "outputs": [
        {
          "output_type": "execute_result",
          "data": {
            "text/html": [
              "<div>\n",
              "<style scoped>\n",
              "    .dataframe tbody tr th:only-of-type {\n",
              "        vertical-align: middle;\n",
              "    }\n",
              "\n",
              "    .dataframe tbody tr th {\n",
              "        vertical-align: top;\n",
              "    }\n",
              "\n",
              "    .dataframe thead th {\n",
              "        text-align: right;\n",
              "    }\n",
              "</style>\n",
              "<table border=\"1\" class=\"dataframe\">\n",
              "  <thead>\n",
              "    <tr style=\"text-align: right;\">\n",
              "      <th>gender</th>\n",
              "      <th>F</th>\n",
              "      <th>M</th>\n",
              "    </tr>\n",
              "    <tr>\n",
              "      <th>title</th>\n",
              "      <th></th>\n",
              "      <th></th>\n",
              "    </tr>\n",
              "  </thead>\n",
              "  <tbody>\n",
              "    <tr>\n",
              "      <th>Close Shave, A (1995)</th>\n",
              "      <td>4.644444</td>\n",
              "      <td>4.473795</td>\n",
              "    </tr>\n",
              "    <tr>\n",
              "      <th>Wrong Trousers, The (1993)</th>\n",
              "      <td>4.588235</td>\n",
              "      <td>4.478261</td>\n",
              "    </tr>\n",
              "    <tr>\n",
              "      <th>Sunset Blvd. (a.k.a. Sunset Boulevard) (1950)</th>\n",
              "      <td>4.572650</td>\n",
              "      <td>4.464589</td>\n",
              "    </tr>\n",
              "    <tr>\n",
              "      <th>Wallace &amp; Gromit: The Best of Aardman Animation (1996)</th>\n",
              "      <td>4.563107</td>\n",
              "      <td>4.385075</td>\n",
              "    </tr>\n",
              "    <tr>\n",
              "      <th>Schindler's List (1993)</th>\n",
              "      <td>4.562602</td>\n",
              "      <td>4.491415</td>\n",
              "    </tr>\n",
              "  </tbody>\n",
              "</table>\n",
              "</div>"
            ],
            "text/plain": [
              "gender                                                     F         M\n",
              "title                                                                 \n",
              "Close Shave, A (1995)                               4.644444  4.473795\n",
              "Wrong Trousers, The (1993)                          4.588235  4.478261\n",
              "Sunset Blvd. (a.k.a. Sunset Boulevard) (1950)       4.572650  4.464589\n",
              "Wallace & Gromit: The Best of Aardman Animation...  4.563107  4.385075\n",
              "Schindler's List (1993)                             4.562602  4.491415"
            ]
          },
          "metadata": {
            "tags": []
          },
          "execution_count": 69
        }
      ]
    },
    {
      "cell_type": "code",
      "metadata": {
        "id": "hofbkwWJ6983",
        "colab_type": "code",
        "colab": {}
      },
      "source": [
        "mean_ratings['diff'] = mean_ratings['M'] - mean_ratings['F']"
      ],
      "execution_count": null,
      "outputs": []
    },
    {
      "cell_type": "code",
      "metadata": {
        "id": "argS2K1s_gKp",
        "colab_type": "code",
        "colab": {}
      },
      "source": [
        "sorted_by_diff = mean_ratings.sort_values(by='diff')"
      ],
      "execution_count": null,
      "outputs": []
    },
    {
      "cell_type": "code",
      "metadata": {
        "id": "nfilsnc2_hZ7",
        "colab_type": "code",
        "colab": {
          "base_uri": "https://localhost:8080/",
          "height": 450
        },
        "outputId": "dfdc98ee-65a2-4319-b692-e49c2ae601d8"
      },
      "source": [
        "sorted_by_diff.head()"
      ],
      "execution_count": null,
      "outputs": [
        {
          "output_type": "execute_result",
          "data": {
            "text/html": [
              "<div>\n",
              "<style scoped>\n",
              "    .dataframe tbody tr th:only-of-type {\n",
              "        vertical-align: middle;\n",
              "    }\n",
              "\n",
              "    .dataframe tbody tr th {\n",
              "        vertical-align: top;\n",
              "    }\n",
              "\n",
              "    .dataframe thead th {\n",
              "        text-align: right;\n",
              "    }\n",
              "</style>\n",
              "<table border=\"1\" class=\"dataframe\">\n",
              "  <thead>\n",
              "    <tr style=\"text-align: right;\">\n",
              "      <th>gender</th>\n",
              "      <th>F</th>\n",
              "      <th>M</th>\n",
              "      <th>diff</th>\n",
              "    </tr>\n",
              "    <tr>\n",
              "      <th>title</th>\n",
              "      <th></th>\n",
              "      <th></th>\n",
              "      <th></th>\n",
              "    </tr>\n",
              "  </thead>\n",
              "  <tbody>\n",
              "    <tr>\n",
              "      <th>Dirty Dancing (1987)</th>\n",
              "      <td>3.790378</td>\n",
              "      <td>2.959596</td>\n",
              "      <td>-0.830782</td>\n",
              "    </tr>\n",
              "    <tr>\n",
              "      <th>Jumpin' Jack Flash (1986)</th>\n",
              "      <td>3.254717</td>\n",
              "      <td>2.578358</td>\n",
              "      <td>-0.676359</td>\n",
              "    </tr>\n",
              "    <tr>\n",
              "      <th>Grease (1978)</th>\n",
              "      <td>3.975265</td>\n",
              "      <td>3.367041</td>\n",
              "      <td>-0.608224</td>\n",
              "    </tr>\n",
              "    <tr>\n",
              "      <th>Little Women (1994)</th>\n",
              "      <td>3.870588</td>\n",
              "      <td>3.321739</td>\n",
              "      <td>-0.548849</td>\n",
              "    </tr>\n",
              "    <tr>\n",
              "      <th>Steel Magnolias (1989)</th>\n",
              "      <td>3.901734</td>\n",
              "      <td>3.365957</td>\n",
              "      <td>-0.535777</td>\n",
              "    </tr>\n",
              "    <tr>\n",
              "      <th>...</th>\n",
              "      <td>...</td>\n",
              "      <td>...</td>\n",
              "      <td>...</td>\n",
              "    </tr>\n",
              "    <tr>\n",
              "      <th>Cable Guy, The (1996)</th>\n",
              "      <td>2.250000</td>\n",
              "      <td>2.863787</td>\n",
              "      <td>0.613787</td>\n",
              "    </tr>\n",
              "    <tr>\n",
              "      <th>Longest Day, The (1962)</th>\n",
              "      <td>3.411765</td>\n",
              "      <td>4.031447</td>\n",
              "      <td>0.619682</td>\n",
              "    </tr>\n",
              "    <tr>\n",
              "      <th>Dumb &amp; Dumber (1994)</th>\n",
              "      <td>2.697987</td>\n",
              "      <td>3.336595</td>\n",
              "      <td>0.638608</td>\n",
              "    </tr>\n",
              "    <tr>\n",
              "      <th>Kentucky Fried Movie, The (1977)</th>\n",
              "      <td>2.878788</td>\n",
              "      <td>3.555147</td>\n",
              "      <td>0.676359</td>\n",
              "    </tr>\n",
              "    <tr>\n",
              "      <th>Good, The Bad and The Ugly, The (1966)</th>\n",
              "      <td>3.494949</td>\n",
              "      <td>4.221300</td>\n",
              "      <td>0.726351</td>\n",
              "    </tr>\n",
              "  </tbody>\n",
              "</table>\n",
              "<p>1216 rows × 3 columns</p>\n",
              "</div>"
            ],
            "text/plain": [
              "gender                                         F         M      diff\n",
              "title                                                               \n",
              "Dirty Dancing (1987)                    3.790378  2.959596 -0.830782\n",
              "Jumpin' Jack Flash (1986)               3.254717  2.578358 -0.676359\n",
              "Grease (1978)                           3.975265  3.367041 -0.608224\n",
              "Little Women (1994)                     3.870588  3.321739 -0.548849\n",
              "Steel Magnolias (1989)                  3.901734  3.365957 -0.535777\n",
              "...                                          ...       ...       ...\n",
              "Cable Guy, The (1996)                   2.250000  2.863787  0.613787\n",
              "Longest Day, The (1962)                 3.411765  4.031447  0.619682\n",
              "Dumb & Dumber (1994)                    2.697987  3.336595  0.638608\n",
              "Kentucky Fried Movie, The (1977)        2.878788  3.555147  0.676359\n",
              "Good, The Bad and The Ugly, The (1966)  3.494949  4.221300  0.726351\n",
              "\n",
              "[1216 rows x 3 columns]"
            ]
          },
          "metadata": {
            "tags": []
          },
          "execution_count": 76
        }
      ]
    },
    {
      "cell_type": "code",
      "metadata": {
        "id": "mXmeA9H9_npu",
        "colab_type": "code",
        "colab": {
          "base_uri": "https://localhost:8080/",
          "height": 450
        },
        "outputId": "35695d94-4995-4023-9da8-acabafe072f2"
      },
      "source": [
        "sorted_by_diff.tail()"
      ],
      "execution_count": null,
      "outputs": [
        {
          "output_type": "execute_result",
          "data": {
            "text/html": [
              "<div>\n",
              "<style scoped>\n",
              "    .dataframe tbody tr th:only-of-type {\n",
              "        vertical-align: middle;\n",
              "    }\n",
              "\n",
              "    .dataframe tbody tr th {\n",
              "        vertical-align: top;\n",
              "    }\n",
              "\n",
              "    .dataframe thead th {\n",
              "        text-align: right;\n",
              "    }\n",
              "</style>\n",
              "<table border=\"1\" class=\"dataframe\">\n",
              "  <thead>\n",
              "    <tr style=\"text-align: right;\">\n",
              "      <th>gender</th>\n",
              "      <th>F</th>\n",
              "      <th>M</th>\n",
              "      <th>diff</th>\n",
              "    </tr>\n",
              "    <tr>\n",
              "      <th>title</th>\n",
              "      <th></th>\n",
              "      <th></th>\n",
              "      <th></th>\n",
              "    </tr>\n",
              "  </thead>\n",
              "  <tbody>\n",
              "    <tr>\n",
              "      <th>Good, The Bad and The Ugly, The (1966)</th>\n",
              "      <td>3.494949</td>\n",
              "      <td>4.221300</td>\n",
              "      <td>0.726351</td>\n",
              "    </tr>\n",
              "    <tr>\n",
              "      <th>Kentucky Fried Movie, The (1977)</th>\n",
              "      <td>2.878788</td>\n",
              "      <td>3.555147</td>\n",
              "      <td>0.676359</td>\n",
              "    </tr>\n",
              "    <tr>\n",
              "      <th>Dumb &amp; Dumber (1994)</th>\n",
              "      <td>2.697987</td>\n",
              "      <td>3.336595</td>\n",
              "      <td>0.638608</td>\n",
              "    </tr>\n",
              "    <tr>\n",
              "      <th>Longest Day, The (1962)</th>\n",
              "      <td>3.411765</td>\n",
              "      <td>4.031447</td>\n",
              "      <td>0.619682</td>\n",
              "    </tr>\n",
              "    <tr>\n",
              "      <th>Cable Guy, The (1996)</th>\n",
              "      <td>2.250000</td>\n",
              "      <td>2.863787</td>\n",
              "      <td>0.613787</td>\n",
              "    </tr>\n",
              "    <tr>\n",
              "      <th>...</th>\n",
              "      <td>...</td>\n",
              "      <td>...</td>\n",
              "      <td>...</td>\n",
              "    </tr>\n",
              "    <tr>\n",
              "      <th>Steel Magnolias (1989)</th>\n",
              "      <td>3.901734</td>\n",
              "      <td>3.365957</td>\n",
              "      <td>-0.535777</td>\n",
              "    </tr>\n",
              "    <tr>\n",
              "      <th>Little Women (1994)</th>\n",
              "      <td>3.870588</td>\n",
              "      <td>3.321739</td>\n",
              "      <td>-0.548849</td>\n",
              "    </tr>\n",
              "    <tr>\n",
              "      <th>Grease (1978)</th>\n",
              "      <td>3.975265</td>\n",
              "      <td>3.367041</td>\n",
              "      <td>-0.608224</td>\n",
              "    </tr>\n",
              "    <tr>\n",
              "      <th>Jumpin' Jack Flash (1986)</th>\n",
              "      <td>3.254717</td>\n",
              "      <td>2.578358</td>\n",
              "      <td>-0.676359</td>\n",
              "    </tr>\n",
              "    <tr>\n",
              "      <th>Dirty Dancing (1987)</th>\n",
              "      <td>3.790378</td>\n",
              "      <td>2.959596</td>\n",
              "      <td>-0.830782</td>\n",
              "    </tr>\n",
              "  </tbody>\n",
              "</table>\n",
              "<p>1216 rows × 3 columns</p>\n",
              "</div>"
            ],
            "text/plain": [
              "gender                                         F         M      diff\n",
              "title                                                               \n",
              "Good, The Bad and The Ugly, The (1966)  3.494949  4.221300  0.726351\n",
              "Kentucky Fried Movie, The (1977)        2.878788  3.555147  0.676359\n",
              "Dumb & Dumber (1994)                    2.697987  3.336595  0.638608\n",
              "Longest Day, The (1962)                 3.411765  4.031447  0.619682\n",
              "Cable Guy, The (1996)                   2.250000  2.863787  0.613787\n",
              "...                                          ...       ...       ...\n",
              "Steel Magnolias (1989)                  3.901734  3.365957 -0.535777\n",
              "Little Women (1994)                     3.870588  3.321739 -0.548849\n",
              "Grease (1978)                           3.975265  3.367041 -0.608224\n",
              "Jumpin' Jack Flash (1986)               3.254717  2.578358 -0.676359\n",
              "Dirty Dancing (1987)                    3.790378  2.959596 -0.830782\n",
              "\n",
              "[1216 rows x 3 columns]"
            ]
          },
          "metadata": {
            "tags": []
          },
          "execution_count": 77
        }
      ]
    },
    {
      "cell_type": "code",
      "metadata": {
        "id": "rOkTAJXV_7b5",
        "colab_type": "code",
        "colab": {}
      },
      "source": [
        "# Standard deviation of rating grouped by title\n",
        "rating_std_by_title = data.groupby('title')['rating'].std()"
      ],
      "execution_count": null,
      "outputs": []
    },
    {
      "cell_type": "code",
      "metadata": {
        "id": "ALRd5jDnAgjw",
        "colab_type": "code",
        "colab": {}
      },
      "source": [
        "# Filter down to active_titles\n",
        "rating_std_by_title = rating_std_by_title.loc[active_titles]"
      ],
      "execution_count": null,
      "outputs": []
    },
    {
      "cell_type": "code",
      "metadata": {
        "id": "5u6OET-sAkuP",
        "colab_type": "code",
        "colab": {
          "base_uri": "https://localhost:8080/",
          "height": 221
        },
        "outputId": "ec0731fc-b0c6-4269-c9af-cffe50ab9f3b"
      },
      "source": [
        "# Order Series by value in descending order\n",
        "rating_std_by_title.sort_values(ascending=False)[:10]"
      ],
      "execution_count": null,
      "outputs": [
        {
          "output_type": "execute_result",
          "data": {
            "text/plain": [
              "title\n",
              "Dumb & Dumber (1994)                     1.321333\n",
              "Blair Witch Project, The (1999)          1.316368\n",
              "Natural Born Killers (1994)              1.307198\n",
              "Tank Girl (1995)                         1.277695\n",
              "Rocky Horror Picture Show, The (1975)    1.260177\n",
              "Eyes Wide Shut (1999)                    1.259624\n",
              "Evita (1996)                             1.253631\n",
              "Billy Madison (1995)                     1.249970\n",
              "Fear and Loathing in Las Vegas (1998)    1.246408\n",
              "Bicentennial Man (1999)                  1.245533\n",
              "Name: rating, dtype: float64"
            ]
          },
          "metadata": {
            "tags": []
          },
          "execution_count": 80
        }
      ]
    },
    {
      "cell_type": "markdown",
      "metadata": {
        "id": "dQpQHbpBBQsU",
        "colab_type": "text"
      },
      "source": [
        "## <font color = blue> US Baby Names 1880–2019 </font>\n",
        "The United States Social Security Administration (SSA) has made available data on\n",
        "the frequency of baby names from 1880 through the present. Hadley Wickham, an\n",
        "author of several popular R packages, has often made use of this dataset in illustrating\n",
        "data manipulation in R.\n",
        "We need to do some data wrangling to load this dataset, but once we do that we will\n",
        "have a DataFrame that looks like this:"
      ]
    },
    {
      "cell_type": "code",
      "metadata": {
        "id": "dKjihtjnBWYj",
        "colab_type": "code",
        "colab": {}
      },
      "source": [
        "years = range(1880, 1890)\n",
        "pieces = []\n",
        "columns = ['name', 'sex', 'births']\n",
        "for year in years:\n",
        "  path = 'https://raw.githubusercontent.com/IliasSuvanov/DSforEconomists/master/Seminar4-5/names/yob{}.txt'.format(year)\n",
        "  frame = pd.read_csv(path, names=columns)\n",
        "  frame['year'] = year\n",
        "  pieces.append(frame)"
      ],
      "execution_count": null,
      "outputs": []
    },
    {
      "cell_type": "code",
      "metadata": {
        "id": "uNBccZ_VJqSf",
        "colab_type": "code",
        "colab": {
          "base_uri": "https://localhost:8080/",
          "height": 1000
        },
        "outputId": "3ce5cc9f-1cce-4412-c32c-840b6eaf6ad0"
      },
      "source": [
        "pieces"
      ],
      "execution_count": null,
      "outputs": [
        {
          "output_type": "execute_result",
          "data": {
            "text/plain": [
              "[           name sex  births  year\n",
              " 0          Mary   F    7065  1880\n",
              " 1          Anna   F    2604  1880\n",
              " 2          Emma   F    2003  1880\n",
              " 3     Elizabeth   F    1939  1880\n",
              " 4        Minnie   F    1746  1880\n",
              " ...         ...  ..     ...   ...\n",
              " 1995     Woodie   M       5  1880\n",
              " 1996     Worthy   M       5  1880\n",
              " 1997     Wright   M       5  1880\n",
              " 1998       York   M       5  1880\n",
              " 1999  Zachariah   M       5  1880\n",
              " \n",
              " [2000 rows x 4 columns],            name sex  births  year\n",
              " 0          Mary   F    6919  1881\n",
              " 1          Anna   F    2698  1881\n",
              " 2          Emma   F    2034  1881\n",
              " 3     Elizabeth   F    1852  1881\n",
              " 4      Margaret   F    1658  1881\n",
              " ...         ...  ..     ...   ...\n",
              " 1930     Wiliam   M       5  1881\n",
              " 1931     Wilton   M       5  1881\n",
              " 1932       Wing   M       5  1881\n",
              " 1933       Wood   M       5  1881\n",
              " 1934     Wright   M       5  1881\n",
              " \n",
              " [1935 rows x 4 columns],            name sex  births  year\n",
              " 0          Mary   F    8148  1882\n",
              " 1          Anna   F    3143  1882\n",
              " 2          Emma   F    2303  1882\n",
              " 3     Elizabeth   F    2186  1882\n",
              " 4        Minnie   F    2004  1882\n",
              " ...         ...  ..     ...   ...\n",
              " 2122       Wirt   M       5  1882\n",
              " 2123    Woodson   M       5  1882\n",
              " 2124      Woody   M       5  1882\n",
              " 2125     Worley   M       5  1882\n",
              " 2126        Zed   M       5  1882\n",
              " \n",
              " [2127 rows x 4 columns],            name sex  births  year\n",
              " 0          Mary   F    8012  1883\n",
              " 1          Anna   F    3306  1883\n",
              " 2          Emma   F    2367  1883\n",
              " 3     Elizabeth   F    2255  1883\n",
              " 4        Minnie   F    2035  1883\n",
              " ...         ...  ..     ...   ...\n",
              " 2079      Titus   M       5  1883\n",
              " 2080      Toney   M       5  1883\n",
              " 2081      Verna   M       5  1883\n",
              " 2082     Winnie   M       5  1883\n",
              " 2083   Winthrop   M       5  1883\n",
              " \n",
              " [2084 rows x 4 columns],            name sex  births  year\n",
              " 0          Mary   F    9217  1884\n",
              " 1          Anna   F    3860  1884\n",
              " 2          Emma   F    2587  1884\n",
              " 3     Elizabeth   F    2549  1884\n",
              " 4        Minnie   F    2243  1884\n",
              " ...         ...  ..     ...   ...\n",
              " 2292   Williard   M       5  1884\n",
              " 2293      Willy   M       5  1884\n",
              " 2294    Winston   M       5  1884\n",
              " 2295       York   M       5  1884\n",
              " 2296  Zachariah   M       5  1884\n",
              " \n",
              " [2297 rows x 4 columns],            name sex  births  year\n",
              " 0          Mary   F    9128  1885\n",
              " 1          Anna   F    3994  1885\n",
              " 2          Emma   F    2728  1885\n",
              " 3     Elizabeth   F    2582  1885\n",
              " 4      Margaret   F    2204  1885\n",
              " ...         ...  ..     ...   ...\n",
              " 2289     Wallie   M       5  1885\n",
              " 2290    Willian   M       5  1885\n",
              " 2291       Wirt   M       5  1885\n",
              " 2292        Yee   M       5  1885\n",
              " 2293        Zeb   M       5  1885\n",
              " \n",
              " [2294 rows x 4 columns],            name sex  births  year\n",
              " 0          Mary   F    9889  1886\n",
              " 1          Anna   F    4283  1886\n",
              " 2          Emma   F    2764  1886\n",
              " 3     Elizabeth   F    2680  1886\n",
              " 4        Minnie   F    2372  1886\n",
              " ...         ...  ..     ...   ...\n",
              " 2387       Wood   M       5  1886\n",
              " 2388      Worth   M       5  1886\n",
              " 2389     Wright   M       5  1886\n",
              " 2390     Xavier   M       5  1886\n",
              " 2391      Yancy   M       5  1886\n",
              " \n",
              " [2392 rows x 4 columns],            name sex  births  year\n",
              " 0          Mary   F    9888  1887\n",
              " 1          Anna   F    4227  1887\n",
              " 2     Elizabeth   F    2681  1887\n",
              " 3          Emma   F    2647  1887\n",
              " 4      Margaret   F    2419  1887\n",
              " ...         ...  ..     ...   ...\n",
              " 2368    Wheeler   M       5  1887\n",
              " 2369    Wilfrid   M       5  1887\n",
              " 2370    Wilhelm   M       5  1887\n",
              " 2371       Wirt   M       5  1887\n",
              " 2372        Zed   M       5  1887\n",
              " \n",
              " [2373 rows x 4 columns],            name sex  births  year\n",
              " 0          Mary   F   11754  1888\n",
              " 1          Anna   F    4982  1888\n",
              " 2     Elizabeth   F    3224  1888\n",
              " 3          Emma   F    3087  1888\n",
              " 4      Margaret   F    2904  1888\n",
              " ...         ...  ..     ...   ...\n",
              " 2646     Vaughn   M       5  1888\n",
              " 2647     Vernie   M       5  1888\n",
              " 2648       Watt   M       5  1888\n",
              " 2649    Winston   M       5  1888\n",
              " 2650      Zelma   M       5  1888\n",
              " \n",
              " [2651 rows x 4 columns],            name sex  births  year\n",
              " 0          Mary   F   11648  1889\n",
              " 1          Anna   F    5062  1889\n",
              " 2     Elizabeth   F    3058  1889\n",
              " 3      Margaret   F    2917  1889\n",
              " 4          Emma   F    2884  1889\n",
              " ...         ...  ..     ...   ...\n",
              " 2585     Weldon   M       5  1889\n",
              " 2586    Wendell   M       5  1889\n",
              " 2587    Wilhelm   M       5  1889\n",
              " 2588       Zeke   M       5  1889\n",
              " 2589      Zenas   M       5  1889\n",
              " \n",
              " [2590 rows x 4 columns]]"
            ]
          },
          "metadata": {
            "tags": []
          },
          "execution_count": 82
        }
      ]
    },
    {
      "cell_type": "code",
      "metadata": {
        "id": "AQrujfC4KLfj",
        "colab_type": "code",
        "colab": {}
      },
      "source": [
        "# Concatenate everything into a single DataFrame\n",
        "names = pd.concat(pieces, ignore_index=True)"
      ],
      "execution_count": null,
      "outputs": []
    },
    {
      "cell_type": "code",
      "metadata": {
        "id": "S3wRCb09KMs6",
        "colab_type": "code",
        "colab": {
          "base_uri": "https://localhost:8080/",
          "height": 669
        },
        "outputId": "c37a06fc-0753-4aa1-e0aa-7695852da86b"
      },
      "source": [
        "names.head(20)"
      ],
      "execution_count": null,
      "outputs": [
        {
          "output_type": "execute_result",
          "data": {
            "text/html": [
              "<div>\n",
              "<style scoped>\n",
              "    .dataframe tbody tr th:only-of-type {\n",
              "        vertical-align: middle;\n",
              "    }\n",
              "\n",
              "    .dataframe tbody tr th {\n",
              "        vertical-align: top;\n",
              "    }\n",
              "\n",
              "    .dataframe thead th {\n",
              "        text-align: right;\n",
              "    }\n",
              "</style>\n",
              "<table border=\"1\" class=\"dataframe\">\n",
              "  <thead>\n",
              "    <tr style=\"text-align: right;\">\n",
              "      <th></th>\n",
              "      <th>name</th>\n",
              "      <th>sex</th>\n",
              "      <th>births</th>\n",
              "      <th>year</th>\n",
              "    </tr>\n",
              "  </thead>\n",
              "  <tbody>\n",
              "    <tr>\n",
              "      <th>0</th>\n",
              "      <td>Mary</td>\n",
              "      <td>F</td>\n",
              "      <td>7065</td>\n",
              "      <td>1880</td>\n",
              "    </tr>\n",
              "    <tr>\n",
              "      <th>1</th>\n",
              "      <td>Anna</td>\n",
              "      <td>F</td>\n",
              "      <td>2604</td>\n",
              "      <td>1880</td>\n",
              "    </tr>\n",
              "    <tr>\n",
              "      <th>2</th>\n",
              "      <td>Emma</td>\n",
              "      <td>F</td>\n",
              "      <td>2003</td>\n",
              "      <td>1880</td>\n",
              "    </tr>\n",
              "    <tr>\n",
              "      <th>3</th>\n",
              "      <td>Elizabeth</td>\n",
              "      <td>F</td>\n",
              "      <td>1939</td>\n",
              "      <td>1880</td>\n",
              "    </tr>\n",
              "    <tr>\n",
              "      <th>4</th>\n",
              "      <td>Minnie</td>\n",
              "      <td>F</td>\n",
              "      <td>1746</td>\n",
              "      <td>1880</td>\n",
              "    </tr>\n",
              "    <tr>\n",
              "      <th>5</th>\n",
              "      <td>Margaret</td>\n",
              "      <td>F</td>\n",
              "      <td>1578</td>\n",
              "      <td>1880</td>\n",
              "    </tr>\n",
              "    <tr>\n",
              "      <th>6</th>\n",
              "      <td>Ida</td>\n",
              "      <td>F</td>\n",
              "      <td>1472</td>\n",
              "      <td>1880</td>\n",
              "    </tr>\n",
              "    <tr>\n",
              "      <th>7</th>\n",
              "      <td>Alice</td>\n",
              "      <td>F</td>\n",
              "      <td>1414</td>\n",
              "      <td>1880</td>\n",
              "    </tr>\n",
              "    <tr>\n",
              "      <th>8</th>\n",
              "      <td>Bertha</td>\n",
              "      <td>F</td>\n",
              "      <td>1320</td>\n",
              "      <td>1880</td>\n",
              "    </tr>\n",
              "    <tr>\n",
              "      <th>9</th>\n",
              "      <td>Sarah</td>\n",
              "      <td>F</td>\n",
              "      <td>1288</td>\n",
              "      <td>1880</td>\n",
              "    </tr>\n",
              "    <tr>\n",
              "      <th>10</th>\n",
              "      <td>Annie</td>\n",
              "      <td>F</td>\n",
              "      <td>1258</td>\n",
              "      <td>1880</td>\n",
              "    </tr>\n",
              "    <tr>\n",
              "      <th>11</th>\n",
              "      <td>Clara</td>\n",
              "      <td>F</td>\n",
              "      <td>1226</td>\n",
              "      <td>1880</td>\n",
              "    </tr>\n",
              "    <tr>\n",
              "      <th>12</th>\n",
              "      <td>Ella</td>\n",
              "      <td>F</td>\n",
              "      <td>1156</td>\n",
              "      <td>1880</td>\n",
              "    </tr>\n",
              "    <tr>\n",
              "      <th>13</th>\n",
              "      <td>Florence</td>\n",
              "      <td>F</td>\n",
              "      <td>1063</td>\n",
              "      <td>1880</td>\n",
              "    </tr>\n",
              "    <tr>\n",
              "      <th>14</th>\n",
              "      <td>Cora</td>\n",
              "      <td>F</td>\n",
              "      <td>1045</td>\n",
              "      <td>1880</td>\n",
              "    </tr>\n",
              "    <tr>\n",
              "      <th>15</th>\n",
              "      <td>Martha</td>\n",
              "      <td>F</td>\n",
              "      <td>1040</td>\n",
              "      <td>1880</td>\n",
              "    </tr>\n",
              "    <tr>\n",
              "      <th>16</th>\n",
              "      <td>Laura</td>\n",
              "      <td>F</td>\n",
              "      <td>1012</td>\n",
              "      <td>1880</td>\n",
              "    </tr>\n",
              "    <tr>\n",
              "      <th>17</th>\n",
              "      <td>Nellie</td>\n",
              "      <td>F</td>\n",
              "      <td>995</td>\n",
              "      <td>1880</td>\n",
              "    </tr>\n",
              "    <tr>\n",
              "      <th>18</th>\n",
              "      <td>Grace</td>\n",
              "      <td>F</td>\n",
              "      <td>982</td>\n",
              "      <td>1880</td>\n",
              "    </tr>\n",
              "    <tr>\n",
              "      <th>19</th>\n",
              "      <td>Carrie</td>\n",
              "      <td>F</td>\n",
              "      <td>949</td>\n",
              "      <td>1880</td>\n",
              "    </tr>\n",
              "  </tbody>\n",
              "</table>\n",
              "</div>"
            ],
            "text/plain": [
              "         name sex  births  year\n",
              "0        Mary   F    7065  1880\n",
              "1        Anna   F    2604  1880\n",
              "2        Emma   F    2003  1880\n",
              "3   Elizabeth   F    1939  1880\n",
              "4      Minnie   F    1746  1880\n",
              "5    Margaret   F    1578  1880\n",
              "6         Ida   F    1472  1880\n",
              "7       Alice   F    1414  1880\n",
              "8      Bertha   F    1320  1880\n",
              "9       Sarah   F    1288  1880\n",
              "10      Annie   F    1258  1880\n",
              "11      Clara   F    1226  1880\n",
              "12       Ella   F    1156  1880\n",
              "13   Florence   F    1063  1880\n",
              "14       Cora   F    1045  1880\n",
              "15     Martha   F    1040  1880\n",
              "16      Laura   F    1012  1880\n",
              "17     Nellie   F     995  1880\n",
              "18      Grace   F     982  1880\n",
              "19     Carrie   F     949  1880"
            ]
          },
          "metadata": {
            "tags": []
          },
          "execution_count": 84
        }
      ]
    },
    {
      "cell_type": "code",
      "metadata": {
        "id": "OWdmC5-xJrpu",
        "colab_type": "code",
        "colab": {}
      },
      "source": [
        "total_births = names.pivot_table('births', index='year',\n",
        "columns='sex', aggfunc=sum)"
      ],
      "execution_count": null,
      "outputs": []
    },
    {
      "cell_type": "code",
      "metadata": {
        "id": "chvBDQT2KiPT",
        "colab_type": "code",
        "colab": {
          "base_uri": "https://localhost:8080/",
          "height": 390
        },
        "outputId": "e3aab7f9-a34d-42f1-a3b6-97a9fa18134a"
      },
      "source": [
        "total_births"
      ],
      "execution_count": null,
      "outputs": [
        {
          "output_type": "execute_result",
          "data": {
            "text/html": [
              "<div>\n",
              "<style scoped>\n",
              "    .dataframe tbody tr th:only-of-type {\n",
              "        vertical-align: middle;\n",
              "    }\n",
              "\n",
              "    .dataframe tbody tr th {\n",
              "        vertical-align: top;\n",
              "    }\n",
              "\n",
              "    .dataframe thead th {\n",
              "        text-align: right;\n",
              "    }\n",
              "</style>\n",
              "<table border=\"1\" class=\"dataframe\">\n",
              "  <thead>\n",
              "    <tr style=\"text-align: right;\">\n",
              "      <th>sex</th>\n",
              "      <th>F</th>\n",
              "      <th>M</th>\n",
              "    </tr>\n",
              "    <tr>\n",
              "      <th>year</th>\n",
              "      <th></th>\n",
              "      <th></th>\n",
              "    </tr>\n",
              "  </thead>\n",
              "  <tbody>\n",
              "    <tr>\n",
              "      <th>1880</th>\n",
              "      <td>90994</td>\n",
              "      <td>110490</td>\n",
              "    </tr>\n",
              "    <tr>\n",
              "      <th>1881</th>\n",
              "      <td>91953</td>\n",
              "      <td>100743</td>\n",
              "    </tr>\n",
              "    <tr>\n",
              "      <th>1882</th>\n",
              "      <td>107847</td>\n",
              "      <td>113686</td>\n",
              "    </tr>\n",
              "    <tr>\n",
              "      <th>1883</th>\n",
              "      <td>112319</td>\n",
              "      <td>104625</td>\n",
              "    </tr>\n",
              "    <tr>\n",
              "      <th>1884</th>\n",
              "      <td>129019</td>\n",
              "      <td>114442</td>\n",
              "    </tr>\n",
              "    <tr>\n",
              "      <th>1885</th>\n",
              "      <td>133055</td>\n",
              "      <td>107799</td>\n",
              "    </tr>\n",
              "    <tr>\n",
              "      <th>1886</th>\n",
              "      <td>144533</td>\n",
              "      <td>110784</td>\n",
              "    </tr>\n",
              "    <tr>\n",
              "      <th>1887</th>\n",
              "      <td>145982</td>\n",
              "      <td>101412</td>\n",
              "    </tr>\n",
              "    <tr>\n",
              "      <th>1888</th>\n",
              "      <td>178622</td>\n",
              "      <td>120851</td>\n",
              "    </tr>\n",
              "    <tr>\n",
              "      <th>1889</th>\n",
              "      <td>178366</td>\n",
              "      <td>110580</td>\n",
              "    </tr>\n",
              "  </tbody>\n",
              "</table>\n",
              "</div>"
            ],
            "text/plain": [
              "sex        F       M\n",
              "year                \n",
              "1880   90994  110490\n",
              "1881   91953  100743\n",
              "1882  107847  113686\n",
              "1883  112319  104625\n",
              "1884  129019  114442\n",
              "1885  133055  107799\n",
              "1886  144533  110784\n",
              "1887  145982  101412\n",
              "1888  178622  120851\n",
              "1889  178366  110580"
            ]
          },
          "metadata": {
            "tags": []
          },
          "execution_count": 86
        }
      ]
    },
    {
      "cell_type": "code",
      "metadata": {
        "id": "YCvoaReSLnjz",
        "colab_type": "code",
        "colab": {}
      },
      "source": [
        "import matplotlib.pyplot as plt"
      ],
      "execution_count": null,
      "outputs": []
    },
    {
      "cell_type": "code",
      "metadata": {
        "id": "_YNmqTBUKjYK",
        "colab_type": "code",
        "colab": {
          "base_uri": "https://localhost:8080/",
          "height": 316
        },
        "outputId": "93b0ee34-29ed-44bb-def1-d5561c772611"
      },
      "source": [
        "plt.plot(total_births)\n",
        "plt.title(\"group by gender\")\n",
        "plt.style.use(\"ggplot\")\n",
        "plt.grid(True)\n",
        "plt.legend()"
      ],
      "execution_count": null,
      "outputs": [
        {
          "output_type": "stream",
          "text": [
            "No handles with labels found to put in legend.\n"
          ],
          "name": "stderr"
        },
        {
          "output_type": "execute_result",
          "data": {
            "text/plain": [
              "<matplotlib.legend.Legend at 0x7ff5dcd20eb8>"
            ]
          },
          "metadata": {
            "tags": []
          },
          "execution_count": 97
        },
        {
          "output_type": "display_data",
          "data": {
            "image/png": "[encoded data removed]",
            "text/plain": [
              "<Figure size 432x288 with 1 Axes>"
            ]
          },
          "metadata": {
            "tags": []
          }
        }
      ]
    },
    {
      "cell_type": "code",
      "metadata": {
        "id": "KfreUziaLvzN",
        "colab_type": "code",
        "colab": {}
      },
      "source": [
        ""
      ],
      "execution_count": null,
      "outputs": []
    }
  ]
}