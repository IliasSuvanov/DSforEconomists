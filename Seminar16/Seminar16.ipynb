{
  "nbformat": 4,
  "nbformat_minor": 0,
  "metadata": {
    "colab": {
      "name": "Seminar16.ipynb",
      "provenance": [],
      "collapsed_sections": [],
      "authorship_tag": "ABX9TyN7zF4G/j1H4FUnyTGtna6I",
      "include_colab_link": true
    },
    "kernelspec": {
      "name": "python3",
      "display_name": "Python 3"
    }
  },
  "cells": [
    {
      "cell_type": "markdown",
      "metadata": {
        "id": "view-in-github",
        "colab_type": "text"
      },
      "source": [
        "<a href=\"https://colab.research.google.com/github/IliasSuvanov/DSforEconomists/blob/master/Seminar16/Seminar16.ipynb\" target=\"_parent\"><img src=\"https://colab.research.google.com/assets/colab-badge.svg\" alt=\"Open In Colab\"/></a>"
      ]
    },
    {
      "cell_type": "markdown",
      "metadata": {
        "id": "YvCnp5YZEZNq"
      },
      "source": [
        "# Seminar 16\n",
        "## Plan\n",
        "- Mergin Datasets\n",
        "- Hierarchical Indexing"
      ]
    },
    {
      "cell_type": "markdown",
      "metadata": {
        "id": "TXXJ2UngEckz"
      },
      "source": [
        "### Merging Datasets\n",
        "**pandas.merge** connects rows in DataFrames based on one or more keys. This\n",
        "will be familiar to users of SQL or other relational databases, as it implements\n",
        "database join operations."
      ]
    },
    {
      "cell_type": "code",
      "metadata": {
        "id": "V-PGbP22EbTv"
      },
      "source": [
        "import pandas as pd"
      ],
      "execution_count": null,
      "outputs": []
    },
    {
      "cell_type": "code",
      "metadata": {
        "id": "TpjqxlUaMlNl"
      },
      "source": [
        "grd1 = pd.DataFrame([['Alex', 'A+'],\n",
        "              ['Amanda', 'B+'],\n",
        "              ['Jonathan', 'D'],\n",
        "              ['Mike','B']], columns=['name', 'math'])"
      ],
      "execution_count": null,
      "outputs": []
    },
    {
      "cell_type": "code",
      "metadata": {
        "colab": {
          "base_uri": "https://localhost:8080/",
          "height": 173
        },
        "id": "M7PQf0yAN-wD",
        "outputId": "b9ef8bad-1308-484d-c7b5-5af41ea3f504"
      },
      "source": [
        "grd1.head()"
      ],
      "execution_count": null,
      "outputs": [
        {
          "output_type": "execute_result",
          "data": {
            "text/html": [
              "<div>\n",
              "<style scoped>\n",
              "    .dataframe tbody tr th:only-of-type {\n",
              "        vertical-align: middle;\n",
              "    }\n",
              "\n",
              "    .dataframe tbody tr th {\n",
              "        vertical-align: top;\n",
              "    }\n",
              "\n",
              "    .dataframe thead th {\n",
              "        text-align: right;\n",
              "    }\n",
              "</style>\n",
              "<table border=\"1\" class=\"dataframe\">\n",
              "  <thead>\n",
              "    <tr style=\"text-align: right;\">\n",
              "      <th></th>\n",
              "      <th>name</th>\n",
              "      <th>math</th>\n",
              "    </tr>\n",
              "  </thead>\n",
              "  <tbody>\n",
              "    <tr>\n",
              "      <th>0</th>\n",
              "      <td>Alex</td>\n",
              "      <td>A+</td>\n",
              "    </tr>\n",
              "    <tr>\n",
              "      <th>1</th>\n",
              "      <td>Amanda</td>\n",
              "      <td>B+</td>\n",
              "    </tr>\n",
              "    <tr>\n",
              "      <th>2</th>\n",
              "      <td>Jonathan</td>\n",
              "      <td>D</td>\n",
              "    </tr>\n",
              "    <tr>\n",
              "      <th>3</th>\n",
              "      <td>Mike</td>\n",
              "      <td>B</td>\n",
              "    </tr>\n",
              "  </tbody>\n",
              "</table>\n",
              "</div>"
            ],
            "text/plain": [
              "       name math\n",
              "0      Alex   A+\n",
              "1    Amanda   B+\n",
              "2  Jonathan    D\n",
              "3      Mike    B"
            ]
          },
          "metadata": {
            "tags": []
          },
          "execution_count": 60
        }
      ]
    },
    {
      "cell_type": "code",
      "metadata": {
        "id": "j1NTFcoJM7Cc"
      },
      "source": [
        "grd2 = pd.DataFrame([['Alex', 'D+'],\n",
        "              ['Amanda', 'B+'],\n",
        "              ['Jonathan', 'A'],\n",
        "              ['Mike','B']], columns=['name', 'english'])"
      ],
      "execution_count": null,
      "outputs": []
    },
    {
      "cell_type": "code",
      "metadata": {
        "colab": {
          "base_uri": "https://localhost:8080/",
          "height": 173
        },
        "id": "yn1cpy1gOArk",
        "outputId": "b5e3827e-ab0b-4edc-a146-9cef8b3a6b4c"
      },
      "source": [
        "grd2.head()"
      ],
      "execution_count": null,
      "outputs": [
        {
          "output_type": "execute_result",
          "data": {
            "text/html": [
              "<div>\n",
              "<style scoped>\n",
              "    .dataframe tbody tr th:only-of-type {\n",
              "        vertical-align: middle;\n",
              "    }\n",
              "\n",
              "    .dataframe tbody tr th {\n",
              "        vertical-align: top;\n",
              "    }\n",
              "\n",
              "    .dataframe thead th {\n",
              "        text-align: right;\n",
              "    }\n",
              "</style>\n",
              "<table border=\"1\" class=\"dataframe\">\n",
              "  <thead>\n",
              "    <tr style=\"text-align: right;\">\n",
              "      <th></th>\n",
              "      <th>name</th>\n",
              "      <th>english</th>\n",
              "    </tr>\n",
              "  </thead>\n",
              "  <tbody>\n",
              "    <tr>\n",
              "      <th>0</th>\n",
              "      <td>Alex</td>\n",
              "      <td>D+</td>\n",
              "    </tr>\n",
              "    <tr>\n",
              "      <th>1</th>\n",
              "      <td>Amanda</td>\n",
              "      <td>B+</td>\n",
              "    </tr>\n",
              "    <tr>\n",
              "      <th>2</th>\n",
              "      <td>Jonathan</td>\n",
              "      <td>A</td>\n",
              "    </tr>\n",
              "    <tr>\n",
              "      <th>3</th>\n",
              "      <td>Mike</td>\n",
              "      <td>B</td>\n",
              "    </tr>\n",
              "  </tbody>\n",
              "</table>\n",
              "</div>"
            ],
            "text/plain": [
              "       name english\n",
              "0      Alex      D+\n",
              "1    Amanda      B+\n",
              "2  Jonathan       A\n",
              "3      Mike       B"
            ]
          },
          "metadata": {
            "tags": []
          },
          "execution_count": 61
        }
      ]
    },
    {
      "cell_type": "code",
      "metadata": {
        "colab": {
          "base_uri": "https://localhost:8080/",
          "height": 173
        },
        "id": "-GYVSnsHOCgi",
        "outputId": "b0347488-3e03-4919-873f-e123a81c8e6e"
      },
      "source": [
        "pd.merge(grd1, grd2)"
      ],
      "execution_count": null,
      "outputs": [
        {
          "output_type": "execute_result",
          "data": {
            "text/html": [
              "<div>\n",
              "<style scoped>\n",
              "    .dataframe tbody tr th:only-of-type {\n",
              "        vertical-align: middle;\n",
              "    }\n",
              "\n",
              "    .dataframe tbody tr th {\n",
              "        vertical-align: top;\n",
              "    }\n",
              "\n",
              "    .dataframe thead th {\n",
              "        text-align: right;\n",
              "    }\n",
              "</style>\n",
              "<table border=\"1\" class=\"dataframe\">\n",
              "  <thead>\n",
              "    <tr style=\"text-align: right;\">\n",
              "      <th></th>\n",
              "      <th>name</th>\n",
              "      <th>math</th>\n",
              "      <th>english</th>\n",
              "    </tr>\n",
              "  </thead>\n",
              "  <tbody>\n",
              "    <tr>\n",
              "      <th>0</th>\n",
              "      <td>Alex</td>\n",
              "      <td>A+</td>\n",
              "      <td>D+</td>\n",
              "    </tr>\n",
              "    <tr>\n",
              "      <th>1</th>\n",
              "      <td>Amanda</td>\n",
              "      <td>B+</td>\n",
              "      <td>B+</td>\n",
              "    </tr>\n",
              "    <tr>\n",
              "      <th>2</th>\n",
              "      <td>Jonathan</td>\n",
              "      <td>D</td>\n",
              "      <td>A</td>\n",
              "    </tr>\n",
              "    <tr>\n",
              "      <th>3</th>\n",
              "      <td>Mike</td>\n",
              "      <td>B</td>\n",
              "      <td>B</td>\n",
              "    </tr>\n",
              "  </tbody>\n",
              "</table>\n",
              "</div>"
            ],
            "text/plain": [
              "       name math english\n",
              "0      Alex   A+      D+\n",
              "1    Amanda   B+      B+\n",
              "2  Jonathan    D       A\n",
              "3      Mike    B       B"
            ]
          },
          "metadata": {
            "tags": []
          },
          "execution_count": 62
        }
      ]
    },
    {
      "cell_type": "code",
      "metadata": {
        "id": "MaS5B_C5HGkQ"
      },
      "source": [
        "df1 = pd.DataFrame([['osh','banana', 10],\n",
        "                    ['orto-sai','banana', 15],\n",
        "                    ['batken','peach', 25],\n",
        "                    ['dordoi','watermelon', 60],\n",
        "                    ['osh','watermelon', 70]], columns = ['bazar location','fruit type', \n",
        "                                                    'bought'])"
      ],
      "execution_count": null,
      "outputs": []
    },
    {
      "cell_type": "code",
      "metadata": {
        "colab": {
          "base_uri": "https://localhost:8080/",
          "height": 204
        },
        "id": "Yp2IlK79Fin4",
        "outputId": "34642124-ecfc-4c7e-9f9d-f5fc7b93b1e7"
      },
      "source": [
        "df1.head()"
      ],
      "execution_count": null,
      "outputs": [
        {
          "output_type": "execute_result",
          "data": {
            "text/html": [
              "<div>\n",
              "<style scoped>\n",
              "    .dataframe tbody tr th:only-of-type {\n",
              "        vertical-align: middle;\n",
              "    }\n",
              "\n",
              "    .dataframe tbody tr th {\n",
              "        vertical-align: top;\n",
              "    }\n",
              "\n",
              "    .dataframe thead th {\n",
              "        text-align: right;\n",
              "    }\n",
              "</style>\n",
              "<table border=\"1\" class=\"dataframe\">\n",
              "  <thead>\n",
              "    <tr style=\"text-align: right;\">\n",
              "      <th></th>\n",
              "      <th>bazar location</th>\n",
              "      <th>fruit type</th>\n",
              "      <th>bought</th>\n",
              "    </tr>\n",
              "  </thead>\n",
              "  <tbody>\n",
              "    <tr>\n",
              "      <th>0</th>\n",
              "      <td>osh</td>\n",
              "      <td>banana</td>\n",
              "      <td>10</td>\n",
              "    </tr>\n",
              "    <tr>\n",
              "      <th>1</th>\n",
              "      <td>orto-sai</td>\n",
              "      <td>banana</td>\n",
              "      <td>15</td>\n",
              "    </tr>\n",
              "    <tr>\n",
              "      <th>2</th>\n",
              "      <td>batken</td>\n",
              "      <td>peach</td>\n",
              "      <td>25</td>\n",
              "    </tr>\n",
              "    <tr>\n",
              "      <th>3</th>\n",
              "      <td>dordoi</td>\n",
              "      <td>watermelon</td>\n",
              "      <td>60</td>\n",
              "    </tr>\n",
              "    <tr>\n",
              "      <th>4</th>\n",
              "      <td>osh</td>\n",
              "      <td>watermelon</td>\n",
              "      <td>70</td>\n",
              "    </tr>\n",
              "  </tbody>\n",
              "</table>\n",
              "</div>"
            ],
            "text/plain": [
              "  bazar location  fruit type  bought\n",
              "0            osh      banana      10\n",
              "1       orto-sai      banana      15\n",
              "2         batken       peach      25\n",
              "3         dordoi  watermelon      60\n",
              "4            osh  watermelon      70"
            ]
          },
          "metadata": {
            "tags": []
          },
          "execution_count": 21
        }
      ]
    },
    {
      "cell_type": "code",
      "metadata": {
        "id": "F41ckN-3Fjjx"
      },
      "source": [
        "df2 = pd.DataFrame([['banana', 20],\n",
        "                    ['peach', 30],\n",
        "                    ['watermelon',50]], columns=['fruit type','sold'] )"
      ],
      "execution_count": null,
      "outputs": []
    },
    {
      "cell_type": "code",
      "metadata": {
        "colab": {
          "base_uri": "https://localhost:8080/",
          "height": 142
        },
        "id": "zYOr0ITWGC1O",
        "outputId": "e35fe18c-16b5-46d4-e4f4-1edf0db857cd"
      },
      "source": [
        "df2.head()"
      ],
      "execution_count": null,
      "outputs": [
        {
          "output_type": "execute_result",
          "data": {
            "text/html": [
              "<div>\n",
              "<style scoped>\n",
              "    .dataframe tbody tr th:only-of-type {\n",
              "        vertical-align: middle;\n",
              "    }\n",
              "\n",
              "    .dataframe tbody tr th {\n",
              "        vertical-align: top;\n",
              "    }\n",
              "\n",
              "    .dataframe thead th {\n",
              "        text-align: right;\n",
              "    }\n",
              "</style>\n",
              "<table border=\"1\" class=\"dataframe\">\n",
              "  <thead>\n",
              "    <tr style=\"text-align: right;\">\n",
              "      <th></th>\n",
              "      <th>fruit type</th>\n",
              "      <th>sold</th>\n",
              "    </tr>\n",
              "  </thead>\n",
              "  <tbody>\n",
              "    <tr>\n",
              "      <th>0</th>\n",
              "      <td>banana</td>\n",
              "      <td>20</td>\n",
              "    </tr>\n",
              "    <tr>\n",
              "      <th>1</th>\n",
              "      <td>peach</td>\n",
              "      <td>30</td>\n",
              "    </tr>\n",
              "    <tr>\n",
              "      <th>2</th>\n",
              "      <td>watermelon</td>\n",
              "      <td>50</td>\n",
              "    </tr>\n",
              "  </tbody>\n",
              "</table>\n",
              "</div>"
            ],
            "text/plain": [
              "   fruit type  sold\n",
              "0      banana    20\n",
              "1       peach    30\n",
              "2  watermelon    50"
            ]
          },
          "metadata": {
            "tags": []
          },
          "execution_count": 46
        }
      ]
    },
    {
      "cell_type": "code",
      "metadata": {
        "colab": {
          "base_uri": "https://localhost:8080/",
          "height": 204
        },
        "id": "VD_JqIraGDq1",
        "outputId": "bdee8370-de67-4e34-a3de-baa692c72301"
      },
      "source": [
        "pd.merge(df1,df2)"
      ],
      "execution_count": null,
      "outputs": [
        {
          "output_type": "execute_result",
          "data": {
            "text/html": [
              "<div>\n",
              "<style scoped>\n",
              "    .dataframe tbody tr th:only-of-type {\n",
              "        vertical-align: middle;\n",
              "    }\n",
              "\n",
              "    .dataframe tbody tr th {\n",
              "        vertical-align: top;\n",
              "    }\n",
              "\n",
              "    .dataframe thead th {\n",
              "        text-align: right;\n",
              "    }\n",
              "</style>\n",
              "<table border=\"1\" class=\"dataframe\">\n",
              "  <thead>\n",
              "    <tr style=\"text-align: right;\">\n",
              "      <th></th>\n",
              "      <th>bazar location</th>\n",
              "      <th>fruit type</th>\n",
              "      <th>bought</th>\n",
              "      <th>sold</th>\n",
              "    </tr>\n",
              "  </thead>\n",
              "  <tbody>\n",
              "    <tr>\n",
              "      <th>0</th>\n",
              "      <td>osh</td>\n",
              "      <td>banana</td>\n",
              "      <td>10</td>\n",
              "      <td>20</td>\n",
              "    </tr>\n",
              "    <tr>\n",
              "      <th>1</th>\n",
              "      <td>orto-sai</td>\n",
              "      <td>banana</td>\n",
              "      <td>15</td>\n",
              "      <td>20</td>\n",
              "    </tr>\n",
              "    <tr>\n",
              "      <th>2</th>\n",
              "      <td>batken</td>\n",
              "      <td>peach</td>\n",
              "      <td>25</td>\n",
              "      <td>30</td>\n",
              "    </tr>\n",
              "    <tr>\n",
              "      <th>3</th>\n",
              "      <td>dordoi</td>\n",
              "      <td>watermelon</td>\n",
              "      <td>60</td>\n",
              "      <td>50</td>\n",
              "    </tr>\n",
              "    <tr>\n",
              "      <th>4</th>\n",
              "      <td>osh</td>\n",
              "      <td>watermelon</td>\n",
              "      <td>70</td>\n",
              "      <td>50</td>\n",
              "    </tr>\n",
              "  </tbody>\n",
              "</table>\n",
              "</div>"
            ],
            "text/plain": [
              "  bazar location  fruit type  bought  sold\n",
              "0            osh      banana      10    20\n",
              "1       orto-sai      banana      15    20\n",
              "2         batken       peach      25    30\n",
              "3         dordoi  watermelon      60    50\n",
              "4            osh  watermelon      70    50"
            ]
          },
          "metadata": {
            "tags": []
          },
          "execution_count": 42
        }
      ]
    },
    {
      "cell_type": "markdown",
      "metadata": {
        "id": "fKagufurJx_R"
      },
      "source": [
        "If the information on which columns to merge by is not speci‐\n",
        "fied, pd.merge uses the overlapping column names as the keys. However it is a good practice to\n",
        "specify explicitly on which columns to merge by."
      ]
    },
    {
      "cell_type": "code",
      "metadata": {
        "colab": {
          "base_uri": "https://localhost:8080/",
          "height": 204
        },
        "id": "ufs_9h2iI1py",
        "outputId": "c2188245-80c4-48b5-98c1-e6c9af571fa0"
      },
      "source": [
        "pd.merge(df1, df2, on='fruit type')"
      ],
      "execution_count": null,
      "outputs": [
        {
          "output_type": "execute_result",
          "data": {
            "text/html": [
              "<div>\n",
              "<style scoped>\n",
              "    .dataframe tbody tr th:only-of-type {\n",
              "        vertical-align: middle;\n",
              "    }\n",
              "\n",
              "    .dataframe tbody tr th {\n",
              "        vertical-align: top;\n",
              "    }\n",
              "\n",
              "    .dataframe thead th {\n",
              "        text-align: right;\n",
              "    }\n",
              "</style>\n",
              "<table border=\"1\" class=\"dataframe\">\n",
              "  <thead>\n",
              "    <tr style=\"text-align: right;\">\n",
              "      <th></th>\n",
              "      <th>bazar location</th>\n",
              "      <th>fruit type</th>\n",
              "      <th>bought</th>\n",
              "      <th>sold</th>\n",
              "    </tr>\n",
              "  </thead>\n",
              "  <tbody>\n",
              "    <tr>\n",
              "      <th>0</th>\n",
              "      <td>osh</td>\n",
              "      <td>banana</td>\n",
              "      <td>10</td>\n",
              "      <td>20</td>\n",
              "    </tr>\n",
              "    <tr>\n",
              "      <th>1</th>\n",
              "      <td>orto-sai</td>\n",
              "      <td>banana</td>\n",
              "      <td>15</td>\n",
              "      <td>20</td>\n",
              "    </tr>\n",
              "    <tr>\n",
              "      <th>2</th>\n",
              "      <td>batken</td>\n",
              "      <td>peach</td>\n",
              "      <td>25</td>\n",
              "      <td>30</td>\n",
              "    </tr>\n",
              "    <tr>\n",
              "      <th>3</th>\n",
              "      <td>dordoi</td>\n",
              "      <td>watermelon</td>\n",
              "      <td>60</td>\n",
              "      <td>50</td>\n",
              "    </tr>\n",
              "    <tr>\n",
              "      <th>4</th>\n",
              "      <td>osh</td>\n",
              "      <td>watermelon</td>\n",
              "      <td>70</td>\n",
              "      <td>50</td>\n",
              "    </tr>\n",
              "  </tbody>\n",
              "</table>\n",
              "</div>"
            ],
            "text/plain": [
              "  bazar location  fruit type  bought  sold\n",
              "0            osh      banana      10    20\n",
              "1       orto-sai      banana      15    20\n",
              "2         batken       peach      25    30\n",
              "3         dordoi  watermelon      60    50\n",
              "4            osh  watermelon      70    50"
            ]
          },
          "metadata": {
            "tags": []
          },
          "execution_count": 43
        }
      ]
    },
    {
      "cell_type": "markdown",
      "metadata": {
        "id": "_pHnIfiCKNxn"
      },
      "source": [
        "If the column names are different in each object, you can specify them separately key column in the first dataframe and key column on the second dataframe."
      ]
    },
    {
      "cell_type": "code",
      "metadata": {
        "id": "IspfCHS8KewN"
      },
      "source": [
        "df3 = pd.DataFrame([['osh','banana', 10],\n",
        "                    ['orto-sai','banana', 15],\n",
        "                    ['batken','peach', 25],\n",
        "                    ['dordoi','watermelon', 60],\n",
        "                    ['osh','watermelon', 70]], columns = ['bazar location','fruits', \n",
        "                                                    'bought'])"
      ],
      "execution_count": null,
      "outputs": []
    },
    {
      "cell_type": "code",
      "metadata": {
        "colab": {
          "base_uri": "https://localhost:8080/",
          "height": 204
        },
        "id": "kJzU4AjqKx0h",
        "outputId": "a71fbf34-8b44-43ec-97bd-eca0c01fcfec"
      },
      "source": [
        "df3.head()"
      ],
      "execution_count": null,
      "outputs": [
        {
          "output_type": "execute_result",
          "data": {
            "text/html": [
              "<div>\n",
              "<style scoped>\n",
              "    .dataframe tbody tr th:only-of-type {\n",
              "        vertical-align: middle;\n",
              "    }\n",
              "\n",
              "    .dataframe tbody tr th {\n",
              "        vertical-align: top;\n",
              "    }\n",
              "\n",
              "    .dataframe thead th {\n",
              "        text-align: right;\n",
              "    }\n",
              "</style>\n",
              "<table border=\"1\" class=\"dataframe\">\n",
              "  <thead>\n",
              "    <tr style=\"text-align: right;\">\n",
              "      <th></th>\n",
              "      <th>bazar location</th>\n",
              "      <th>fruits</th>\n",
              "      <th>bought</th>\n",
              "    </tr>\n",
              "  </thead>\n",
              "  <tbody>\n",
              "    <tr>\n",
              "      <th>0</th>\n",
              "      <td>osh</td>\n",
              "      <td>banana</td>\n",
              "      <td>10</td>\n",
              "    </tr>\n",
              "    <tr>\n",
              "      <th>1</th>\n",
              "      <td>orto-sai</td>\n",
              "      <td>banana</td>\n",
              "      <td>15</td>\n",
              "    </tr>\n",
              "    <tr>\n",
              "      <th>2</th>\n",
              "      <td>batken</td>\n",
              "      <td>peach</td>\n",
              "      <td>25</td>\n",
              "    </tr>\n",
              "    <tr>\n",
              "      <th>3</th>\n",
              "      <td>dordoi</td>\n",
              "      <td>watermelon</td>\n",
              "      <td>60</td>\n",
              "    </tr>\n",
              "    <tr>\n",
              "      <th>4</th>\n",
              "      <td>osh</td>\n",
              "      <td>watermelon</td>\n",
              "      <td>70</td>\n",
              "    </tr>\n",
              "  </tbody>\n",
              "</table>\n",
              "</div>"
            ],
            "text/plain": [
              "  bazar location      fruits  bought\n",
              "0            osh      banana      10\n",
              "1       orto-sai      banana      15\n",
              "2         batken       peach      25\n",
              "3         dordoi  watermelon      60\n",
              "4            osh  watermelon      70"
            ]
          },
          "metadata": {
            "tags": []
          },
          "execution_count": 49
        }
      ]
    },
    {
      "cell_type": "code",
      "metadata": {
        "id": "xfyIKa6SKiVf"
      },
      "source": [
        "df4 = pd.DataFrame([['banana', 20],\n",
        "                    ['peach', 30],\n",
        "                    ['watermelon',50]], columns=['fruit type','sold total'] )"
      ],
      "execution_count": null,
      "outputs": []
    },
    {
      "cell_type": "code",
      "metadata": {
        "colab": {
          "base_uri": "https://localhost:8080/",
          "height": 142
        },
        "id": "5FYBnHrnK0Ct",
        "outputId": "662eb8d5-1b7f-4bf8-883c-a912d0757de5"
      },
      "source": [
        "df4.head()"
      ],
      "execution_count": null,
      "outputs": [
        {
          "output_type": "execute_result",
          "data": {
            "text/html": [
              "<div>\n",
              "<style scoped>\n",
              "    .dataframe tbody tr th:only-of-type {\n",
              "        vertical-align: middle;\n",
              "    }\n",
              "\n",
              "    .dataframe tbody tr th {\n",
              "        vertical-align: top;\n",
              "    }\n",
              "\n",
              "    .dataframe thead th {\n",
              "        text-align: right;\n",
              "    }\n",
              "</style>\n",
              "<table border=\"1\" class=\"dataframe\">\n",
              "  <thead>\n",
              "    <tr style=\"text-align: right;\">\n",
              "      <th></th>\n",
              "      <th>fruit type</th>\n",
              "      <th>sold</th>\n",
              "    </tr>\n",
              "  </thead>\n",
              "  <tbody>\n",
              "    <tr>\n",
              "      <th>0</th>\n",
              "      <td>banana</td>\n",
              "      <td>20</td>\n",
              "    </tr>\n",
              "    <tr>\n",
              "      <th>1</th>\n",
              "      <td>peach</td>\n",
              "      <td>30</td>\n",
              "    </tr>\n",
              "    <tr>\n",
              "      <th>2</th>\n",
              "      <td>watermelon</td>\n",
              "      <td>50</td>\n",
              "    </tr>\n",
              "  </tbody>\n",
              "</table>\n",
              "</div>"
            ],
            "text/plain": [
              "   fruit type  sold\n",
              "0      banana    20\n",
              "1       peach    30\n",
              "2  watermelon    50"
            ]
          },
          "metadata": {
            "tags": []
          },
          "execution_count": 50
        }
      ]
    },
    {
      "cell_type": "code",
      "metadata": {
        "colab": {
          "base_uri": "https://localhost:8080/",
          "height": 306
        },
        "id": "xDHZ2CXyKpiD",
        "outputId": "88e15f93-ca24-4949-ad01-80a305032b20"
      },
      "source": [
        "pd.merge(df3,df4)"
      ],
      "execution_count": null,
      "outputs": [
        {
          "output_type": "error",
          "ename": "MergeError",
          "evalue": "ignored",
          "traceback": [
            "\u001b[0;31m---------------------------------------------------------------------------\u001b[0m",
            "\u001b[0;31mMergeError\u001b[0m                                Traceback (most recent call last)",
            "\u001b[0;32m<ipython-input-48-1c6b6f3855df>\u001b[0m in \u001b[0;36m<module>\u001b[0;34m()\u001b[0m\n\u001b[0;32m----> 1\u001b[0;31m \u001b[0mpd\u001b[0m\u001b[0;34m.\u001b[0m\u001b[0mmerge\u001b[0m\u001b[0;34m(\u001b[0m\u001b[0mdf3\u001b[0m\u001b[0;34m,\u001b[0m\u001b[0mdf4\u001b[0m\u001b[0;34m)\u001b[0m\u001b[0;34m\u001b[0m\u001b[0;34m\u001b[0m\u001b[0m\n\u001b[0m",
            "\u001b[0;32m/usr/local/lib/python3.6/dist-packages/pandas/core/reshape/merge.py\u001b[0m in \u001b[0;36mmerge\u001b[0;34m(left, right, how, on, left_on, right_on, left_index, right_index, sort, suffixes, copy, indicator, validate)\u001b[0m\n\u001b[1;32m     85\u001b[0m         \u001b[0mcopy\u001b[0m\u001b[0;34m=\u001b[0m\u001b[0mcopy\u001b[0m\u001b[0;34m,\u001b[0m\u001b[0;34m\u001b[0m\u001b[0;34m\u001b[0m\u001b[0m\n\u001b[1;32m     86\u001b[0m         \u001b[0mindicator\u001b[0m\u001b[0;34m=\u001b[0m\u001b[0mindicator\u001b[0m\u001b[0;34m,\u001b[0m\u001b[0;34m\u001b[0m\u001b[0;34m\u001b[0m\u001b[0m\n\u001b[0;32m---> 87\u001b[0;31m         \u001b[0mvalidate\u001b[0m\u001b[0;34m=\u001b[0m\u001b[0mvalidate\u001b[0m\u001b[0;34m,\u001b[0m\u001b[0;34m\u001b[0m\u001b[0;34m\u001b[0m\u001b[0m\n\u001b[0m\u001b[1;32m     88\u001b[0m     )\n\u001b[1;32m     89\u001b[0m     \u001b[0;32mreturn\u001b[0m \u001b[0mop\u001b[0m\u001b[0;34m.\u001b[0m\u001b[0mget_result\u001b[0m\u001b[0;34m(\u001b[0m\u001b[0;34m)\u001b[0m\u001b[0;34m\u001b[0m\u001b[0;34m\u001b[0m\u001b[0m\n",
            "\u001b[0;32m/usr/local/lib/python3.6/dist-packages/pandas/core/reshape/merge.py\u001b[0m in \u001b[0;36m__init__\u001b[0;34m(self, left, right, how, on, left_on, right_on, axis, left_index, right_index, sort, suffixes, copy, indicator, validate)\u001b[0m\n\u001b[1;32m    643\u001b[0m             \u001b[0mwarnings\u001b[0m\u001b[0;34m.\u001b[0m\u001b[0mwarn\u001b[0m\u001b[0;34m(\u001b[0m\u001b[0mmsg\u001b[0m\u001b[0;34m,\u001b[0m \u001b[0mUserWarning\u001b[0m\u001b[0;34m)\u001b[0m\u001b[0;34m\u001b[0m\u001b[0;34m\u001b[0m\u001b[0m\n\u001b[1;32m    644\u001b[0m \u001b[0;34m\u001b[0m\u001b[0m\n\u001b[0;32m--> 645\u001b[0;31m         \u001b[0mself\u001b[0m\u001b[0;34m.\u001b[0m\u001b[0m_validate_specification\u001b[0m\u001b[0;34m(\u001b[0m\u001b[0;34m)\u001b[0m\u001b[0;34m\u001b[0m\u001b[0;34m\u001b[0m\u001b[0m\n\u001b[0m\u001b[1;32m    646\u001b[0m \u001b[0;34m\u001b[0m\u001b[0m\n\u001b[1;32m    647\u001b[0m         \u001b[0;31m# note this function has side effects\u001b[0m\u001b[0;34m\u001b[0m\u001b[0;34m\u001b[0m\u001b[0;34m\u001b[0m\u001b[0m\n",
            "\u001b[0;32m/usr/local/lib/python3.6/dist-packages/pandas/core/reshape/merge.py\u001b[0m in \u001b[0;36m_validate_specification\u001b[0;34m(self)\u001b[0m\n\u001b[1;32m   1213\u001b[0m                 \u001b[0;32mif\u001b[0m \u001b[0mlen\u001b[0m\u001b[0;34m(\u001b[0m\u001b[0mcommon_cols\u001b[0m\u001b[0;34m)\u001b[0m \u001b[0;34m==\u001b[0m \u001b[0;36m0\u001b[0m\u001b[0;34m:\u001b[0m\u001b[0;34m\u001b[0m\u001b[0;34m\u001b[0m\u001b[0m\n\u001b[1;32m   1214\u001b[0m                     raise MergeError(\n\u001b[0;32m-> 1215\u001b[0;31m                         \u001b[0;34m\"No common columns to perform merge on. \"\u001b[0m\u001b[0;34m\u001b[0m\u001b[0;34m\u001b[0m\u001b[0m\n\u001b[0m\u001b[1;32m   1216\u001b[0m                         \u001b[0;34mf\"Merge options: left_on={self.left_on}, \"\u001b[0m\u001b[0;34m\u001b[0m\u001b[0;34m\u001b[0m\u001b[0m\n\u001b[1;32m   1217\u001b[0m                         \u001b[0;34mf\"right_on={self.right_on}, \"\u001b[0m\u001b[0;34m\u001b[0m\u001b[0;34m\u001b[0m\u001b[0m\n",
            "\u001b[0;31mMergeError\u001b[0m: No common columns to perform merge on. Merge options: left_on=None, right_on=None, left_index=False, right_index=False"
          ]
        }
      ]
    },
    {
      "cell_type": "code",
      "metadata": {
        "colab": {
          "base_uri": "https://localhost:8080/",
          "height": 204
        },
        "id": "e_ik1HxFKs8f",
        "outputId": "2f7e0330-5172-4af6-a504-e37d69db01c3"
      },
      "source": [
        "pd.merge(df3, df4, left_on='fruits', right_on='fruit type')"
      ],
      "execution_count": null,
      "outputs": [
        {
          "output_type": "execute_result",
          "data": {
            "text/html": [
              "<div>\n",
              "<style scoped>\n",
              "    .dataframe tbody tr th:only-of-type {\n",
              "        vertical-align: middle;\n",
              "    }\n",
              "\n",
              "    .dataframe tbody tr th {\n",
              "        vertical-align: top;\n",
              "    }\n",
              "\n",
              "    .dataframe thead th {\n",
              "        text-align: right;\n",
              "    }\n",
              "</style>\n",
              "<table border=\"1\" class=\"dataframe\">\n",
              "  <thead>\n",
              "    <tr style=\"text-align: right;\">\n",
              "      <th></th>\n",
              "      <th>bazar location</th>\n",
              "      <th>fruits</th>\n",
              "      <th>bought</th>\n",
              "      <th>fruit type</th>\n",
              "      <th>sold total</th>\n",
              "    </tr>\n",
              "  </thead>\n",
              "  <tbody>\n",
              "    <tr>\n",
              "      <th>0</th>\n",
              "      <td>osh</td>\n",
              "      <td>banana</td>\n",
              "      <td>10</td>\n",
              "      <td>banana</td>\n",
              "      <td>20</td>\n",
              "    </tr>\n",
              "    <tr>\n",
              "      <th>1</th>\n",
              "      <td>orto-sai</td>\n",
              "      <td>banana</td>\n",
              "      <td>15</td>\n",
              "      <td>banana</td>\n",
              "      <td>20</td>\n",
              "    </tr>\n",
              "    <tr>\n",
              "      <th>2</th>\n",
              "      <td>batken</td>\n",
              "      <td>peach</td>\n",
              "      <td>25</td>\n",
              "      <td>peach</td>\n",
              "      <td>30</td>\n",
              "    </tr>\n",
              "    <tr>\n",
              "      <th>3</th>\n",
              "      <td>dordoi</td>\n",
              "      <td>watermelon</td>\n",
              "      <td>60</td>\n",
              "      <td>watermelon</td>\n",
              "      <td>50</td>\n",
              "    </tr>\n",
              "    <tr>\n",
              "      <th>4</th>\n",
              "      <td>osh</td>\n",
              "      <td>watermelon</td>\n",
              "      <td>70</td>\n",
              "      <td>watermelon</td>\n",
              "      <td>50</td>\n",
              "    </tr>\n",
              "  </tbody>\n",
              "</table>\n",
              "</div>"
            ],
            "text/plain": [
              "  bazar location      fruits  bought  fruit type  sold total\n",
              "0            osh      banana      10      banana          20\n",
              "1       orto-sai      banana      15      banana          20\n",
              "2         batken       peach      25       peach          30\n",
              "3         dordoi  watermelon      60  watermelon          50\n",
              "4            osh  watermelon      70  watermelon          50"
            ]
          },
          "metadata": {
            "tags": []
          },
          "execution_count": 53
        }
      ]
    },
    {
      "cell_type": "markdown",
      "metadata": {
        "id": "iy7-41bVQ8LW"
      },
      "source": [
        "By default pd.merge will keep only intersection common items in merging columns."
      ]
    },
    {
      "cell_type": "code",
      "metadata": {
        "id": "bS1qixqXQ2pw"
      },
      "source": [
        "df5 = pd.DataFrame([['banana', 20],\n",
        "                    ['peach', 30],\n",
        "                    ['avacado', 10],\n",
        "                    ['watermelon',50]], columns=['fruit type','sold'] )"
      ],
      "execution_count": null,
      "outputs": []
    },
    {
      "cell_type": "code",
      "metadata": {
        "colab": {
          "base_uri": "https://localhost:8080/",
          "height": 204
        },
        "id": "ploIFW7aRSfK",
        "outputId": "3b795985-0ca2-412b-db4c-d864d68dfdad"
      },
      "source": [
        "df1.head()"
      ],
      "execution_count": null,
      "outputs": [
        {
          "output_type": "execute_result",
          "data": {
            "text/html": [
              "<div>\n",
              "<style scoped>\n",
              "    .dataframe tbody tr th:only-of-type {\n",
              "        vertical-align: middle;\n",
              "    }\n",
              "\n",
              "    .dataframe tbody tr th {\n",
              "        vertical-align: top;\n",
              "    }\n",
              "\n",
              "    .dataframe thead th {\n",
              "        text-align: right;\n",
              "    }\n",
              "</style>\n",
              "<table border=\"1\" class=\"dataframe\">\n",
              "  <thead>\n",
              "    <tr style=\"text-align: right;\">\n",
              "      <th></th>\n",
              "      <th>bazar location</th>\n",
              "      <th>fruit type</th>\n",
              "      <th>bought</th>\n",
              "    </tr>\n",
              "  </thead>\n",
              "  <tbody>\n",
              "    <tr>\n",
              "      <th>0</th>\n",
              "      <td>osh</td>\n",
              "      <td>banana</td>\n",
              "      <td>10</td>\n",
              "    </tr>\n",
              "    <tr>\n",
              "      <th>1</th>\n",
              "      <td>orto-sai</td>\n",
              "      <td>banana</td>\n",
              "      <td>15</td>\n",
              "    </tr>\n",
              "    <tr>\n",
              "      <th>2</th>\n",
              "      <td>batken</td>\n",
              "      <td>peach</td>\n",
              "      <td>25</td>\n",
              "    </tr>\n",
              "    <tr>\n",
              "      <th>3</th>\n",
              "      <td>dordoi</td>\n",
              "      <td>watermelon</td>\n",
              "      <td>60</td>\n",
              "    </tr>\n",
              "    <tr>\n",
              "      <th>4</th>\n",
              "      <td>osh</td>\n",
              "      <td>watermelon</td>\n",
              "      <td>70</td>\n",
              "    </tr>\n",
              "  </tbody>\n",
              "</table>\n",
              "</div>"
            ],
            "text/plain": [
              "  bazar location  fruit type  bought\n",
              "0            osh      banana      10\n",
              "1       orto-sai      banana      15\n",
              "2         batken       peach      25\n",
              "3         dordoi  watermelon      60\n",
              "4            osh  watermelon      70"
            ]
          },
          "metadata": {
            "tags": []
          },
          "execution_count": 64
        }
      ]
    },
    {
      "cell_type": "code",
      "metadata": {
        "colab": {
          "base_uri": "https://localhost:8080/",
          "height": 173
        },
        "id": "m8pKj6ZxRThR",
        "outputId": "f9d06cec-c33f-441d-ab27-7b853ab803bb"
      },
      "source": [
        "df5.head()"
      ],
      "execution_count": null,
      "outputs": [
        {
          "output_type": "execute_result",
          "data": {
            "text/html": [
              "<div>\n",
              "<style scoped>\n",
              "    .dataframe tbody tr th:only-of-type {\n",
              "        vertical-align: middle;\n",
              "    }\n",
              "\n",
              "    .dataframe tbody tr th {\n",
              "        vertical-align: top;\n",
              "    }\n",
              "\n",
              "    .dataframe thead th {\n",
              "        text-align: right;\n",
              "    }\n",
              "</style>\n",
              "<table border=\"1\" class=\"dataframe\">\n",
              "  <thead>\n",
              "    <tr style=\"text-align: right;\">\n",
              "      <th></th>\n",
              "      <th>fruit type</th>\n",
              "      <th>sold</th>\n",
              "    </tr>\n",
              "  </thead>\n",
              "  <tbody>\n",
              "    <tr>\n",
              "      <th>0</th>\n",
              "      <td>banana</td>\n",
              "      <td>20</td>\n",
              "    </tr>\n",
              "    <tr>\n",
              "      <th>1</th>\n",
              "      <td>peach</td>\n",
              "      <td>30</td>\n",
              "    </tr>\n",
              "    <tr>\n",
              "      <th>2</th>\n",
              "      <td>avacado</td>\n",
              "      <td>10</td>\n",
              "    </tr>\n",
              "    <tr>\n",
              "      <th>3</th>\n",
              "      <td>watermelon</td>\n",
              "      <td>50</td>\n",
              "    </tr>\n",
              "  </tbody>\n",
              "</table>\n",
              "</div>"
            ],
            "text/plain": [
              "   fruit type  sold\n",
              "0      banana    20\n",
              "1       peach    30\n",
              "2     avacado    10\n",
              "3  watermelon    50"
            ]
          },
          "metadata": {
            "tags": []
          },
          "execution_count": 65
        }
      ]
    },
    {
      "cell_type": "code",
      "metadata": {
        "colab": {
          "base_uri": "https://localhost:8080/",
          "height": 204
        },
        "id": "C63GtjnWRU95",
        "outputId": "82a04e59-88f4-47da-dc04-ecd4a7c9f164"
      },
      "source": [
        "pd.merge(df1, df5, on='fruit type')"
      ],
      "execution_count": null,
      "outputs": [
        {
          "output_type": "execute_result",
          "data": {
            "text/html": [
              "<div>\n",
              "<style scoped>\n",
              "    .dataframe tbody tr th:only-of-type {\n",
              "        vertical-align: middle;\n",
              "    }\n",
              "\n",
              "    .dataframe tbody tr th {\n",
              "        vertical-align: top;\n",
              "    }\n",
              "\n",
              "    .dataframe thead th {\n",
              "        text-align: right;\n",
              "    }\n",
              "</style>\n",
              "<table border=\"1\" class=\"dataframe\">\n",
              "  <thead>\n",
              "    <tr style=\"text-align: right;\">\n",
              "      <th></th>\n",
              "      <th>bazar location</th>\n",
              "      <th>fruit type</th>\n",
              "      <th>bought</th>\n",
              "      <th>sold</th>\n",
              "    </tr>\n",
              "  </thead>\n",
              "  <tbody>\n",
              "    <tr>\n",
              "      <th>0</th>\n",
              "      <td>osh</td>\n",
              "      <td>banana</td>\n",
              "      <td>10</td>\n",
              "      <td>20</td>\n",
              "    </tr>\n",
              "    <tr>\n",
              "      <th>1</th>\n",
              "      <td>orto-sai</td>\n",
              "      <td>banana</td>\n",
              "      <td>15</td>\n",
              "      <td>20</td>\n",
              "    </tr>\n",
              "    <tr>\n",
              "      <th>2</th>\n",
              "      <td>batken</td>\n",
              "      <td>peach</td>\n",
              "      <td>25</td>\n",
              "      <td>30</td>\n",
              "    </tr>\n",
              "    <tr>\n",
              "      <th>3</th>\n",
              "      <td>dordoi</td>\n",
              "      <td>watermelon</td>\n",
              "      <td>60</td>\n",
              "      <td>50</td>\n",
              "    </tr>\n",
              "    <tr>\n",
              "      <th>4</th>\n",
              "      <td>osh</td>\n",
              "      <td>watermelon</td>\n",
              "      <td>70</td>\n",
              "      <td>50</td>\n",
              "    </tr>\n",
              "  </tbody>\n",
              "</table>\n",
              "</div>"
            ],
            "text/plain": [
              "  bazar location  fruit type  bought  sold\n",
              "0            osh      banana      10    20\n",
              "1       orto-sai      banana      15    20\n",
              "2         batken       peach      25    30\n",
              "3         dordoi  watermelon      60    50\n",
              "4            osh  watermelon      70    50"
            ]
          },
          "metadata": {
            "tags": []
          },
          "execution_count": 67
        }
      ]
    },
    {
      "cell_type": "code",
      "metadata": {
        "colab": {
          "base_uri": "https://localhost:8080/",
          "height": 235
        },
        "id": "2kTcTkP2Rd-b",
        "outputId": "a6d3ede5-c01d-45e2-be3e-c3c6fc545a77"
      },
      "source": [
        "pd.merge(df1, df5, on ='fruit type', how='outer')"
      ],
      "execution_count": null,
      "outputs": [
        {
          "output_type": "execute_result",
          "data": {
            "text/html": [
              "<div>\n",
              "<style scoped>\n",
              "    .dataframe tbody tr th:only-of-type {\n",
              "        vertical-align: middle;\n",
              "    }\n",
              "\n",
              "    .dataframe tbody tr th {\n",
              "        vertical-align: top;\n",
              "    }\n",
              "\n",
              "    .dataframe thead th {\n",
              "        text-align: right;\n",
              "    }\n",
              "</style>\n",
              "<table border=\"1\" class=\"dataframe\">\n",
              "  <thead>\n",
              "    <tr style=\"text-align: right;\">\n",
              "      <th></th>\n",
              "      <th>bazar location</th>\n",
              "      <th>fruit type</th>\n",
              "      <th>bought</th>\n",
              "      <th>sold</th>\n",
              "    </tr>\n",
              "  </thead>\n",
              "  <tbody>\n",
              "    <tr>\n",
              "      <th>0</th>\n",
              "      <td>osh</td>\n",
              "      <td>banana</td>\n",
              "      <td>10.0</td>\n",
              "      <td>20</td>\n",
              "    </tr>\n",
              "    <tr>\n",
              "      <th>1</th>\n",
              "      <td>orto-sai</td>\n",
              "      <td>banana</td>\n",
              "      <td>15.0</td>\n",
              "      <td>20</td>\n",
              "    </tr>\n",
              "    <tr>\n",
              "      <th>2</th>\n",
              "      <td>batken</td>\n",
              "      <td>peach</td>\n",
              "      <td>25.0</td>\n",
              "      <td>30</td>\n",
              "    </tr>\n",
              "    <tr>\n",
              "      <th>3</th>\n",
              "      <td>dordoi</td>\n",
              "      <td>watermelon</td>\n",
              "      <td>60.0</td>\n",
              "      <td>50</td>\n",
              "    </tr>\n",
              "    <tr>\n",
              "      <th>4</th>\n",
              "      <td>osh</td>\n",
              "      <td>watermelon</td>\n",
              "      <td>70.0</td>\n",
              "      <td>50</td>\n",
              "    </tr>\n",
              "    <tr>\n",
              "      <th>5</th>\n",
              "      <td>NaN</td>\n",
              "      <td>avacado</td>\n",
              "      <td>NaN</td>\n",
              "      <td>10</td>\n",
              "    </tr>\n",
              "  </tbody>\n",
              "</table>\n",
              "</div>"
            ],
            "text/plain": [
              "  bazar location  fruit type  bought  sold\n",
              "0            osh      banana    10.0    20\n",
              "1       orto-sai      banana    15.0    20\n",
              "2         batken       peach    25.0    30\n",
              "3         dordoi  watermelon    60.0    50\n",
              "4            osh  watermelon    70.0    50\n",
              "5            NaN     avacado     NaN    10"
            ]
          },
          "metadata": {
            "tags": []
          },
          "execution_count": 68
        }
      ]
    },
    {
      "cell_type": "code",
      "metadata": {
        "id": "ie-3mP8x1Ul7"
      },
      "source": [
        "grd1 = pd.DataFrame([['Alex', 'A+'],\n",
        "              ['Amanda', 'B+'],\n",
        "              ['Jonathan', 'D'],\n",
        "              ['Mike','B']], columns=['name', 'math'])\n",
        "grd2 = pd.DataFrame([['Alex', 'D+'],\n",
        "              ['Pablo', 'B+'],\n",
        "              ['Eric', 'A'],\n",
        "              ['Mike','B']], columns=['name', 'english'])"
      ],
      "execution_count": null,
      "outputs": []
    },
    {
      "cell_type": "code",
      "metadata": {
        "colab": {
          "base_uri": "https://localhost:8080/",
          "height": 173
        },
        "id": "AbwA5bub1hQL",
        "outputId": "dbf05ff6-e95f-4d4c-882b-801ea6a71032"
      },
      "source": [
        "grd1.head()"
      ],
      "execution_count": null,
      "outputs": [
        {
          "output_type": "execute_result",
          "data": {
            "text/html": [
              "<div>\n",
              "<style scoped>\n",
              "    .dataframe tbody tr th:only-of-type {\n",
              "        vertical-align: middle;\n",
              "    }\n",
              "\n",
              "    .dataframe tbody tr th {\n",
              "        vertical-align: top;\n",
              "    }\n",
              "\n",
              "    .dataframe thead th {\n",
              "        text-align: right;\n",
              "    }\n",
              "</style>\n",
              "<table border=\"1\" class=\"dataframe\">\n",
              "  <thead>\n",
              "    <tr style=\"text-align: right;\">\n",
              "      <th></th>\n",
              "      <th>name</th>\n",
              "      <th>math</th>\n",
              "    </tr>\n",
              "  </thead>\n",
              "  <tbody>\n",
              "    <tr>\n",
              "      <th>0</th>\n",
              "      <td>Alex</td>\n",
              "      <td>A+</td>\n",
              "    </tr>\n",
              "    <tr>\n",
              "      <th>1</th>\n",
              "      <td>Amanda</td>\n",
              "      <td>B+</td>\n",
              "    </tr>\n",
              "    <tr>\n",
              "      <th>2</th>\n",
              "      <td>Jonathan</td>\n",
              "      <td>D</td>\n",
              "    </tr>\n",
              "    <tr>\n",
              "      <th>3</th>\n",
              "      <td>Mike</td>\n",
              "      <td>B</td>\n",
              "    </tr>\n",
              "  </tbody>\n",
              "</table>\n",
              "</div>"
            ],
            "text/plain": [
              "       name math\n",
              "0      Alex   A+\n",
              "1    Amanda   B+\n",
              "2  Jonathan    D\n",
              "3      Mike    B"
            ]
          },
          "metadata": {
            "tags": []
          },
          "execution_count": 5
        }
      ]
    },
    {
      "cell_type": "code",
      "metadata": {
        "colab": {
          "base_uri": "https://localhost:8080/",
          "height": 173
        },
        "id": "sbQaftyD1i3J",
        "outputId": "3ace6df9-fa62-471c-8341-55d85d4dff59"
      },
      "source": [
        "grd2.head()"
      ],
      "execution_count": null,
      "outputs": [
        {
          "output_type": "execute_result",
          "data": {
            "text/html": [
              "<div>\n",
              "<style scoped>\n",
              "    .dataframe tbody tr th:only-of-type {\n",
              "        vertical-align: middle;\n",
              "    }\n",
              "\n",
              "    .dataframe tbody tr th {\n",
              "        vertical-align: top;\n",
              "    }\n",
              "\n",
              "    .dataframe thead th {\n",
              "        text-align: right;\n",
              "    }\n",
              "</style>\n",
              "<table border=\"1\" class=\"dataframe\">\n",
              "  <thead>\n",
              "    <tr style=\"text-align: right;\">\n",
              "      <th></th>\n",
              "      <th>name</th>\n",
              "      <th>english</th>\n",
              "    </tr>\n",
              "  </thead>\n",
              "  <tbody>\n",
              "    <tr>\n",
              "      <th>0</th>\n",
              "      <td>Alex</td>\n",
              "      <td>D+</td>\n",
              "    </tr>\n",
              "    <tr>\n",
              "      <th>1</th>\n",
              "      <td>Pablo</td>\n",
              "      <td>B+</td>\n",
              "    </tr>\n",
              "    <tr>\n",
              "      <th>2</th>\n",
              "      <td>Eric</td>\n",
              "      <td>A</td>\n",
              "    </tr>\n",
              "    <tr>\n",
              "      <th>3</th>\n",
              "      <td>Mike</td>\n",
              "      <td>B</td>\n",
              "    </tr>\n",
              "  </tbody>\n",
              "</table>\n",
              "</div>"
            ],
            "text/plain": [
              "    name english\n",
              "0   Alex      D+\n",
              "1  Pablo      B+\n",
              "2   Eric       A\n",
              "3   Mike       B"
            ]
          },
          "metadata": {
            "tags": []
          },
          "execution_count": 6
        }
      ]
    },
    {
      "cell_type": "code",
      "metadata": {
        "colab": {
          "base_uri": "https://localhost:8080/",
          "height": 235
        },
        "id": "VllmThmP1kWB",
        "outputId": "4e85464f-4fc1-49a3-ebeb-16b48a926327"
      },
      "source": [
        "pd.merge(grd1, grd2, on='name', how='outer')"
      ],
      "execution_count": null,
      "outputs": [
        {
          "output_type": "execute_result",
          "data": {
            "text/html": [
              "<div>\n",
              "<style scoped>\n",
              "    .dataframe tbody tr th:only-of-type {\n",
              "        vertical-align: middle;\n",
              "    }\n",
              "\n",
              "    .dataframe tbody tr th {\n",
              "        vertical-align: top;\n",
              "    }\n",
              "\n",
              "    .dataframe thead th {\n",
              "        text-align: right;\n",
              "    }\n",
              "</style>\n",
              "<table border=\"1\" class=\"dataframe\">\n",
              "  <thead>\n",
              "    <tr style=\"text-align: right;\">\n",
              "      <th></th>\n",
              "      <th>name</th>\n",
              "      <th>math</th>\n",
              "      <th>english</th>\n",
              "    </tr>\n",
              "  </thead>\n",
              "  <tbody>\n",
              "    <tr>\n",
              "      <th>0</th>\n",
              "      <td>Alex</td>\n",
              "      <td>A+</td>\n",
              "      <td>D+</td>\n",
              "    </tr>\n",
              "    <tr>\n",
              "      <th>1</th>\n",
              "      <td>Amanda</td>\n",
              "      <td>B+</td>\n",
              "      <td>NaN</td>\n",
              "    </tr>\n",
              "    <tr>\n",
              "      <th>2</th>\n",
              "      <td>Jonathan</td>\n",
              "      <td>D</td>\n",
              "      <td>NaN</td>\n",
              "    </tr>\n",
              "    <tr>\n",
              "      <th>3</th>\n",
              "      <td>Mike</td>\n",
              "      <td>B</td>\n",
              "      <td>B</td>\n",
              "    </tr>\n",
              "    <tr>\n",
              "      <th>4</th>\n",
              "      <td>Pablo</td>\n",
              "      <td>NaN</td>\n",
              "      <td>B+</td>\n",
              "    </tr>\n",
              "    <tr>\n",
              "      <th>5</th>\n",
              "      <td>Eric</td>\n",
              "      <td>NaN</td>\n",
              "      <td>A</td>\n",
              "    </tr>\n",
              "  </tbody>\n",
              "</table>\n",
              "</div>"
            ],
            "text/plain": [
              "       name math english\n",
              "0      Alex   A+      D+\n",
              "1    Amanda   B+     NaN\n",
              "2  Jonathan    D     NaN\n",
              "3      Mike    B       B\n",
              "4     Pablo  NaN      B+\n",
              "5      Eric  NaN       A"
            ]
          },
          "metadata": {
            "tags": []
          },
          "execution_count": 7
        }
      ]
    },
    {
      "cell_type": "code",
      "metadata": {
        "colab": {
          "base_uri": "https://localhost:8080/",
          "height": 173
        },
        "id": "sTQyp0Rt1mNG",
        "outputId": "6a52dc86-fd70-4275-9eb0-869ee4dc5bd6"
      },
      "source": [
        "pd.merge(grd1, grd2, on='name', how='left')"
      ],
      "execution_count": null,
      "outputs": [
        {
          "output_type": "execute_result",
          "data": {
            "text/html": [
              "<div>\n",
              "<style scoped>\n",
              "    .dataframe tbody tr th:only-of-type {\n",
              "        vertical-align: middle;\n",
              "    }\n",
              "\n",
              "    .dataframe tbody tr th {\n",
              "        vertical-align: top;\n",
              "    }\n",
              "\n",
              "    .dataframe thead th {\n",
              "        text-align: right;\n",
              "    }\n",
              "</style>\n",
              "<table border=\"1\" class=\"dataframe\">\n",
              "  <thead>\n",
              "    <tr style=\"text-align: right;\">\n",
              "      <th></th>\n",
              "      <th>name</th>\n",
              "      <th>math</th>\n",
              "      <th>english</th>\n",
              "    </tr>\n",
              "  </thead>\n",
              "  <tbody>\n",
              "    <tr>\n",
              "      <th>0</th>\n",
              "      <td>Alex</td>\n",
              "      <td>A+</td>\n",
              "      <td>D+</td>\n",
              "    </tr>\n",
              "    <tr>\n",
              "      <th>1</th>\n",
              "      <td>Amanda</td>\n",
              "      <td>B+</td>\n",
              "      <td>NaN</td>\n",
              "    </tr>\n",
              "    <tr>\n",
              "      <th>2</th>\n",
              "      <td>Jonathan</td>\n",
              "      <td>D</td>\n",
              "      <td>NaN</td>\n",
              "    </tr>\n",
              "    <tr>\n",
              "      <th>3</th>\n",
              "      <td>Mike</td>\n",
              "      <td>B</td>\n",
              "      <td>B</td>\n",
              "    </tr>\n",
              "  </tbody>\n",
              "</table>\n",
              "</div>"
            ],
            "text/plain": [
              "       name math english\n",
              "0      Alex   A+      D+\n",
              "1    Amanda   B+     NaN\n",
              "2  Jonathan    D     NaN\n",
              "3      Mike    B       B"
            ]
          },
          "metadata": {
            "tags": []
          },
          "execution_count": 8
        }
      ]
    },
    {
      "cell_type": "code",
      "metadata": {
        "colab": {
          "base_uri": "https://localhost:8080/",
          "height": 168
        },
        "id": "tsYNQZRb2O1T",
        "outputId": "4a0cf20d-0667-4858-f287-c90600f3239a"
      },
      "source": [
        "pd.merge(grd1, grd2, on='name', how='right')"
      ],
      "execution_count": null,
      "outputs": [
        {
          "output_type": "execute_result",
          "data": {
            "text/html": [
              "<div>\n",
              "<style scoped>\n",
              "    .dataframe tbody tr th:only-of-type {\n",
              "        vertical-align: middle;\n",
              "    }\n",
              "\n",
              "    .dataframe tbody tr th {\n",
              "        vertical-align: top;\n",
              "    }\n",
              "\n",
              "    .dataframe thead th {\n",
              "        text-align: right;\n",
              "    }\n",
              "</style>\n",
              "<table border=\"1\" class=\"dataframe\">\n",
              "  <thead>\n",
              "    <tr style=\"text-align: right;\">\n",
              "      <th></th>\n",
              "      <th>name</th>\n",
              "      <th>math</th>\n",
              "      <th>english</th>\n",
              "    </tr>\n",
              "  </thead>\n",
              "  <tbody>\n",
              "    <tr>\n",
              "      <th>0</th>\n",
              "      <td>Alex</td>\n",
              "      <td>A+</td>\n",
              "      <td>D+</td>\n",
              "    </tr>\n",
              "    <tr>\n",
              "      <th>1</th>\n",
              "      <td>Pablo</td>\n",
              "      <td>NaN</td>\n",
              "      <td>B+</td>\n",
              "    </tr>\n",
              "    <tr>\n",
              "      <th>2</th>\n",
              "      <td>Eric</td>\n",
              "      <td>NaN</td>\n",
              "      <td>A</td>\n",
              "    </tr>\n",
              "    <tr>\n",
              "      <th>3</th>\n",
              "      <td>Mike</td>\n",
              "      <td>B</td>\n",
              "      <td>B</td>\n",
              "    </tr>\n",
              "  </tbody>\n",
              "</table>\n",
              "</div>"
            ],
            "text/plain": [
              "    name math english\n",
              "0   Alex   A+      D+\n",
              "1  Pablo  NaN      B+\n",
              "2   Eric  NaN       A\n",
              "3   Mike    B       B"
            ]
          },
          "metadata": {
            "tags": []
          },
          "execution_count": 9
        }
      ]
    },
    {
      "cell_type": "code",
      "metadata": {
        "colab": {
          "base_uri": "https://localhost:8080/",
          "height": 348
        },
        "id": "zl72Bibd2QBW",
        "outputId": "9016ff97-f3b1-425b-8680-34f9be702846"
      },
      "source": [
        "from IPython.display import Image\n",
        "from IPython.core.display import HTML \n",
        "Image(url= \"https://www.dofactory.com/img/sql/sql-joins.png\")"
      ],
      "execution_count": null,
      "outputs": [
        {
          "output_type": "execute_result",
          "data": {
            "text/html": [
              "<img src=\"https://www.dofactory.com/img/sql/sql-joins.png\"/>"
            ],
            "text/plain": [
              "<IPython.core.display.Image object>"
            ]
          },
          "metadata": {
            "tags": []
          },
          "execution_count": 10
        }
      ]
    },
    {
      "cell_type": "code",
      "metadata": {
        "id": "IUWLFmiy2nUy"
      },
      "source": [
        "grd1 = pd.DataFrame( [['Romanov','Alex', 'A+'],\n",
        "                      ['Kubanov','Alex', 'B+'],\n",
        "                      ['Ivanova','Amanda', 'B+'],\n",
        "                      ['Petrova', 'Amanda', 'D'],\n",
        "                      ['Alekseev','Mike','B']], columns=['last name', 'first name', 'math'])\n",
        "\n",
        "grd2 = pd.DataFrame( [['Romanov','Alex', 'D+'],\n",
        "                      ['Kubanov','Alex', 'C-'],\n",
        "                      ['Reznikov','Pablo', 'B+'],\n",
        "                      ['Vorhaar','Eric', 'A'],\n",
        "                      ['Alekseev','Mike','B']], columns=['last name', 'first name', 'english'])"
      ],
      "execution_count": null,
      "outputs": []
    },
    {
      "cell_type": "code",
      "metadata": {
        "colab": {
          "base_uri": "https://localhost:8080/",
          "height": 204
        },
        "id": "Eq3PXQic5TXS",
        "outputId": "b5a2f7bb-4001-4ab5-ca82-d63e8b52f028"
      },
      "source": [
        "grd1.head()"
      ],
      "execution_count": null,
      "outputs": [
        {
          "output_type": "execute_result",
          "data": {
            "text/html": [
              "<div>\n",
              "<style scoped>\n",
              "    .dataframe tbody tr th:only-of-type {\n",
              "        vertical-align: middle;\n",
              "    }\n",
              "\n",
              "    .dataframe tbody tr th {\n",
              "        vertical-align: top;\n",
              "    }\n",
              "\n",
              "    .dataframe thead th {\n",
              "        text-align: right;\n",
              "    }\n",
              "</style>\n",
              "<table border=\"1\" class=\"dataframe\">\n",
              "  <thead>\n",
              "    <tr style=\"text-align: right;\">\n",
              "      <th></th>\n",
              "      <th>last name</th>\n",
              "      <th>first name</th>\n",
              "      <th>math</th>\n",
              "    </tr>\n",
              "  </thead>\n",
              "  <tbody>\n",
              "    <tr>\n",
              "      <th>0</th>\n",
              "      <td>Romanov</td>\n",
              "      <td>Alex</td>\n",
              "      <td>A+</td>\n",
              "    </tr>\n",
              "    <tr>\n",
              "      <th>1</th>\n",
              "      <td>Kubanov</td>\n",
              "      <td>Alex</td>\n",
              "      <td>B+</td>\n",
              "    </tr>\n",
              "    <tr>\n",
              "      <th>2</th>\n",
              "      <td>Ivanova</td>\n",
              "      <td>Amanda</td>\n",
              "      <td>B+</td>\n",
              "    </tr>\n",
              "    <tr>\n",
              "      <th>3</th>\n",
              "      <td>Petrova</td>\n",
              "      <td>Amanda</td>\n",
              "      <td>D</td>\n",
              "    </tr>\n",
              "    <tr>\n",
              "      <th>4</th>\n",
              "      <td>Alekseev</td>\n",
              "      <td>Mike</td>\n",
              "      <td>B</td>\n",
              "    </tr>\n",
              "  </tbody>\n",
              "</table>\n",
              "</div>"
            ],
            "text/plain": [
              "  last name first name math\n",
              "0   Romanov       Alex   A+\n",
              "1   Kubanov       Alex   B+\n",
              "2   Ivanova     Amanda   B+\n",
              "3   Petrova     Amanda    D\n",
              "4  Alekseev       Mike    B"
            ]
          },
          "metadata": {
            "tags": []
          },
          "execution_count": 12
        }
      ]
    },
    {
      "cell_type": "code",
      "metadata": {
        "colab": {
          "base_uri": "https://localhost:8080/",
          "height": 204
        },
        "id": "EBzNzEVW5VK2",
        "outputId": "3730fae1-2a98-49b4-d582-bc7cbd7ce3ae"
      },
      "source": [
        "grd2.head()"
      ],
      "execution_count": null,
      "outputs": [
        {
          "output_type": "execute_result",
          "data": {
            "text/html": [
              "<div>\n",
              "<style scoped>\n",
              "    .dataframe tbody tr th:only-of-type {\n",
              "        vertical-align: middle;\n",
              "    }\n",
              "\n",
              "    .dataframe tbody tr th {\n",
              "        vertical-align: top;\n",
              "    }\n",
              "\n",
              "    .dataframe thead th {\n",
              "        text-align: right;\n",
              "    }\n",
              "</style>\n",
              "<table border=\"1\" class=\"dataframe\">\n",
              "  <thead>\n",
              "    <tr style=\"text-align: right;\">\n",
              "      <th></th>\n",
              "      <th>last name</th>\n",
              "      <th>first name</th>\n",
              "      <th>english</th>\n",
              "    </tr>\n",
              "  </thead>\n",
              "  <tbody>\n",
              "    <tr>\n",
              "      <th>0</th>\n",
              "      <td>Romanov</td>\n",
              "      <td>Alex</td>\n",
              "      <td>D+</td>\n",
              "    </tr>\n",
              "    <tr>\n",
              "      <th>1</th>\n",
              "      <td>Kubanov</td>\n",
              "      <td>Alex</td>\n",
              "      <td>C-</td>\n",
              "    </tr>\n",
              "    <tr>\n",
              "      <th>2</th>\n",
              "      <td>Reznikov</td>\n",
              "      <td>Pablo</td>\n",
              "      <td>B+</td>\n",
              "    </tr>\n",
              "    <tr>\n",
              "      <th>3</th>\n",
              "      <td>Vorhaar</td>\n",
              "      <td>Eric</td>\n",
              "      <td>A</td>\n",
              "    </tr>\n",
              "    <tr>\n",
              "      <th>4</th>\n",
              "      <td>Alekseev</td>\n",
              "      <td>Mike</td>\n",
              "      <td>B</td>\n",
              "    </tr>\n",
              "  </tbody>\n",
              "</table>\n",
              "</div>"
            ],
            "text/plain": [
              "  last name first name english\n",
              "0   Romanov       Alex      D+\n",
              "1   Kubanov       Alex      C-\n",
              "2  Reznikov      Pablo      B+\n",
              "3   Vorhaar       Eric       A\n",
              "4  Alekseev       Mike       B"
            ]
          },
          "metadata": {
            "tags": []
          },
          "execution_count": 13
        }
      ]
    },
    {
      "cell_type": "code",
      "metadata": {
        "colab": {
          "base_uri": "https://localhost:8080/",
          "height": 328
        },
        "id": "TetpQ4tQ5XA1",
        "outputId": "053935a0-a08b-4f10-ce8c-0af252c7052d"
      },
      "source": [
        "pd.merge(grd1, grd2, on='first name', how='outer')"
      ],
      "execution_count": null,
      "outputs": [
        {
          "output_type": "execute_result",
          "data": {
            "text/html": [
              "<div>\n",
              "<style scoped>\n",
              "    .dataframe tbody tr th:only-of-type {\n",
              "        vertical-align: middle;\n",
              "    }\n",
              "\n",
              "    .dataframe tbody tr th {\n",
              "        vertical-align: top;\n",
              "    }\n",
              "\n",
              "    .dataframe thead th {\n",
              "        text-align: right;\n",
              "    }\n",
              "</style>\n",
              "<table border=\"1\" class=\"dataframe\">\n",
              "  <thead>\n",
              "    <tr style=\"text-align: right;\">\n",
              "      <th></th>\n",
              "      <th>last name_x</th>\n",
              "      <th>first name</th>\n",
              "      <th>math</th>\n",
              "      <th>last name_y</th>\n",
              "      <th>english</th>\n",
              "    </tr>\n",
              "  </thead>\n",
              "  <tbody>\n",
              "    <tr>\n",
              "      <th>0</th>\n",
              "      <td>Romanov</td>\n",
              "      <td>Alex</td>\n",
              "      <td>A+</td>\n",
              "      <td>Romanov</td>\n",
              "      <td>D+</td>\n",
              "    </tr>\n",
              "    <tr>\n",
              "      <th>1</th>\n",
              "      <td>Romanov</td>\n",
              "      <td>Alex</td>\n",
              "      <td>A+</td>\n",
              "      <td>Kubanov</td>\n",
              "      <td>C-</td>\n",
              "    </tr>\n",
              "    <tr>\n",
              "      <th>2</th>\n",
              "      <td>Kubanov</td>\n",
              "      <td>Alex</td>\n",
              "      <td>B+</td>\n",
              "      <td>Romanov</td>\n",
              "      <td>D+</td>\n",
              "    </tr>\n",
              "    <tr>\n",
              "      <th>3</th>\n",
              "      <td>Kubanov</td>\n",
              "      <td>Alex</td>\n",
              "      <td>B+</td>\n",
              "      <td>Kubanov</td>\n",
              "      <td>C-</td>\n",
              "    </tr>\n",
              "    <tr>\n",
              "      <th>4</th>\n",
              "      <td>Ivanova</td>\n",
              "      <td>Amanda</td>\n",
              "      <td>B+</td>\n",
              "      <td>NaN</td>\n",
              "      <td>NaN</td>\n",
              "    </tr>\n",
              "    <tr>\n",
              "      <th>5</th>\n",
              "      <td>Petrova</td>\n",
              "      <td>Amanda</td>\n",
              "      <td>D</td>\n",
              "      <td>NaN</td>\n",
              "      <td>NaN</td>\n",
              "    </tr>\n",
              "    <tr>\n",
              "      <th>6</th>\n",
              "      <td>Alekseev</td>\n",
              "      <td>Mike</td>\n",
              "      <td>B</td>\n",
              "      <td>Alekseev</td>\n",
              "      <td>B</td>\n",
              "    </tr>\n",
              "    <tr>\n",
              "      <th>7</th>\n",
              "      <td>NaN</td>\n",
              "      <td>Pablo</td>\n",
              "      <td>NaN</td>\n",
              "      <td>Reznikov</td>\n",
              "      <td>B+</td>\n",
              "    </tr>\n",
              "    <tr>\n",
              "      <th>8</th>\n",
              "      <td>NaN</td>\n",
              "      <td>Eric</td>\n",
              "      <td>NaN</td>\n",
              "      <td>Vorhaar</td>\n",
              "      <td>A</td>\n",
              "    </tr>\n",
              "  </tbody>\n",
              "</table>\n",
              "</div>"
            ],
            "text/plain": [
              "  last name_x first name math last name_y english\n",
              "0     Romanov       Alex   A+     Romanov      D+\n",
              "1     Romanov       Alex   A+     Kubanov      C-\n",
              "2     Kubanov       Alex   B+     Romanov      D+\n",
              "3     Kubanov       Alex   B+     Kubanov      C-\n",
              "4     Ivanova     Amanda   B+         NaN     NaN\n",
              "5     Petrova     Amanda    D         NaN     NaN\n",
              "6    Alekseev       Mike    B    Alekseev       B\n",
              "7         NaN      Pablo  NaN    Reznikov      B+\n",
              "8         NaN       Eric  NaN     Vorhaar       A"
            ]
          },
          "metadata": {
            "tags": []
          },
          "execution_count": 14
        }
      ]
    },
    {
      "cell_type": "code",
      "metadata": {
        "colab": {
          "base_uri": "https://localhost:8080/",
          "height": 266
        },
        "id": "ma6Vyi5U5phu",
        "outputId": "459c0096-fcdc-4490-abe8-30a8b8537517"
      },
      "source": [
        "pd.merge(grd1, grd2, on=['last name','first name'], how='outer')"
      ],
      "execution_count": null,
      "outputs": [
        {
          "output_type": "execute_result",
          "data": {
            "text/html": [
              "<div>\n",
              "<style scoped>\n",
              "    .dataframe tbody tr th:only-of-type {\n",
              "        vertical-align: middle;\n",
              "    }\n",
              "\n",
              "    .dataframe tbody tr th {\n",
              "        vertical-align: top;\n",
              "    }\n",
              "\n",
              "    .dataframe thead th {\n",
              "        text-align: right;\n",
              "    }\n",
              "</style>\n",
              "<table border=\"1\" class=\"dataframe\">\n",
              "  <thead>\n",
              "    <tr style=\"text-align: right;\">\n",
              "      <th></th>\n",
              "      <th>last name</th>\n",
              "      <th>first name</th>\n",
              "      <th>math</th>\n",
              "      <th>english</th>\n",
              "    </tr>\n",
              "  </thead>\n",
              "  <tbody>\n",
              "    <tr>\n",
              "      <th>0</th>\n",
              "      <td>Romanov</td>\n",
              "      <td>Alex</td>\n",
              "      <td>A+</td>\n",
              "      <td>D+</td>\n",
              "    </tr>\n",
              "    <tr>\n",
              "      <th>1</th>\n",
              "      <td>Kubanov</td>\n",
              "      <td>Alex</td>\n",
              "      <td>B+</td>\n",
              "      <td>C-</td>\n",
              "    </tr>\n",
              "    <tr>\n",
              "      <th>2</th>\n",
              "      <td>Ivanova</td>\n",
              "      <td>Amanda</td>\n",
              "      <td>B+</td>\n",
              "      <td>NaN</td>\n",
              "    </tr>\n",
              "    <tr>\n",
              "      <th>3</th>\n",
              "      <td>Petrova</td>\n",
              "      <td>Amanda</td>\n",
              "      <td>D</td>\n",
              "      <td>NaN</td>\n",
              "    </tr>\n",
              "    <tr>\n",
              "      <th>4</th>\n",
              "      <td>Alekseev</td>\n",
              "      <td>Mike</td>\n",
              "      <td>B</td>\n",
              "      <td>B</td>\n",
              "    </tr>\n",
              "    <tr>\n",
              "      <th>5</th>\n",
              "      <td>Reznikov</td>\n",
              "      <td>Pablo</td>\n",
              "      <td>NaN</td>\n",
              "      <td>B+</td>\n",
              "    </tr>\n",
              "    <tr>\n",
              "      <th>6</th>\n",
              "      <td>Vorhaar</td>\n",
              "      <td>Eric</td>\n",
              "      <td>NaN</td>\n",
              "      <td>A</td>\n",
              "    </tr>\n",
              "  </tbody>\n",
              "</table>\n",
              "</div>"
            ],
            "text/plain": [
              "  last name first name math english\n",
              "0   Romanov       Alex   A+      D+\n",
              "1   Kubanov       Alex   B+      C-\n",
              "2   Ivanova     Amanda   B+     NaN\n",
              "3   Petrova     Amanda    D     NaN\n",
              "4  Alekseev       Mike    B       B\n",
              "5  Reznikov      Pablo  NaN      B+\n",
              "6   Vorhaar       Eric  NaN       A"
            ]
          },
          "metadata": {
            "tags": []
          },
          "execution_count": 15
        }
      ]
    },
    {
      "cell_type": "code",
      "metadata": {
        "id": "7WMKtDRE6zZb"
      },
      "source": [
        "df_hh1a = pd.read_stata('hh1a.dta')"
      ],
      "execution_count": null,
      "outputs": []
    },
    {
      "cell_type": "code",
      "metadata": {
        "colab": {
          "base_uri": "https://localhost:8080/",
          "height": 204
        },
        "id": "IJo6CdN68RAu",
        "outputId": "6664b03c-b944-47b8-c5d7-f957b3c39394"
      },
      "source": [
        "df_hh1a.head()"
      ],
      "execution_count": null,
      "outputs": [
        {
          "output_type": "execute_result",
          "data": {
            "text/html": [
              "<div>\n",
              "<style scoped>\n",
              "    .dataframe tbody tr th:only-of-type {\n",
              "        vertical-align: middle;\n",
              "    }\n",
              "\n",
              "    .dataframe tbody tr th {\n",
              "        vertical-align: top;\n",
              "    }\n",
              "\n",
              "    .dataframe thead th {\n",
              "        text-align: right;\n",
              "    }\n",
              "</style>\n",
              "<table border=\"1\" class=\"dataframe\">\n",
              "  <thead>\n",
              "    <tr style=\"text-align: right;\">\n",
              "      <th></th>\n",
              "      <th>hhid</th>\n",
              "      <th>pid</th>\n",
              "      <th>h102</th>\n",
              "      <th>h103m</th>\n",
              "      <th>h103y</th>\n",
              "      <th>h103a</th>\n",
              "      <th>h104</th>\n",
              "      <th>h105</th>\n",
              "      <th>h108</th>\n",
              "      <th>h108a</th>\n",
              "      <th>h109</th>\n",
              "      <th>h110</th>\n",
              "    </tr>\n",
              "  </thead>\n",
              "  <tbody>\n",
              "    <tr>\n",
              "      <th>0</th>\n",
              "      <td>2001</td>\n",
              "      <td>1</td>\n",
              "      <td>male</td>\n",
              "      <td>11</td>\n",
              "      <td>1973</td>\n",
              "      <td>43</td>\n",
              "      <td>head</td>\n",
              "      <td>kyrgyz</td>\n",
              "      <td>married</td>\n",
              "      <td>2.0</td>\n",
              "      <td>yes</td>\n",
              "      <td>NaN</td>\n",
              "    </tr>\n",
              "    <tr>\n",
              "      <th>1</th>\n",
              "      <td>2001</td>\n",
              "      <td>2</td>\n",
              "      <td>female</td>\n",
              "      <td>4</td>\n",
              "      <td>1973</td>\n",
              "      <td>43</td>\n",
              "      <td>spouse/ partner</td>\n",
              "      <td>kyrgyz</td>\n",
              "      <td>married</td>\n",
              "      <td>1.0</td>\n",
              "      <td>yes</td>\n",
              "      <td>NaN</td>\n",
              "    </tr>\n",
              "    <tr>\n",
              "      <th>2</th>\n",
              "      <td>2001</td>\n",
              "      <td>3</td>\n",
              "      <td>female</td>\n",
              "      <td>7</td>\n",
              "      <td>1997</td>\n",
              "      <td>19</td>\n",
              "      <td>son/ daughter</td>\n",
              "      <td>kyrgyz</td>\n",
              "      <td>single</td>\n",
              "      <td>NaN</td>\n",
              "      <td>yes</td>\n",
              "      <td>NaN</td>\n",
              "    </tr>\n",
              "    <tr>\n",
              "      <th>3</th>\n",
              "      <td>2001</td>\n",
              "      <td>4</td>\n",
              "      <td>male</td>\n",
              "      <td>2</td>\n",
              "      <td>2002</td>\n",
              "      <td>14</td>\n",
              "      <td>son/ daughter</td>\n",
              "      <td>kyrgyz</td>\n",
              "      <td>NaN</td>\n",
              "      <td>NaN</td>\n",
              "      <td>yes</td>\n",
              "      <td>NaN</td>\n",
              "    </tr>\n",
              "    <tr>\n",
              "      <th>4</th>\n",
              "      <td>2001</td>\n",
              "      <td>5</td>\n",
              "      <td>male</td>\n",
              "      <td>11</td>\n",
              "      <td>2006</td>\n",
              "      <td>10</td>\n",
              "      <td>son/ daughter</td>\n",
              "      <td>kyrgyz</td>\n",
              "      <td>NaN</td>\n",
              "      <td>NaN</td>\n",
              "      <td>yes</td>\n",
              "      <td>NaN</td>\n",
              "    </tr>\n",
              "  </tbody>\n",
              "</table>\n",
              "</div>"
            ],
            "text/plain": [
              "   hhid  pid    h102  h103m  h103y  ...    h105     h108 h108a h109  h110\n",
              "0  2001    1    male     11   1973  ...  kyrgyz  married   2.0  yes   NaN\n",
              "1  2001    2  female      4   1973  ...  kyrgyz  married   1.0  yes   NaN\n",
              "2  2001    3  female      7   1997  ...  kyrgyz   single   NaN  yes   NaN\n",
              "3  2001    4    male      2   2002  ...  kyrgyz      NaN   NaN  yes   NaN\n",
              "4  2001    5    male     11   2006  ...  kyrgyz      NaN   NaN  yes   NaN\n",
              "\n",
              "[5 rows x 12 columns]"
            ]
          },
          "metadata": {
            "tags": []
          },
          "execution_count": 17
        }
      ]
    },
    {
      "cell_type": "code",
      "metadata": {
        "id": "sXQDczZP8SNW"
      },
      "source": [
        "df_id1 = pd.read_stata('id1.dta')"
      ],
      "execution_count": null,
      "outputs": []
    },
    {
      "cell_type": "code",
      "metadata": {
        "colab": {
          "base_uri": "https://localhost:8080/",
          "height": 343
        },
        "id": "15wNCqbC8dO3",
        "outputId": "8adbe5c0-8c33-4844-b49c-2e3bb4ef37b0"
      },
      "source": [
        "df_id1.head()"
      ],
      "execution_count": null,
      "outputs": [
        {
          "output_type": "execute_result",
          "data": {
            "text/html": [
              "<div>\n",
              "<style scoped>\n",
              "    .dataframe tbody tr th:only-of-type {\n",
              "        vertical-align: middle;\n",
              "    }\n",
              "\n",
              "    .dataframe tbody tr th {\n",
              "        vertical-align: top;\n",
              "    }\n",
              "\n",
              "    .dataframe thead th {\n",
              "        text-align: right;\n",
              "    }\n",
              "</style>\n",
              "<table border=\"1\" class=\"dataframe\">\n",
              "  <thead>\n",
              "    <tr style=\"text-align: right;\">\n",
              "      <th></th>\n",
              "      <th>hhid</th>\n",
              "      <th>pid</th>\n",
              "      <th>i100</th>\n",
              "      <th>i101_1</th>\n",
              "      <th>i101_2</th>\n",
              "      <th>i101_3</th>\n",
              "      <th>i101_4</th>\n",
              "      <th>i101_6</th>\n",
              "      <th>i101_7</th>\n",
              "      <th>i101_8</th>\n",
              "      <th>i101_9</th>\n",
              "      <th>i101_10</th>\n",
              "      <th>i103</th>\n",
              "      <th>i102</th>\n",
              "      <th>i104</th>\n",
              "      <th>i106</th>\n",
              "      <th>i107</th>\n",
              "    </tr>\n",
              "  </thead>\n",
              "  <tbody>\n",
              "    <tr>\n",
              "      <th>0</th>\n",
              "      <td>2001</td>\n",
              "      <td>1</td>\n",
              "      <td>9</td>\n",
              "      <td>8</td>\n",
              "      <td>10 (completely satisfied)</td>\n",
              "      <td>9</td>\n",
              "      <td>9</td>\n",
              "      <td>9</td>\n",
              "      <td>10 (completely satisfied)</td>\n",
              "      <td>9</td>\n",
              "      <td>10 (completely satisfied)</td>\n",
              "      <td>9</td>\n",
              "      <td>Some increase</td>\n",
              "      <td>No change</td>\n",
              "      <td>Some increase</td>\n",
              "      <td>7</td>\n",
              "      <td>9</td>\n",
              "    </tr>\n",
              "    <tr>\n",
              "      <th>1</th>\n",
              "      <td>2001</td>\n",
              "      <td>2</td>\n",
              "      <td>9</td>\n",
              "      <td>9</td>\n",
              "      <td>4</td>\n",
              "      <td>6</td>\n",
              "      <td>4</td>\n",
              "      <td>9</td>\n",
              "      <td>9</td>\n",
              "      <td>9</td>\n",
              "      <td>9</td>\n",
              "      <td>8</td>\n",
              "      <td>No change</td>\n",
              "      <td>Some increase</td>\n",
              "      <td>Some increase</td>\n",
              "      <td>7</td>\n",
              "      <td>8</td>\n",
              "    </tr>\n",
              "    <tr>\n",
              "      <th>2</th>\n",
              "      <td>2001</td>\n",
              "      <td>3</td>\n",
              "      <td>8</td>\n",
              "      <td>8</td>\n",
              "      <td>2</td>\n",
              "      <td>6</td>\n",
              "      <td>3</td>\n",
              "      <td>8</td>\n",
              "      <td>not applicable</td>\n",
              "      <td>7</td>\n",
              "      <td>8</td>\n",
              "      <td>7</td>\n",
              "      <td>No change</td>\n",
              "      <td>No change</td>\n",
              "      <td>Some increase</td>\n",
              "      <td>7</td>\n",
              "      <td>completely willing to take risks</td>\n",
              "    </tr>\n",
              "    <tr>\n",
              "      <th>3</th>\n",
              "      <td>2002</td>\n",
              "      <td>1</td>\n",
              "      <td>6</td>\n",
              "      <td>6</td>\n",
              "      <td>6</td>\n",
              "      <td>6</td>\n",
              "      <td>6</td>\n",
              "      <td>6</td>\n",
              "      <td>5</td>\n",
              "      <td>6</td>\n",
              "      <td>6</td>\n",
              "      <td>5</td>\n",
              "      <td>Some increase</td>\n",
              "      <td>Some increase</td>\n",
              "      <td>No change</td>\n",
              "      <td>6</td>\n",
              "      <td>2</td>\n",
              "    </tr>\n",
              "    <tr>\n",
              "      <th>4</th>\n",
              "      <td>2003</td>\n",
              "      <td>1</td>\n",
              "      <td>8</td>\n",
              "      <td>7</td>\n",
              "      <td>8</td>\n",
              "      <td>8</td>\n",
              "      <td>8</td>\n",
              "      <td>8</td>\n",
              "      <td>8</td>\n",
              "      <td>8</td>\n",
              "      <td>8</td>\n",
              "      <td>8</td>\n",
              "      <td>No change</td>\n",
              "      <td>Some increase</td>\n",
              "      <td>Some increase</td>\n",
              "      <td>8</td>\n",
              "      <td>5</td>\n",
              "    </tr>\n",
              "  </tbody>\n",
              "</table>\n",
              "</div>"
            ],
            "text/plain": [
              "   hhid  pid i100  ...           i104 i106                              i107\n",
              "0  2001    1    9  ...  Some increase    7                                 9\n",
              "1  2001    2    9  ...  Some increase    7                                 8\n",
              "2  2001    3    8  ...  Some increase    7  completely willing to take risks\n",
              "3  2002    1    6  ...      No change    6                                 2\n",
              "4  2003    1    8  ...  Some increase    8                                 5\n",
              "\n",
              "[5 rows x 17 columns]"
            ]
          },
          "metadata": {
            "tags": []
          },
          "execution_count": 19
        }
      ]
    },
    {
      "cell_type": "code",
      "metadata": {
        "id": "M7BL_U1D8eLp"
      },
      "source": [
        "df_main = pd.merge(df_hh1a, df_id1, on=['hhid','pid'], how='outer')"
      ],
      "execution_count": null,
      "outputs": []
    },
    {
      "cell_type": "code",
      "metadata": {
        "colab": {
          "base_uri": "https://localhost:8080/",
          "height": 343
        },
        "id": "gW4TyZJq9E9m",
        "outputId": "29694f93-f9e2-4b46-f504-84dfeba69c7b"
      },
      "source": [
        "df_main.head()"
      ],
      "execution_count": null,
      "outputs": [
        {
          "output_type": "execute_result",
          "data": {
            "text/html": [
              "<div>\n",
              "<style scoped>\n",
              "    .dataframe tbody tr th:only-of-type {\n",
              "        vertical-align: middle;\n",
              "    }\n",
              "\n",
              "    .dataframe tbody tr th {\n",
              "        vertical-align: top;\n",
              "    }\n",
              "\n",
              "    .dataframe thead th {\n",
              "        text-align: right;\n",
              "    }\n",
              "</style>\n",
              "<table border=\"1\" class=\"dataframe\">\n",
              "  <thead>\n",
              "    <tr style=\"text-align: right;\">\n",
              "      <th></th>\n",
              "      <th>hhid</th>\n",
              "      <th>pid</th>\n",
              "      <th>h102</th>\n",
              "      <th>h103m</th>\n",
              "      <th>h103y</th>\n",
              "      <th>h103a</th>\n",
              "      <th>h104</th>\n",
              "      <th>h105</th>\n",
              "      <th>h108</th>\n",
              "      <th>h108a</th>\n",
              "      <th>h109</th>\n",
              "      <th>h110</th>\n",
              "      <th>i100</th>\n",
              "      <th>i101_1</th>\n",
              "      <th>i101_2</th>\n",
              "      <th>i101_3</th>\n",
              "      <th>i101_4</th>\n",
              "      <th>i101_6</th>\n",
              "      <th>i101_7</th>\n",
              "      <th>i101_8</th>\n",
              "      <th>i101_9</th>\n",
              "      <th>i101_10</th>\n",
              "      <th>i103</th>\n",
              "      <th>i102</th>\n",
              "      <th>i104</th>\n",
              "      <th>i106</th>\n",
              "      <th>i107</th>\n",
              "    </tr>\n",
              "  </thead>\n",
              "  <tbody>\n",
              "    <tr>\n",
              "      <th>0</th>\n",
              "      <td>2001</td>\n",
              "      <td>1</td>\n",
              "      <td>male</td>\n",
              "      <td>11</td>\n",
              "      <td>1973</td>\n",
              "      <td>43</td>\n",
              "      <td>head</td>\n",
              "      <td>kyrgyz</td>\n",
              "      <td>married</td>\n",
              "      <td>2.0</td>\n",
              "      <td>yes</td>\n",
              "      <td>NaN</td>\n",
              "      <td>9</td>\n",
              "      <td>8</td>\n",
              "      <td>10 (completely satisfied)</td>\n",
              "      <td>9</td>\n",
              "      <td>9</td>\n",
              "      <td>9</td>\n",
              "      <td>10 (completely satisfied)</td>\n",
              "      <td>9</td>\n",
              "      <td>10 (completely satisfied)</td>\n",
              "      <td>9</td>\n",
              "      <td>Some increase</td>\n",
              "      <td>No change</td>\n",
              "      <td>Some increase</td>\n",
              "      <td>7</td>\n",
              "      <td>9</td>\n",
              "    </tr>\n",
              "    <tr>\n",
              "      <th>1</th>\n",
              "      <td>2001</td>\n",
              "      <td>2</td>\n",
              "      <td>female</td>\n",
              "      <td>4</td>\n",
              "      <td>1973</td>\n",
              "      <td>43</td>\n",
              "      <td>spouse/ partner</td>\n",
              "      <td>kyrgyz</td>\n",
              "      <td>married</td>\n",
              "      <td>1.0</td>\n",
              "      <td>yes</td>\n",
              "      <td>NaN</td>\n",
              "      <td>9</td>\n",
              "      <td>9</td>\n",
              "      <td>4</td>\n",
              "      <td>6</td>\n",
              "      <td>4</td>\n",
              "      <td>9</td>\n",
              "      <td>9</td>\n",
              "      <td>9</td>\n",
              "      <td>9</td>\n",
              "      <td>8</td>\n",
              "      <td>No change</td>\n",
              "      <td>Some increase</td>\n",
              "      <td>Some increase</td>\n",
              "      <td>7</td>\n",
              "      <td>8</td>\n",
              "    </tr>\n",
              "    <tr>\n",
              "      <th>2</th>\n",
              "      <td>2001</td>\n",
              "      <td>3</td>\n",
              "      <td>female</td>\n",
              "      <td>7</td>\n",
              "      <td>1997</td>\n",
              "      <td>19</td>\n",
              "      <td>son/ daughter</td>\n",
              "      <td>kyrgyz</td>\n",
              "      <td>single</td>\n",
              "      <td>NaN</td>\n",
              "      <td>yes</td>\n",
              "      <td>NaN</td>\n",
              "      <td>8</td>\n",
              "      <td>8</td>\n",
              "      <td>2</td>\n",
              "      <td>6</td>\n",
              "      <td>3</td>\n",
              "      <td>8</td>\n",
              "      <td>not applicable</td>\n",
              "      <td>7</td>\n",
              "      <td>8</td>\n",
              "      <td>7</td>\n",
              "      <td>No change</td>\n",
              "      <td>No change</td>\n",
              "      <td>Some increase</td>\n",
              "      <td>7</td>\n",
              "      <td>completely willing to take risks</td>\n",
              "    </tr>\n",
              "    <tr>\n",
              "      <th>3</th>\n",
              "      <td>2001</td>\n",
              "      <td>4</td>\n",
              "      <td>male</td>\n",
              "      <td>2</td>\n",
              "      <td>2002</td>\n",
              "      <td>14</td>\n",
              "      <td>son/ daughter</td>\n",
              "      <td>kyrgyz</td>\n",
              "      <td>NaN</td>\n",
              "      <td>NaN</td>\n",
              "      <td>yes</td>\n",
              "      <td>NaN</td>\n",
              "      <td>NaN</td>\n",
              "      <td>NaN</td>\n",
              "      <td>NaN</td>\n",
              "      <td>NaN</td>\n",
              "      <td>NaN</td>\n",
              "      <td>NaN</td>\n",
              "      <td>NaN</td>\n",
              "      <td>NaN</td>\n",
              "      <td>NaN</td>\n",
              "      <td>NaN</td>\n",
              "      <td>NaN</td>\n",
              "      <td>NaN</td>\n",
              "      <td>NaN</td>\n",
              "      <td>NaN</td>\n",
              "      <td>NaN</td>\n",
              "    </tr>\n",
              "    <tr>\n",
              "      <th>4</th>\n",
              "      <td>2001</td>\n",
              "      <td>5</td>\n",
              "      <td>male</td>\n",
              "      <td>11</td>\n",
              "      <td>2006</td>\n",
              "      <td>10</td>\n",
              "      <td>son/ daughter</td>\n",
              "      <td>kyrgyz</td>\n",
              "      <td>NaN</td>\n",
              "      <td>NaN</td>\n",
              "      <td>yes</td>\n",
              "      <td>NaN</td>\n",
              "      <td>NaN</td>\n",
              "      <td>NaN</td>\n",
              "      <td>NaN</td>\n",
              "      <td>NaN</td>\n",
              "      <td>NaN</td>\n",
              "      <td>NaN</td>\n",
              "      <td>NaN</td>\n",
              "      <td>NaN</td>\n",
              "      <td>NaN</td>\n",
              "      <td>NaN</td>\n",
              "      <td>NaN</td>\n",
              "      <td>NaN</td>\n",
              "      <td>NaN</td>\n",
              "      <td>NaN</td>\n",
              "      <td>NaN</td>\n",
              "    </tr>\n",
              "  </tbody>\n",
              "</table>\n",
              "</div>"
            ],
            "text/plain": [
              "   hhid  pid    h102  ...           i104  i106                              i107\n",
              "0  2001    1    male  ...  Some increase     7                                 9\n",
              "1  2001    2  female  ...  Some increase     7                                 8\n",
              "2  2001    3  female  ...  Some increase     7  completely willing to take risks\n",
              "3  2001    4    male  ...            NaN   NaN                               NaN\n",
              "4  2001    5    male  ...            NaN   NaN                               NaN\n",
              "\n",
              "[5 rows x 27 columns]"
            ]
          },
          "metadata": {
            "tags": []
          },
          "execution_count": 41
        }
      ]
    },
    {
      "cell_type": "code",
      "metadata": {
        "colab": {
          "base_uri": "https://localhost:8080/"
        },
        "id": "e_hfI0ZK92Yf",
        "outputId": "cdf1a79d-c7bb-40f3-ec35-3d34cf98dd87"
      },
      "source": [
        "df_main.dtypes"
      ],
      "execution_count": null,
      "outputs": [
        {
          "output_type": "execute_result",
          "data": {
            "text/plain": [
              "hhid          int16\n",
              "pid            int8\n",
              "h102       category\n",
              "h103m          int8\n",
              "h103y         int16\n",
              "h103a          int8\n",
              "h104       category\n",
              "h105       category\n",
              "h108       category\n",
              "h108a       float64\n",
              "h109       category\n",
              "h110       category\n",
              "i100       category\n",
              "i101_1     category\n",
              "i101_2     category\n",
              "i101_3     category\n",
              "i101_4     category\n",
              "i101_6     category\n",
              "i101_7     category\n",
              "i101_8     category\n",
              "i101_9     category\n",
              "i101_10    category\n",
              "i103       category\n",
              "i102       category\n",
              "i104       category\n",
              "i106       category\n",
              "i107       category\n",
              "dtype: object"
            ]
          },
          "metadata": {
            "tags": []
          },
          "execution_count": 28
        }
      ]
    },
    {
      "cell_type": "code",
      "metadata": {
        "id": "LosQ_KEZDf6Q"
      },
      "source": [
        "df_main = df_main.dropna(subset=['i100'])"
      ],
      "execution_count": null,
      "outputs": []
    },
    {
      "cell_type": "code",
      "metadata": {
        "colab": {
          "base_uri": "https://localhost:8080/"
        },
        "id": "URHxx1vW-GPz",
        "outputId": "36dfa1b6-dc85-4c24-ba57-a3d0d2f290b1"
      },
      "source": [
        "df_main['i100']"
      ],
      "execution_count": null,
      "outputs": [
        {
          "output_type": "execute_result",
          "data": {
            "text/plain": [
              "0        9\n",
              "1        9\n",
              "2        8\n",
              "6        6\n",
              "7        8\n",
              "        ..\n",
              "13275    7\n",
              "13278    6\n",
              "13279    6\n",
              "13282    8\n",
              "13283    7\n",
              "Name: i100, Length: 8031, dtype: category\n",
              "Categories (11, object): ['0 (completely dissatisfied)' < 1 < 2 < 3 ... 7 < 8 < 9 < '10 (completely satisfied)']"
            ]
          },
          "metadata": {
            "tags": []
          },
          "execution_count": 45
        }
      ]
    },
    {
      "cell_type": "code",
      "metadata": {
        "colab": {
          "base_uri": "https://localhost:8080/"
        },
        "id": "jvfJhwTLBYJA",
        "outputId": "9abbc4ff-86de-446f-99b7-f7428729edd7"
      },
      "source": [
        "df_main['i100'] = df_main['i100'].cat.codes"
      ],
      "execution_count": null,
      "outputs": [
        {
          "output_type": "stream",
          "text": [
            "/usr/local/lib/python3.6/dist-packages/ipykernel_launcher.py:1: SettingWithCopyWarning: \n",
            "A value is trying to be set on a copy of a slice from a DataFrame.\n",
            "Try using .loc[row_indexer,col_indexer] = value instead\n",
            "\n",
            "See the caveats in the documentation: https://pandas.pydata.org/pandas-docs/stable/user_guide/indexing.html#returning-a-view-versus-a-copy\n",
            "  \"\"\"Entry point for launching an IPython kernel.\n"
          ],
          "name": "stderr"
        }
      ]
    },
    {
      "cell_type": "code",
      "metadata": {
        "colab": {
          "base_uri": "https://localhost:8080/",
          "height": 478
        },
        "id": "Tvntp6Nd9Isx",
        "outputId": "57ec7a0c-3742-4a75-8839-dc6e7026fb79"
      },
      "source": [
        "import seaborn as sns \n",
        "g = sns.FacetGrid(df_main, col=\"h105\",  row=\"h102\")\n",
        "g.map_dataframe(sns.histplot, x=\"i100\", stat=\"probability\", discrete=True)"
      ],
      "execution_count": null,
      "outputs": [
        {
          "output_type": "execute_result",
          "data": {
            "text/plain": [
              "<seaborn.axisgrid.FacetGrid at 0x7fc2cadaec50>"
            ]
          },
          "metadata": {
            "tags": []
          },
          "execution_count": 54
        },
        {
          "output_type": "display_data",
          "data": {
            "image/png": "[encoded data removed]",
            "text/plain": [
              "<Figure size 1728x432 with 16 Axes>"
            ]
          },
          "metadata": {
            "tags": [],
            "needs_background": "light"
          }
        }
      ]
    },
    {
      "cell_type": "code",
      "metadata": {
        "colab": {
          "base_uri": "https://localhost:8080/",
          "height": 178
        },
        "id": "dbV8VqcHEheB",
        "outputId": "e2037067-fb8b-420d-9a81-2414d63688e5"
      },
      "source": [
        "import seaborn as sns \n",
        "g = sns.FacetGrid(df_main, col=\"h105\", hue ='h102')\n",
        "g.map_dataframe(sns.histplot, x=\"i100\", stat=\"probability\", discrete=True, kde=True, alpha=0.6)\n",
        "g.add_legend()"
      ],
      "execution_count": null,
      "outputs": [
        {
          "output_type": "execute_result",
          "data": {
            "text/plain": [
              "<seaborn.axisgrid.FacetGrid at 0x7fc2c69ab470>"
            ]
          },
          "metadata": {
            "tags": []
          },
          "execution_count": 66
        },
        {
          "output_type": "display_data",
          "data": {
            "image/png": "[encoded data removed]",
            "text/plain": [
              "<Figure size 1798.5x216 with 8 Axes>"
            ]
          },
          "metadata": {
            "tags": [],
            "needs_background": "light"
          }
        }
      ]
    },
    {
      "cell_type": "markdown",
      "metadata": {
        "id": "wAUx2Rn6s8FI"
      },
      "source": [
        "## Hierarchical indexing\n",
        "***Hierarchical indexing*** is an important feature of pandas that enables you to have multiple (two or more) index levels on an axis. Somewhat abstractly, it provides a way for\n",
        "you to work with higher dimensional data in a lower dimensional form. Let’s start\n",
        "with a simple example; create a Series with a list of lists (or arrays) as the index:"
      ]
    },
    {
      "cell_type": "code",
      "metadata": {
        "id": "fWWlyXd7FfPp"
      },
      "source": [
        "import numpy as np\n",
        "import pandas as pd\n",
        "data = pd.DataFrame(np.random.choice(['A','B','C','D'],9), \n",
        "                 index=[['Eco', 'Eco', 'Eco', 'Anth', 'Anth', 'Apl math', 'Apl math', 'SWE', 'SWE'], \n",
        "                        ['Mike', 'Alex', 'Christopher', 'Jessica', 'Patricia', 'Pablo', 'Eglesias', 'Alfred', 'Mike']], columns=['Grades'])"
      ],
      "execution_count": null,
      "outputs": []
    },
    {
      "cell_type": "code",
      "metadata": {
        "colab": {
          "base_uri": "https://localhost:8080/",
          "height": 328
        },
        "id": "GOnsE1wGt9Hl",
        "outputId": "547cdc9f-978a-461b-c1c5-e741b509e3c5"
      },
      "source": [
        "data.head(10)"
      ],
      "execution_count": null,
      "outputs": [
        {
          "output_type": "execute_result",
          "data": {
            "text/html": [
              "<div>\n",
              "<style scoped>\n",
              "    .dataframe tbody tr th:only-of-type {\n",
              "        vertical-align: middle;\n",
              "    }\n",
              "\n",
              "    .dataframe tbody tr th {\n",
              "        vertical-align: top;\n",
              "    }\n",
              "\n",
              "    .dataframe thead th {\n",
              "        text-align: right;\n",
              "    }\n",
              "</style>\n",
              "<table border=\"1\" class=\"dataframe\">\n",
              "  <thead>\n",
              "    <tr style=\"text-align: right;\">\n",
              "      <th></th>\n",
              "      <th></th>\n",
              "      <th>Grades</th>\n",
              "    </tr>\n",
              "  </thead>\n",
              "  <tbody>\n",
              "    <tr>\n",
              "      <th rowspan=\"3\" valign=\"top\">Eco</th>\n",
              "      <th>Mike</th>\n",
              "      <td>B</td>\n",
              "    </tr>\n",
              "    <tr>\n",
              "      <th>Alex</th>\n",
              "      <td>A</td>\n",
              "    </tr>\n",
              "    <tr>\n",
              "      <th>Christopher</th>\n",
              "      <td>B</td>\n",
              "    </tr>\n",
              "    <tr>\n",
              "      <th rowspan=\"2\" valign=\"top\">Anth</th>\n",
              "      <th>Jessica</th>\n",
              "      <td>B</td>\n",
              "    </tr>\n",
              "    <tr>\n",
              "      <th>Patricia</th>\n",
              "      <td>A</td>\n",
              "    </tr>\n",
              "    <tr>\n",
              "      <th rowspan=\"2\" valign=\"top\">Apl math</th>\n",
              "      <th>Pablo</th>\n",
              "      <td>C</td>\n",
              "    </tr>\n",
              "    <tr>\n",
              "      <th>Eglesias</th>\n",
              "      <td>A</td>\n",
              "    </tr>\n",
              "    <tr>\n",
              "      <th rowspan=\"2\" valign=\"top\">SWE</th>\n",
              "      <th>Alfred</th>\n",
              "      <td>A</td>\n",
              "    </tr>\n",
              "    <tr>\n",
              "      <th>Mike</th>\n",
              "      <td>A</td>\n",
              "    </tr>\n",
              "  </tbody>\n",
              "</table>\n",
              "</div>"
            ],
            "text/plain": [
              "                     Grades\n",
              "Eco      Mike             B\n",
              "         Alex             A\n",
              "         Christopher      B\n",
              "Anth     Jessica          B\n",
              "         Patricia         A\n",
              "Apl math Pablo            C\n",
              "         Eglesias         A\n",
              "SWE      Alfred           A\n",
              "         Mike             A"
            ]
          },
          "metadata": {
            "tags": []
          },
          "execution_count": 27
        }
      ]
    },
    {
      "cell_type": "code",
      "metadata": {
        "colab": {
          "base_uri": "https://localhost:8080/"
        },
        "id": "GWlavp4huIWF",
        "outputId": "7b02da7d-0d0b-4115-d170-e0bb282166cb"
      },
      "source": [
        "data.index"
      ],
      "execution_count": null,
      "outputs": [
        {
          "output_type": "execute_result",
          "data": {
            "text/plain": [
              "MultiIndex([(     'Eco',        'Mike'),\n",
              "            (     'Eco',        'Alex'),\n",
              "            (     'Eco', 'Christopher'),\n",
              "            (    'Anth',     'Jessica'),\n",
              "            (    'Anth',    'Patricia'),\n",
              "            ('Apl math',       'Pablo'),\n",
              "            ('Apl math',    'Eglesias'),\n",
              "            (     'SWE',      'Alfred'),\n",
              "            (     'SWE',        'Mike')],\n",
              "           )"
            ]
          },
          "metadata": {
            "tags": []
          },
          "execution_count": 28
        }
      ]
    },
    {
      "cell_type": "code",
      "metadata": {
        "colab": {
          "base_uri": "https://localhost:8080/",
          "height": 142
        },
        "id": "1CDx__0NulkY",
        "outputId": "84ca5862-da3f-4675-dcc2-a8b5ae41ec2c"
      },
      "source": [
        "data.loc['Eco']"
      ],
      "execution_count": null,
      "outputs": [
        {
          "output_type": "execute_result",
          "data": {
            "text/html": [
              "<div>\n",
              "<style scoped>\n",
              "    .dataframe tbody tr th:only-of-type {\n",
              "        vertical-align: middle;\n",
              "    }\n",
              "\n",
              "    .dataframe tbody tr th {\n",
              "        vertical-align: top;\n",
              "    }\n",
              "\n",
              "    .dataframe thead th {\n",
              "        text-align: right;\n",
              "    }\n",
              "</style>\n",
              "<table border=\"1\" class=\"dataframe\">\n",
              "  <thead>\n",
              "    <tr style=\"text-align: right;\">\n",
              "      <th></th>\n",
              "      <th>Grades</th>\n",
              "    </tr>\n",
              "  </thead>\n",
              "  <tbody>\n",
              "    <tr>\n",
              "      <th>Mike</th>\n",
              "      <td>B</td>\n",
              "    </tr>\n",
              "    <tr>\n",
              "      <th>Alex</th>\n",
              "      <td>A</td>\n",
              "    </tr>\n",
              "    <tr>\n",
              "      <th>Christopher</th>\n",
              "      <td>B</td>\n",
              "    </tr>\n",
              "  </tbody>\n",
              "</table>\n",
              "</div>"
            ],
            "text/plain": [
              "            Grades\n",
              "Mike             B\n",
              "Alex             A\n",
              "Christopher      B"
            ]
          },
          "metadata": {
            "tags": []
          },
          "execution_count": 29
        }
      ]
    },
    {
      "cell_type": "code",
      "metadata": {
        "colab": {
          "base_uri": "https://localhost:8080/",
          "height": 204
        },
        "id": "crsEROaIu8N4",
        "outputId": "20dcd736-11fc-4dd3-8d91-cbb7959d2172"
      },
      "source": [
        "data.loc[['Eco','Anth']]"
      ],
      "execution_count": null,
      "outputs": [
        {
          "output_type": "execute_result",
          "data": {
            "text/html": [
              "<div>\n",
              "<style scoped>\n",
              "    .dataframe tbody tr th:only-of-type {\n",
              "        vertical-align: middle;\n",
              "    }\n",
              "\n",
              "    .dataframe tbody tr th {\n",
              "        vertical-align: top;\n",
              "    }\n",
              "\n",
              "    .dataframe thead th {\n",
              "        text-align: right;\n",
              "    }\n",
              "</style>\n",
              "<table border=\"1\" class=\"dataframe\">\n",
              "  <thead>\n",
              "    <tr style=\"text-align: right;\">\n",
              "      <th></th>\n",
              "      <th></th>\n",
              "      <th>Grades</th>\n",
              "    </tr>\n",
              "  </thead>\n",
              "  <tbody>\n",
              "    <tr>\n",
              "      <th rowspan=\"3\" valign=\"top\">Eco</th>\n",
              "      <th>Mike</th>\n",
              "      <td>B</td>\n",
              "    </tr>\n",
              "    <tr>\n",
              "      <th>Alex</th>\n",
              "      <td>A</td>\n",
              "    </tr>\n",
              "    <tr>\n",
              "      <th>Christopher</th>\n",
              "      <td>B</td>\n",
              "    </tr>\n",
              "    <tr>\n",
              "      <th rowspan=\"2\" valign=\"top\">Anth</th>\n",
              "      <th>Jessica</th>\n",
              "      <td>B</td>\n",
              "    </tr>\n",
              "    <tr>\n",
              "      <th>Patricia</th>\n",
              "      <td>A</td>\n",
              "    </tr>\n",
              "  </tbody>\n",
              "</table>\n",
              "</div>"
            ],
            "text/plain": [
              "                 Grades\n",
              "Eco  Mike             B\n",
              "     Alex             A\n",
              "     Christopher      B\n",
              "Anth Jessica          B\n",
              "     Patricia         A"
            ]
          },
          "metadata": {
            "tags": []
          },
          "execution_count": 30
        }
      ]
    },
    {
      "cell_type": "code",
      "metadata": {
        "colab": {
          "base_uri": "https://localhost:8080/",
          "height": 328
        },
        "id": "3KuoBQYOvir4",
        "outputId": "54eaf5fb-3a07-4f2f-ccac-5d21e779202a"
      },
      "source": [
        "data"
      ],
      "execution_count": null,
      "outputs": [
        {
          "output_type": "execute_result",
          "data": {
            "text/html": [
              "<div>\n",
              "<style scoped>\n",
              "    .dataframe tbody tr th:only-of-type {\n",
              "        vertical-align: middle;\n",
              "    }\n",
              "\n",
              "    .dataframe tbody tr th {\n",
              "        vertical-align: top;\n",
              "    }\n",
              "\n",
              "    .dataframe thead th {\n",
              "        text-align: right;\n",
              "    }\n",
              "</style>\n",
              "<table border=\"1\" class=\"dataframe\">\n",
              "  <thead>\n",
              "    <tr style=\"text-align: right;\">\n",
              "      <th></th>\n",
              "      <th></th>\n",
              "      <th>Grades</th>\n",
              "    </tr>\n",
              "  </thead>\n",
              "  <tbody>\n",
              "    <tr>\n",
              "      <th rowspan=\"3\" valign=\"top\">Eco</th>\n",
              "      <th>Mike</th>\n",
              "      <td>B</td>\n",
              "    </tr>\n",
              "    <tr>\n",
              "      <th>Alex</th>\n",
              "      <td>A</td>\n",
              "    </tr>\n",
              "    <tr>\n",
              "      <th>Christopher</th>\n",
              "      <td>B</td>\n",
              "    </tr>\n",
              "    <tr>\n",
              "      <th rowspan=\"2\" valign=\"top\">Anth</th>\n",
              "      <th>Jessica</th>\n",
              "      <td>B</td>\n",
              "    </tr>\n",
              "    <tr>\n",
              "      <th>Patricia</th>\n",
              "      <td>A</td>\n",
              "    </tr>\n",
              "    <tr>\n",
              "      <th rowspan=\"2\" valign=\"top\">Apl math</th>\n",
              "      <th>Pablo</th>\n",
              "      <td>C</td>\n",
              "    </tr>\n",
              "    <tr>\n",
              "      <th>Eglesias</th>\n",
              "      <td>A</td>\n",
              "    </tr>\n",
              "    <tr>\n",
              "      <th rowspan=\"2\" valign=\"top\">SWE</th>\n",
              "      <th>Alfred</th>\n",
              "      <td>A</td>\n",
              "    </tr>\n",
              "    <tr>\n",
              "      <th>Mike</th>\n",
              "      <td>A</td>\n",
              "    </tr>\n",
              "  </tbody>\n",
              "</table>\n",
              "</div>"
            ],
            "text/plain": [
              "                     Grades\n",
              "Eco      Mike             B\n",
              "         Alex             A\n",
              "         Christopher      B\n",
              "Anth     Jessica          B\n",
              "         Patricia         A\n",
              "Apl math Pablo            C\n",
              "         Eglesias         A\n",
              "SWE      Alfred           A\n",
              "         Mike             A"
            ]
          },
          "metadata": {
            "tags": []
          },
          "execution_count": 33
        }
      ]
    },
    {
      "cell_type": "code",
      "metadata": {
        "colab": {
          "base_uri": "https://localhost:8080/",
          "height": 204
        },
        "id": "gXZIPGrKwRH8",
        "outputId": "8085e4da-7f41-4dbf-a0b9-52ad47b991db"
      },
      "source": [
        "data.unstack()"
      ],
      "execution_count": null,
      "outputs": [
        {
          "output_type": "execute_result",
          "data": {
            "text/html": [
              "<div>\n",
              "<style scoped>\n",
              "    .dataframe tbody tr th:only-of-type {\n",
              "        vertical-align: middle;\n",
              "    }\n",
              "\n",
              "    .dataframe tbody tr th {\n",
              "        vertical-align: top;\n",
              "    }\n",
              "\n",
              "    .dataframe thead tr th {\n",
              "        text-align: left;\n",
              "    }\n",
              "</style>\n",
              "<table border=\"1\" class=\"dataframe\">\n",
              "  <thead>\n",
              "    <tr>\n",
              "      <th></th>\n",
              "      <th colspan=\"8\" halign=\"left\">Grades</th>\n",
              "    </tr>\n",
              "    <tr>\n",
              "      <th></th>\n",
              "      <th>Alex</th>\n",
              "      <th>Alfred</th>\n",
              "      <th>Christopher</th>\n",
              "      <th>Eglesias</th>\n",
              "      <th>Jessica</th>\n",
              "      <th>Mike</th>\n",
              "      <th>Pablo</th>\n",
              "      <th>Patricia</th>\n",
              "    </tr>\n",
              "  </thead>\n",
              "  <tbody>\n",
              "    <tr>\n",
              "      <th>Anth</th>\n",
              "      <td>NaN</td>\n",
              "      <td>NaN</td>\n",
              "      <td>NaN</td>\n",
              "      <td>NaN</td>\n",
              "      <td>B</td>\n",
              "      <td>NaN</td>\n",
              "      <td>NaN</td>\n",
              "      <td>A</td>\n",
              "    </tr>\n",
              "    <tr>\n",
              "      <th>Apl math</th>\n",
              "      <td>NaN</td>\n",
              "      <td>NaN</td>\n",
              "      <td>NaN</td>\n",
              "      <td>A</td>\n",
              "      <td>NaN</td>\n",
              "      <td>NaN</td>\n",
              "      <td>C</td>\n",
              "      <td>NaN</td>\n",
              "    </tr>\n",
              "    <tr>\n",
              "      <th>Eco</th>\n",
              "      <td>A</td>\n",
              "      <td>NaN</td>\n",
              "      <td>B</td>\n",
              "      <td>NaN</td>\n",
              "      <td>NaN</td>\n",
              "      <td>B</td>\n",
              "      <td>NaN</td>\n",
              "      <td>NaN</td>\n",
              "    </tr>\n",
              "    <tr>\n",
              "      <th>SWE</th>\n",
              "      <td>NaN</td>\n",
              "      <td>A</td>\n",
              "      <td>NaN</td>\n",
              "      <td>NaN</td>\n",
              "      <td>NaN</td>\n",
              "      <td>A</td>\n",
              "      <td>NaN</td>\n",
              "      <td>NaN</td>\n",
              "    </tr>\n",
              "  </tbody>\n",
              "</table>\n",
              "</div>"
            ],
            "text/plain": [
              "         Grades                                                        \n",
              "           Alex Alfred Christopher Eglesias Jessica Mike Pablo Patricia\n",
              "Anth        NaN    NaN         NaN      NaN       B  NaN   NaN        A\n",
              "Apl math    NaN    NaN         NaN        A     NaN  NaN     C      NaN\n",
              "Eco           A    NaN           B      NaN     NaN    B   NaN      NaN\n",
              "SWE         NaN      A         NaN      NaN     NaN    A   NaN      NaN"
            ]
          },
          "metadata": {
            "tags": []
          },
          "execution_count": 34
        }
      ]
    },
    {
      "cell_type": "code",
      "metadata": {
        "colab": {
          "base_uri": "https://localhost:8080/",
          "height": 328
        },
        "id": "suyxljSTwoF7",
        "outputId": "83b7663e-e62e-4541-f45b-f98483634f74"
      },
      "source": [
        "data.unstack().stack()"
      ],
      "execution_count": null,
      "outputs": [
        {
          "output_type": "execute_result",
          "data": {
            "text/html": [
              "<div>\n",
              "<style scoped>\n",
              "    .dataframe tbody tr th:only-of-type {\n",
              "        vertical-align: middle;\n",
              "    }\n",
              "\n",
              "    .dataframe tbody tr th {\n",
              "        vertical-align: top;\n",
              "    }\n",
              "\n",
              "    .dataframe thead th {\n",
              "        text-align: right;\n",
              "    }\n",
              "</style>\n",
              "<table border=\"1\" class=\"dataframe\">\n",
              "  <thead>\n",
              "    <tr style=\"text-align: right;\">\n",
              "      <th></th>\n",
              "      <th></th>\n",
              "      <th>Grades</th>\n",
              "    </tr>\n",
              "  </thead>\n",
              "  <tbody>\n",
              "    <tr>\n",
              "      <th rowspan=\"2\" valign=\"top\">Anth</th>\n",
              "      <th>Jessica</th>\n",
              "      <td>B</td>\n",
              "    </tr>\n",
              "    <tr>\n",
              "      <th>Patricia</th>\n",
              "      <td>A</td>\n",
              "    </tr>\n",
              "    <tr>\n",
              "      <th rowspan=\"2\" valign=\"top\">Apl math</th>\n",
              "      <th>Eglesias</th>\n",
              "      <td>A</td>\n",
              "    </tr>\n",
              "    <tr>\n",
              "      <th>Pablo</th>\n",
              "      <td>C</td>\n",
              "    </tr>\n",
              "    <tr>\n",
              "      <th rowspan=\"3\" valign=\"top\">Eco</th>\n",
              "      <th>Alex</th>\n",
              "      <td>A</td>\n",
              "    </tr>\n",
              "    <tr>\n",
              "      <th>Christopher</th>\n",
              "      <td>B</td>\n",
              "    </tr>\n",
              "    <tr>\n",
              "      <th>Mike</th>\n",
              "      <td>B</td>\n",
              "    </tr>\n",
              "    <tr>\n",
              "      <th rowspan=\"2\" valign=\"top\">SWE</th>\n",
              "      <th>Alfred</th>\n",
              "      <td>A</td>\n",
              "    </tr>\n",
              "    <tr>\n",
              "      <th>Mike</th>\n",
              "      <td>A</td>\n",
              "    </tr>\n",
              "  </tbody>\n",
              "</table>\n",
              "</div>"
            ],
            "text/plain": [
              "                     Grades\n",
              "Anth     Jessica          B\n",
              "         Patricia         A\n",
              "Apl math Eglesias         A\n",
              "         Pablo            C\n",
              "Eco      Alex             A\n",
              "         Christopher      B\n",
              "         Mike             B\n",
              "SWE      Alfred           A\n",
              "         Mike             A"
            ]
          },
          "metadata": {
            "tags": []
          },
          "execution_count": 36
        }
      ]
    },
    {
      "cell_type": "code",
      "metadata": {
        "id": "9vnCCel4wx05"
      },
      "source": [
        ""
      ],
      "execution_count": null,
      "outputs": []
    }
  ]
}