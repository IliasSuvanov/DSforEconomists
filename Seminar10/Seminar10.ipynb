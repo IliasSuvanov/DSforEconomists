{
  "nbformat": 4,
  "nbformat_minor": 0,
  "metadata": {
    "colab": {
      "name": "Seminar10.ipynb",
      "provenance": []
    },
    "kernelspec": {
      "name": "python3",
      "display_name": "Python 3"
    }
  },
  "cells": [
    {
      "cell_type": "markdown",
      "metadata": {
        "id": "6ERKq1LMI6qG"
      },
      "source": [
        "# Seminar 10"
      ]
    },
    {
      "cell_type": "markdown",
      "metadata": {
        "id": "naUccQzOj7Ti"
      },
      "source": [
        "## <font color = \"green\"> Writing and reading from txt, csv, excel files</font>\n",
        "\n",
        "### Reading from txt file"
      ]
    },
    {
      "cell_type": "code",
      "metadata": {
        "id": "orAR0YzuttZj",
        "outputId": "157d01ae-8f09-4fa3-ae7d-16ac65adcc98",
        "colab": {
          "base_uri": "https://localhost:8080/",
          "height": 34
        }
      },
      "source": [
        "import io\n",
        "inf = open('numbers.txt','r')\n",
        "# Initialize the total\n",
        "total = 0\n",
        "# Total the values in the file\n",
        "line = inf.readline()\n",
        "while line != \"\":\n",
        "  total = total + float(line)\n",
        "  line = inf.readline()\n",
        "# Close the file\n",
        "inf.close()\n",
        "# Display the result\n",
        "print(\"The total of the values in numbers.txt file is \", total)"
      ],
      "execution_count": null,
      "outputs": [
        {
          "output_type": "stream",
          "text": [
            "The total of the values in numbers.txt file is  210.0\n"
          ],
          "name": "stdout"
        }
      ]
    },
    {
      "cell_type": "code",
      "metadata": {
        "id": "Hvplmhvtt_ay",
        "outputId": "3637f766-dd9c-4227-d3bf-97a192737bec",
        "colab": {
          "base_uri": "https://localhost:8080/",
          "height": 51
        }
      },
      "source": [
        "# Read the file name from the user and open the file\n",
        "fname = input(\"Enter the file name: \")\n",
        "inf = open(fname, \"r\")\n",
        "# Initialize total and read all of the lines from the file\n",
        "total = 0\n",
        "lines = inf.readlines()\n",
        "# Total the values in the file\n",
        "for line in lines:\n",
        "  total = total + float(line)\n",
        "# Close the file\n",
        "inf.close()\n",
        "# Display the result\n",
        "print(\"The total of the values in\", fname, \"is\", total)"
      ],
      "execution_count": null,
      "outputs": [
        {
          "output_type": "stream",
          "text": [
            "Enter the file name: numbers.txt\n",
            "The total of the values in numbers.txt is 210.0\n"
          ],
          "name": "stdout"
        }
      ]
    },
    {
      "cell_type": "code",
      "metadata": {
        "id": "fkPGa2sVYnCi",
        "outputId": "c0f29be3-c600-4106-89f6-ec6520150883",
        "colab": {
          "base_uri": "https://localhost:8080/",
          "height": 646
        }
      },
      "source": [
        "f = open('anna.txt', 'r')\n",
        "text = f.read()\n",
        "print(text)"
      ],
      "execution_count": null,
      "outputs": [
        {
          "output_type": "stream",
          "text": [
            "Happy families are all alike; every unhappy family is unhappy in its\n",
            "own way.\n",
            "\n",
            "Everything was in confusion in the Oblonskys’ house. The wife had\n",
            "discovered that the husband was carrying on an intrigue with a French\n",
            "girl, who had been a governess in their family, and she had announced\n",
            "to her husband that she could not go on living in the same house with\n",
            "him. This position of affairs had now lasted three days, and not only\n",
            "the husband and wife themselves, but all the members of their family\n",
            "and household, were painfully conscious of it. Every person in the\n",
            "house felt that there was no sense in their living together, and that\n",
            "the stray people brought together by chance in any inn had more in\n",
            "common with one another than they, the members of the family and\n",
            "household of the Oblonskys. The wife did not leave her own room, the\n",
            "husband had not been at home for three days. The children ran wild all\n",
            "over the house; the English governess quarreled with the housekeeper,\n",
            "and wrote to a friend asking her to look out for a new situation for\n",
            "her; the man-cook had walked off the day before just at dinner time;\n",
            "the kitchen-maid, and the coachman had given warning.\n",
            "\n",
            "Three days after the quarrel, Prince Stepan Arkadyevitch\n",
            "Oblonsky—Stiva, as he was called in the fashionable world—woke up at\n",
            "his usual hour, that is, at eight o’clock in the morning, not in his\n",
            "wife’s bedroom, but on the leather-covered sofa in his study. He turned\n",
            "over his stout, well-cared-for person on the springy sofa, as though he\n",
            "would sink into a long sleep again; he vigorously embraced the pillow\n",
            "on the other side and buried his face in it; but all at once he jumped\n",
            "up, sat up on the sofa, and opened his eyes.\n",
            "\n",
            "“Yes, yes, how was it now?” he thought, going over his dream. “Now, how\n",
            "was it? To be sure! Alabin was giving a dinner at Darmstadt; no, not\n",
            "Darmstadt, but something American. Yes, but then, Darmstadt was in\n",
            "America. Yes, Alabin was giving a dinner on glass tables, and the\n",
            "tables sang, _Il mio tesoro_—not _Il mio tesoro_ though, but something\n",
            "better, and there were some sort of little decanters on the table, and\n",
            "they were women, too,” he remembered.\n",
            "\n"
          ],
          "name": "stdout"
        }
      ]
    },
    {
      "cell_type": "markdown",
      "metadata": {
        "id": "Sf7gsPv0Z6Vv"
      },
      "source": [
        "### Writing to txt file"
      ]
    },
    {
      "cell_type": "code",
      "metadata": {
        "id": "iiBbKL8CZjYD"
      },
      "source": [
        "f = open('anna.txt','w')\n",
        "f.write(\"This is classical novel\")\n",
        "f.close()"
      ],
      "execution_count": null,
      "outputs": []
    },
    {
      "cell_type": "code",
      "metadata": {
        "id": "QjNuHa57iifC"
      },
      "source": [
        "f = open('anna.txt','w')\n",
        "f.write(\"Indeed so\")\n",
        "f.close()"
      ],
      "execution_count": null,
      "outputs": []
    },
    {
      "cell_type": "code",
      "metadata": {
        "id": "sPnAehlujhF5"
      },
      "source": [
        "# after each opening file with permission 'w' \n",
        "#the insights of the file would be deleted "
      ],
      "execution_count": null,
      "outputs": []
    },
    {
      "cell_type": "code",
      "metadata": {
        "id": "aOs3mVPyjt3b"
      },
      "source": [
        "f = open('anna.txt','a')\n",
        "f.write(\"This is classical novel\")\n",
        "f.close()"
      ],
      "execution_count": null,
      "outputs": []
    },
    {
      "cell_type": "code",
      "metadata": {
        "id": "FxJX0ejbjw29"
      },
      "source": [
        "f = open('anna.txt','a')\n",
        "f.write(\"Indeed so\")\n",
        "f.close()"
      ],
      "execution_count": null,
      "outputs": []
    },
    {
      "cell_type": "code",
      "metadata": {
        "id": "SH909RWzjybG"
      },
      "source": [
        "f = open('years.txt', 'w')\n",
        "for years in range(1999,2021):\n",
        "  f.write(\"This {} year comes before {} year\\n\".format(years, years-1))\n",
        "f.close()"
      ],
      "execution_count": null,
      "outputs": []
    },
    {
      "cell_type": "code",
      "metadata": {
        "id": "E9B8z54lkbFr"
      },
      "source": [
        "f = open('anna.txt','r+')\n",
        "f_out = open('modified.txt', 'w')\n",
        "for line in f:\n",
        "  tokens = line.split(' ')\n",
        "  f_out.write(\"Words in the line \" + str(len(tokens))+ \" \" + line)\n",
        "f.close()\n",
        "f_out.close()"
      ],
      "execution_count": null,
      "outputs": []
    },
    {
      "cell_type": "code",
      "metadata": {
        "id": "qbbaiAHmk2sF"
      },
      "source": [
        "# \"with\" is the special keyword in Python that allows you to open files\n",
        "# and do not worry about closing them.\n",
        "# there is also different extensions for reading and writing r+,w+ rb+,a+"
      ],
      "execution_count": null,
      "outputs": []
    },
    {
      "cell_type": "markdown",
      "metadata": {
        "id": "A03SSCgDaFMk"
      },
      "source": [
        "### Writing to csv file"
      ]
    },
    {
      "cell_type": "code",
      "metadata": {
        "id": "yEANgEPTqajw"
      },
      "source": [
        "# Lets write to csv file \n",
        "\n",
        "import csv\n",
        "with open('some_file.csv','w') as csvdata:\n",
        "  writer = csv.writer(csvdata)\n",
        "  writer.writerow(['year','month','day'])\n",
        "  for i in range(1999,2020):\n",
        "    writer.writerow([i,'February', 14])\n"
      ],
      "execution_count": null,
      "outputs": []
    },
    {
      "cell_type": "code",
      "metadata": {
        "id": "q-3g-E74q_na"
      },
      "source": [
        "\n",
        "import csv\n",
        "with open('some_file.csv','w') as csvdata:\n",
        "  writer = csv.writer(csvdata)\n",
        "  writer.writerow(['year','month','day'])\n",
        "  for i in range(1999,2020):\n",
        "    for mont in ['January', 'February', 'March']:\n",
        "      writer.writerow([i,mont, 14])\n"
      ],
      "execution_count": null,
      "outputs": []
    },
    {
      "cell_type": "code",
      "metadata": {
        "id": "3dbuLmsTrSew",
        "outputId": "6533ee23-07b6-4a93-8acb-32a17c8af5e1",
        "colab": {
          "base_uri": "https://localhost:8080/",
          "height": 221
        }
      },
      "source": [
        "# Lets\n",
        "import csv\n",
        "with open('./sample_data/california_housing_test.csv', newline='') as f:\n",
        "    reader = csv.reader(f)\n",
        "    count = 0\n",
        "    for row in reader:\n",
        "      print(row)\n",
        "      #lets print only ten rows of the file california_housing_test.csv\n",
        "      if count >10 :\n",
        "        break\n",
        "      count = count +1"
      ],
      "execution_count": null,
      "outputs": [
        {
          "output_type": "stream",
          "text": [
            "['longitude', 'latitude', 'housing_median_age', 'total_rooms', 'total_bedrooms', 'population', 'households', 'median_income', 'median_house_value']\n",
            "['-122.050000', '37.370000', '27.000000', '3885.000000', '661.000000', '1537.000000', '606.000000', '6.608500', '344700.000000']\n",
            "['-118.300000', '34.260000', '43.000000', '1510.000000', '310.000000', '809.000000', '277.000000', '3.599000', '176500.000000']\n",
            "['-117.810000', '33.780000', '27.000000', '3589.000000', '507.000000', '1484.000000', '495.000000', '5.793400', '270500.000000']\n",
            "['-118.360000', '33.820000', '28.000000', '67.000000', '15.000000', '49.000000', '11.000000', '6.135900', '330000.000000']\n",
            "['-119.670000', '36.330000', '19.000000', '1241.000000', '244.000000', '850.000000', '237.000000', '2.937500', '81700.000000']\n",
            "['-119.560000', '36.510000', '37.000000', '1018.000000', '213.000000', '663.000000', '204.000000', '1.663500', '67000.000000']\n",
            "['-121.430000', '38.630000', '43.000000', '1009.000000', '225.000000', '604.000000', '218.000000', '1.664100', '67000.000000']\n",
            "['-120.650000', '35.480000', '19.000000', '2310.000000', '471.000000', '1341.000000', '441.000000', '3.225000', '166900.000000']\n",
            "['-122.840000', '38.400000', '15.000000', '3080.000000', '617.000000', '1446.000000', '599.000000', '3.669600', '194400.000000']\n",
            "['-118.020000', '34.080000', '31.000000', '2402.000000', '632.000000', '2830.000000', '603.000000', '2.333300', '164200.000000']\n",
            "['-118.240000', '33.980000', '45.000000', '972.000000', '249.000000', '1288.000000', '261.000000', '2.205400', '125000.000000']\n"
          ],
          "name": "stdout"
        }
      ]
    }
  ]
}