{
  "nbformat": 4,
  "nbformat_minor": 0,
  "metadata": {
    "colab": {
      "name": "Seminar6.ipynb",
      "provenance": []
    },
    "kernelspec": {
      "name": "python3",
      "display_name": "Python 3"
    }
  },
  "cells": [
    {
      "cell_type": "markdown",
      "metadata": {
        "id": "-y6CqpCESQwc"
      },
      "source": [
        "# <font color = \"blue\"> Seminar 6 </font>\n",
        "# Exercises in the class\n",
        "## <font color = \"green\"> The basics</font>\n",
        "1. Ask for the user’s first name and\n",
        "display the output message <br>\n",
        " **Hello [First Name]** .\n",
        "2. Ask for the user’s first name and then ask for\n",
        "their surname and display the output message <br>\n",
        " **Hello [First Name] [Surname]** .\n",
        "3. Write code that will display the joke “What do you call a bear with no\n",
        "teeth?” and on the next line display the answer “A gummy bear!” Try to\n",
        "create it using only one line of code\n",
        "4. Ask the user to enter two numbers. Add\n",
        "them together and display the answer as <br>\n",
        " **The answer is [answer]**\n",
        "5. Ask the user to enter three\n",
        "numbers. Add together the first two numbers and then multiply\n",
        "this total by the third. Display the answer as <br> \n",
        " **The answer is [answer]** . \n",
        "6. Ask how many slices of pizza the user\n",
        "started with and ask how many slices they have eaten.\n",
        "Work out how many slices they have left\n",
        "and display the answer in a userfriendly format.\n",
        "7. Ask for the total price of the bill, then ask how\n",
        "many diners there are. Divide the total bill by the\n",
        "number of diners and show how much each\n",
        "person must pay.\n",
        "8. Ask the user for their name and their age. Add 1 to their age\n",
        "and display the output <br> \n",
        " **[Name] next birthday you will be [new age].**\n",
        "9. Write a program that will ask for a\n",
        "number of days and then will show how many hours, minutes and seconds are\n",
        "in that number of days.\n"
      ]
    },
    {
      "cell_type": "markdown",
      "metadata": {
        "id": "BdLuEPExSuMA"
      },
      "source": [
        "## <font color = \"brown\"> Solutions </font>"
      ]
    },
    {
      "cell_type": "code",
      "metadata": {
        "id": "TgM-VBVkS7ez"
      },
      "source": [
        "# 1 exercise\n",
        "firstname = input(\"Please enter your first name: \")\n",
        "print(\"Hello \", firstname)"
      ],
      "execution_count": null,
      "outputs": []
    },
    {
      "cell_type": "code",
      "metadata": {
        "id": "WjPsUF2eTNwV"
      },
      "source": [
        "# 2 exercise\n",
        "firstname = input(\"Please enter your firstname: \")\n",
        "surname = input(\"Please enter your surname: \")\n",
        "print(\"Hello \", firstname, surname)"
      ],
      "execution_count": null,
      "outputs": []
    },
    {
      "cell_type": "code",
      "metadata": {
        "id": "npx5T0CtTgvj"
      },
      "source": [
        "# 3 exercise\n",
        "print(\"What do you call a bear with no teeth? \\n A gummy bear!\")"
      ],
      "execution_count": null,
      "outputs": []
    },
    {
      "cell_type": "code",
      "metadata": {
        "id": "qF7hWMIUTo57"
      },
      "source": [
        "# 4 exercise\n",
        "num1 = int(input(\"Please enter your first number: \"))\n",
        "num2 = int(input(\"Please enter your surname: \"))\n",
        "answer = num1 + num2\n",
        "print(\"The answer is \", answer)"
      ],
      "execution_count": null,
      "outputs": []
    },
    {
      "cell_type": "code",
      "metadata": {
        "id": "QP541oE9T5Fl"
      },
      "source": [
        "# 5 exercise\n",
        "num1 = int(input(\"Please enter your first number: \"))\n",
        "num2 = int(input(\"Please enter your second number: \"))\n",
        "num3 = int(input(\"Please enter your thrid number: \"))\n",
        "answer = (num1 + num2) * num3\n",
        "print(\"The answer is \", answer)"
      ],
      "execution_count": null,
      "outputs": []
    },
    {
      "cell_type": "code",
      "metadata": {
        "id": "0HT_MXF8UlXy"
      },
      "source": [
        "# 6 exercise \n",
        "startNum = int(input(\"Enter the number of slices of pizza you started with: \"))\n",
        "endNum = int(imput(\"How many slices have you eaten? \"))\n",
        "slicesLeft = startNum - endNum\n",
        "print(\"You have \", slicesLeft, \" slices remaining\")"
      ],
      "execution_count": null,
      "outputs": []
    },
    {
      "cell_type": "code",
      "metadata": {
        "id": "6pbfeBP0VK2o"
      },
      "source": [
        "# 7 exercise\n",
        "bill = int(input(\"What is the total cost of the bill? \"))\n",
        "people = int(input(\"How many people are there? \"))\n",
        "each = bill/people\n",
        "print(\"Each person should pay \", each)"
      ],
      "execution_count": null,
      "outputs": []
    },
    {
      "cell_type": "code",
      "metadata": {
        "id": "e1jA0Ik7VkqA"
      },
      "source": [
        "# 8 exercise\n",
        "name = input(\"What is your name: \")\n",
        "age = int(input(\"How old are you? \"))\n",
        "newAge = age + 1\n",
        "print(name, \"next birthday you will be \", newAge)"
      ],
      "execution_count": null,
      "outputs": []
    },
    {
      "cell_type": "code",
      "metadata": {
        "id": "b1P4S5yaVkBp"
      },
      "source": [
        "# 9 exercise\n",
        "days = int(input(\"Enter the number of days: \"))\n",
        "hours = days*24\n",
        "minutes = hours*60\n",
        "seconds = minutes*60\n",
        "print(\"In \", days, \" days there are ...\")\n",
        "print(hours, \" hours\")\n",
        "print(minutes, \" minutes\")\n",
        "print(seconds, \" seconds\")"
      ],
      "execution_count": null,
      "outputs": []
    },
    {
      "cell_type": "markdown",
      "metadata": {
        "id": "oF34F9mySQrN"
      },
      "source": [
        "## <font color = \"For Loop\"> "
      ]
    }
  ]
}