{
  "nbformat": 4,
  "nbformat_minor": 0,
  "metadata": {
    "colab": {
      "name": "Untitled10.ipynb",
      "provenance": []
    },
    "kernelspec": {
      "name": "python3",
      "display_name": "Python 3"
    }
  },
  "cells": [
    {
      "cell_type": "markdown",
      "metadata": {
        "id": "m6ctIsEghXeI"
      },
      "source": [
        "# <font color = \"red\" > Seminar 7 </font>\n",
        "\n",
        "## <font color = \"green\"> For loop statements </font>\n",
        "1. Ask the user to enter\n",
        "their name and then\n",
        "display their name\n",
        "three times.\n",
        "2. Alter program 1 so that it will ask the user to enter their\n",
        "name and a number and then display their name that\n",
        "number of times.\n",
        "3. Ask the user to enter their name and display each letter in\n",
        "their name on a separate line.\n",
        "4. Change program\n",
        "3 to also ask for a\n",
        "number. Display\n",
        "their name (one\n",
        "letter at a time on\n",
        "each line) and\n",
        "repeat this for the\n",
        "number of times\n",
        "they entered.\n",
        "5. Ask the user to enter a number between 1\n",
        "and 12 and then display the times table for\n",
        "that number.\n",
        "6. Ask for a number below 50 and then count down from\n",
        "50 to that number, making sure you show the number\n",
        "they entered in the output.\n",
        "7. Ask the user to enter their\n",
        "name and a number. If the\n",
        "number is less than 10, then\n",
        "display their name that\n",
        "number of times; otherwise\n",
        "display the message “Too\n",
        "high” three times.\n",
        "8. Set a variable called total to 0. Ask the user to enter\n",
        "five numbers and after each input ask them if they\n",
        "want that number included. If they do, then add the\n",
        "number to the total. If they do not want it included,\n",
        "don’t add it to the total. After they have entered all five\n",
        "numbers, display the total.\n",
        "9. Ask which direction the user wants to count (up or down). If they select up, then ask\n",
        "them for the top number and then count from 1 to that number. If they select down, ask\n",
        "them to enter a number below 20 and then count down from 20 to that number. If they\n",
        "entered something other than up or down, display the message “I don’t understand”.\n",
        "10. Ask how many people the user wants to invite to a party. If they enter a number below\n",
        "10, ask for the names and after each name display “**[name]** has been invited”. If they\n",
        "enter a number which is 10 or higher, display the message “Too many people”."
      ]
    },
    {
      "cell_type": "code",
      "metadata": {
        "id": "Ih0_9izczgWA",
        "outputId": "e812053e-35a9-4356-9840-bfe5afa7c066",
        "colab": {
          "base_uri": "https://localhost:8080/",
          "height": 102
        }
      },
      "source": [
        "print('Enter your name:')\n",
        "name = input()\n",
        "for i in range(0,3):\n",
        "    print(name)  "
      ],
      "execution_count": null,
      "outputs": [
        {
          "output_type": "stream",
          "text": [
            "Enter your name:\n",
            "Bibi\n",
            "Bibi\n",
            "Bibi\n",
            "Bibi\n"
          ],
          "name": "stdout"
        }
      ]
    },
    {
      "cell_type": "code",
      "metadata": {
        "id": "uPvH9pejavLt",
        "outputId": "8e819f13-1d01-4a55-b5e4-6dfa8593cf07",
        "colab": {
          "base_uri": "https://localhost:8080/",
          "height": 119
        }
      },
      "source": [
        "print('Enter your name:')\n",
        "name = input()\n",
        "print('Enter number:')\n",
        "num = int(input())\n",
        "for i in range(0,num):\n",
        "    print(name)  "
      ],
      "execution_count": null,
      "outputs": [
        {
          "output_type": "stream",
          "text": [
            "Enter your name:\n",
            "Bibi\n",
            "Enter number:\n",
            "2\n",
            "Bibi\n",
            "Bibi\n"
          ],
          "name": "stdout"
        }
      ]
    },
    {
      "cell_type": "code",
      "metadata": {
        "id": "g4O1sD93bDUE",
        "outputId": "b52ec5fa-7238-4d39-efd2-6a530e5d5fb9",
        "colab": {
          "base_uri": "https://localhost:8080/",
          "height": 119
        }
      },
      "source": [
        "print('Enter your name:')\n",
        "name = input()\n",
        "for letter in name:\n",
        "    print(letter)  "
      ],
      "execution_count": null,
      "outputs": [
        {
          "output_type": "stream",
          "text": [
            "Enter your name:\n",
            "Bibi\n",
            "B\n",
            "i\n",
            "b\n",
            "i\n"
          ],
          "name": "stdout"
        }
      ]
    },
    {
      "cell_type": "code",
      "metadata": {
        "id": "vhi1QDBXbLqU",
        "outputId": "3a901925-e855-4200-c791-ff88e01dd5ad",
        "colab": {
          "base_uri": "https://localhost:8080/",
          "height": 221
        }
      },
      "source": [
        "print('Enter your name:')\n",
        "name = input()\n",
        "print('Enter number:')\n",
        "num = int(input())\n",
        "for i in range(0,num):\n",
        "    for letter in name:\n",
        "        print(letter)   "
      ],
      "execution_count": null,
      "outputs": [
        {
          "output_type": "stream",
          "text": [
            "Enter your name:\n",
            "Bibi\n",
            "Enter number:\n",
            "2\n",
            "B\n",
            "i\n",
            "b\n",
            "i\n",
            "B\n",
            "i\n",
            "b\n",
            "i\n"
          ],
          "name": "stdout"
        }
      ]
    },
    {
      "cell_type": "code",
      "metadata": {
        "id": "RB2UNa0kb5zF",
        "outputId": "8b8d5397-a6eb-483e-fbc0-78b22dd2caa7",
        "colab": {
          "base_uri": "https://localhost:8080/",
          "height": 204
        }
      },
      "source": [
        "num = int(input('Enter a number between 1 and 12: '))\n",
        "for i in range(1,11):\n",
        "   answer = num*i\n",
        "   print(num,'x',i,'=',answer)"
      ],
      "execution_count": null,
      "outputs": [
        {
          "output_type": "stream",
          "text": [
            "Enter a number between 1 and 12: 10\n",
            "10 x 1 = 10\n",
            "10 x 2 = 20\n",
            "10 x 3 = 30\n",
            "10 x 4 = 40\n",
            "10 x 5 = 50\n",
            "10 x 6 = 60\n",
            "10 x 7 = 70\n",
            "10 x 8 = 80\n",
            "10 x 9 = 90\n",
            "10 x 10 = 100\n"
          ],
          "name": "stdout"
        }
      ]
    },
    {
      "cell_type": "code",
      "metadata": {
        "id": "BHVVPFTFpPLM",
        "outputId": "a5c03992-faaf-45d3-e9d4-a69e67b94cd1",
        "colab": {
          "base_uri": "https://localhost:8080/",
          "height": 136
        }
      },
      "source": [
        "num = int(input('Enter a number below 50: '))\n",
        "for i in range(50,num-1,-1):\n",
        "    print(i)"
      ],
      "execution_count": null,
      "outputs": [
        {
          "output_type": "stream",
          "text": [
            "Enter a number below 50: 45\n",
            "50\n",
            "49\n",
            "48\n",
            "47\n",
            "46\n",
            "45\n"
          ],
          "name": "stdout"
        }
      ]
    },
    {
      "cell_type": "code",
      "metadata": {
        "id": "FT-Sr-KNprqJ",
        "outputId": "e7dad312-3851-46af-80a3-9c4862c76c14",
        "colab": {
          "base_uri": "https://localhost:8080/",
          "height": 102
        }
      },
      "source": [
        "name = input('Enter your name: ')\n",
        "num = int(input('Enter a number: '))\n",
        "if num < 10:\n",
        "    for i in range(0,num):\n",
        "        print(name)\n",
        "else:\n",
        "    for i in range(0,3):\n",
        "        print('Too high')"
      ],
      "execution_count": null,
      "outputs": [
        {
          "output_type": "stream",
          "text": [
            "Enter your name: Bibi\n",
            "Enter a number: 10\n",
            "Too high\n",
            "Too high\n",
            "Too high\n"
          ],
          "name": "stdout"
        }
      ]
    },
    {
      "cell_type": "code",
      "metadata": {
        "id": "F4iAcL2SqYoc",
        "outputId": "ede71f97-7ad1-4c18-8682-7395d9733145",
        "colab": {
          "base_uri": "https://localhost:8080/",
          "height": 204
        }
      },
      "source": [
        "total = 0\n",
        "for i in range(0,5):\n",
        "    num = int(input('Enter a number: '))\n",
        "    answer = input('Do you want to add this number to total? ')\n",
        "    if answer.lower() == 'yes':\n",
        "        total += num\n",
        "print(total)"
      ],
      "execution_count": null,
      "outputs": [
        {
          "output_type": "stream",
          "text": [
            "Enter a number: 5\n",
            "Do you want to add this number to total? yes\n",
            "Enter a number: 5\n",
            "Do you want to add this number to total? no\n",
            "Enter a number: 10\n",
            "Do you want to add this number to total? no\n",
            "Enter a number: 20\n",
            "Do you want to add this number to total? Yes\n",
            "Enter a number: 1\n",
            "Do you want to add this number to total? yes\n",
            "26\n"
          ],
          "name": "stdout"
        }
      ]
    },
    {
      "cell_type": "code",
      "metadata": {
        "id": "-c4e_pFwLrk9",
        "outputId": "7047d078-c346-44e0-b8a5-8c3f352ade36",
        "colab": {
          "base_uri": "https://localhost:8080/",
          "height": 51
        }
      },
      "source": [
        "direction = input('Which direction do you want to count? ').lower()\n",
        "if direction == 'up':\n",
        "    num = int(input('What is the top number?'))\n",
        "    for i in range(0,num):\n",
        "            print(i + 1)\n",
        "elif direction == 'down':\n",
        "    num2 = int(input('Enter a number below 20: '))\n",
        "    for i in range(20,num2-1,-1):\n",
        "        print(i)\n",
        "else:\n",
        "    print('I don''t understand')"
      ],
      "execution_count": null,
      "outputs": [
        {
          "output_type": "stream",
          "text": [
            "Which direction do you want to count? yyy\n",
            "I dont understand\n"
          ],
          "name": "stdout"
        }
      ]
    },
    {
      "cell_type": "code",
      "metadata": {
        "id": "gMhuJ_8xQR43",
        "outputId": "b89de91e-0a3c-4166-bacf-20a782719ae0",
        "colab": {
          "base_uri": "https://localhost:8080/",
          "height": 51
        }
      },
      "source": [
        "num = int(input('How many people do you want to invite to a party? '))\n",
        "if num < 10:\n",
        "    for i in range(0,num):\n",
        "        name = input('Enter the name of the guest: ')\n",
        "        print(name,'has been invited')\n",
        "else:\n",
        "    print('Too many people')"
      ],
      "execution_count": null,
      "outputs": [
        {
          "output_type": "stream",
          "text": [
            "How many people do you want to invite to a party? 10\n",
            "Too many people\n"
          ],
          "name": "stdout"
        }
      ]
    },
    {
      "cell_type": "markdown",
      "metadata": {
        "id": "z4FjjZM66zHb"
      },
      "source": [
        "## <font color =\"green\"> While loop statement</font>\n",
        "1. Set the total to 0 to start with. While the total is 50 or less, ask\n",
        "the user to input a number. Add that number to the total and\n",
        "print the message “The total is... [total]”. Stop the loop when\n",
        "the total is over 50 .\n",
        "2. Ask the user to enter\n",
        "a number. Keep\n",
        "asking until they enter\n",
        "a value over 5 and\n",
        "then display the\n",
        "message “The last\n",
        "number you entered\n",
        "was a [number]” and\n",
        "stop the program.\n",
        "3. Ask the user to enter a\n",
        "number and then enter\n",
        "another number. Add these\n",
        "two numbers together and\n",
        "then ask if they want to add\n",
        "another number. If they\n",
        "enter “y\", ask them to enter\n",
        "another number and keep\n",
        "adding numbers until they\n",
        "do not answer “y”. Once the\n",
        "loop has stopped, display\n",
        "the total.\n",
        "4. Ask for the name of somebody the user wants to invite\n",
        "to a party. After this, display the message “[name] has\n",
        "now been invited” and add 1 to the count. Then ask if\n",
        "they want to invite somebody else. Keep repeating this\n",
        "until they no longer want to invite anyone else to the\n",
        "party and then display how many people they have\n",
        "coming to the party.\n",
        "5. Create a variable called\n",
        "compnum and set the value\n",
        "to 50. Ask the user to enter a\n",
        "number. While their guess\n",
        "is not the same as the\n",
        "compnum value, tell them if\n",
        "their guess is too low or too\n",
        "high and ask them to have\n",
        "another guess. If they enter\n",
        "the same value as\n",
        "compnum, display the\n",
        "message “Well done, you\n",
        "took [count] attempts”.\n",
        "6. Ask the user to enter a number between\n",
        "10 and 20. If they enter a value under 10,\n",
        "display the message “Too low” and ask\n",
        "them to try again. If they enter a value\n",
        "above 20, display the message “Too high”\n",
        "and ask them to try again. Keep repeating\n",
        "this until they enter a value that is\n",
        "between 10 and 20 and then display the\n",
        "message “Thank you”.\n"
      ]
    },
    {
      "cell_type": "code",
      "metadata": {
        "id": "zeET2wVfieU_"
      },
      "source": [
        "\"\"\"\n",
        "Exercise 1.\n",
        "\n",
        "Set the total to 0 to start with. \n",
        "While the total is 50 or less, \n",
        "    ask the user to input a number,\n",
        "    add that number to the total \n",
        "    and print the message “The total is... [total]”. \n",
        "    Stop the loop when the total is over 50.\n",
        "\"\"\"\n",
        "\n",
        "total = 0\n",
        "while total <= 50:\n",
        "    number = int(input(\"Enter a number:\\n\"))\n",
        "    total += number\n",
        "    print(\"The total is\", total)"
      ],
      "execution_count": null,
      "outputs": []
    },
    {
      "cell_type": "code",
      "metadata": {
        "id": "Ifr9qlKSSr-k"
      },
      "source": [
        "\"\"\"\n",
        "Exercise 2.\n",
        "\n",
        "Ask the user to enter a number. \n",
        "Keep asking until they enter a value over 5 \n",
        "    and then display the message “The last number you entered was a [number]” \n",
        "    and stop the program.\n",
        "\"\"\"\n",
        "\n",
        "number = int(input(\"Enter a number:\\n\"))\n",
        "while number < 5:\n",
        "    number = int(input(\"Enter a number:\\n\"))\n",
        "    print(\"The last number you entered was a\", number)"
      ],
      "execution_count": null,
      "outputs": []
    },
    {
      "cell_type": "code",
      "metadata": {
        "id": "QEijnoaeTmma"
      },
      "source": [
        "\"\"\"\n",
        "Exercise 3.\n",
        "\n",
        "Ask the user to enter a number \n",
        "and then enter another number. \n",
        "Add these two numbers together \n",
        "and then ask if they want to add another number. \n",
        "If they enter “y\", \n",
        "    ask them to enter another number \n",
        "    and keep adding numbers until they do not answer “y”. \n",
        "Once the loop has stopped, display the total.\n",
        "\"\"\"\n",
        "\n",
        "number = int(input(\"Enter a number:\\n\"))\n",
        "anotherNumber = int(input(\"Enter another number:\\n\"))\n",
        "total = number + anotherNumber\n",
        "\n",
        "question = \"Do you want to add another number? (y/n)\\n\"\n",
        "\n",
        "while input(question) == \"y\":\n",
        "    anotherNumber = int(input(\"Enter another number:\\n\"))\n",
        "    total += anotherNumber\n",
        "else:\n",
        "    print(\"Total is\", total)"
      ],
      "execution_count": null,
      "outputs": []
    },
    {
      "cell_type": "code",
      "metadata": {
        "id": "n-lzvDPVVA5G"
      },
      "source": [
        "\"\"\"\n",
        "Exercise 4.\n",
        "\n",
        "Ask for the name of somebody the user wants to invite to a party. \n",
        "After this, display the message “[name] has now been invited” \n",
        "and add 1 to the count. \n",
        "Then ask if they want to invite somebody else. \n",
        "Keep repeating this until they no longer want to invite anyone else to the party \n",
        "and then display how many people they have coming to the party.\n",
        "\"\"\"\n",
        "\n",
        "count = 0\n",
        "somebodyName = input(\"Who do you want to invite to a party?\\n\")\n",
        "print(somebodyName, \"has now been invited!\")\n",
        "count += 1\n",
        "\n",
        "question = \"Do you want to invite somebody else? (y/n)\\n\"\n",
        "\n",
        "while input(question) == \"y\":\n",
        "    guestName = input(\"Who do you want to invite to a party?\\n\")\n",
        "    print(guestName, \"has now been invited!\")\n",
        "    count += 1\n",
        "else:\n",
        "    print(count, \"people are coming to the party!\")"
      ],
      "execution_count": null,
      "outputs": []
    },
    {
      "cell_type": "code",
      "metadata": {
        "id": "g61fhl2SWTkK"
      },
      "source": [
        "\"\"\"\n",
        "Exercise 5.\n",
        "\n",
        "Create a variable called compnum and set the value to 50. \n",
        "Ask the user to enter a number. \n",
        "While their guess is not the same as the compnum value, \n",
        "    tell them if their guess is too low or too high \n",
        "    and ask them to have another guess. \n",
        "    If they enter the same value as compnum, \n",
        "        display the message “Well done, you took [count] attempts”.\n",
        "\"\"\"\n",
        "\n",
        "compnum = 50\n",
        "count = 1\n",
        "number = int(input(\"Enter a number:\\n\"))\n",
        "\n",
        "while number != compnum:\n",
        "    if number < 50:\n",
        "        print(\"Your guess is too low\")\n",
        "    else:\n",
        "        print(\"Your guess is too high\")\n",
        "    number = int(input(\"Try another number:\\n\"))\n",
        "    count += 1\n",
        "print(\"Well done, you took\", count, \"attempts.\")"
      ],
      "execution_count": null,
      "outputs": []
    },
    {
      "cell_type": "code",
      "metadata": {
        "id": "fD8hzlcUX_KQ"
      },
      "source": [
        "\"\"\"\n",
        "Exercise 6.\n",
        "\n",
        "Ask the user to enter a number between 10 and 20. \n",
        "If they enter a value under 10, \n",
        "    display the message “Too low” \n",
        "    and ask them to try again. \n",
        "If they enter a value above 20, \n",
        "    display the message “Too high” \n",
        "    and ask them to try again. \n",
        "Keep repeating this until they enter a value that is between 10 and 20 \n",
        "    and then display the message “Thank you”.\n",
        "\"\"\"\n",
        "\n",
        "number = int(input(\"Enter a number between 10 and 20:\\n\"))\n",
        "\n",
        "while number < 10 or number > 20:\n",
        "    if number < 10:\n",
        "        print(\"Too low.\")\n",
        "    if number > 20:\n",
        "        print(\"Too high.\")\n",
        "    number = int(input(\"Try again:\\n\"))\n",
        "else:\n",
        "    print(\"Thank you!\")"
      ],
      "execution_count": null,
      "outputs": []
    }
  ]
}