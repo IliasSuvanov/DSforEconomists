{
  "nbformat": 4,
  "nbformat_minor": 0,
  "metadata": {
    "colab": {
      "name": "Untitled10.ipynb",
      "provenance": []
    },
    "kernelspec": {
      "name": "python3",
      "display_name": "Python 3"
    }
  },
  "cells": [
    {
      "cell_type": "markdown",
      "metadata": {
        "id": "xA2WV6yw5jFm"
      },
      "source": [
        "# <font color = \"red\" > Seminar 7 </font>\n",
        "## <font color = \"green\"> For loop statements </font>\n",
        "1. Ask the user to enter\n",
        "their name and then\n",
        "display their name\n",
        "three times.\n",
        "2. Alter program 1 so that it will ask the user to enter their\n",
        "name and a number and then display their name that\n",
        "number of times.\n",
        "3. Ask the user to enter their name and display each letter in\n",
        "their name on a separate line.\n",
        "4. Change program\n",
        "3 to also ask for a\n",
        "number. Display\n",
        "their name (one\n",
        "letter at a time on\n",
        "each line) and\n",
        "repeat this for the\n",
        "number of times\n",
        "they entered.\n",
        "5. Ask the user to enter a number between 1\n",
        "and 12 and then display the times table for\n",
        "that number.\n",
        "6. Ask for a number below 50 and then count down from\n",
        "50 to that number, making sure you show the number\n",
        "they entered in the output.\n",
        "7. Ask the user to enter their\n",
        "name and a number. If the\n",
        "number is less than 10, then\n",
        "display their name that\n",
        "number of times; otherwise\n",
        "display the message “Too\n",
        "high” three times.\n",
        "8. Set a variable called total to 0. Ask the user to enter\n",
        "five numbers and after each input ask them if they\n",
        "want that number included. If they do, then add the\n",
        "number to the total. If they do not want it included,\n",
        "don’t add it to the total. After they have entered all five\n",
        "numbers, display the total.\n",
        "9. Ask which direction the user wants to count (up or down). If they select up, then ask\n",
        "them for the top number and then count from 1 to that number. If they select down, ask\n",
        "them to enter a number below 20 and then count down from 20 to that number. If they\n",
        "entered something other than up or down, display the message “I don’t understand”.\n",
        "10. Ask how many people the user wants to invite to a party. If they enter a number below\n",
        "10, ask for the names and after each name display “**[name]** has been invited”. If they\n",
        "enter a number which is 10 or higher, display the message “Too many people”."
      ]
    },
    {
      "cell_type": "markdown",
      "metadata": {
        "id": "z4FjjZM66zHb"
      },
      "source": [
        "## <font color =\"green\"> While loop statement</font>\n",
        "1. Set the total to 0 to start with. While the total is 50 or less, ask\n",
        "the user to input a number. Add that number to the total and\n",
        "print the message “The total is... [total]”. Stop the loop when\n",
        "the total is over 50 .\n",
        "2. Ask the user to enter\n",
        "a number. Keep\n",
        "asking until they enter\n",
        "a value over 5 and\n",
        "then display the\n",
        "message “The last\n",
        "number you entered\n",
        "was a [number]” and\n",
        "stop the program.\n",
        "3. Ask the user to enter a\n",
        "number and then enter\n",
        "another number. Add these\n",
        "two numbers together and\n",
        "then ask if they want to add\n",
        "another number. If they\n",
        "enter “y\", ask them to enter\n",
        "another number and keep\n",
        "adding numbers until they\n",
        "do not answer “y”. Once the\n",
        "loop has stopped, display\n",
        "the total.\n",
        "4. Ask for the name of somebody the user wants to invite\n",
        "to a party. After this, display the message “[name] has\n",
        "now been invited” and add 1 to the count. Then ask if\n",
        "they want to invite somebody else. Keep repeating this\n",
        "until they no longer want to invite anyone else to the\n",
        "party and then display how many people they have\n",
        "coming to the party.\n",
        "5. Create a variable called\n",
        "compnum and set the value\n",
        "to 50. Ask the user to enter a\n",
        "number. While their guess\n",
        "is not the same as the\n",
        "compnum value, tell them if\n",
        "their guess is too low or too\n",
        "high and ask them to have\n",
        "another guess. If they enter\n",
        "the same value as\n",
        "compnum, display the\n",
        "message “Well done, you\n",
        "took [count] attempts”.\n",
        "6. Ask the user to enter a number between\n",
        "10 and 20. If they enter a value under 10,\n",
        "display the message “Too low” and ask\n",
        "them to try again. If they enter a value\n",
        "above 20, display the message “Too high”\n",
        "and ask them to try again. Keep repeating\n",
        "this until they enter a value that is\n",
        "between 10 and 20 and then display the\n",
        "message “Thank you”.\n"
      ]
    },
    {
      "cell_type": "code",
      "metadata": {
        "id": "RO_X7HOm7ft5"
      },
      "source": [
        ""
      ],
      "execution_count": null,
      "outputs": []
    }
  ]
}