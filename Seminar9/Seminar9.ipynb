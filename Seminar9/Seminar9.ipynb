{
  "nbformat": 4,
  "nbformat_minor": 0,
  "metadata": {
    "colab": {
      "name": "Untitled11.ipynb",
      "provenance": []
    },
    "kernelspec": {
      "name": "python3",
      "display_name": "Python 3"
    }
  },
  "cells": [
    {
      "cell_type": "markdown",
      "metadata": {
        "id": "pO0nfl7krz7T"
      },
      "source": [
        "# <font color = \"red\"> Seminar 9"
      ]
    },
    {
      "cell_type": "markdown",
      "metadata": {
        "id": "tyJlfoaWxt76"
      },
      "source": [
        "###<font color = \"blue\">1 Exercise.</font><br>\n",
        "Compute and display the median of three values entered by the user. This program includes two implementations of the median function that demonstrate different techniques for computing the median of three values."
      ]
    },
    {
      "cell_type": "code",
      "metadata": {
        "id": "bHPwK_-Extrr"
      },
      "source": [
        "def median(a, b, c):\n",
        "  if a < b and b < c or a > b and b > c:\n",
        "    return b\n",
        "  if b < a and a < c or b > a and a > c:\n",
        "    return a\n",
        "  if c < a and b < c or c > a and b > c:\n",
        "    return c"
      ],
      "execution_count": null,
      "outputs": []
    },
    {
      "cell_type": "markdown",
      "metadata": {
        "id": "vc4BHJ10y76z"
      },
      "source": [
        "### <font color =\"blue\">2 Exercise</font> <br>\n",
        "Create function that will prompt user to enter three values and return a median of those values"
      ]
    },
    {
      "cell_type": "code",
      "metadata": {
        "id": "9-bVqyHSxtpt"
      },
      "source": [
        "def main():\n",
        "  x = float(input(\"Enter the first value: \"))\n",
        "  y = float(input(\"Enter the second value: \"))\n",
        "  z = float(input(\"Enter the third value: \"))\n",
        "  print(\"The median value is:\", median(x, y, z))"
      ],
      "execution_count": null,
      "outputs": []
    },
    {
      "cell_type": "markdown",
      "metadata": {
        "id": "wSB-AbQvGGfE"
      },
      "source": [
        "### <font color=\"blue\">3 Exercise</font><br>\n",
        "Given the length of two sides of right triangle, compute hypothenuse."
      ]
    },
    {
      "cell_type": "code",
      "metadata": {
        "id": "6fdVZR-5GFjQ",
        "outputId": "2f32dbdf-3c24-486b-a93c-0847a011219d",
        "colab": {
          "base_uri": "https://localhost:8080/",
          "height": 311
        }
      },
      "source": [
        "from IPython.display import Image\n",
        "from IPython.core.display import HTML \n",
        "Image(url= \"https://i0.wp.com/mathblog.com/wp-content/uploads/2017/03/pythagoras-theorem.gif?fit=403%2C290&ssl=1g\")\n"
      ],
      "execution_count": null,
      "outputs": [
        {
          "output_type": "execute_result",
          "data": {
            "text/html": [
              "<img src=\"https://i0.wp.com/mathblog.com/wp-content/uploads/2017/03/pythagoras-theorem.gif?fit=403%2C290&ssl=1g\"/>"
            ],
            "text/plain": [
              "<IPython.core.display.Image object>"
            ]
          },
          "metadata": {
            "tags": []
          },
          "execution_count": 41
        }
      ]
    },
    {
      "cell_type": "code",
      "metadata": {
        "id": "6iv9W0LBErPR"
      },
      "source": [
        "def hypothenuse(a,b):\n",
        "  c = sqrt(a**2 + b**2)\n",
        "  return c"
      ],
      "execution_count": null,
      "outputs": []
    },
    {
      "cell_type": "markdown",
      "metadata": {
        "id": "ByVNYp2QDwmj"
      },
      "source": [
        "### <font color=\"blue\">4 Exercise</font> <br>\n",
        "In a particular jurisdiction, taxi fares consist of a base fare of \\$4.00, plus \\$0.25\n",
        "for every 140 meters travelled. Write a function that takes the distance travelled (in\n",
        "kilometers) as its only parameter and returns the total fare as its only result. Write a\n",
        "main program that demonstrates the function.<br>\n"
      ]
    },
    {
      "cell_type": "code",
      "metadata": {
        "id": "WRJNpVs3xtl3"
      },
      "source": [
        "def taxi_fare(distance):\n",
        "  bill = 4+0.25*distance/140\n",
        "  return bill"
      ],
      "execution_count": null,
      "outputs": []
    },
    {
      "cell_type": "code",
      "metadata": {
        "id": "Sda5lusfxtic",
        "outputId": "8c38b2ef-96a4-4715-c82a-32f51569a815",
        "colab": {
          "base_uri": "https://localhost:8080/",
          "height": 35
        }
      },
      "source": [
        "taxi_fare(100)"
      ],
      "execution_count": null,
      "outputs": [
        {
          "output_type": "execute_result",
          "data": {
            "application/vnd.google.colaboratory.intrinsic+json": {
              "type": "string"
            },
            "text/plain": [
              "'4.2$'"
            ]
          },
          "metadata": {
            "tags": []
          },
          "execution_count": 48
        }
      ]
    },
    {
      "cell_type": "markdown",
      "metadata": {
        "id": "vH3KUgrCH4p6"
      },
      "source": [
        "<font color=\"blue\">5th Exercise</font><br>\n",
        "Create drawBox function that will take as an argument two variables width and height, that will draw box from star shaped symbol with given width and height."
      ]
    },
    {
      "cell_type": "code",
      "metadata": {
        "id": "yLJKp8iTstXy"
      },
      "source": [
        "def drawBox():\n",
        "  print(\"**********\")\n",
        "  print(\"*        *\")\n",
        "  print(\"*        *\")\n",
        "  print(\"**********\")"
      ],
      "execution_count": null,
      "outputs": []
    },
    {
      "cell_type": "code",
      "metadata": {
        "id": "E3Y-cZ14s0Bm",
        "outputId": "a97d1288-ec1c-40ab-81d7-ea20480b7ecb",
        "colab": {
          "base_uri": "https://localhost:8080/",
          "height": 85
        }
      },
      "source": [
        "drawBox()"
      ],
      "execution_count": null,
      "outputs": [
        {
          "output_type": "stream",
          "text": [
            "**********\n",
            "*        *\n",
            "*        *\n",
            "**********\n"
          ],
          "name": "stdout"
        }
      ]
    },
    {
      "cell_type": "markdown",
      "metadata": {
        "id": "QdpP7JaUu3zw"
      },
      "source": [
        "The drawBox function works correctly. It draws the particular box that it was\n",
        "intended to draw, but it is not flexible, and as a result, it is not as useful as it could be.\n",
        "In particular, our function would be more flexible and useful if it could draw boxes\n",
        "of many different sizes.\n",
        "\n",
        "\n",
        "Many functions take arguments which are values provided inside the parentheses\n",
        "when the function is called. The function receives these argument values in parameter\n",
        "variables that are included inside the parentheses when the function is defined. The\n",
        "number of parameter variables in a function’s definition indicates the number of\n",
        "arguments that must be supplied when the function is called.\n",
        "\n",
        "\n",
        "We can make the drawBox function more useful by adding two parameters to its\n",
        "definition. These parameters, which are separated by a comma, will hold the width\n",
        "of the box and the height of the box respectively. The body of the function uses the\n",
        "values in the parameter variables to draw the box, as shown below. An if statement\n",
        "and the quit function are used to end the program immediately if the arguments\n",
        "provided to the function are invalid."
      ]
    },
    {
      "cell_type": "code",
      "metadata": {
        "id": "DxLTW3XsotG_"
      },
      "source": [
        "def drawBox(width, height):\n",
        "# A box that is smaller than 2x2 cannot be drawn by this function\n",
        "  if width < 2 or height < 2:\n",
        "    print(\"Error: The width or height is too small.\")\n",
        "    quit()\n",
        "  # Draw the top of the box\n",
        "  print(\"*\" * width)\n",
        "  # Draw the sides of the box\n",
        "  for i in range(height - 2):\n",
        "    print(\"*\" + \" \" * (width - 2) + \"*\")\n",
        "  # Draw the bottom of the box\n",
        "  print(\"*\" * width)"
      ],
      "execution_count": null,
      "outputs": []
    },
    {
      "cell_type": "code",
      "metadata": {
        "id": "Z4a3mBpEphnz",
        "outputId": "3024ec36-570e-4ef9-d5eb-cfcc5041d7be",
        "colab": {
          "base_uri": "https://localhost:8080/",
          "height": 68
        }
      },
      "source": [
        "drawBox(width = 10, height =3)"
      ],
      "execution_count": null,
      "outputs": [
        {
          "output_type": "stream",
          "text": [
            "**********\n",
            "*        *\n",
            "**********\n"
          ],
          "name": "stdout"
        }
      ]
    },
    {
      "cell_type": "code",
      "metadata": {
        "id": "JLcwPYnipxpi",
        "outputId": "260ebb88-d2ab-45ec-baed-4589040c46ab",
        "colab": {
          "base_uri": "https://localhost:8080/",
          "height": 68
        }
      },
      "source": [
        "drawBox(10,3)"
      ],
      "execution_count": null,
      "outputs": [
        {
          "output_type": "stream",
          "text": [
            "**********\n",
            "*        *\n",
            "**********\n"
          ],
          "name": "stdout"
        }
      ]
    },
    {
      "cell_type": "code",
      "metadata": {
        "id": "hOvogkWFquYw",
        "outputId": "d2403f07-e8f7-40fb-c3ef-371898c346e3",
        "colab": {
          "base_uri": "https://localhost:8080/",
          "height": 68
        }
      },
      "source": [
        "drawBox(height = 3 , width =10)"
      ],
      "execution_count": null,
      "outputs": [
        {
          "output_type": "stream",
          "text": [
            "**********\n",
            "*        *\n",
            "**********\n"
          ],
          "name": "stdout"
        }
      ]
    },
    {
      "cell_type": "code",
      "metadata": {
        "id": "cdDqkLtYqZfF"
      },
      "source": [
        "def drawBox(width, height, outline): \n",
        "# A box that is smaller than 2x2 cannot be drawn by this function\n",
        "  if width < 2 or height < 2:\n",
        "    print(\"Error: The width or height is too small.\")\n",
        "    quit()\n",
        "  # Draw the top of the box\n",
        "  print(outline * width)\n",
        "  # Draw the sides of the box\n",
        "  for i in range(height - 2):\n",
        "    print(outline + \" \" * (width - 2) + outline)\n",
        "  # Draw the bottom of the box\n",
        "  print(outline * width)"
      ],
      "execution_count": null,
      "outputs": []
    },
    {
      "cell_type": "code",
      "metadata": {
        "id": "RAUkX_RjvlUb",
        "outputId": "90addc49-8fc8-4daa-e0d8-dfe730eca1e5",
        "colab": {
          "base_uri": "https://localhost:8080/",
          "height": 85
        }
      },
      "source": [
        "drawBox(10, 4, '@')"
      ],
      "execution_count": null,
      "outputs": [
        {
          "output_type": "stream",
          "text": [
            "@@@@@@@@@@\n",
            "@        @\n",
            "@        @\n",
            "@@@@@@@@@@\n"
          ],
          "name": "stdout"
        }
      ]
    },
    {
      "cell_type": "code",
      "metadata": {
        "id": "-RV4vN93voBs",
        "outputId": "0fcf1076-3f08-4461-ce07-4bb738e37094",
        "colab": {
          "base_uri": "https://localhost:8080/",
          "height": 85
        }
      },
      "source": [
        "drawBox(10, 4, '#')"
      ],
      "execution_count": null,
      "outputs": [
        {
          "output_type": "stream",
          "text": [
            "##########\n",
            "#        #\n",
            "#        #\n",
            "##########\n"
          ],
          "name": "stdout"
        }
      ]
    },
    {
      "cell_type": "code",
      "metadata": {
        "id": "kJaQEZmmvxlv"
      },
      "source": [
        "def drawBox(width, height, outline, fill): \n",
        "# A box that is smaller than 2x2 cannot be drawn by this function\n",
        "  if width < 2 or height < 2:\n",
        "    print(\"Error: The width or height is too small.\")\n",
        "    quit()\n",
        "  # Draw the top of the box\n",
        "  print(outline * width)\n",
        "  # Draw the sides of the box\n",
        "  for i in range(height - 2):\n",
        "    print(outline + fill * (width - 2) + outline)\n",
        "  # Draw the bottom of the box\n",
        "  print(outline * width)"
      ],
      "execution_count": null,
      "outputs": []
    },
    {
      "cell_type": "code",
      "metadata": {
        "id": "Q8SAc5xov-MO",
        "outputId": "dacfec66-f9f7-4204-93a6-a967776f9ea1",
        "colab": {
          "base_uri": "https://localhost:8080/",
          "height": 85
        }
      },
      "source": [
        "drawBox(10, 4, '@', '?')"
      ],
      "execution_count": null,
      "outputs": [
        {
          "output_type": "stream",
          "text": [
            "@@@@@@@@@@\n",
            "@????????@\n",
            "@????????@\n",
            "@@@@@@@@@@\n"
          ],
          "name": "stdout"
        }
      ]
    },
    {
      "cell_type": "code",
      "metadata": {
        "id": "X1x7bDJzwBm5"
      },
      "source": [
        "def drawBox(width, height, outline = '*', fill = '.'): \n",
        "# A box that is smaller than 2x2 cannot be drawn by this function\n",
        "  if width < 2 or height < 2:\n",
        "    print(\"Error: The width or height is too small.\")\n",
        "    quit()\n",
        "  # Draw the top of the box\n",
        "  print(outline * width)\n",
        "  # Draw the sides of the box\n",
        "  for i in range(height - 2):\n",
        "    print(outline + fill * (width - 2) + outline)\n",
        "  # Draw the bottom of the box\n",
        "  print(outline * width)"
      ],
      "execution_count": null,
      "outputs": []
    },
    {
      "cell_type": "code",
      "metadata": {
        "id": "mUp72TMWwTyd",
        "outputId": "99c4a024-597c-470f-8b58-a38f42149e2a",
        "colab": {
          "base_uri": "https://localhost:8080/",
          "height": 85
        }
      },
      "source": [
        "drawBox(10, 4, '@', '?')"
      ],
      "execution_count": null,
      "outputs": [
        {
          "output_type": "stream",
          "text": [
            "@@@@@@@@@@\n",
            "@????????@\n",
            "@????????@\n",
            "@@@@@@@@@@\n"
          ],
          "name": "stdout"
        }
      ]
    },
    {
      "cell_type": "code",
      "metadata": {
        "id": "1BCiw0QGwVLA",
        "outputId": "88c09877-d872-49ea-f849-ae3579e41875",
        "colab": {
          "base_uri": "https://localhost:8080/",
          "height": 136
        }
      },
      "source": [
        "drawBox(11, 7, '@', '?')"
      ],
      "execution_count": null,
      "outputs": [
        {
          "output_type": "stream",
          "text": [
            "@@@@@@@@@@@\n",
            "@?????????@\n",
            "@?????????@\n",
            "@?????????@\n",
            "@?????????@\n",
            "@?????????@\n",
            "@@@@@@@@@@@\n"
          ],
          "name": "stdout"
        }
      ]
    },
    {
      "cell_type": "markdown",
      "metadata": {
        "id": "9XFmoU4Nw3H1"
      },
      "source": [
        "## <font color =\"green\">[Formating strings](https://docs.python.org/3/library/string.html#)</font>"
      ]
    },
    {
      "cell_type": "code",
      "metadata": {
        "id": "nAV2FZAiNiy_"
      },
      "source": [
        "name = 'John'\n",
        "salary = 25000.7\n",
        "age = 35"
      ],
      "execution_count": null,
      "outputs": []
    },
    {
      "cell_type": "code",
      "metadata": {
        "id": "JV7d_n7pgOUe",
        "outputId": "e0b881a7-b24b-44bd-e150-3cd6edc0b706",
        "colab": {
          "base_uri": "https://localhost:8080/",
          "height": 34
        }
      },
      "source": [
        "# 1st method\n",
        "print(\"The name of your employee.\", name, \" His age is.\", age, \" His salary is \", salary)"
      ],
      "execution_count": null,
      "outputs": [
        {
          "output_type": "stream",
          "text": [
            "The name of your employee. John  His age is. 35  His salary is  25000.7\n"
          ],
          "name": "stdout"
        }
      ]
    },
    {
      "cell_type": "code",
      "metadata": {
        "id": "HVL_reKpfzaI",
        "outputId": "00dc8443-33de-4dec-a7f7-5ba18d68bff4",
        "colab": {
          "base_uri": "https://localhost:8080/",
          "height": 34
        }
      },
      "source": [
        "# 2nd method\n",
        "print(\"The name of your employee %s. His age is %d. His salary %g\"%(name, age, salary))"
      ],
      "execution_count": null,
      "outputs": [
        {
          "output_type": "stream",
          "text": [
            "The name of your employee John. His age is 35. His salary 25000.7\n"
          ],
          "name": "stdout"
        }
      ]
    },
    {
      "cell_type": "code",
      "metadata": {
        "id": "l8VNGTg0gFyE",
        "outputId": "68e9be72-c54b-4d70-a000-49a50e8dac0e",
        "colab": {
          "base_uri": "https://localhost:8080/",
          "height": 34
        }
      },
      "source": [
        "# 3rd method\n",
        "print(\"The name of your employee {}. His age is {}. His salary is {}\".format(name, age, salary))"
      ],
      "execution_count": null,
      "outputs": [
        {
          "output_type": "stream",
          "text": [
            "The name of your employee John. His age is 35. His salary is 25000.7\n"
          ],
          "name": "stdout"
        }
      ]
    },
    {
      "cell_type": "code",
      "metadata": {
        "id": "8UYUinpxgsFs",
        "outputId": "2f081c62-7001-44a9-b049-103d6d663ffb",
        "colab": {
          "base_uri": "https://localhost:8080/",
          "height": 442
        }
      },
      "source": [
        "for year in range(1995, 2020):\n",
        "  print(\"This year {} comes after {} the year\".format(year, year-1))"
      ],
      "execution_count": null,
      "outputs": [
        {
          "output_type": "stream",
          "text": [
            "This year 1995 comes after 1994 the year\n",
            "This year 1996 comes after 1995 the year\n",
            "This year 1997 comes after 1996 the year\n",
            "This year 1998 comes after 1997 the year\n",
            "This year 1999 comes after 1998 the year\n",
            "This year 2000 comes after 1999 the year\n",
            "This year 2001 comes after 2000 the year\n",
            "This year 2002 comes after 2001 the year\n",
            "This year 2003 comes after 2002 the year\n",
            "This year 2004 comes after 2003 the year\n",
            "This year 2005 comes after 2004 the year\n",
            "This year 2006 comes after 2005 the year\n",
            "This year 2007 comes after 2006 the year\n",
            "This year 2008 comes after 2007 the year\n",
            "This year 2009 comes after 2008 the year\n",
            "This year 2010 comes after 2009 the year\n",
            "This year 2011 comes after 2010 the year\n",
            "This year 2012 comes after 2011 the year\n",
            "This year 2013 comes after 2012 the year\n",
            "This year 2014 comes after 2013 the year\n",
            "This year 2015 comes after 2014 the year\n",
            "This year 2016 comes after 2015 the year\n",
            "This year 2017 comes after 2016 the year\n",
            "This year 2018 comes after 2017 the year\n",
            "This year 2019 comes after 2018 the year\n"
          ],
          "name": "stdout"
        }
      ]
    },
    {
      "cell_type": "markdown",
      "metadata": {
        "id": "naUccQzOj7Ti"
      },
      "source": [
        "## <font color = \"green\"> Writing and reading from txt, csv, excel files</font>\n",
        "\n",
        "### Reading from txt file"
      ]
    },
    {
      "cell_type": "code",
      "metadata": {
        "id": "orAR0YzuttZj",
        "outputId": "157d01ae-8f09-4fa3-ae7d-16ac65adcc98",
        "colab": {
          "base_uri": "https://localhost:8080/",
          "height": 34
        }
      },
      "source": [
        "import io\n",
        "inf = open('numbers.txt','r')\n",
        "# Initialize the total\n",
        "total = 0\n",
        "# Total the values in the file\n",
        "line = inf.readline()\n",
        "while line != \"\":\n",
        "  total = total + float(line)\n",
        "  line = inf.readline()\n",
        "# Close the file\n",
        "inf.close()\n",
        "# Display the result\n",
        "print(\"The total of the values in numbers.txt file is \", total)"
      ],
      "execution_count": null,
      "outputs": [
        {
          "output_type": "stream",
          "text": [
            "The total of the values in numbers.txt file is  210.0\n"
          ],
          "name": "stdout"
        }
      ]
    },
    {
      "cell_type": "code",
      "metadata": {
        "id": "Hvplmhvtt_ay",
        "outputId": "3637f766-dd9c-4227-d3bf-97a192737bec",
        "colab": {
          "base_uri": "https://localhost:8080/",
          "height": 51
        }
      },
      "source": [
        "# Read the file name from the user and open the file\n",
        "fname = input(\"Enter the file name: \")\n",
        "inf = open(fname, \"r\")\n",
        "# Initialize total and read all of the lines from the file\n",
        "total = 0\n",
        "lines = inf.readlines()\n",
        "# Total the values in the file\n",
        "for line in lines:\n",
        "  total = total + float(line)\n",
        "# Close the file\n",
        "inf.close()\n",
        "# Display the result\n",
        "print(\"The total of the values in\", fname, \"is\", total)"
      ],
      "execution_count": null,
      "outputs": [
        {
          "output_type": "stream",
          "text": [
            "Enter the file name: numbers.txt\n",
            "The total of the values in numbers.txt is 210.0\n"
          ],
          "name": "stdout"
        }
      ]
    },
    {
      "cell_type": "code",
      "metadata": {
        "id": "fkPGa2sVYnCi",
        "outputId": "c0f29be3-c600-4106-89f6-ec6520150883",
        "colab": {
          "base_uri": "https://localhost:8080/",
          "height": 646
        }
      },
      "source": [
        "f = open('anna.txt', 'r')\n",
        "text = f.read()\n",
        "print(text)"
      ],
      "execution_count": null,
      "outputs": [
        {
          "output_type": "stream",
          "text": [
            "Happy families are all alike; every unhappy family is unhappy in its\n",
            "own way.\n",
            "\n",
            "Everything was in confusion in the Oblonskys’ house. The wife had\n",
            "discovered that the husband was carrying on an intrigue with a French\n",
            "girl, who had been a governess in their family, and she had announced\n",
            "to her husband that she could not go on living in the same house with\n",
            "him. This position of affairs had now lasted three days, and not only\n",
            "the husband and wife themselves, but all the members of their family\n",
            "and household, were painfully conscious of it. Every person in the\n",
            "house felt that there was no sense in their living together, and that\n",
            "the stray people brought together by chance in any inn had more in\n",
            "common with one another than they, the members of the family and\n",
            "household of the Oblonskys. The wife did not leave her own room, the\n",
            "husband had not been at home for three days. The children ran wild all\n",
            "over the house; the English governess quarreled with the housekeeper,\n",
            "and wrote to a friend asking her to look out for a new situation for\n",
            "her; the man-cook had walked off the day before just at dinner time;\n",
            "the kitchen-maid, and the coachman had given warning.\n",
            "\n",
            "Three days after the quarrel, Prince Stepan Arkadyevitch\n",
            "Oblonsky—Stiva, as he was called in the fashionable world—woke up at\n",
            "his usual hour, that is, at eight o’clock in the morning, not in his\n",
            "wife’s bedroom, but on the leather-covered sofa in his study. He turned\n",
            "over his stout, well-cared-for person on the springy sofa, as though he\n",
            "would sink into a long sleep again; he vigorously embraced the pillow\n",
            "on the other side and buried his face in it; but all at once he jumped\n",
            "up, sat up on the sofa, and opened his eyes.\n",
            "\n",
            "“Yes, yes, how was it now?” he thought, going over his dream. “Now, how\n",
            "was it? To be sure! Alabin was giving a dinner at Darmstadt; no, not\n",
            "Darmstadt, but something American. Yes, but then, Darmstadt was in\n",
            "America. Yes, Alabin was giving a dinner on glass tables, and the\n",
            "tables sang, _Il mio tesoro_—not _Il mio tesoro_ though, but something\n",
            "better, and there were some sort of little decanters on the table, and\n",
            "they were women, too,” he remembered.\n",
            "\n"
          ],
          "name": "stdout"
        }
      ]
    },
    {
      "cell_type": "markdown",
      "metadata": {
        "id": "Sf7gsPv0Z6Vv"
      },
      "source": [
        "### Writing to txt file"
      ]
    },
    {
      "cell_type": "code",
      "metadata": {
        "id": "iiBbKL8CZjYD"
      },
      "source": [
        "f = open('anna.txt','w')\n",
        "f.write(\"This is classical novel\")\n",
        "f.close()"
      ],
      "execution_count": null,
      "outputs": []
    },
    {
      "cell_type": "code",
      "metadata": {
        "id": "QjNuHa57iifC"
      },
      "source": [
        "f = open('anna.txt','w')\n",
        "f.write(\"Indeed so\")\n",
        "f.close()"
      ],
      "execution_count": null,
      "outputs": []
    },
    {
      "cell_type": "code",
      "metadata": {
        "id": "sPnAehlujhF5"
      },
      "source": [
        "# after each opening file with permission 'w' \n",
        "#the insights of the file would be deleted "
      ],
      "execution_count": null,
      "outputs": []
    },
    {
      "cell_type": "code",
      "metadata": {
        "id": "aOs3mVPyjt3b"
      },
      "source": [
        "f = open('anna.txt','a')\n",
        "f.write(\"This is classical novel\")\n",
        "f.close()"
      ],
      "execution_count": null,
      "outputs": []
    },
    {
      "cell_type": "code",
      "metadata": {
        "id": "FxJX0ejbjw29"
      },
      "source": [
        "f = open('anna.txt','a')\n",
        "f.write(\"Indeed so\")\n",
        "f.close()"
      ],
      "execution_count": null,
      "outputs": []
    },
    {
      "cell_type": "code",
      "metadata": {
        "id": "SH909RWzjybG"
      },
      "source": [
        "f = open('years.txt', 'w')\n",
        "for years in range(1999,2021):\n",
        "  f.write(\"This {} year comes before {} year\\n\".format(years, years-1))\n",
        "f.close()"
      ],
      "execution_count": null,
      "outputs": []
    },
    {
      "cell_type": "code",
      "metadata": {
        "id": "E9B8z54lkbFr"
      },
      "source": [
        "f = open('anna.txt','r+')\n",
        "f_out = open('modified.txt', 'w')\n",
        "for line in f:\n",
        "  tokens = line.split(' ')\n",
        "  f_out.write(\"Words in the line \" + str(len(tokens))+ \" \" + line)\n",
        "f.close()\n",
        "f_out.close()"
      ],
      "execution_count": null,
      "outputs": []
    },
    {
      "cell_type": "code",
      "metadata": {
        "id": "qbbaiAHmk2sF"
      },
      "source": [
        "# \"with\" is the special keyword in Python that allows you to open files\n",
        "# and do not worry about closing them.\n",
        "# there is also different extensions for reading and writing r+,w+ rb+,a+"
      ],
      "execution_count": null,
      "outputs": []
    },
    {
      "cell_type": "markdown",
      "metadata": {
        "id": "A03SSCgDaFMk"
      },
      "source": [
        "### Writing to csv file"
      ]
    },
    {
      "cell_type": "code",
      "metadata": {
        "id": "yEANgEPTqajw"
      },
      "source": [
        "# Lets write to csv file \n",
        "\n",
        "import csv\n",
        "with open('some_file.csv','w') as csvdata:\n",
        "  writer = csv.writer(csvdata)\n",
        "  writer.writerow(['year','month','day'])\n",
        "  for i in range(1999,2020):\n",
        "    writer.writerow([i,'February', 14])\n"
      ],
      "execution_count": null,
      "outputs": []
    },
    {
      "cell_type": "code",
      "metadata": {
        "id": "q-3g-E74q_na"
      },
      "source": [
        "\n",
        "import csv\n",
        "with open('some_file.csv','w') as csvdata:\n",
        "  writer = csv.writer(csvdata)\n",
        "  writer.writerow(['year','month','day'])\n",
        "  for i in range(1999,2020):\n",
        "    for mont in ['January', 'February', 'March']:\n",
        "      writer.writerow([i,mont, 14])\n"
      ],
      "execution_count": null,
      "outputs": []
    },
    {
      "cell_type": "code",
      "metadata": {
        "id": "3dbuLmsTrSew",
        "outputId": "6533ee23-07b6-4a93-8acb-32a17c8af5e1",
        "colab": {
          "base_uri": "https://localhost:8080/",
          "height": 221
        }
      },
      "source": [
        "# Lets\n",
        "import csv\n",
        "with open('./sample_data/california_housing_test.csv', newline='') as f:\n",
        "    reader = csv.reader(f)\n",
        "    count = 0\n",
        "    for row in reader:\n",
        "      print(row)\n",
        "      #lets print only ten rows of the file california_housing_test.csv\n",
        "      if count >10 :\n",
        "        break\n",
        "      count = count +1"
      ],
      "execution_count": 5,
      "outputs": [
        {
          "output_type": "stream",
          "text": [
            "['longitude', 'latitude', 'housing_median_age', 'total_rooms', 'total_bedrooms', 'population', 'households', 'median_income', 'median_house_value']\n",
            "['-122.050000', '37.370000', '27.000000', '3885.000000', '661.000000', '1537.000000', '606.000000', '6.608500', '344700.000000']\n",
            "['-118.300000', '34.260000', '43.000000', '1510.000000', '310.000000', '809.000000', '277.000000', '3.599000', '176500.000000']\n",
            "['-117.810000', '33.780000', '27.000000', '3589.000000', '507.000000', '1484.000000', '495.000000', '5.793400', '270500.000000']\n",
            "['-118.360000', '33.820000', '28.000000', '67.000000', '15.000000', '49.000000', '11.000000', '6.135900', '330000.000000']\n",
            "['-119.670000', '36.330000', '19.000000', '1241.000000', '244.000000', '850.000000', '237.000000', '2.937500', '81700.000000']\n",
            "['-119.560000', '36.510000', '37.000000', '1018.000000', '213.000000', '663.000000', '204.000000', '1.663500', '67000.000000']\n",
            "['-121.430000', '38.630000', '43.000000', '1009.000000', '225.000000', '604.000000', '218.000000', '1.664100', '67000.000000']\n",
            "['-120.650000', '35.480000', '19.000000', '2310.000000', '471.000000', '1341.000000', '441.000000', '3.225000', '166900.000000']\n",
            "['-122.840000', '38.400000', '15.000000', '3080.000000', '617.000000', '1446.000000', '599.000000', '3.669600', '194400.000000']\n",
            "['-118.020000', '34.080000', '31.000000', '2402.000000', '632.000000', '2830.000000', '603.000000', '2.333300', '164200.000000']\n",
            "['-118.240000', '33.980000', '45.000000', '972.000000', '249.000000', '1288.000000', '261.000000', '2.205400', '125000.000000']\n"
          ],
          "name": "stdout"
        }
      ]
    },
    {
      "cell_type": "markdown",
      "metadata": {
        "id": "RQVTjNHpZ0hi"
      },
      "source": [
        "## <font color = \"green\">List comprehension</font> "
      ]
    },
    {
      "cell_type": "code",
      "metadata": {
        "id": "4e5HiLjWu22G",
        "outputId": "a4999efd-691b-4e75-9f4a-9528e348aee6",
        "colab": {
          "base_uri": "https://localhost:8080/",
          "height": 34
        }
      },
      "source": [
        "[i for i in range(0,11)]"
      ],
      "execution_count": 6,
      "outputs": [
        {
          "output_type": "execute_result",
          "data": {
            "text/plain": [
              "[0, 1, 2, 3, 4, 5, 6, 7, 8, 9, 10]"
            ]
          },
          "metadata": {
            "tags": []
          },
          "execution_count": 6
        }
      ]
    },
    {
      "cell_type": "code",
      "metadata": {
        "id": "qXi4BZM8u6Dx",
        "outputId": "742296c0-9641-436b-b0ff-fed80da6f30f",
        "colab": {
          "base_uri": "https://localhost:8080/",
          "height": 34
        }
      },
      "source": [
        "[i*2 for i in range(0,11)]"
      ],
      "execution_count": null,
      "outputs": [
        {
          "output_type": "stream",
          "text": [
            "[0, 2, 4, 6, 8, 10, 12, 14, 16, 18, 20]\n"
          ],
          "name": "stdout"
        }
      ]
    },
    {
      "cell_type": "code",
      "metadata": {
        "id": "EvFutHL6u-7U",
        "outputId": "90e37428-4223-47e6-a0fb-2dbd7543ec74",
        "colab": {
          "base_uri": "https://localhost:8080/",
          "height": 34
        }
      },
      "source": [
        "[i for i in range(0,11) if i%2 == 0]"
      ],
      "execution_count": 7,
      "outputs": [
        {
          "output_type": "execute_result",
          "data": {
            "text/plain": [
              "[0, 2, 4, 6, 8, 10]"
            ]
          },
          "metadata": {
            "tags": []
          },
          "execution_count": 7
        }
      ]
    }
  ]
}