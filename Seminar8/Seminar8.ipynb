{
  "nbformat": 4,
  "nbformat_minor": 0,
  "metadata": {
    "colab": {
      "name": "Seminar8.ipynb",
      "provenance": [],
      "collapsed_sections": []
    },
    "kernelspec": {
      "name": "python3",
      "display_name": "Python 3"
    }
  },
  "cells": [
    {
      "cell_type": "markdown",
      "metadata": {
        "id": "5OYMuXTLKM46"
      },
      "source": [
        "# <font color =\"red\">Seminar 8 </font>"
      ]
    },
    {
      "cell_type": "markdown",
      "metadata": {
        "id": "IR4O1rgsN-Y0"
      },
      "source": [
        "## <font color =\"green\">Random module</font>\n",
        "### Some methods from random module\n",
        "1. Selects a random floating-point number between 0 and 1 and\n",
        "stores it in a variable called “num”. <br>\n",
        "If you want to obtain a\n",
        "larger number, you can multiply it as shown below:\n",
        "```\n",
        "import random\n",
        "num = random.random()\n",
        "num = num * 100\n",
        "```\n",
        "\n",
        "2. ```num = random.randint(0,9)``` <br>\n",
        "Selects a random whole number\n",
        "between 0 and 9 (inclusive).\n",
        "\n",
        "3. \n",
        "```num = random.randrange(0,100,5)``` <br>\n",
        "Picks a random number between the\n",
        "numbers 0 and 100 (inclusive) in steps of five,\n",
        "i.e. it will only pick from 0, 5, 10, 15, 20, etc.\n",
        "\n",
        "4. ```colour = random.choice([“red”,“black”,“green”])``` <br>\n",
        "Picks a random value from the options “red”, “black” or “green” and stores it as the\n",
        "variable “colour”. Remember: strings need to include speech marks but numeric data\n",
        "does not."
      ]
    },
    {
      "cell_type": "markdown",
      "metadata": {
        "id": "4wiWzcpKQToM"
      },
      "source": [
        "## <font color =\"blue\"> Exercises that involve random module </font>\n",
        "1. Display a\n",
        "random\n",
        "integer\n",
        "between\n",
        "1 and 100\n",
        "inclusive.\n",
        "2. Display a\n",
        "random\n",
        "fruit from\n",
        "a list of\n",
        "five fruits.\n",
        "3. Randomly choose either heads or tails (“h” or “t”). Ask\n",
        "the user to make their choice. If their choice is the same\n",
        "as the randomly selected value, display the message\n",
        "“You win”, otherwise display “Bad luck”. At the end, tell\n",
        "the user if the computer selected heads or tails.\n",
        "4. Randomly choose a number between 1 and 5. Ask the user to pick a\n",
        "number. If they guess correctly, display the message “Well done”,\n",
        "otherwise tell them if they are too high or too low and ask them to pick a\n",
        "second number. If they guess correctly on their second guess, display\n",
        "“Correct”, otherwise display “You lose”.\n",
        "5. Randomly pick a whole number between 1\n",
        "and 10. Ask the user to enter a number and\n",
        "keep entering numbers until they enter the\n",
        "number that was randomly picked.\n",
        "6. Update\n",
        "program 5\n",
        "so that it\n",
        "tells the\n",
        "user if they\n",
        "are too high\n",
        "or too low\n",
        "before they\n",
        "pick again."
      ]
    },
    {
      "cell_type": "code",
      "metadata": {
        "id": "fSP2q61MnSjm"
      },
      "source": [
        "# 1 exercise\n",
        "import random \n",
        "num = random.randint(1,100)\n",
        "print(num)"
      ],
      "execution_count": null,
      "outputs": []
    },
    {
      "cell_type": "code",
      "metadata": {
        "id": "zGaICmCSnYmI"
      },
      "source": [
        "# 2 exercise\n",
        "import random\n",
        "fruit = random.choice(['apple', 'orange', 'pear','banana','grape'])\n",
        "print(fruit)"
      ],
      "execution_count": null,
      "outputs": []
    },
    {
      "cell_type": "code",
      "metadata": {
        "id": "HjasFRj3nluz"
      },
      "source": [
        "# 3 exercise\n",
        "import random\n",
        "coin = random.choice(['h','t'])\n",
        "guess = input(\"Enter heads or tailsL\")\n",
        "if guess == coin:\n",
        "  print(\"You win\")\n",
        "else:\n",
        "  print(\"Bad luck\")\n",
        "if coin == \"h\":\n",
        "  print(\"It was heads\")\n",
        "else:\n",
        "  print(\"It was tails\")"
      ],
      "execution_count": null,
      "outputs": []
    },
    {
      "cell_type": "code",
      "metadata": {
        "id": "Im1_lEwPoHyZ"
      },
      "source": [
        "# 4 exercise\n",
        "import random\n",
        "num = random.randint(1,5)\n",
        "guess = int(input(\"Enter a number:\"))\n",
        "if guess == num:\n",
        "  print(\"Well done\")\n",
        "elif guess > num:\n",
        "  print(\"Too high\")\n",
        "  guess = int(input(\"Guess again:\"))\n",
        "  if guess == num:\n",
        "    print(\"Correct\")\n",
        "  else:\n",
        "    print(\"You lose\")\n",
        "elif guess < num:\n",
        "  print(\"Too low\")\n",
        "  guess = int(input(\"Guess again:\"))\n",
        "  if guess == num:\n",
        "    print(\"Correct\")\n",
        "  else:\n",
        "    print(\"You lose\")"
      ],
      "execution_count": null,
      "outputs": []
    },
    {
      "cell_type": "code",
      "metadata": {
        "id": "52LfijkJqvax"
      },
      "source": [
        "import random \n",
        "num = random.randint(1,10)\n",
        "guessed_correctly = False\n",
        "while guessed_correctly == False:\n",
        "  guess = int(input(\"Enter a number:\"))\n",
        "  if guess = num:\n",
        "    guessed_correctly = True "
      ],
      "execution_count": null,
      "outputs": []
    },
    {
      "cell_type": "code",
      "metadata": {
        "id": "OLQMBOfyppme",
        "outputId": "454d3c81-1802-4ef4-9afe-e0492807539e",
        "colab": {
          "base_uri": "https://localhost:8080/",
          "height": 153
        }
      },
      "source": [
        "import random\n",
        "num = random.randint(1,10)\n",
        "guessed_correctly = False \n",
        "while guessed_correctly == False:\n",
        "  guess = int(input(\"Enter a number: \"))\n",
        "  if guess == num:\n",
        "    guessed_correctly = True\n",
        "    print(\"You guessed correctly\")\n",
        "  elif guess > num:\n",
        "    print(\"Too high\") \n",
        "  else:\n",
        "    print(\"Too low\")\n"
      ],
      "execution_count": null,
      "outputs": [
        {
          "output_type": "stream",
          "text": [
            "Enter a number: 1\n",
            "Too low\n",
            "Enter a number: 2\n",
            "Too low\n",
            "Enter a number: 9\n",
            "Too low\n",
            "Enter a number: 10\n",
            "You guessed correctly\n"
          ],
          "name": "stdout"
        }
      ]
    },
    {
      "cell_type": "markdown",
      "metadata": {
        "id": "Sy4Nd4aVpnsq"
      },
      "source": [
        "## <font color = \"blue\"> Exercises on list, dictionaries</font>\n",
        "1. Create a list of two sports. Ask the\n",
        "user what their favourite sport is and\n",
        "add this to the end of the list. Sort the\n",
        "list and display it.\n",
        "2. Create a list of six school subjects. Ask the user which of these\n",
        "subjects they don’t like. Delete the subject they have chosen from the\n",
        "list before you display the list again.\n",
        "3. Ask the user to\n",
        "enter four of their\n",
        "favourite foods\n",
        "and store them in\n",
        "a dictionary so\n",
        "that they are\n",
        "indexed with\n",
        "numbers starting\n",
        "from 1. Display\n",
        "the dictionary.\n",
        "4. Enter a list of ten colours.\n",
        "Ask the user for a starting\n",
        "number between 0 and 4\n",
        "and an end number\n",
        "between 5 and 9. Display\n",
        "the list for those colours\n",
        "between the start and end\n",
        "numbers the user input.\n",
        "5. Create a list of four\n",
        "numbers. Display the list to the\n",
        "user, showing each item from\n",
        "the list on a separate line. Ask\n",
        "the user to enter a number\n",
        "number. If the number they\n",
        "have typed in matches one in\n",
        "the list, display the position of\n",
        "that number in the list,\n",
        "otherwise display the message\n",
        "“That is not in the list”.\n",
        "6. Ask the user to enter the names of three people they want to\n",
        "invite to a party and store them in a list. After they have entered\n",
        "all three names, ask them if they want to add another. If they do,\n",
        "allow them to add more names until they answer “no”. When\n",
        "they answer “no”, display how many people they have invited to\n",
        "the party.\n",
        "7. Change program 6 so that once the user has completed their list of names, display the\n",
        "full list and ask them to type in one of the names on the list. Display the position of that\n",
        "name in the list. Ask the user if they still want that person to come to the party. If they\n",
        "answer “no”, delete that entry from the list and display the list again.\n",
        "8. Create a list containing the titles of\n",
        "four TV programmes and display\n",
        "them on separate lines. Ask the\n",
        "user to enter another show and a\n",
        "position they want it inserted into\n",
        "the list. Display the list again,\n",
        "showing all five TV programmes in\n",
        "their new positions.\n",
        "9. Create an empty list called “nums”.\n",
        "Ask the user to enter numbers.\n",
        "After each number is entered, add\n",
        "it to the end of the nums list and\n",
        "display the list. Once they have\n",
        "entered three numbers, ask them if\n",
        "they still want the last number they\n",
        "entered saved. If they say “no”,\n",
        "remove the last item from the list.\n",
        "Display the list of numbers.\n",
        "1. Write a program that reads integers from the user and stores them in a list. Your\n",
        "program should continue reading values until the user enters 0. Then it should display\n",
        "all of the values entered by the user (except for the 0) in ascending order, with one\n",
        "value appearing on each line. Use either the sort method or the sorted function\n",
        "to sort the list.\n",
        "2. Write a program that reads integers from the user and stores them in a list. Use 0 as\n",
        "a sentinel value to mark the end of the input. Once all of the values have been read\n",
        "your program should display them (except for the 0) in reverse order, with one value\n",
        "appearing on each line.\n",
        "3. In this exercise, you will create a program that reads words from the user until the\n",
        "user enters a blank line. After the user enters a blank line your program should dis-\n",
        "play each word entered by the user exactly once. The words should be displayed in\n",
        "the same order that they were first entered. For example, if the user enters: <br>\n",
        "- first \n",
        "- second\n",
        "- first\n",
        "- third\n",
        "- second\n",
        "\n",
        "then your program should display:\n",
        "- first\n",
        "- second\n",
        "- third"
      ]
    },
    {
      "cell_type": "code",
      "metadata": {
        "id": "WvhBAraBzMGJ",
        "outputId": "0439fcda-d07a-4ddf-97b3-f35db51715de",
        "colab": {
          "base_uri": "https://localhost:8080/",
          "height": 51
        }
      },
      "source": [
        "# 1 exercise \n",
        "sport_list = [\"tennis\",\"football\"]\n",
        "sport_list.append(input(\"What is your favourite sport: \"))\n",
        "sport_list.sort()\n",
        "print(sport_list)"
      ],
      "execution_count": 1,
      "outputs": [
        {
          "output_type": "stream",
          "text": [
            "What is your favourite sport: baseball\n",
            "['baseball', 'football', 'tennis']\n"
          ],
          "name": "stdout"
        }
      ]
    },
    {
      "cell_type": "code",
      "metadata": {
        "id": "bw8SWpzCz8zz",
        "outputId": "e23c1974-2774-455a-a6c1-057943254ecf",
        "colab": {
          "base_uri": "https://localhost:8080/",
          "height": 68
        }
      },
      "source": [
        "# 2 exercise\n",
        "subject_list = [\"maths\", \"ecology\", \"sports\", \"physics\", \"science\",\"spanish\"]\n",
        "print(subject_list)\n",
        "dislike = input(\"Which of these subjects do you dislike: \")\n",
        "getrid = subject_list.index(dislike)\n",
        "del subject_list[getrid]  \n",
        "print(subject_list)"
      ],
      "execution_count": 6,
      "outputs": [
        {
          "output_type": "stream",
          "text": [
            "['maths', 'ecology', 'sports', 'physics', 'science', 'spanish']\n",
            "Which of these subjects do you dislike: spanish\n",
            "['maths', 'ecology', 'sports', 'physics', 'science']\n"
          ],
          "name": "stdout"
        }
      ]
    },
    {
      "cell_type": "code",
      "metadata": {
        "id": "lQ8PkY6A0qfZ"
      },
      "source": [
        "# 3 exercise\n",
        "food_dict= {}\n",
        "food1 = input(\"Type first food\")\n",
        "food_dict[1] = food1\n",
        "food2 = input(\"Type second food\")\n",
        "food_dict[2] = food2\n",
        "food3 = input(\"Type third food\")\n",
        "food_dict[3] = food3\n",
        "food1 = input(\"Type first food\")\n",
        "food_dict[4] = food4\n",
        "dislike = int(input(\"Which of these food do you want to get rid off? \"))\n",
        "del food_dictionary[dislike]\n",
        "print(sorted(food_dictionary.values()) )"
      ],
      "execution_count": null,
      "outputs": []
    },
    {
      "cell_type": "code",
      "metadata": {
        "id": "aMZEDDJ91pp4"
      },
      "source": [
        "# 4 exercise\n",
        "colours = [\"red\", \"green\", \"blue\", \"yellow\", \"pink\", \"rose\", \"dark\", \"grey\"]\n",
        "start = int(input(\"Enter starting number:\"))\n",
        "end = int(input(\"Input ending number:\"))\n",
        "print(colours[start:end])"
      ],
      "execution_count": null,
      "outputs": []
    },
    {
      "cell_type": "code",
      "metadata": {
        "id": "a6sD7AeeBSTT"
      },
      "source": [
        "# 5 exercise\n",
        "nums = [122, 233, 445 , 544]\n",
        "for i in nums:\n",
        "  print i\n",
        "selection = int(input(\"Enter a number from the list\"))\n",
        "if selection in nums:\n",
        "  print(selection, \" is in position\", nums.index(selection))\n",
        "else:\n",
        "  print(\"That is not in the list\")"
      ],
      "execution_count": null,
      "outputs": []
    },
    {
      "cell_type": "code",
      "metadata": {
        "id": "S48ury6kBrjM",
        "outputId": "ed3b56d1-1430-4bf1-d261-8ea22a75dd28",
        "colab": {
          "base_uri": "https://localhost:8080/",
          "height": 136
        }
      },
      "source": [
        "# 6 exercise\n",
        "name1 = input(\"First guest\")\n",
        "name2 = input(\"Second guest\")\n",
        "name3 = input(\"Third guest\")\n",
        "party = [name1, name2, name3]\n",
        "another = input(\"Do you want to invite another person(y/n)\")\n",
        "while another == \"y\":\n",
        "  newname = input(\"Whom you want to invite also\")\n",
        "  party.append(newname)\n",
        "  another = input(\"Do you want to invite another person(y/n)\")\n",
        "print(\"You have \", len(party), \"coming to your party\") "
      ],
      "execution_count": 7,
      "outputs": [
        {
          "output_type": "stream",
          "text": [
            "First guestalex\n",
            "Second guestjohn\n",
            "Third guestmichael\n",
            "Do you want to invite another person(y/n)y\n",
            "Whom you want to invite alsosam\n",
            "Do you want to invite another person(y/n)n\n",
            "You have  4 coming to your party\n"
          ],
          "name": "stdout"
        }
      ]
    },
    {
      "cell_type": "code",
      "metadata": {
        "id": "frJu5VTxDL_n"
      },
      "source": [
        "# 7 exercise\n",
        "name1 = input(\"First guest\")\n",
        "name2 = input(\"Second guest\")\n",
        "name3 = input(\"Third guest\")\n",
        "party = [name1, name2, name3]\n",
        "another = input(\"Do you want to invite another person(y/n)\")\n",
        "while another == \"y\":\n",
        "  newname = input(\"Whom you want to invite also\")\n",
        "  party.append(newname)\n",
        "  another = input(\"Do you want to invite another person(y/n)\")\n",
        "print(\"You have \", len(party), \"coming to your party\") \n",
        "print(party)\n",
        "selection = input(\"Enter one of the names \")\n",
        "print(selection,\" is in position \", party.index(selection))\n",
        "stillcome = input(\"Do you want him to still come(y/n)?\")\n",
        "if selection == 'n':\n",
        "  party.remove(selection)\n",
        "  print(party)"
      ],
      "execution_count": null,
      "outputs": []
    },
    {
      "cell_type": "code",
      "metadata": {
        "id": "haKZ_LEJDvWi"
      },
      "source": [
        "# 8 exercise\n",
        "tv_sets = ['Night and Sky' , 'Rose', 'Titanic', 'Rocket']\n",
        "for i in tv_sets:\n",
        "  print(i)\n",
        "print()\n",
        "newmovie = input(\"What movie you want to add: \")\n",
        "position = int(input(\"What position you want to add the movie in\"))\n",
        "tv_sets.insert(position, newmovie)\n",
        "for i in tv_sets:\n",
        "  print(i)"
      ],
      "execution_count": null,
      "outputs": []
    },
    {
      "cell_type": "code",
      "metadata": {
        "id": "F1uMv9r1Ef-q"
      },
      "source": [
        "# 9 exercise\n",
        "nums = []\n",
        "count = 0\n",
        "while count < 3:\n",
        "  number = int(input(\"Enter a number\"))\n",
        "  nums.append(number)\n",
        "  print(nums)\n",
        "  count = count + 1\n",
        "question = input(\"Do you want to save last number(y/n)\")\n",
        "if question == 'n':\n",
        "  nums.pop()\n",
        "print(nums)"
      ],
      "execution_count": null,
      "outputs": []
    },
    {
      "cell_type": "code",
      "metadata": {
        "id": "3XpKWc_mHKNt",
        "outputId": "86ca2ba5-c26b-4d95-d6f4-7f2b68ef9236",
        "colab": {
          "base_uri": "https://localhost:8080/",
          "height": 170
        }
      },
      "source": [
        "# 10 exercise\n",
        "number = int(input(\"Enter a number\"))\n",
        "ls_num = []\n",
        "while number!=0:\n",
        "  ls_num.append(number)\n",
        "  number = int(input(\"Enter a new number\"))\n",
        "ls_num.sort()\n",
        "for i in ls_num:\n",
        "  print(i)"
      ],
      "execution_count": 10,
      "outputs": [
        {
          "output_type": "stream",
          "text": [
            "Enter a number5\n",
            "Enter a new number4\n",
            "Enter a new number7\n",
            "Enter a new number8\n",
            "Enter a new number0\n",
            "4\n",
            "5\n",
            "7\n",
            "8\n"
          ],
          "name": "stdout"
        }
      ]
    },
    {
      "cell_type": "code",
      "metadata": {
        "id": "kYy0S10RHl8j",
        "outputId": "f3b895ac-7cec-43af-fa60-d5b6070b197b",
        "colab": {
          "base_uri": "https://localhost:8080/",
          "height": 170
        }
      },
      "source": [
        "# 11 exercise\n",
        "number = int(input(\"Enter a number\"))\n",
        "ls_num = []\n",
        "while number!=0:\n",
        "  ls_num.append(number)\n",
        "  number = int(input(\"Enter a new number\"))\n",
        "ls_num.sort(reverse = True)\n",
        "for i in ls_num:\n",
        "  print(i)"
      ],
      "execution_count": 12,
      "outputs": [
        {
          "output_type": "stream",
          "text": [
            "Enter a number5\n",
            "Enter a new number4\n",
            "Enter a new number6\n",
            "Enter a new number7\n",
            "Enter a new number0\n",
            "7\n",
            "6\n",
            "5\n",
            "4\n"
          ],
          "name": "stdout"
        }
      ]
    },
    {
      "cell_type": "code",
      "metadata": {
        "id": "BUXJM00rIB41",
        "outputId": "86be242e-f145-4754-e0b8-f2866481e05f",
        "colab": {
          "base_uri": "https://localhost:8080/",
          "height": 136
        }
      },
      "source": [
        "# 12 exercise \n",
        "words = []\n",
        "word = input(\"Enter a word (blank line to quit): \")\n",
        "while word != \"\":\n",
        "  word = input(\"Enter a word (blank line to quit): \")\n",
        "  if word not in words:\n",
        "    words.append(word)\n",
        "for word in words:\n",
        "  print(word)"
      ],
      "execution_count": 14,
      "outputs": [
        {
          "output_type": "stream",
          "text": [
            "Enter a word (blank line to quit): first\n",
            "Enter a word (blank line to quit): first\n",
            "Enter a word (blank line to quit): second\n",
            "Enter a word (blank line to quit): \n",
            "first\n",
            "second\n",
            "\n"
          ],
          "name": "stdout"
        }
      ]
    }
  ]
}